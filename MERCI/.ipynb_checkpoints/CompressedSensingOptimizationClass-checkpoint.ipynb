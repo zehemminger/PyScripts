{
 "cells": [
  {
   "cell_type": "code",
   "execution_count": 1,
   "metadata": {},
   "outputs": [],
   "source": [
    "from fish_helpers import *\n",
    "import time\n",
    "from functools import partial\n",
    "from multiprocessing import Pool\n",
    "import pylab as pl\n",
    "from IPython import display\n",
    "import tqdm.notebook as tqdm\n",
    "import math\n",
    "import random\n",
    "import operator\n",
    "import sys\n",
    "import shutil\n",
    "import random\n",
    "import numpy as np\n",
    "import pandas as pd\n",
    "import matplotlib._color_data as mcd\n",
    "base_path = '/bigstore/GeneralStorage/Zach/MERCI/Autism/'\n",
    "if not os.path.exists(base_path):\n",
    "    os.mkdir(base_path)"
   ]
  },
  {
   "cell_type": "code",
   "execution_count": 2,
   "metadata": {
    "scrolled": true
   },
   "outputs": [
    {
     "data": {
      "text/html": [
       "<div>\n",
       "<style scoped>\n",
       "    .dataframe tbody tr th:only-of-type {\n",
       "        vertical-align: middle;\n",
       "    }\n",
       "\n",
       "    .dataframe tbody tr th {\n",
       "        vertical-align: top;\n",
       "    }\n",
       "\n",
       "    .dataframe thead th {\n",
       "        text-align: right;\n",
       "    }\n",
       "</style>\n",
       "<table border=\"1\" class=\"dataframe\">\n",
       "  <thead>\n",
       "    <tr style=\"text-align: right;\">\n",
       "      <th></th>\n",
       "      <th>GGATAGTCCAGA_M1_N</th>\n",
       "      <th>TAACGACATTCG_M1_N</th>\n",
       "      <th>CGTTCGTTCGAC_M1_N</th>\n",
       "      <th>CTGCAGTATTTT_M1_N</th>\n",
       "      <th>CCTATGGGGATA_M1_N</th>\n",
       "      <th>TAGCGATTCTTG_M1_N</th>\n",
       "      <th>AATGACGTATAG_M1_N</th>\n",
       "      <th>ATATACTAACTT_M1_OL</th>\n",
       "      <th>AGTATCTTTATT_M1_N</th>\n",
       "      <th>CCGGTTAAGCTT_M1_OL</th>\n",
       "      <th>...</th>\n",
       "      <th>GTGGTTGAACAG_F7_AS</th>\n",
       "      <th>AGATCCTTTAGA_F7_OL</th>\n",
       "      <th>GCGGTCGCGTTA_F7_N</th>\n",
       "      <th>GAATTAGGTGCT_F7_AS</th>\n",
       "      <th>GTCTTTGCGAGT_F7_N</th>\n",
       "      <th>GAGTGTAGTCGN_F7_AS</th>\n",
       "      <th>CATGAAGATGCC_F7_N</th>\n",
       "      <th>CGATCGAGATAA_F7_N</th>\n",
       "      <th>ATACTGTTAGCT_F7_AS</th>\n",
       "      <th>TCTCTAATCAAA_F7_AS</th>\n",
       "    </tr>\n",
       "  </thead>\n",
       "  <tbody>\n",
       "    <tr>\n",
       "      <th>0610005C13Rik</th>\n",
       "      <td>0.000000</td>\n",
       "      <td>0.000000</td>\n",
       "      <td>0.000000</td>\n",
       "      <td>0.000000</td>\n",
       "      <td>0.000000</td>\n",
       "      <td>0.000000</td>\n",
       "      <td>0.000000</td>\n",
       "      <td>0.000000</td>\n",
       "      <td>0.000000</td>\n",
       "      <td>0.000000</td>\n",
       "      <td>...</td>\n",
       "      <td>0.0</td>\n",
       "      <td>0.0</td>\n",
       "      <td>0.0</td>\n",
       "      <td>0.000000</td>\n",
       "      <td>0.0</td>\n",
       "      <td>0.0</td>\n",
       "      <td>0.0</td>\n",
       "      <td>0.0</td>\n",
       "      <td>0.0</td>\n",
       "      <td>0.0</td>\n",
       "    </tr>\n",
       "    <tr>\n",
       "      <th>0610007N19Rik</th>\n",
       "      <td>0.000000</td>\n",
       "      <td>2.940139</td>\n",
       "      <td>0.000000</td>\n",
       "      <td>0.000000</td>\n",
       "      <td>0.000000</td>\n",
       "      <td>0.000000</td>\n",
       "      <td>0.000000</td>\n",
       "      <td>0.000000</td>\n",
       "      <td>0.000000</td>\n",
       "      <td>0.000000</td>\n",
       "      <td>...</td>\n",
       "      <td>0.0</td>\n",
       "      <td>0.0</td>\n",
       "      <td>0.0</td>\n",
       "      <td>0.000000</td>\n",
       "      <td>0.0</td>\n",
       "      <td>0.0</td>\n",
       "      <td>0.0</td>\n",
       "      <td>0.0</td>\n",
       "      <td>0.0</td>\n",
       "      <td>0.0</td>\n",
       "    </tr>\n",
       "    <tr>\n",
       "      <th>0610007P14Rik</th>\n",
       "      <td>4.763095</td>\n",
       "      <td>14.700694</td>\n",
       "      <td>5.318772</td>\n",
       "      <td>0.000000</td>\n",
       "      <td>12.108370</td>\n",
       "      <td>11.922859</td>\n",
       "      <td>6.307557</td>\n",
       "      <td>14.189932</td>\n",
       "      <td>5.269814</td>\n",
       "      <td>26.857655</td>\n",
       "      <td>...</td>\n",
       "      <td>0.0</td>\n",
       "      <td>0.0</td>\n",
       "      <td>0.0</td>\n",
       "      <td>0.000000</td>\n",
       "      <td>0.0</td>\n",
       "      <td>0.0</td>\n",
       "      <td>0.0</td>\n",
       "      <td>0.0</td>\n",
       "      <td>0.0</td>\n",
       "      <td>0.0</td>\n",
       "    </tr>\n",
       "    <tr>\n",
       "      <th>0610009B22Rik</th>\n",
       "      <td>9.526191</td>\n",
       "      <td>8.820416</td>\n",
       "      <td>12.410467</td>\n",
       "      <td>0.000000</td>\n",
       "      <td>6.054185</td>\n",
       "      <td>5.961430</td>\n",
       "      <td>3.153778</td>\n",
       "      <td>7.094966</td>\n",
       "      <td>0.000000</td>\n",
       "      <td>2.984184</td>\n",
       "      <td>...</td>\n",
       "      <td>0.0</td>\n",
       "      <td>0.0</td>\n",
       "      <td>0.0</td>\n",
       "      <td>0.000000</td>\n",
       "      <td>0.0</td>\n",
       "      <td>0.0</td>\n",
       "      <td>0.0</td>\n",
       "      <td>0.0</td>\n",
       "      <td>0.0</td>\n",
       "      <td>0.0</td>\n",
       "    </tr>\n",
       "    <tr>\n",
       "      <th>0610009D07Rik</th>\n",
       "      <td>14.289287</td>\n",
       "      <td>23.521111</td>\n",
       "      <td>12.410467</td>\n",
       "      <td>12.528189</td>\n",
       "      <td>15.135463</td>\n",
       "      <td>20.865004</td>\n",
       "      <td>22.076448</td>\n",
       "      <td>7.094966</td>\n",
       "      <td>21.079258</td>\n",
       "      <td>23.873470</td>\n",
       "      <td>...</td>\n",
       "      <td>0.0</td>\n",
       "      <td>0.0</td>\n",
       "      <td>0.0</td>\n",
       "      <td>367.647064</td>\n",
       "      <td>0.0</td>\n",
       "      <td>0.0</td>\n",
       "      <td>0.0</td>\n",
       "      <td>0.0</td>\n",
       "      <td>0.0</td>\n",
       "      <td>0.0</td>\n",
       "    </tr>\n",
       "  </tbody>\n",
       "</table>\n",
       "<p>5 rows × 43388 columns</p>\n",
       "</div>"
      ],
      "text/plain": [
       "               GGATAGTCCAGA_M1_N  TAACGACATTCG_M1_N  CGTTCGTTCGAC_M1_N  \\\n",
       "0610005C13Rik           0.000000           0.000000           0.000000   \n",
       "0610007N19Rik           0.000000           2.940139           0.000000   \n",
       "0610007P14Rik           4.763095          14.700694           5.318772   \n",
       "0610009B22Rik           9.526191           8.820416          12.410467   \n",
       "0610009D07Rik          14.289287          23.521111          12.410467   \n",
       "\n",
       "               CTGCAGTATTTT_M1_N  CCTATGGGGATA_M1_N  TAGCGATTCTTG_M1_N  \\\n",
       "0610005C13Rik           0.000000           0.000000           0.000000   \n",
       "0610007N19Rik           0.000000           0.000000           0.000000   \n",
       "0610007P14Rik           0.000000          12.108370          11.922859   \n",
       "0610009B22Rik           0.000000           6.054185           5.961430   \n",
       "0610009D07Rik          12.528189          15.135463          20.865004   \n",
       "\n",
       "               AATGACGTATAG_M1_N  ATATACTAACTT_M1_OL  AGTATCTTTATT_M1_N  \\\n",
       "0610005C13Rik           0.000000            0.000000           0.000000   \n",
       "0610007N19Rik           0.000000            0.000000           0.000000   \n",
       "0610007P14Rik           6.307557           14.189932           5.269814   \n",
       "0610009B22Rik           3.153778            7.094966           0.000000   \n",
       "0610009D07Rik          22.076448            7.094966          21.079258   \n",
       "\n",
       "               CCGGTTAAGCTT_M1_OL         ...          GTGGTTGAACAG_F7_AS  \\\n",
       "0610005C13Rik            0.000000         ...                         0.0   \n",
       "0610007N19Rik            0.000000         ...                         0.0   \n",
       "0610007P14Rik           26.857655         ...                         0.0   \n",
       "0610009B22Rik            2.984184         ...                         0.0   \n",
       "0610009D07Rik           23.873470         ...                         0.0   \n",
       "\n",
       "               AGATCCTTTAGA_F7_OL  GCGGTCGCGTTA_F7_N  GAATTAGGTGCT_F7_AS  \\\n",
       "0610005C13Rik                 0.0                0.0            0.000000   \n",
       "0610007N19Rik                 0.0                0.0            0.000000   \n",
       "0610007P14Rik                 0.0                0.0            0.000000   \n",
       "0610009B22Rik                 0.0                0.0            0.000000   \n",
       "0610009D07Rik                 0.0                0.0          367.647064   \n",
       "\n",
       "               GTCTTTGCGAGT_F7_N  GAGTGTAGTCGN_F7_AS  CATGAAGATGCC_F7_N  \\\n",
       "0610005C13Rik                0.0                 0.0                0.0   \n",
       "0610007N19Rik                0.0                 0.0                0.0   \n",
       "0610007P14Rik                0.0                 0.0                0.0   \n",
       "0610009B22Rik                0.0                 0.0                0.0   \n",
       "0610009D07Rik                0.0                 0.0                0.0   \n",
       "\n",
       "               CGATCGAGATAA_F7_N  ATACTGTTAGCT_F7_AS  TCTCTAATCAAA_F7_AS  \n",
       "0610005C13Rik                0.0                 0.0                 0.0  \n",
       "0610007N19Rik                0.0                 0.0                 0.0  \n",
       "0610007P14Rik                0.0                 0.0                 0.0  \n",
       "0610009B22Rik                0.0                 0.0                 0.0  \n",
       "0610009D07Rik                0.0                 0.0                 0.0  \n",
       "\n",
       "[5 rows x 43388 columns]"
      ]
     },
     "execution_count": 2,
     "metadata": {},
     "output_type": "execute_result"
    }
   ],
   "source": [
    "# Single Cell Count Matrix\n",
    "SCMatrix = pickle.load(open(os.path.join(base_path,'MeA_AllCells_DGE_SizeNorm.pkl'),'rb'))\n",
    "SCMatrix = SCMatrix.astype('float32')\n",
    "SCMatrix.head()"
   ]
  },
  {
   "cell_type": "code",
   "execution_count": 5,
   "metadata": {},
   "outputs": [],
   "source": [
    "# Genes by Bits Binary Matrix\n",
    "# prefilter genes?\n",
    "nbits = 18\n",
    "genes = list(SCMatrix.index)\n",
    "cells = list(SCMatrix.columns)\n",
    "ncells = len(cells)\n",
    "ngenes = len(genes)\n",
    "counts = np.array(SCMatrix)\n",
    "binary = np.empty((len(genes),nbits))"
   ]
  },
  {
   "cell_type": "code",
   "execution_count": 36,
   "metadata": {},
   "outputs": [
    {
     "data": {
      "image/png": "[encoded data removed]",
      "text/plain": [
       "<Figure size 432x288 with 1 Axes>"
      ]
     },
     "metadata": {},
     "output_type": "display_data"
    }
   ],
   "source": [
    "presence = counts.copy()\n",
    "presence[presence>0] = 1\n",
    "plt.hist(np.log10(np.sum(presence,axis=1)+1),bins=50)\n",
    "plt.show()"
   ]
  },
  {
   "cell_type": "code",
   "execution_count": 37,
   "metadata": {},
   "outputs": [
    {
     "data": {
      "image/png": "[encoded data removed]",
      "text/plain": [
       "<Figure size 432x288 with 1 Axes>"
      ]
     },
     "metadata": {},
     "output_type": "display_data"
    }
   ],
   "source": [
    "plt.hist(np.log10(np.sum(counts,axis=1)+1),bins=50)\n",
    "plt.show()"
   ]
  },
  {
   "cell_type": "code",
   "execution_count": 7,
   "metadata": {},
   "outputs": [],
   "source": [
    "#random start\n",
    "binary[:] = 0\n",
    "for i in range(nbits):\n",
    "    x =random.sample(list(range(ngenes)),50)\n",
    "    binary[x,i] = 1"
   ]
  },
  {
   "cell_type": "code",
   "execution_count": 6,
   "metadata": {},
   "outputs": [
    {
     "name": "stdout",
     "output_type": "stream",
     "text": [
      "172.91789174079895\n"
     ]
    }
   ],
   "source": [
    "# High Memory Step\n",
    "start = time.time()\n",
    "readout = np.sum(counts[...,None].copy()*binary[:,None,:].copy(),axis=0)\n",
    "print(time.time()-start)"
   ]
  },
  {
   "cell_type": "code",
   "execution_count": 20,
   "metadata": {},
   "outputs": [
    {
     "name": "stdout",
     "output_type": "stream",
     "text": [
      "146.04989624023438\n"
     ]
    }
   ],
   "source": [
    "# Low Memory Option\n",
    "start = time.time()\n",
    "readout = np.empty((ncells,nbits))\n",
    "out = []\n",
    "for i in range(nbits):\n",
    "    readout[:,i] = np.sum(np.multiply(counts,binary[:,i][...,None]),axis=0)\n",
    "print(time.time()-start)"
   ]
  },
  {
   "cell_type": "code",
   "execution_count": 447,
   "metadata": {},
   "outputs": [
    {
     "name": "stdout",
     "output_type": "stream",
     "text": [
      "146.54400658607483\n"
     ]
    }
   ],
   "source": [
    "# Low Memory Option\n",
    "start = time.time()\n",
    "readout = np.empty((ncells,nbits))\n",
    "out = []\n",
    "for i in range(nbits):\n",
    "    out.append(np.sum(np.multiply(counts,binary[:,i][...,None]),axis=0)[...,None])\n",
    "readout = np.concatenate(out)\n",
    "print(time.time()-start)"
   ]
  },
  {
   "cell_type": "code",
   "execution_count": 38,
   "metadata": {},
   "outputs": [],
   "source": [
    "from scipy.sparse import csr_matrix\n",
    "SCMatrix_Sparse = csr_matrix(SCMatrix)\n",
    "binary_Sparse = csr_matrix(binary)"
   ]
  },
  {
   "cell_type": "code",
   "execution_count": 448,
   "metadata": {},
   "outputs": [
    {
     "name": "stdout",
     "output_type": "stream",
     "text": [
      "33.92795920372009\n"
     ]
    }
   ],
   "source": [
    "# Fast Low Memory Option\n",
    "start = time.time()\n",
    "readout = np.empty((ncells,nbits))\n",
    "out = []\n",
    "for i in range(nbits):\n",
    "    multiplication_Sparse = SCMatrix_Sparse.multiply(binary[:,i][...,None])\n",
    "    readout[:,i] = multiplication_Sparse.sum(axis=0)\n",
    "print(time.time()-start)"
   ]
  },
  {
   "cell_type": "code",
   "execution_count": 391,
   "metadata": {},
   "outputs": [
    {
     "name": "stdout",
     "output_type": "stream",
     "text": [
      "0.034628868103027344\n"
     ]
    }
   ],
   "source": [
    "start = time.time()\n",
    "k=100\n",
    "metrics = []\n",
    "thresh = 500\n",
    "for i in random.sample(list(range(len(cells))),1):\n",
    "    individual = readout[i,:].copy()\n",
    "    distance = np.sqrt(np.sum(np.subtract(readout.copy(),individual)**2,axis=1))\n",
    "    distance_df = pd.DataFrame(distance,index=cells)\n",
    "    knn = distance_df[distance_df[0]<thresh].sort_values(0)[:k].index\n",
    "    sig = SCMatrix[knn[0]]\n",
    "    avg = np.average(SCMatrix[knn[1:]],axis=1)\n",
    "    metric = np.sum((sig-avg)**2)/nbits #MSE\n",
    "    correlation = spearmanr(sig,avg)[0]\n",
    "    metrics.append(metric)\n",
    "print(time.time()-start)"
   ]
  },
  {
   "cell_type": "code",
   "execution_count": 420,
   "metadata": {},
   "outputs": [
    {
     "name": "stdout",
     "output_type": "stream",
     "text": [
      "0.3138542175292969\n"
     ]
    }
   ],
   "source": [
    "SCMatrix_array = np.array(SCMatrix)\n",
    "start = time.time()\n",
    "k=100\n",
    "metrics = []\n",
    "thresh = 500\n",
    "for i in random.sample(list(range(len(cells))),1):\n",
    "    individual = readout[i,:].copy()\n",
    "    distance = np.sqrt(np.sum(np.subtract(readout.copy(),individual)**2,axis=1))\n",
    "    distance_df = pd.DataFrame(distance)#,index=cells)\n",
    "    knn = distance_df[distance_df[0]<thresh].sort_values(0)[:k].index\n",
    "    sig = SCMatrix_array[:,i][...,None]\n",
    "    avg = SCMatrix_array[:,knn]\n",
    "    metric = np.sum((sig-avg)**2)/nbits #MSE\n",
    "    correlation = spearmanr(sig,avg)[0]\n",
    "    metrics.append(metric)\n",
    "print(time.time()-start)"
   ]
  },
  {
   "cell_type": "code",
   "execution_count": 425,
   "metadata": {},
   "outputs": [
    {
     "name": "stdout",
     "output_type": "stream",
     "text": [
      "67.2556586265564\n"
     ]
    }
   ],
   "source": [
    "SCMatrix_array = SCMatrix.values\n",
    "start = time.time()\n",
    "k=100\n",
    "metrics = []\n",
    "thresh = 500\n",
    "for i in random.sample(list(range(len(cells))),1000):\n",
    "    individual = readout[i,:].copy()\n",
    "    distance = np.sqrt(np.sum(np.subtract(readout.copy(),individual)**2,axis=1))\n",
    "    distance_df = pd.DataFrame(distance)#,index=cells)\n",
    "    knn = distance_df[distance_df[0]<thresh].sort_values(0)[:k].index\n",
    "    sig = SCMatrix_array[:,i][...,None]\n",
    "    avg = SCMatrix_array[:,knn]\n",
    "    metric = np.sum((sig-avg)**2)/nbits #MSE\n",
    "    correlation = spearmanr(sig,avg)[0]\n",
    "    metrics.append(metric)\n",
    "print(time.time()-start)"
   ]
  },
  {
   "cell_type": "code",
   "execution_count": 403,
   "metadata": {},
   "outputs": [
    {
     "name": "stdout",
     "output_type": "stream",
     "text": [
      "0.015340566635131836\n"
     ]
    }
   ],
   "source": [
    "#Slow low memory Attempts\n",
    "start = time.time()\n",
    "k=100\n",
    "metrics = []\n",
    "thresh = 1000\n",
    "for i in random.sample(list(range(len(cells))),1):\n",
    "    individual = readout[i,:].copy()\n",
    "    distance = np.sqrt(np.sum(np.subtract(readout.copy(),individual)**2,axis=1))\n",
    "    sort_distance = distance.copy()\n",
    "#     sort_distance = sort_distance[sort_distance<thresh]\n",
    "    sort_distance.sort()\n",
    "    knn = np.where(distance<sort_distance[k+1])[0]\n",
    "    knn = knn[knn!=i]\n",
    "#     sig = SCMatrix_Sparse[:,i]\n",
    "#     avg = SCMatrix_Sparse[:,knn].mean(axis=1)\n",
    "#     metric = np.sum(np.square(sig-avg))/nbits #MSE\n",
    "#     sig = SCMatrix[cells[i]]\n",
    "#     nn = np.array(cells)[knn]\n",
    "#     avg = np.average(SCMatrix[nn],axis=1)\n",
    "#     sig = SCMatrix_array[:,i][...,None]\n",
    "#     avg = SCMatrix_array[:,knn]\n",
    "    metric = np.sum((sig-avg)**2)/nbits #MSE\n",
    "    metrics.append(metric)\n",
    "print(time.time()-start)"
   ]
  },
  {
   "cell_type": "code",
   "execution_count": 412,
   "metadata": {},
   "outputs": [
    {
     "name": "stdout",
     "output_type": "stream",
     "text": [
      "34.69090962409973\n"
     ]
    }
   ],
   "source": [
    "#possibly High memory Issues\n",
    "start = time.time()\n",
    "k=100\n",
    "metrics = []\n",
    "for i in random.sample(list(range(len(cells))),1000):\n",
    "    individual = readout[i,:].copy()\n",
    "    distance = np.sqrt(np.sum(np.subtract(readout.copy(),individual)**2,axis=1))\n",
    "    distance_df = pd.DataFrame(distance,index=cells)\n",
    "    knn = distance_df.sort_values(0)[:k+1].index\n",
    "    sig = SCMatrix[knn[0]]\n",
    "    avg = np.average(SCMatrix[knn[1:]],axis=1)\n",
    "    metric = np.sum((sig-avg)**2)/nbits #MSE\n",
    "    correlation = spearmanr(sig,avg)[0]\n",
    "    metrics.append(metric)\n",
    "print(time.time()-start)"
   ]
  },
  {
   "cell_type": "code",
   "execution_count": 434,
   "metadata": {},
   "outputs": [
    {
     "name": "stdout",
     "output_type": "stream",
     "text": [
      "7.012327194213867\n"
     ]
    }
   ],
   "source": [
    "start = time.time()\n",
    "readout = np.empty((ncells,nbits))\n",
    "out = []\n",
    "sort_out = []\n",
    "for i in random.sample(list(range(len(cells))),1000):\n",
    "    individual = readout[i,:].copy()\n",
    "    distance = np.sqrt(np.sum(np.subtract(readout.copy(),individual)**2,axis=1))\n",
    "    out.append(distance[...,None])\n",
    "    sort_out.append(np.sort(distance)[...,None])\n",
    "distance_matrix = np.concatenate(out,axis=1)\n",
    "sort_distance_matrix = np.concatenate(sort_out,axis=1)\n",
    "print(time.time()-start)"
   ]
  },
  {
   "cell_type": "code",
   "execution_count": 458,
   "metadata": {},
   "outputs": [
    {
     "name": "stdout",
     "output_type": "stream",
     "text": [
      "1.1796538829803467\n"
     ]
    }
   ],
   "source": [
    "# Slow KNN option\n",
    "from scipy.spatial import KDTree\n",
    "start = time.time()\n",
    "ref_tree = KDTree(readout)\n",
    "k=100\n",
    "metrics = []\n",
    "for i in random.sample(list(range(len(cells))),1):\n",
    "    distances,knn = ref_tree.query(readout[i,:].copy(), k=k)\n",
    "#     metrics.append(calculate_metric(list(SCMatrix.columns[knn]),SCMatrix,nbits))\n",
    "print(time.time()-start)"
   ]
  },
  {
   "cell_type": "code",
   "execution_count": 461,
   "metadata": {
    "collapsed": true
   },
   "outputs": [
    {
     "ename": "KeyboardInterrupt",
     "evalue": "",
     "output_type": "error",
     "traceback": [
      "\u001b[0;31m---------------------------------------------------------------------------\u001b[0m",
      "\u001b[0;31mKeyboardInterrupt\u001b[0m                         Traceback (most recent call last)",
      "\u001b[0;32m<ipython-input-461-7f92a3b8b60e>\u001b[0m in \u001b[0;36m<module>\u001b[0;34m()\u001b[0m\n\u001b[1;32m      1\u001b[0m \u001b[0mstart\u001b[0m \u001b[0;34m=\u001b[0m \u001b[0mtime\u001b[0m\u001b[0;34m.\u001b[0m\u001b[0mtime\u001b[0m\u001b[0;34m(\u001b[0m\u001b[0;34m)\u001b[0m\u001b[0;34m\u001b[0m\u001b[0m\n\u001b[0;32m----> 2\u001b[0;31m \u001b[0mref_tree\u001b[0m\u001b[0;34m.\u001b[0m\u001b[0mquery\u001b[0m\u001b[0;34m(\u001b[0m\u001b[0mreadout\u001b[0m\u001b[0;34m[\u001b[0m\u001b[0mrandom\u001b[0m\u001b[0;34m.\u001b[0m\u001b[0msample\u001b[0m\u001b[0;34m(\u001b[0m\u001b[0mlist\u001b[0m\u001b[0;34m(\u001b[0m\u001b[0mrange\u001b[0m\u001b[0;34m(\u001b[0m\u001b[0mncells\u001b[0m\u001b[0;34m)\u001b[0m\u001b[0;34m)\u001b[0m\u001b[0;34m,\u001b[0m\u001b[0;36m1000\u001b[0m\u001b[0;34m)\u001b[0m\u001b[0;34m,\u001b[0m\u001b[0;34m:\u001b[0m\u001b[0;34m]\u001b[0m\u001b[0;34m,\u001b[0m \u001b[0mk\u001b[0m\u001b[0;34m=\u001b[0m\u001b[0mk\u001b[0m\u001b[0;34m)\u001b[0m\u001b[0;34m\u001b[0m\u001b[0m\n\u001b[0m\u001b[1;32m      3\u001b[0m \u001b[0mprint\u001b[0m\u001b[0;34m(\u001b[0m\u001b[0mtime\u001b[0m\u001b[0;34m.\u001b[0m\u001b[0mtime\u001b[0m\u001b[0;34m(\u001b[0m\u001b[0;34m)\u001b[0m\u001b[0;34m-\u001b[0m\u001b[0mstart\u001b[0m\u001b[0;34m)\u001b[0m\u001b[0;34m\u001b[0m\u001b[0m\n",
      "\u001b[0;32m~/miniconda3/envs/pyspots/lib/python3.6/site-packages/scipy/spatial/kdtree.py\u001b[0m in \u001b[0;36mquery\u001b[0;34m(self, x, k, eps, p, distance_upper_bound)\u001b[0m\n\u001b[1;32m    504\u001b[0m                 \u001b[0;32mraise\u001b[0m \u001b[0mValueError\u001b[0m\u001b[0;34m(\u001b[0m\u001b[0;34m\"Requested %s nearest neighbors; acceptable numbers are integers greater than or equal to one, or None\"\u001b[0m\u001b[0;34m)\u001b[0m\u001b[0;34m\u001b[0m\u001b[0m\n\u001b[1;32m    505\u001b[0m             \u001b[0;32mfor\u001b[0m \u001b[0mc\u001b[0m \u001b[0;32min\u001b[0m \u001b[0mnp\u001b[0m\u001b[0;34m.\u001b[0m\u001b[0mndindex\u001b[0m\u001b[0;34m(\u001b[0m\u001b[0mretshape\u001b[0m\u001b[0;34m)\u001b[0m\u001b[0;34m:\u001b[0m\u001b[0;34m\u001b[0m\u001b[0m\n\u001b[0;32m--> 506\u001b[0;31m                 \u001b[0mhits\u001b[0m \u001b[0;34m=\u001b[0m \u001b[0mself\u001b[0m\u001b[0;34m.\u001b[0m\u001b[0m__query\u001b[0m\u001b[0;34m(\u001b[0m\u001b[0mx\u001b[0m\u001b[0;34m[\u001b[0m\u001b[0mc\u001b[0m\u001b[0;34m]\u001b[0m\u001b[0;34m,\u001b[0m \u001b[0mk\u001b[0m\u001b[0;34m=\u001b[0m\u001b[0mk\u001b[0m\u001b[0;34m,\u001b[0m \u001b[0meps\u001b[0m\u001b[0;34m=\u001b[0m\u001b[0meps\u001b[0m\u001b[0;34m,\u001b[0m \u001b[0mp\u001b[0m\u001b[0;34m=\u001b[0m\u001b[0mp\u001b[0m\u001b[0;34m,\u001b[0m \u001b[0mdistance_upper_bound\u001b[0m\u001b[0;34m=\u001b[0m\u001b[0mdistance_upper_bound\u001b[0m\u001b[0;34m)\u001b[0m\u001b[0;34m\u001b[0m\u001b[0m\n\u001b[0m\u001b[1;32m    507\u001b[0m                 \u001b[0;32mif\u001b[0m \u001b[0mk\u001b[0m \u001b[0;32mis\u001b[0m \u001b[0;32mNone\u001b[0m\u001b[0;34m:\u001b[0m\u001b[0;34m\u001b[0m\u001b[0m\n\u001b[1;32m    508\u001b[0m                     \u001b[0mdd\u001b[0m\u001b[0;34m[\u001b[0m\u001b[0mc\u001b[0m\u001b[0;34m]\u001b[0m \u001b[0;34m=\u001b[0m \u001b[0;34m[\u001b[0m\u001b[0md\u001b[0m \u001b[0;32mfor\u001b[0m \u001b[0;34m(\u001b[0m\u001b[0md\u001b[0m\u001b[0;34m,\u001b[0m\u001b[0mi\u001b[0m\u001b[0;34m)\u001b[0m \u001b[0;32min\u001b[0m \u001b[0mhits\u001b[0m\u001b[0;34m]\u001b[0m\u001b[0;34m\u001b[0m\u001b[0m\n",
      "\u001b[0;32m~/miniconda3/envs/pyspots/lib/python3.6/site-packages/scipy/spatial/kdtree.py\u001b[0m in \u001b[0;36m__query\u001b[0;34m(self, x, k, eps, p, distance_upper_bound)\u001b[0m\n\u001b[1;32m    353\u001b[0m                 \u001b[0;31m# brute-force\u001b[0m\u001b[0;34m\u001b[0m\u001b[0;34m\u001b[0m\u001b[0m\n\u001b[1;32m    354\u001b[0m                 \u001b[0mdata\u001b[0m \u001b[0;34m=\u001b[0m \u001b[0mself\u001b[0m\u001b[0;34m.\u001b[0m\u001b[0mdata\u001b[0m\u001b[0;34m[\u001b[0m\u001b[0mnode\u001b[0m\u001b[0;34m.\u001b[0m\u001b[0midx\u001b[0m\u001b[0;34m]\u001b[0m\u001b[0;34m\u001b[0m\u001b[0m\n\u001b[0;32m--> 355\u001b[0;31m                 \u001b[0mds\u001b[0m \u001b[0;34m=\u001b[0m \u001b[0mminkowski_distance_p\u001b[0m\u001b[0;34m(\u001b[0m\u001b[0mdata\u001b[0m\u001b[0;34m,\u001b[0m\u001b[0mx\u001b[0m\u001b[0;34m[\u001b[0m\u001b[0mnp\u001b[0m\u001b[0;34m.\u001b[0m\u001b[0mnewaxis\u001b[0m\u001b[0;34m,\u001b[0m\u001b[0;34m:\u001b[0m\u001b[0;34m]\u001b[0m\u001b[0;34m,\u001b[0m\u001b[0mp\u001b[0m\u001b[0;34m)\u001b[0m\u001b[0;34m\u001b[0m\u001b[0m\n\u001b[0m\u001b[1;32m    356\u001b[0m                 \u001b[0;32mfor\u001b[0m \u001b[0mi\u001b[0m \u001b[0;32min\u001b[0m \u001b[0mrange\u001b[0m\u001b[0;34m(\u001b[0m\u001b[0mlen\u001b[0m\u001b[0;34m(\u001b[0m\u001b[0mds\u001b[0m\u001b[0;34m)\u001b[0m\u001b[0;34m)\u001b[0m\u001b[0;34m:\u001b[0m\u001b[0;34m\u001b[0m\u001b[0m\n\u001b[1;32m    357\u001b[0m                     \u001b[0;32mif\u001b[0m \u001b[0mds\u001b[0m\u001b[0;34m[\u001b[0m\u001b[0mi\u001b[0m\u001b[0;34m]\u001b[0m \u001b[0;34m<\u001b[0m \u001b[0mdistance_upper_bound\u001b[0m\u001b[0;34m:\u001b[0m\u001b[0;34m\u001b[0m\u001b[0m\n",
      "\u001b[0;31mKeyboardInterrupt\u001b[0m: "
     ]
    }
   ],
   "source": [
    "start = time.time()\n",
    "ref_tree.query(readout[random.sample(list(range(ncells)),1000),:], k=k)\n",
    "print(time.time()-start)"
   ]
  },
  {
   "cell_type": "code",
   "execution_count": null,
   "metadata": {},
   "outputs": [],
   "source": []
  },
  {
   "cell_type": "code",
   "execution_count": 63,
   "metadata": {},
   "outputs": [
    {
     "name": "stdout",
     "output_type": "stream",
     "text": [
      "2329098.35 2521324.21\n",
      "0.26 0.12\n"
     ]
    }
   ],
   "source": [
    "metric = np.average([i[0] for i in metrics])\n",
    "metric_std = np.std([i[0] for i in metrics])\n",
    "print(round(metric,2),round(metric_std,2))\n",
    "metric = np.average([i[1] for i in metrics])\n",
    "metric_std = np.std([i[1] for i in metrics])\n",
    "print(round(metric,2),round(metric_std,2))"
   ]
  },
  {
   "cell_type": "code",
   "execution_count": 30,
   "metadata": {},
   "outputs": [
    {
     "name": "stdout",
     "output_type": "stream",
     "text": [
      "2435884.68 3499114.39\n",
      "0.25 0.11\n"
     ]
    }
   ],
   "source": [
    "metric = np.average([i[0] for i in metrics])\n",
    "metric_std = np.std([i[0] for i in metrics])\n",
    "print(round(metric,2),round(metric_std,2))\n",
    "metric = np.average([i[1] for i in metrics])\n",
    "metric_std = np.std([i[1] for i in metrics])\n",
    "print(round(metric,2),round(metric_std,2))"
   ]
  },
  {
   "cell_type": "code",
   "execution_count": null,
   "metadata": {},
   "outputs": [],
   "source": []
  }
 ],
 "metadata": {
  "kernelspec": {
   "display_name": "pyspots [conda env:pyspots]",
   "language": "python",
   "name": "conda-env-pyspots-pyspots"
  },
  "language_info": {
   "codemirror_mode": {
    "name": "ipython",
    "version": 3
   },
   "file_extension": ".py",
   "mimetype": "text/x-python",
   "name": "python",
   "nbconvert_exporter": "python",
   "pygments_lexer": "ipython3",
   "version": "3.6.5"
  }
 },
 "nbformat": 4,
 "nbformat_minor": 2
}
