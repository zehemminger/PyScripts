{
 "cells": [
  {
   "cell_type": "markdown",
   "metadata": {},
   "source": [
    "# Clean Data with Fastp"
   ]
  },
  {
   "cell_type": "markdown",
   "metadata": {},
   "source": [
    "cd /bigstore/GeneralStorage/Zach/Data/igm-storage1.ucsd.edu/180404_K00180_0581_AHTJH3BBXX_SR75_Combo1/Compressed_Demultiplexed/\n",
    "for x in ./*.fastq.gz; do fastp -i $x -o /bigstore/GeneralStorage/Zach/Data/igm-storage1.ucsd.edu/180404_K00180_0581_AHTJH3BBXX_SR75_Combo1/fastp/\"{$x}\"; done "
   ]
  },
  {
   "cell_type": "markdown",
   "metadata": {},
   "source": [
    "# Generate Genome for STAR"
   ]
  },
  {
   "cell_type": "markdown",
   "metadata": {},
   "source": [
    "/home/zach/Path/STAR-2.6.1c/bin/Linux_x86_64_static/STAR --runThreadN 20 --runMode genomeGenerate --genomeDir /bigstore/binfo/STAR_human/ --genomeFastaFiles /bigstore/binfo/human/Homo_sapiens.GRCh38.dna.primary_assembly.fa --sjdbGTFfile /bigstore/binfo/human/gencode.v29.annotation.gtf"
   ]
  },
  {
   "cell_type": "markdown",
   "metadata": {},
   "source": [
    "# Align Fastq to Genome with STAR"
   ]
  },
  {
   "cell_type": "markdown",
   "metadata": {},
   "source": [
    "cd /bigstore/GeneralStorage/Zach/Data/igm-storage1.ucsd.edu/180404_K00180_0581_AHTJH3BBXX_SR75_Combo1/fastp\n",
    "for x in ./*.fastq.gz; do\n",
    "    mkdir /bigstore/GeneralStorage/Zach/Data/igm-storage1.ucsd.edu/180404_K00180_0581_AHTJH3BBXX_SR75_Combo1/fastpAligned/\"${x%.*}\"\n",
    "STAR --runThreadN 20 --runMode alignReads --genomeDir /bigstore/binfo/STAR_human --readFilesIn /bigstore/GeneralStorage/Zach/Data/igm-storage1.ucsd.edu/180404_K00180_0581_AHTJH3BBXX_SR75_Combo1/fastp/$x --readFilesCommand gunzip -c --outSAMtype BAM SortedByCoordinate --quantMode TranscriptomeSAM GeneCounts --outFileNamePrefix /bigstore/GeneralStorage/Zach/Data/igm-storage1.ucsd.edu/180404_K00180_0581_AHTJH3BBXX_SR75_Combo1/fastpAligned/\"${x%.*}\"/\n",
    "done"
   ]
  },
  {
   "cell_type": "markdown",
   "metadata": {},
   "source": [
    "cd /bigstore/GeneralStorage/Zach/Data/igm-storage1.ucsd.edu/180404_K00180_0581_AHTJH3BBXX_SR75_Combo1/fastp\n",
    "for x in ./*.fastq.gz; do\n",
    "STAR --runThreadN 20 --genomeDir /bigstore/binfo/STAR_human --readFilesIn /bigstore/GeneralStorage/Zach/Data/igm-storage1.ucsd.edu/180404_K00180_0581_AHTJH3BBXX_SR75_Combo1/fastp/$x --readFilesCommand gunzip -c --outSAMtype BAM SortedByCoordinate --quantMode TranscriptomeSAM GeneCounts --outFileNamePrefix /bigstore/GeneralStorage/Zach/Data/igm-storage1.ucsd.edu/180404_K00180_0581_AHTJH3BBXX_SR75_Combo1/fastpAligned/\"${x%.*}\"\n",
    "done"
   ]
  },
  {
   "cell_type": "markdown",
   "metadata": {},
   "source": [
    "# Cufflinks"
   ]
  },
  {
   "cell_type": "markdown",
   "metadata": {},
   "source": [
    "cd /bigstore/GeneralStorage/Zach/Data/igm-storage1.ucsd.edu/180404_K00180_0581_AHTJH3BBXX_SR75_Combo1/fastp\n",
    "for x in ./*.fastq.gz\n",
    "do cufflinks -p 24  --library-type fr-firststrand -G /bigstore/GeneralStorage/Zach/Data/Reference/Homo_sapiens_NCBI_GRCh38/Homo_sapiens/NCBI/GRCh38/Annotation/Archives/archive-2015-08-11-09-31-31/Genes/genes.gtf -o /bigstore/GeneralStorage/Zach/Data/igm-storage1.ucsd.edu/180404_K00180_0581_AHTJH3BBXX_SR75_Combo1/Aligned/\"${x%.*}\"/ /bigstore/GeneralStorage/Zach/Data/igm-storage1.ucsd.edu/180404_K00180_0581_AHTJH3BBXX_SR75_Combo1/Aligned/\"${x%.*}\"/Aligned.sortedByCoord.out.bam"
   ]
  },
  {
   "cell_type": "code",
   "execution_count": null,
   "metadata": {},
   "outputs": [],
   "source": [
    "\n",
    "# Filtering data \n",
    "pip install fastp or conda install fastp\n",
    "https://github.com/OpenGene/fastp\n",
    "for single end data (not compressed)\n",
    "fastp -i in.fq -o out.fq\n",
    "for paired end data (gzip compressed)\n",
    "fastp -i in.R1.fq.gz -I in.R2.fq.gz -o out.R1.fq.gz -O out.R2.fq.gz\n",
    "\n",
    "Ex.\n",
    "for x in ./*.fastq.gz; do fastp -i $x -o /output/path/\"{$x}\"; done\n",
    "\n",
    "# Aligning data\n",
    "git clone star\n",
    "https://github.com/alexdobin/STAR\n",
    "read manual\n",
    "https://github.com/alexdobin/STAR/blob/master/doc/STARmanual.pdf\n",
    "% Generate Genome indexes\n",
    "- need a genome directory\n",
    "--luckily we have some already on the server\n",
    "\tex /bigstore/binfo/mouse\n",
    "---may want to download a new one for experience and make sure its updated\n",
    "\tIf you decide to do this you need a gtf and a fasta or fa for mouse\n",
    "\tthe gtf is annotations and the fa is the sequence\n",
    "\tyou can get these from a number of places but I prefer:\n",
    "\t\tftp://ftp.ensembl.org/pub/release-94/fasta/mus_musculus/dna/ primary assembly\n",
    "\t\tand \n",
    "\t\tftp://ftp.ensembl.org/pub/release-94/gtf/mus_musculus/ \n",
    "\n",
    "Ex for human\n",
    "home/zach/Path/STAR-2.6.1c/bin/Linux_x86_64_static/STAR --runThreadN 20 --runMode genomeGenerate --genomeDir /bigstore/binfo/STAR_human/ --genomeFastaFiles /bigstore/binfo/human/Homo_sapiens.GRCh38.dna.primary_assembly.fa --sjdbGTFfile /bigstore/binfo/human/gencode.v29.annotation.gtf\n",
    "\n",
    "% Align to Genome\n",
    "-use the generated genome to align your sequence data\n",
    "for x in ./*.fastq.gz; do\n",
    "    mkdir /savepath/\"${x%.*}\"\n",
    "STAR --runThreadN 20 --runMode alignReads --genomeDir /bigstore/binfo/STAR_human --readFilesIn /datapath/$x --readFilesCommand gunzip -c --outSAMtype BAM SortedByCoordinate --quantMode TranscriptomeSAM GeneCounts --outFileNamePrefix /savepath/\"${x%.*}\"/\n",
    "done\n",
    "\n",
    "%"
   ]
  }
 ],
 "metadata": {
  "kernelspec": {
   "display_name": "Python 3",
   "language": "python",
   "name": "python3"
  },
  "language_info": {
   "codemirror_mode": {
    "name": "ipython",
    "version": 3
   },
   "file_extension": ".py",
   "mimetype": "text/x-python",
   "name": "python",
   "nbconvert_exporter": "python",
   "pygments_lexer": "ipython3",
   "version": "3.6.7"
  }
 },
 "nbformat": 4,
 "nbformat_minor": 2
}
