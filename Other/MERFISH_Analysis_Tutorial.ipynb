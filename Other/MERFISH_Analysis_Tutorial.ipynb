{
 "cells": [
  {
   "cell_type": "markdown",
   "metadata": {},
   "source": [
    "First thing is getting set up with an X2GO Account on the server.\n",
    "This can be done by first downloading X2Go: \n",
    "https://wiki.x2go.org/doku.php/download:start\n",
    "You then need to adjust the Session preferences:\n",
    "    Host: server.wollmanlab.ucla.edu\n",
    "    Login: rotation (Or Your Username if you have one)\n",
    "    Session type: LXDE\n",
    "    Media/Sound: Disable sound support"
   ]
  },
  {
   "cell_type": "markdown",
   "metadata": {},
   "source": [
    "Log on to Server:\n",
    "Password: scienceisfun (Or your password if you have one)"
   ]
  },
  {
   "cell_type": "markdown",
   "metadata": {},
   "source": [
    "In an LXTerminal:\n",
    "Check if conda is installed:\n",
    "    !conda\n",
    "If 'conda' not found:\n",
    "    Download conda from https://www.anaconda.com/distribution/#download-section\n",
    "    !/home/rotation/Downloads/Anaconda3-2019.03-Linux-x86_64.sh\n",
    "    You may need to change the permissions on the file to execute it\n",
    "    If so right click on the file and cange Execute to owner and repeat execution\n",
    "    Add Conda to PATH\n",
    "    !export PATH=~/home/rotation/anaconda3/bin:$PATH\n",
    "    Exit and reopen terminal and check if conda is installed again\n",
    "Set up a new conda environment:\n",
    "First check what environments exist so your names dont conflict:\n",
    "    !conda env list\n",
    "Create a new environment (Change myenv to your env's name):\n",
    "    !conda create --name myenv\n",
    "Activate conda environment:\n",
    "    !conda activate myenv\n",
    "Check if Jupyter is installed:\n",
    "    !jupyter\n",
    "If 'jupyter' not found:\n",
    "    !conda install jupyter"
   ]
  },
  {
   "cell_type": "markdown",
   "metadata": {},
   "source": [
    "In an LXTerminal:\n",
    "Start Jupyter Notebook:\n",
    "    !conda activate myenv\n",
    "    !jupyter notebook --no-browser --port=8989\n",
    "    You may need to change the port number to an open port"
   ]
  },
  {
   "cell_type": "markdown",
   "metadata": {},
   "source": [
    "On Local Machine:\n",
    "In Terminal:\n",
    "    !ssh -N -L 8989:localhost:8989 rotation@server.wollmanlab.ucla.edu\n",
    "    You can change the first 8989 number to whichever port is open on your local machine\n",
    "In a browser:\n",
    "    For the first time:\n",
    "        Copy token from terminal It will look something like this and paste it into local browser\n",
    "        http://localhost:8989/?token=e0eb7df21c3ffd314083346bd8dc18c270cdf5299ee79309\n",
    "    After first time:\n",
    "        http://localhost:8989/tree?\n",
    "    You can set a password if you want:\n",
    "        The rotation account already has a password:\n",
    "            scienceisfun\n",
    "        In server Terminal:\n",
    "            https://jupyter-notebook.readthedocs.io/en/stable/public_server.html\n",
    "            check if home/rotation/.jupyter exists:\n",
    "            if not:\n",
    "                !jupyter notebook --generate-config\n",
    "            !jupyter notebook password"
   ]
  },
  {
   "cell_type": "markdown",
   "metadata": {},
   "source": []
  }
 ],
 "metadata": {
  "kernelspec": {
   "display_name": "pyspots",
   "language": "python",
   "name": "pyspots"
  },
  "language_info": {
   "codemirror_mode": {
    "name": "ipython",
    "version": 3
   },
   "file_extension": ".py",
   "mimetype": "text/x-python",
   "name": "python",
   "nbconvert_exporter": "python",
   "pygments_lexer": "ipython3",
   "version": "3.6.5"
  }
 },
 "nbformat": 4,
 "nbformat_minor": 2
}
