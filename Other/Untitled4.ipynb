{
 "cells": [
  {
   "cell_type": "code",
   "execution_count": 3,
   "metadata": {},
   "outputs": [
    {
     "data": {
      "text/plain": [
       "['beads.pkl', 'tforms.pkl']"
      ]
     },
     "execution_count": 3,
     "metadata": {},
     "output_type": "execute_result"
    }
   ],
   "source": [
    "path = '/hybedata/Images/Zach/ZebraFinch/A4_2020Jun28/results/'\n",
    "import os\n",
    "[i for i in os.listdir(path) if os.path.exists(os.path.join(path,i))]"
   ]
  }
 ],
 "metadata": {
  "kernelspec": {
   "display_name": "pyspots [conda env:pyspots]",
   "language": "python",
   "name": "conda-env-pyspots-pyspots"
  },
  "language_info": {
   "codemirror_mode": {
    "name": "ipython",
    "version": 3
   },
   "file_extension": ".py",
   "mimetype": "text/x-python",
   "name": "python",
   "nbconvert_exporter": "python",
   "pygments_lexer": "ipython3",
   "version": "3.6.5"
  }
 },
 "nbformat": 4,
 "nbformat_minor": 4
}
