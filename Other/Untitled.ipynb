{
 "cells": [
  {
   "cell_type": "markdown",
   "metadata": {},
   "source": [
    "Stardist\n",
    "Tensorflow\n",
    "Cuda Drivers\n",
    "Apt Get for troubleshooting\n"
   ]
  },
  {
   "cell_type": "markdown",
   "metadata": {},
   "source": [
    "Stardist tutorial\n"
   ]
  },
  {
   "cell_type": "code",
   "execution_count": 13,
   "metadata": {},
   "outputs": [],
   "source": [
    "import os\n",
    "os.remove('/bigstore/binfo/mouse/Brain/Sequencing/Allen_10X_SmartSeqTypes/')"
   ]
  },
  {
   "cell_type": "code",
   "execution_count": null,
   "metadata": {},
   "outputs": [],
   "source": []
  },
  {
   "cell_type": "code",
   "execution_count": 14,
   "metadata": {},
   "outputs": [
    {
     "data": {
      "text/plain": [
       "['readme_mouse_10x.txt',\n",
       " 'metadata.csv',\n",
       " 'dend.json',\n",
       " 'taxonomy.txt',\n",
       " 'medians.csv',\n",
       " 'trimmed_means.csv',\n",
       " 'tsne.csv',\n",
       " 'matrix.csv',\n",
       " 'sample_name.csv',\n",
       " 'Source.txt',\n",
       " 'merfish_final_genes.csv',\n",
       " 'dredfish_initial_genes.csv',\n",
       " 'dredfish_initial_counts.npy',\n",
       " 'mu>10_normcounts.npy',\n",
       " 'mu>10_genes.csv',\n",
       " 'mu>50_normcounts.npy',\n",
       " 'mu>50_genes.csv',\n",
       " 'mu>50_Counts_Balanced.Rdata',\n",
       " 'Updated_probes.npy',\n",
       " 'sorted_cells.csv',\n",
       " 'genes.csv',\n",
       " 'gene_name.csv',\n",
       " 'counts_per_cell.csv',\n",
       " 'matrix.npy',\n",
       " 'merfish_filtered_genes.csv',\n",
       " 'normcounts.npy',\n",
       " 'merfish_normcounts.npy',\n",
       " 'dpnmf_probes.npy',\n",
       " 'mu_1_dpnmf_loadings.npy',\n",
       " 'mu_5_dpnmf_loadings.npy',\n",
       " 'mu_10_dpnmf_loadings.npy',\n",
       " 'mu_20_dpnmf_loadings.npy',\n",
       " 'mu_50_dpnmf_loadings.npy',\n",
       " 'mu_100_dpnmf_loadings.npy',\n",
       " 'mu_500_dpnmf_loadings.npy',\n",
       " 'mu_1000_dpnmf_loadings.npy',\n",
       " 'MERFISH_Counts_Balanced.Rdata',\n",
       " 'merfish_mu_1_dpnmf_loadings.npy',\n",
       " 'merfish_mu_5_dpnmf_loadings.npy',\n",
       " 'merfish_mu_10_dpnmf_loadings.npy',\n",
       " 'merfish_mu_20_dpnmf_loadings.npy',\n",
       " 'merfish_mu_50_dpnmf_loadings.npy',\n",
       " 'merfish_mu_100_dpnmf_loadings.npy',\n",
       " 'merfish_mu_500_dpnmf_loadings.npy',\n",
       " 'merfish_mu_1000_dpnmf_loadings.npy',\n",
       " 'sorted_metadata.csv',\n",
       " 'dredfish_normcounts.npy']"
      ]
     },
     "execution_count": 14,
     "metadata": {},
     "output_type": "execute_result"
    }
   ],
   "source": [
    "A = os.listdir('/bigstore/binfo/mouse/Brain/Sequencing/Allen_10X_SmartSeqTypes/')\n",
    "A"
   ]
  },
  {
   "cell_type": "code",
   "execution_count": 15,
   "metadata": {},
   "outputs": [],
   "source": [
    "B = [ 'merfish_final_genes.csv',\n",
    " 'dredfish_initial_genes.csv',\n",
    " 'dredfish_initial_counts.npy',\n",
    " 'mu>10_normcounts.npy',\n",
    " 'mu>10_genes.csv',\n",
    " 'mu>50_normcounts.npy',\n",
    " 'mu>50_genes.csv',\n",
    " 'mu>50_Counts_Balanced.Rdata',\n",
    " 'Updated_probes.npy',\n",
    " 'counts_per_cell.csv',\n",
    " 'matrix.npy',\n",
    " 'merfish_filtered_genes.csv',\n",
    " 'merfish_normcounts.npy',\n",
    " 'dpnmf_probes.npy',\n",
    " 'mu_1_dpnmf_loadings.npy',\n",
    " 'mu_5_dpnmf_loadings.npy',\n",
    " 'mu_10_dpnmf_loadings.npy',\n",
    " 'mu_20_dpnmf_loadings.npy',\n",
    " 'mu_50_dpnmf_loadings.npy',\n",
    " 'mu_100_dpnmf_loadings.npy',\n",
    " 'mu_500_dpnmf_loadings.npy',\n",
    " 'mu_1000_dpnmf_loadings.npy',\n",
    " 'MERFISH_Counts_Balanced.Rdata',\n",
    " 'merfish_mu_1_dpnmf_loadings.npy',\n",
    " 'merfish_mu_5_dpnmf_loadings.npy',\n",
    " 'merfish_mu_10_dpnmf_loadings.npy',\n",
    " 'merfish_mu_20_dpnmf_loadings.npy',\n",
    " 'merfish_mu_50_dpnmf_loadings.npy',\n",
    " 'merfish_mu_100_dpnmf_loadings.npy',\n",
    " 'merfish_mu_500_dpnmf_loadings.npy',\n",
    " 'merfish_mu_1000_dpnmf_loadings.npy',\n",
    " 'dredfish_normcounts.npy']\n",
    "for b in B:\n",
    "    os.remove(os.path.join('/bigstore/binfo/mouse/Brain/Sequencing/Allen_10X_SmartSeqTypes/',b))"
   ]
  }
 ],
 "metadata": {
  "kernelspec": {
   "display_name": "pyspots [conda env:pyspots]",
   "language": "python",
   "name": "conda-env-pyspots-pyspots"
  },
  "language_info": {
   "codemirror_mode": {
    "name": "ipython",
    "version": 3
   },
   "file_extension": ".py",
   "mimetype": "text/x-python",
   "name": "python",
   "nbconvert_exporter": "python",
   "pygments_lexer": "ipython3",
   "version": "3.6.5"
  }
 },
 "nbformat": 4,
 "nbformat_minor": 4
}
