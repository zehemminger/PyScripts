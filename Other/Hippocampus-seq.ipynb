{
 "cells": [
  {
   "cell_type": "markdown",
   "metadata": {},
   "source": [
    "# Clean Data with Fastp"
   ]
  },
  {
   "cell_type": "code",
   "execution_count": null,
   "metadata": {},
   "outputs": [],
   "source": [
    "cd /bigstore/binfo/mouse/Hippocampus/GSE142681/RAW/\n",
    "mkdir /bigstore/binfo/mouse/Hippocampus/GSE142681/FASTP/\n",
    "for x in *.fastq.gz; do fastp -i $x -o /bigstore/binfo/mouse/Hippocampus/GSE142681/FASTP/\"$x\"; done "
   ]
  },
  {
   "cell_type": "markdown",
   "metadata": {},
   "source": [
    "# Generate Genome for STAR"
   ]
  },
  {
   "cell_type": "code",
   "execution_count": null,
   "metadata": {},
   "outputs": [],
   "source": [
    "/home/zach/Repos/STAR-2.6.1c/bin/Linux_x86_64_static/STAR --runThreadN 20 --runMode genomeGenerate --genomeDir /bigstore/binfo/mouse/Hippocampus/GSE142681/STAR/ --genomeFastaFiles /bigstore/binfo/mouse/Mus_musculus.GRCm38.dna.primary_assembly.fa --sjdbGTFfile /bigstore/binfo/mouse/Mus_musculus.GRCm38.94.gtf"
   ]
  },
  {
   "cell_type": "markdown",
   "metadata": {},
   "source": [
    "# Align Fastq to Genome with STAR"
   ]
  },
  {
   "cell_type": "code",
   "execution_count": null,
   "metadata": {},
   "outputs": [],
   "source": [
    "cd /bigstore/binfo/mouse/Hippocampus/GSE142681/FASTP/\n",
    "mkdir /bigstore/binfo/mouse/Hippocampus/GSE142681/Aligned2/\n",
    "for x in *.fastq.gz; do\n",
    "    mkdir /bigstore/binfo/mouse/Hippocampus/GSE142681/Aligned2/\"${x%.*}\"\n",
    "    /home/zach/Repos/STAR-2.6.1c/bin/Linux_x86_64_static/STAR --runThreadN 20 --runMode alignReads --genomeDir /bigstore/binfo/mouse/Hippocampus/GSE142681/STAR --readFilesIn /bigstore/binfo/mouse/Hippocampus/GSE142681/FASTP/$x --readFilesCommand gunzip -c --outSAMtype BAM SortedByCoordinate --quantMode TranscriptomeSAM GeneCounts --outFileNamePrefix /bigstore/binfo/mouse/Hippocampus/GSE142681/Aligned2/\"${x%.*}\"/ --outFilterScoreMinOverLread 0 --outFilterMatchNminOverLread 0 --outFilterMatchNmin 0\n",
    "done"
   ]
  },
  {
   "cell_type": "markdown",
   "metadata": {},
   "source": [
    "cd /bigstore/GeneralStorage/Zach/Data/igm-storage1.ucsd.edu/180404_K00180_0581_AHTJH3BBXX_SR75_Combo1/fastp\n",
    "for x in ./*.fastq.gz; do\n",
    "STAR --runThreadN 20 --genomeDir /bigstore/binfo/STAR_human --readFilesIn /bigstore/GeneralStorage/Zach/Data/igm-storage1.ucsd.edu/180404_K00180_0581_AHTJH3BBXX_SR75_Combo1/fastp/$x --readFilesCommand gunzip -c --outSAMtype BAM SortedByCoordinate --quantMode TranscriptomeSAM GeneCounts --outFileNamePrefix /bigstore/GeneralStorage/Zach/Data/igm-storage1.ucsd.edu/180404_K00180_0581_AHTJH3BBXX_SR75_Combo1/fastpAligned/\"${x%.*}\"\n",
    "done"
   ]
  },
  {
   "cell_type": "markdown",
   "metadata": {},
   "source": [
    "# Cufflinks"
   ]
  },
  {
   "cell_type": "code",
   "execution_count": null,
   "metadata": {},
   "outputs": [],
   "source": [
    "cd /bigstore/binfo/mouse/Hippocampus/GSE142681/Aligned2/\n",
    "for x in *.fastq\n",
    "    do cufflinks -p 24  --library-type fr-firststrand -G /bigstore/binfo/mouse/Mus_musculus.GRCm38.94.gtf -o /bigstore/binfo/mouse/Hippocampus/GSE142681/Aligned2/\"$x\"/ /bigstore/binfo/mouse/Hippocampus/GSE142681/Aligned2/\"$x\"/Aligned.sortedByCoord.out.bam\n",
    "done"
   ]
  },
  {
   "cell_type": "code",
   "execution_count": null,
   "metadata": {},
   "outputs": [],
   "source": [
    "\n",
    "# Filtering data \n",
    "pip install fastp or conda install fastp\n",
    "https://github.com/OpenGene/fastp\n",
    "for single end data (not compressed)\n",
    "fastp -i in.fq -o out.fq\n",
    "for paired end data (gzip compressed)\n",
    "fastp -i in.R1.fq.gz -I in.R2.fq.gz -o out.R1.fq.gz -O out.R2.fq.gz\n",
    "\n",
    "Ex.\n",
    "for x in ./*.fastq.gz; do fastp -i $x -o /output/path/\"{$x}\"; done\n",
    "\n",
    "# Aligning data\n",
    "git clone star\n",
    "https://github.com/alexdobin/STAR\n",
    "read manual\n",
    "https://github.com/alexdobin/STAR/blob/master/doc/STARmanual.pdf\n",
    "% Generate Genome indexes\n",
    "- need a genome directory\n",
    "--luckily we have some already on the server\n",
    "\tex /bigstore/binfo/mouse\n",
    "---may want to download a new one for experience and make sure its updated\n",
    "\tIf you decide to do this you need a gtf and a fasta or fa for mouse\n",
    "\tthe gtf is annotations and the fa is the sequence\n",
    "\tyou can get these from a number of places but I prefer:\n",
    "\t\tftp://ftp.ensembl.org/pub/release-94/fasta/mus_musculus/dna/ primary assembly\n",
    "\t\tand \n",
    "\t\tftp://ftp.ensembl.org/pub/release-94/gtf/mus_musculus/ \n",
    "\n",
    "Ex for human\n",
    "home/zach/Path/STAR-2.6.1c/bin/Linux_x86_64_static/STAR --runThreadN 20 --runMode genomeGenerate --genomeDir /bigstore/binfo/STAR_human/ --genomeFastaFiles /bigstore/binfo/human/Homo_sapiens.GRCh38.dna.primary_assembly.fa --sjdbGTFfile /bigstore/binfo/human/gencode.v29.annotation.gtf\n",
    "\n",
    "% Align to Genome\n",
    "-use the generated genome to align your sequence data\n",
    "for x in ./*.fastq.gz; do\n",
    "    mkdir /savepath/\"${x%.*}\"\n",
    "STAR --runThreadN 20 --runMode alignReads --genomeDir /bigstore/binfo/STAR_human --readFilesIn /datapath/$x --readFilesCommand gunzip -c --outSAMtype BAM SortedByCoordinate --quantMode TranscriptomeSAM GeneCounts --outFileNamePrefix /savepath/\"${x%.*}\"/\n",
    "done\n",
    "\n",
    "%"
   ]
  }
 ],
 "metadata": {
  "kernelspec": {
   "display_name": "Python 3",
   "language": "python",
   "name": "python3"
  },
  "language_info": {
   "codemirror_mode": {
    "name": "ipython",
    "version": 3
   },
   "file_extension": ".py",
   "mimetype": "text/x-python",
   "name": "python",
   "nbconvert_exporter": "python",
   "pygments_lexer": "ipython3",
   "version": "3.6.9"
  }
 },
 "nbformat": 4,
 "nbformat_minor": 4
}
