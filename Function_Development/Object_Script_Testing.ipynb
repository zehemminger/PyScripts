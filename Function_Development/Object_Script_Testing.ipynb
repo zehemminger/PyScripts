{
 "cells": [
  {
   "cell_type": "code",
   "execution_count": 1,
   "metadata": {},
   "outputs": [
    {
     "name": "stderr",
     "output_type": "stream",
     "text": [
      "/home/zach/miniconda3/envs/pyspots-gpu/lib/python3.6/site-packages/tensorflow/python/framework/dtypes.py:516: FutureWarning: Passing (type, 1) or '1type' as a synonym of type is deprecated; in a future version of numpy, it will be understood as (type, (1,)) / '(1,)type'.\n",
      "  _np_qint8 = np.dtype([(\"qint8\", np.int8, 1)])\n",
      "/home/zach/miniconda3/envs/pyspots-gpu/lib/python3.6/site-packages/tensorflow/python/framework/dtypes.py:517: FutureWarning: Passing (type, 1) or '1type' as a synonym of type is deprecated; in a future version of numpy, it will be understood as (type, (1,)) / '(1,)type'.\n",
      "  _np_quint8 = np.dtype([(\"quint8\", np.uint8, 1)])\n",
      "/home/zach/miniconda3/envs/pyspots-gpu/lib/python3.6/site-packages/tensorflow/python/framework/dtypes.py:518: FutureWarning: Passing (type, 1) or '1type' as a synonym of type is deprecated; in a future version of numpy, it will be understood as (type, (1,)) / '(1,)type'.\n",
      "  _np_qint16 = np.dtype([(\"qint16\", np.int16, 1)])\n",
      "/home/zach/miniconda3/envs/pyspots-gpu/lib/python3.6/site-packages/tensorflow/python/framework/dtypes.py:519: FutureWarning: Passing (type, 1) or '1type' as a synonym of type is deprecated; in a future version of numpy, it will be understood as (type, (1,)) / '(1,)type'.\n",
      "  _np_quint16 = np.dtype([(\"quint16\", np.uint16, 1)])\n",
      "/home/zach/miniconda3/envs/pyspots-gpu/lib/python3.6/site-packages/tensorflow/python/framework/dtypes.py:520: FutureWarning: Passing (type, 1) or '1type' as a synonym of type is deprecated; in a future version of numpy, it will be understood as (type, (1,)) / '(1,)type'.\n",
      "  _np_qint32 = np.dtype([(\"qint32\", np.int32, 1)])\n",
      "/home/zach/miniconda3/envs/pyspots-gpu/lib/python3.6/site-packages/tensorflow/python/framework/dtypes.py:525: FutureWarning: Passing (type, 1) or '1type' as a synonym of type is deprecated; in a future version of numpy, it will be understood as (type, (1,)) / '(1,)type'.\n",
      "  np_resource = np.dtype([(\"resource\", np.ubyte, 1)])\n",
      "/home/zach/miniconda3/envs/pyspots-gpu/lib/python3.6/site-packages/tensorboard/compat/tensorflow_stub/dtypes.py:541: FutureWarning: Passing (type, 1) or '1type' as a synonym of type is deprecated; in a future version of numpy, it will be understood as (type, (1,)) / '(1,)type'.\n",
      "  _np_qint8 = np.dtype([(\"qint8\", np.int8, 1)])\n",
      "/home/zach/miniconda3/envs/pyspots-gpu/lib/python3.6/site-packages/tensorboard/compat/tensorflow_stub/dtypes.py:542: FutureWarning: Passing (type, 1) or '1type' as a synonym of type is deprecated; in a future version of numpy, it will be understood as (type, (1,)) / '(1,)type'.\n",
      "  _np_quint8 = np.dtype([(\"quint8\", np.uint8, 1)])\n",
      "/home/zach/miniconda3/envs/pyspots-gpu/lib/python3.6/site-packages/tensorboard/compat/tensorflow_stub/dtypes.py:543: FutureWarning: Passing (type, 1) or '1type' as a synonym of type is deprecated; in a future version of numpy, it will be understood as (type, (1,)) / '(1,)type'.\n",
      "  _np_qint16 = np.dtype([(\"qint16\", np.int16, 1)])\n",
      "/home/zach/miniconda3/envs/pyspots-gpu/lib/python3.6/site-packages/tensorboard/compat/tensorflow_stub/dtypes.py:544: FutureWarning: Passing (type, 1) or '1type' as a synonym of type is deprecated; in a future version of numpy, it will be understood as (type, (1,)) / '(1,)type'.\n",
      "  _np_quint16 = np.dtype([(\"quint16\", np.uint16, 1)])\n",
      "/home/zach/miniconda3/envs/pyspots-gpu/lib/python3.6/site-packages/tensorboard/compat/tensorflow_stub/dtypes.py:545: FutureWarning: Passing (type, 1) or '1type' as a synonym of type is deprecated; in a future version of numpy, it will be understood as (type, (1,)) / '(1,)type'.\n",
      "  _np_qint32 = np.dtype([(\"qint32\", np.int32, 1)])\n",
      "/home/zach/miniconda3/envs/pyspots-gpu/lib/python3.6/site-packages/tensorboard/compat/tensorflow_stub/dtypes.py:550: FutureWarning: Passing (type, 1) or '1type' as a synonym of type is deprecated; in a future version of numpy, it will be understood as (type, (1,)) / '(1,)type'.\n",
      "  np_resource = np.dtype([(\"resource\", np.ubyte, 1)])\n"
     ]
    }
   ],
   "source": [
    "import os\n",
    "os.environ['TF_CPP_MIN_LOG_LEVEL'] = '3'\n",
    "from MERFISH_Objects.Image import *\n",
    "from MERFISH_Objects.Daemons import *\n",
    "from MERFISH_Objects.Stack import *\n",
    "from MERFISH_Objects.Hybe import *\n",
    "from MERFISH_Objects.Deconvolution import *\n",
    "from MERFISH_Objects.Registration import *\n",
    "from MERFISH_Objects.Position import *\n",
    "from MERFISH_Objects.Dataset import *\n",
    "from MERFISH_Objects.FISHData import *\n",
    "import dill as pickle\n",
    "import shutil\n",
    "daemon_path = '/scratch/daemon/' \n",
    "utilities_path = '/scratch/utilities/'\n",
    "fishdata_path = '/hybedata/Images/Zach/ZebraFinch/A4_2020Jun28/fishdata/'\n",
    "verbose = True\n",
    "error_verbose = True\n",
    "reverse = True\n",
    "image_daemon_path = os.path.join(daemon_path,'image')\n",
    "img_daemon = Class_Daemon(image_daemon_path,verbose=verbose,interval=1,ncpu=20,error_verbose=error_verbose,reverse=reverse)"
   ]
  },
  {
   "cell_type": "code",
   "execution_count": 2,
   "metadata": {
    "scrolled": true
   },
   "outputs": [
    {
     "name": "stderr",
     "output_type": "stream",
     "text": [
      "WARNING: Logging before flag parsing goes to stderr.\n",
      "W0802 19:14:28.244295 140342980273920 deprecation_wrapper.py:119] From /home/zach/miniconda3/envs/pyspots-gpu/lib/python3.6/site-packages/flowdec/restoration.py:144: The name tf.placeholder is deprecated. Please use tf.compat.v1.placeholder instead.\n",
      "\n",
      "W0802 19:14:28.447283 140342980273920 deprecation_wrapper.py:119] From /home/zach/miniconda3/envs/pyspots-gpu/lib/python3.6/site-packages/flowdec/restoration.py:223: The name tf.placeholder_with_default is deprecated. Please use tf.compat.v1.placeholder_with_default instead.\n",
      "\n",
      "W0802 19:14:28.473232 140342980273920 deprecation_wrapper.py:119] From /home/zach/miniconda3/envs/pyspots-gpu/lib/python3.6/site-packages/flowdec/restoration.py:233: The name tf.assert_greater is deprecated. Please use tf.compat.v1.assert_greater instead.\n",
      "\n",
      "W0802 19:14:28.506799 140342980273920 deprecation_wrapper.py:119] From /home/zach/miniconda3/envs/pyspots-gpu/lib/python3.6/site-packages/flowdec/restoration.py:243: The name tf.assert_greater_equal is deprecated. Please use tf.compat.v1.assert_greater_equal instead.\n",
      "\n",
      "W0802 19:14:28.641298 140342980273920 deprecation_wrapper.py:119] From /home/zach/miniconda3/envs/pyspots-gpu/lib/python3.6/site-packages/flowdec/fft_utils_tf.py:68: The name tf.ceil is deprecated. Please use tf.math.ceil instead.\n",
      "\n",
      "W0802 19:14:28.792546 140342980273920 deprecation_wrapper.py:119] From /home/zach/miniconda3/envs/pyspots-gpu/lib/python3.6/site-packages/flowdec/fft_utils_tf.py:33: The name tf.spectral.fft3d is deprecated. Please use tf.signal.fft3d instead.\n",
      "\n",
      "W0802 19:14:28.793947 140342980273920 deprecation_wrapper.py:119] From /home/zach/miniconda3/envs/pyspots-gpu/lib/python3.6/site-packages/flowdec/fft_utils_tf.py:33: The name tf.spectral.ifft3d is deprecated. Please use tf.signal.ifft3d instead.\n",
      "\n",
      "W0802 19:14:28.935803 140342980273920 deprecation.py:323] From /home/zach/miniconda3/envs/pyspots-gpu/lib/python3.6/site-packages/flowdec/restoration.py:297: add_dispatch_support.<locals>.wrapper (from tensorflow.python.ops.array_ops) is deprecated and will be removed in a future version.\n",
      "Instructions for updating:\n",
      "Use tf.where in 2.0, which has the same broadcast rule as np.where\n"
     ]
    }
   ],
   "source": [
    "import shutil\n",
    "daemon_path = '/scratch/daemon/' \n",
    "utilities_path = '/scratch/utilities/'\n",
    "fishdata_path = '/hybedata/Images/Zach/ZebraFinch/A4_2020Jun28/fishdata/'\n",
    "verbose = False\n",
    "error_verbose = True\n",
    "reverse = False\n",
    "deconvolution_daemon_path = os.path.join(daemon_path,'deconvolution')\n",
    "decon_daemon = Decovolution_Daemon(deconvolution_daemon_path,verbose=verbose,interval=1,error_verbose=error_verbose,reverse=reverse)\n",
    "image_daemon_path = os.path.join(daemon_path,'image')\n",
    "img_daemon = Class_Daemon(image_daemon_path,verbose=verbose,interval=1,ncpu=15,error_verbose=error_verbose,reverse=reverse)\n",
    "stack_daemon_path = os.path.join(daemon_path,'stack')\n",
    "stk_daemon = Class_Daemon(stack_daemon_path,verbose=verbose,interval=30,ncpu=10,error_verbose=error_verbose,reverse=reverse)\n",
    "hybe_daemon_path = os.path.join(daemon_path,'hybe')\n",
    "hyb_daemon = Class_Daemon(hybe_daemon_path,verbose=verbose,interval=60,ncpu=5,error_verbose=error_verbose,reverse=reverse)\n",
    "registration_daemon_path = os.path.join(daemon_path,'registration')\n",
    "reg_daemon = Class_Daemon(registration_daemon_path,verbose=verbose,interval=1,ncpu=20,error_verbose=error_verbose,reverse=reverse)\n",
    "position_daemon_path = os.path.join(daemon_path,'position')\n",
    "pos_daemon = Class_Daemon(position_daemon_path,verbose=verbose,interval=60,ncpu=5,error_verbose=error_verbose,reverse=reverse)\n",
    "dataset_daemon_path = os.path.join(daemon_path,'dataset')\n",
    "dataset_daemon = Class_Daemon(dataset_daemon_path,verbose=verbose,interval=1,error_verbose=error_verbose,reverse=reverse)"
   ]
  },
  {
   "cell_type": "code",
   "execution_count": null,
   "metadata": {},
   "outputs": [],
   "source": [
    "# try:\n",
    "#     shutil.rmtree(daemon_path)\n",
    "#     shutil.rmtree(utilities_path)\n",
    "#     shutil.rmtree(fishdata_path)\n",
    "# except:\n",
    "#     pass\n",
    "# try:\n",
    "#     os.mkdir(daemon_path)\n",
    "#     os.mkdir(utilities_path)\n",
    "#     os.mkdir(fishdata_path)\n",
    "# except:\n",
    "#     pass\n",
    "# import time\n",
    "# time.sleep(2)"
   ]
  },
  {
   "cell_type": "code",
   "execution_count": 2,
   "metadata": {},
   "outputs": [],
   "source": [
    "def generate_class(data):\n",
    "#     data = pickle.load(open(fname_path,'rb'))\n",
    "    level = data['level']\n",
    "    if 'verbose' in data.keys():\n",
    "        verbose = data['verbose']\n",
    "    else:\n",
    "        verbose = False\n",
    "    if level == 'dataset':\n",
    "        data_object = Dataset_Class(data['metadata_path'],data['dataset'],data['cword_config'],verbose=verbose)\n",
    "    elif level == 'position':\n",
    "        data_object = Position_Class(data['metadata_path'],data['dataset'],data['posname'],data['cword_config'],verbose=verbose)\n",
    "    elif level == 'hybe':\n",
    "        data_object = Hybe_Class(data['metadata_path'],data['dataset'],data['posname'],data['hybe'],data['cword_config'],verbose=verbose)\n",
    "    elif level == 'registration':\n",
    "        data_object = Registration_Class(data['metadata_path'],data['dataset'],data['posname'],data['hybe'],data['cword_config'],verbose=verbose)\n",
    "    elif level == 'stack':\n",
    "        data_object = Stack_Class(data['metadata_path'],data['dataset'],data['posname'],data['hybe'],data['channel'],data['cword_config'],verbose=verbose)\n",
    "    elif level == 'deconvolution':\n",
    "        data_object = Deconvolution_Class(data['metadata_path'],data['dataset'],data['posname'],data['hybe'],data['channel'],data['cword_config'],verbose=verbose)\n",
    "    elif level == 'image':\n",
    "        data_object = Image_Class(data['metadata_path'],data['dataset'],data['posname'],data['hybe'],data['channel'],data['zindex'],data['cword_config'],verbose=verbose)\n",
    "    else:\n",
    "        raise ValueError(level,'Is not implemented')\n",
    "    return data_object"
   ]
  },
  {
   "cell_type": "code",
   "execution_count": 3,
   "metadata": {
    "jupyter": {
     "source_hidden": true
    }
   },
   "outputs": [],
   "source": [
    "# data = pickle.load(open('/scratch/daemon/image/input/A4_2020Jun28_Pos1_hybe9_Orange_7.pkl','rb'))\n",
    "# print(data)\n",
    "# object_class = generate_class(data)\n",
    "# object_class.verbose = True\n",
    "# object_class.run()"
   ]
  },
  {
   "cell_type": "code",
   "execution_count": 5,
   "metadata": {
    "jupyter": {
     "source_hidden": true
    }
   },
   "outputs": [],
   "source": [
    "metadata_path = '/hybedata/Images/Zach/ZebraFinch/A4_2020Jun28/'\n",
    "dataset = 'A4_2020Jun28'\n",
    "posname = 'Pos1'\n",
    "hybe = 'hybe1'\n",
    "channel = 'FarRed'\n",
    "zindex = 19\n",
    "cword_config = 'seqfish_config_zebrafinch'\n",
    "fname = dataset+'_'+posname+'.pkl'\n",
    "fname_path = os.path.join(position_daemon_path,'input',fname)\n",
    "data = {'metadata_path':metadata_path,\n",
    "        'dataset':dataset,\n",
    "        'posname':posname,\n",
    "        'hybe':hybe,\n",
    "        'channel':channel,\n",
    "        'zindex':zindex,\n",
    "        'cword_config':cword_config,\n",
    "        'level':'position',\n",
    "        'verbose':False}\n",
    "pickle.dump(data,open(fname_path,'wb'))\n",
    "# object_class = generate_class(data)\n",
    "# object_class.run()"
   ]
  },
  {
   "cell_type": "code",
   "execution_count": 3,
   "metadata": {
    "jupyter": {
     "source_hidden": true
    }
   },
   "outputs": [],
   "source": [
    "# Daemon Manager\n",
    "# Need something that checks if daemons are running and restarts them if they crash *****\n",
    "# Add Log to fishdata to figure out why things fail\n",
    "# Maybe add flag checking to fishdata\n"
   ]
  },
  {
   "cell_type": "code",
   "execution_count": 2,
   "metadata": {},
   "outputs": [],
   "source": [
    "def generate_class(fname_path):\n",
    "    data = pickle.load(open(fname_path,'rb'))\n",
    "    level = data['level']\n",
    "    if 'verbose' in data.keys():\n",
    "        verbose = data['verbose']\n",
    "    else:\n",
    "        verbose = False\n",
    "    if level == 'dataset':\n",
    "        data_object = Dataset_Class(data['metadata_path'],data['dataset'],data['cword_config'],verbose=verbose)\n",
    "    elif level == 'position':\n",
    "        data_object = Position_Class(data['metadata_path'],data['dataset'],data['posname'],data['cword_config'],verbose=verbose)\n",
    "    elif level == 'hybe':\n",
    "        data_object = Hybe_Class(data['metadata_path'],data['dataset'],data['posname'],data['hybe'],data['cword_config'],verbose=verbose)\n",
    "    elif level == 'registration':\n",
    "        data_object = Registration_Class(data['metadata_path'],data['dataset'],data['posname'],data['hybe'],data['cword_config'],verbose=verbose)\n",
    "    elif level == 'stack':\n",
    "        data_object = Stack_Class(data['metadata_path'],data['dataset'],data['posname'],data['hybe'],data['channel'],data['cword_config'],verbose=verbose)\n",
    "    elif level == 'deconvolution':\n",
    "        data_object = Deconvolution_Class(data['metadata_path'],data['dataset'],data['posname'],data['hybe'],data['channel'],data['cword_config'],verbose=verbose)\n",
    "    elif level == 'image':\n",
    "        data_object = Image_Class(data['metadata_path'],data['dataset'],data['posname'],data['hybe'],data['channel'],data['zindex'],data['cword_config'],verbose=verbose)\n",
    "    else:\n",
    "        raise ValueError(level,'Is not implemented')\n",
    "    return data_object\n",
    "out = generate_class('/scratch/daemon/image/input/A4_2020Jun28_Pos20_hybe3_FarRed_1.pkl')"
   ]
  },
  {
   "cell_type": "code",
   "execution_count": null,
   "metadata": {},
   "outputs": [],
   "source": [
    "# Convert Segment to correct format\n",
    "# Upgrade Classify \n",
    "# Speed up Registration and Normalization for decon maybe with multiprocessing\n"
   ]
  }
 ],
 "metadata": {
  "kernelspec": {
   "display_name": "Python [conda env:pyspots-gpu]",
   "language": "python",
   "name": "conda-env-pyspots-gpu-py"
  },
  "language_info": {
   "codemirror_mode": {
    "name": "ipython",
    "version": 3
   },
   "file_extension": ".py",
   "mimetype": "text/x-python",
   "name": "python",
   "nbconvert_exporter": "python",
   "pygments_lexer": "ipython3",
   "version": "3.6.8"
  }
 },
 "nbformat": 4,
 "nbformat_minor": 4
}
