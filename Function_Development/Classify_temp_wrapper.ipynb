{
 "cells": [
  {
   "cell_type": "code",
   "execution_count": 1,
   "metadata": {},
   "outputs": [],
   "source": [
    "from MERFISH_Objects.FISHData import *\n",
    "import os\n",
    "from analysis_scripts.classify import *\n",
    "import random\n",
    "from tqdm import tqdm\n",
    "from scipy.spatial.distance import cdist\n",
    "import multiprocessing\n",
    "import sys"
   ]
  },
  {
   "cell_type": "code",
   "execution_count": 2,
   "metadata": {},
   "outputs": [],
   "source": [
    "def populate_decoys(pos,nbits,iterations,name):\n",
    "    decoys = []\n",
    "    base = list((pos*\"1\").zfill(nbits))\n",
    "    for i in tqdm(range(iterations),total=iterations):\n",
    "        random.shuffle(base)\n",
    "        decoys.append(''.join(base))\n",
    "    decoys = list(np.unique(decoys))\n",
    "    decoy_names = [name+'_'+str(i) for i in range(len(decoys))]\n",
    "    decoys_array = np.array([[int(i) for i in decoys[j]] for j in range(len(decoys))])\n",
    "    return decoys_array,decoy_names"
   ]
  },
  {
   "cell_type": "code",
   "execution_count": 3,
   "metadata": {},
   "outputs": [],
   "source": [
    "def classify_pixels(cstk,normalization_factors,codeword_vectors,rel_peak_thresh=99):\n",
    "#     codeword_vectors = 0.5*(codeword_vectors>0)\n",
    "    if len(cstk.shape)==3:\n",
    "        max_mask = np.max(cstk,axis=2)\n",
    "        mask = max_mask>np.percentile(max_mask.ravel(),rel_peak_thresh)\n",
    "        x,y = np.where(mask)\n",
    "        vectors = cstk[x,y,:]\n",
    "    else:\n",
    "        vectors = cstk\n",
    "    vectors = np.divide(vectors.astype('float32'), normalization_factors.astype('float32'))\n",
    "#     vectors = normalize(vectors, norm='l2')\n",
    "#     d = distance_matrix(codeword_vectors, vectors)\n",
    "    d = cdist(codeword_vectors, vectors)\n",
    "    dimg = np.nan*np.ones((cstk.shape[0],cstk.shape[1]))\n",
    "    if len(cstk.shape)==3:\n",
    "        dimg[x,y] = np.min(d,axis=0)\n",
    "        cimg = -1*np.ones((cstk.shape[0],cstk.shape[1]))\n",
    "        cimg[x,y] = np.argmin(d, axis=0)\n",
    "    else:\n",
    "        dimg = np.min(d,axis=0)\n",
    "        cimg = np.argmin(d, axis=0)\n",
    "    return dimg,cimg"
   ]
  },
  {
   "cell_type": "code",
   "execution_count": 4,
   "metadata": {},
   "outputs": [],
   "source": [
    "def parse_classification_image(class_img, cstk, cvectors, genes, zindex, distance_img):\n",
    "    label2d = label((class_img+1).astype('uint16'), connectivity=1)\n",
    "    properties = regionprops(label2d, (class_img+1).astype('uint16'))\n",
    "    areas = []\n",
    "    nclasses = []\n",
    "    multiclass_sets = 0\n",
    "    gene_call_rows = []\n",
    "    below_threshold_rows = []\n",
    "    for prop in properties:\n",
    "        coords = prop.coords\n",
    "        centroid = prop.centroid\n",
    "        classes = list(set(prop.intensity_image.flatten())-set([0]))\n",
    "        if len(classes)==0:\n",
    "            print('Label with no classes.')\n",
    "            pdb.set_trace()\n",
    "            continue\n",
    "        elif not len(classes)==1:\n",
    "            pdb.set_trace()\n",
    "            multiclass_sets+=1\n",
    "            continue\n",
    "        else:\n",
    "            nclasses.append(len(classes))\n",
    "            areas.append(prop.area)\n",
    "        codeword_idx = classes[0]-1\n",
    "        gene = genes[codeword_idx]\n",
    "        bits = np.where(cvectors[codeword_idx]>0)[0]\n",
    "        spot_pixel_values = []\n",
    "        spot_pixel_means = []\n",
    "        # Calculating the mean pixel intensities for each positive bit for a single spot\n",
    "        spot_nf = np.zeros(cvectors.shape[1])\n",
    "        for b in bits:\n",
    "            spot_bit_intensities = cstk[coords[:,0], coords[:,1], b]\n",
    "            spot_nf[b] = np.mean(spot_bit_intensities)\n",
    "            spot_pixel_values.append(spot_bit_intensities)\n",
    "        spot_sum = np.sum(spot_pixel_values)\n",
    "        spot_mean = np.mean(spot_pixel_values)\n",
    "        spot_distance = np.mean(distance_img[coords[:,0], coords[:,1]])\n",
    "        # If the spot is above spot_sum_thresh then add it to the gene spot list\n",
    "        # the hope is to filter out background here\n",
    "        gene_call_rows.append([genes[codeword_idx], spot_sum, centroid,\n",
    "                        spot_mean, len(coords), codeword_idx,spot_distance])\n",
    "    df = pd.DataFrame(gene_call_rows, columns=['gene', 'ssum', 'centroid', 'ave', 'npixels', 'cword_idx','cword_dist'])\n",
    "    return df"
   ]
  },
  {
   "cell_type": "code",
   "execution_count": 5,
   "metadata": {},
   "outputs": [],
   "source": [
    "def load_codestack(fishdata,bitmap,dataset,posname,zindex):\n",
    "    cstk = np.zeros((2048,2048,len(bitmap)))\n",
    "    for bitmap_idx in range(len(bitmap)):\n",
    "        seq,hybe,channel = bitmap[bitmap_idx]\n",
    "        temp = fishdata.load_data('image',dataset=dataset,posname=posname,hybe=hybe,channel=channel,zindex=zindex)\n",
    "        if not isinstance(temp,type(None)):\n",
    "            cstk[:,:,bitmap_idx] = temp\n",
    "    return cstk"
   ]
  },
  {
   "cell_type": "code",
   "execution_count": 6,
   "metadata": {},
   "outputs": [],
   "source": [
    "def classify(data):\n",
    "    fishdata_path = data['fishdata_path']\n",
    "    fishdata = FISHData(fishdata_path)\n",
    "    cword_config = data['cword_config']\n",
    "    seqfish_config = importlib.import_module(cword_config)\n",
    "    bitmap = seqfish_config.bitmap\n",
    "    nbits = seqfish_config.nbits\n",
    "    dataset = data['dataset']\n",
    "    posname = data['posname']\n",
    "    zindex = data['zindex']\n",
    "    rel_peak_thresh = data['rel_peak_thresh']\n",
    "    codeword_vectors = np.load(os.path.join(fishdata_path,'codeword_vectors.npy'))\n",
    "    genes = np.load(os.path.join(fishdata_path,'genes.npy'))\n",
    "    normalization_factors = 1000*np.ones(nbits)\n",
    "    try:\n",
    "        cstk = load_codestack(fishdata,bitmap,dataset,posname,zindex)\n",
    "        dimg,cimg = classify_pixels(cstk,normalization_factors,codeword_vectors,rel_peak_thresh=rel_peak_thresh)\n",
    "        df = parse_classification_image(cimg, cstk, codeword_vectors, genes, zindex, dimg)\n",
    "        df['posname'] = posname\n",
    "        good_genes = [i for i in genes if not 'decoy' in i]\n",
    "        df = df[df['gene'].isin(good_genes)]\n",
    "        fishdata.add_and_save_data(df,'spotcalls',dataset=dataset,posname=posname,hybe='all',channel='all',zindex=zindex)\n",
    "    except Exception as e:\n",
    "        print(posname,zindex,'Failed')\n",
    "        print(e)\n",
    "    return None\n"
   ]
  },
  {
   "cell_type": "code",
   "execution_count": 7,
   "metadata": {},
   "outputs": [],
   "source": [
    "def classify_wrapper(dataset,fishdata_path,cword_config,rel_peak_thresh=99,ncpu=1):\n",
    "    seqfish_config = importlib.import_module(cword_config)\n",
    "    try:\n",
    "        genes = seqfish_config.gids+seqfish_config.bids\n",
    "    except:\n",
    "        genes = seqfish_config.gids\n",
    "    bitmap = seqfish_config.bitmap\n",
    "    normalized_gene_vectors = seqfish_config.norm_gene_codeword_vectors\n",
    "    normalized_all_gene_vectors = seqfish_config.norm_all_codeword_vectors\n",
    "    nbits = seqfish_config.nbits\n",
    "    low_decoys,low_decoy_names = populate_decoys(1,nbits,100,'low_decoy')\n",
    "    high_decoys,high_decoy_names = populate_decoys(8,nbits,1000000,'low_decoy')\n",
    "    codeword_vectors = (normalized_all_gene_vectors/np.max(normalized_all_gene_vectors)).astype(int)\n",
    "    codeword_vectors = np.concatenate((codeword_vectors,low_decoys,high_decoys))\n",
    "    print(codeword_vectors.shape)\n",
    "    genes = list(genes)\n",
    "    genes.extend(low_decoy_names)\n",
    "    genes.extend(high_decoy_names)\n",
    "    np.save(os.path.join(fishdata_path,'codeword_vectors.npy'),codeword_vectors)\n",
    "    np.save(os.path.join(fishdata_path,'genes.npy'),genes)\n",
    "    del codeword_vectors\n",
    "    del genes\n",
    "    posnames = list(np.unique([i.split('_')[2] for i in os.listdir(fishdata_path) if 'Pos' in i]))\n",
    "    zindexes = list(np.unique([i.split('_')[-2] for i in os.listdir(fishdata_path) if 'Pos' in i]))\n",
    "    zindexes = [i for i in zindexes if not ('all' in i)|('X' in i)]\n",
    "    Input = []\n",
    "    fishdata = FISHData(fishdata_path)\n",
    "    for posname in posnames:\n",
    "        try:\n",
    "            flag = fishdata.load_data('flag',dataset=dataset,posname=posname)\n",
    "        except:\n",
    "            continue\n",
    "        if flag!='Passed':\n",
    "            print(posname,'Failed')\n",
    "            continue\n",
    "        for zindex in zindexes:\n",
    "            data = {'dataset':dataset,\n",
    "                    'posname':posname,\n",
    "                    'zindex':zindex,\n",
    "                    'cword_config':cword_config,\n",
    "                    'rel_peak_thresh':rel_peak_thresh,\n",
    "                    'fishdata_path':fishdata_path}\n",
    "            Input.append(data)\n",
    "    if ncpu==1:\n",
    "        for data in tqdm(Input,total=len(Input),desc='Classifying'):\n",
    "            classify(data)\n",
    "    else:\n",
    "        with multiprocessing.Pool(ncpu) as ppool:\n",
    "            sys.stdout.flush()\n",
    "            for out in tqdm(ppool.imap(classify,Input,chunksize=1),total=len(Input)):\n",
    "                do='Nothing'\n",
    "            ppool.close()\n",
    "            sys.stdout.flush()"
   ]
  },
  {
   "cell_type": "code",
   "execution_count": 8,
   "metadata": {},
   "outputs": [
    {
     "name": "stderr",
     "output_type": "stream",
     "text": [
      "100%|██████████| 100/100 [00:00<00:00, 32256.43it/s]\n",
      "100%|██████████| 1000000/1000000 [00:26<00:00, 37751.30it/s]\n"
     ]
    },
    {
     "name": "stdout",
     "output_type": "stream",
     "text": [
      "(43963, 18)\n",
      "Pos157 Failed\n",
      "Pos25 Failed\n",
      "Pos262 Failed\n",
      "Pos263 Failed\n",
      "Pos264 Failed\n",
      "Pos39 Failed\n",
      "Pos53 Failed\n",
      "Pos66 Failed\n"
     ]
    },
    {
     "name": "stderr",
     "output_type": "stream",
     "text": [
      "100%|██████████| 4144/4144 [37:16:11<00:00, 32.38s/it]     \n"
     ]
    }
   ],
   "source": [
    "fishdata_path = '/hybedata/Images/Zach/ZebraFinch/A4_2020Jun28/fishdata/'\n",
    "dataset = 'A4_2020Jun28'\n",
    "classify_wrapper(dataset,fishdata_path,'seqfish_config_zebrafinch',ncpu=5)"
   ]
  },
  {
   "cell_type": "code",
   "execution_count": null,
   "metadata": {},
   "outputs": [],
   "source": []
  }
 ],
 "metadata": {
  "kernelspec": {
   "display_name": "Python [conda env:pyspots-gpu]",
   "language": "python",
   "name": "conda-env-pyspots-gpu-py"
  },
  "language_info": {
   "codemirror_mode": {
    "name": "ipython",
    "version": 3
   },
   "file_extension": ".py",
   "mimetype": "text/x-python",
   "name": "python",
   "nbconvert_exporter": "python",
   "pygments_lexer": "ipython3",
   "version": "3.6.8"
  }
 },
 "nbformat": 4,
 "nbformat_minor": 4
}
