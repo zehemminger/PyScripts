{
 "cells": [
  {
   "cell_type": "code",
   "execution_count": null,
   "metadata": {},
   "outputs": [],
   "source": [
    "import os\n",
    "os.environ['TF_CPP_MIN_LOG_LEVEL'] = '3'\n",
    "from MERFISH_Objects.Image import *\n",
    "from MERFISH_Objects.Daemons import *\n",
    "from MERFISH_Objects.Stack import *\n",
    "from MERFISH_Objects.Hybe import *\n",
    "from MERFISH_Objects.Deconvolution import *\n",
    "from MERFISH_Objects.Registration import *\n",
    "from MERFISH_Objects.Position import *\n",
    "from MERFISH_Objects.Dataset import *\n",
    "from MERFISH_Objects.FISHData import *\n",
    "import dill as pickle"
   ]
  },
  {
   "cell_type": "code",
   "execution_count": null,
   "metadata": {},
   "outputs": [],
   "source": [
    "def generate_class(data):\n",
    "#     data = pickle.load(open(fname_path,'rb'))\n",
    "    level = data['level']\n",
    "    if 'verbose' in data.keys():\n",
    "        verbose = data['verbose']\n",
    "    else:\n",
    "        verbose = False\n",
    "    if level == 'dataset':\n",
    "        data_object = Dataset_Class(data['metadata_path'],data['dataset'],data['cword_config'],verbose=verbose)\n",
    "    elif level == 'position':\n",
    "        data_object = Position_Class(data['metadata_path'],data['dataset'],data['posname'],data['cword_config'],verbose=verbose)\n",
    "    elif level == 'hybe':\n",
    "        data_object = Hybe_Class(data['metadata_path'],data['dataset'],data['posname'],data['hybe'],data['cword_config'],verbose=verbose)\n",
    "    elif level == 'registration':\n",
    "        data_object = Registration_Class(data['metadata_path'],data['dataset'],data['posname'],data['hybe'],data['cword_config'],verbose=verbose)\n",
    "    elif level == 'stack':\n",
    "        data_object = Stack_Class(data['metadata_path'],data['dataset'],data['posname'],data['hybe'],data['channel'],data['cword_config'],verbose=verbose)\n",
    "    elif level == 'deconvolution':\n",
    "        data_object = Deconvolution_Class(data['metadata_path'],data['dataset'],data['posname'],data['hybe'],data['channel'],data['cword_config'],verbose=verbose)\n",
    "    elif level == 'image':\n",
    "        data_object = Image_Class(data['metadata_path'],data['dataset'],data['posname'],data['hybe'],data['channel'],data['zindex'],data['cword_config'],verbose=verbose)\n",
    "    else:\n",
    "        raise ValueError(level,'Is not implemented')\n",
    "    return data_object"
   ]
  },
  {
   "cell_type": "code",
   "execution_count": null,
   "metadata": {},
   "outputs": [],
   "source": [
    "# data = pickle.load(open('/scratch/daemon/image/input/A4_2020Jun28_Pos1_hybe9_Orange_7.pkl','rb'))\n",
    "# print(data)\n",
    "# object_class = generate_class(data)\n",
    "# object_class.verbose = True\n",
    "# object_class.run()"
   ]
  },
  {
   "cell_type": "code",
   "execution_count": null,
   "metadata": {},
   "outputs": [],
   "source": [
    "# os.path.exists('/hybedata/Images/Zach/ZebraFinch/A4_2020Jun28/fishdata/Pos1/A4_2020Jun28_Pos1_hybe9_X_X_tforms.pkl')\n",
    "# # How is registration done if tforms dont exist??"
   ]
  },
  {
   "cell_type": "code",
   "execution_count": null,
   "metadata": {},
   "outputs": [],
   "source": [
    "import shutil\n",
    "daemon_path = '/scratch/daemon/' \n",
    "utilities_path = '/scratch/utilities/'\n",
    "fishdata_path = '/hybedata/Images/Zach/ZebraFinch/A4_2020Jun28/fishdata/'\n",
    "try:\n",
    "    shutil.rmtree(daemon_path)\n",
    "    shutil.rmtree(utilities_path)\n",
    "    shutil.rmtree(fishdata_path)\n",
    "except:\n",
    "    pass\n",
    "try:\n",
    "    os.mkdir(daemon_path)\n",
    "    os.mkdir(utilities_path)\n",
    "    os.mkdir(fishdata_path)\n",
    "except:\n",
    "    pass\n",
    "import time\n",
    "time.sleep(2)\n",
    "verbose = False\n",
    "error_verbose = True\n",
    "deconvolution_daemon_path = os.path.join(daemon_path,'deconvolution')\n",
    "decon_daemon = Decovolution_Daemon(deconvolution_daemon_path,verbose=verbose,interval=1,error_verbose=error_verbose)\n",
    "image_daemon_path = os.path.join(daemon_path,'image')\n",
    "img_daemon = Class_Daemon(image_daemon_path,verbose=verbose,interval=1,ncpu=20,error_verbose=error_verbose)\n",
    "stack_daemon_path = os.path.join(daemon_path,'stack')\n",
    "stk_daemon = Class_Daemon(stack_daemon_path,verbose=verbose,interval=30,ncpu=10,error_verbose=error_verbose)\n",
    "hybe_daemon_path = os.path.join(daemon_path,'hybe')\n",
    "hyb_daemon = Class_Daemon(hybe_daemon_path,verbose=verbose,interval=30,ncpu=10,error_verbose=error_verbose)\n",
    "registration_daemon_path = os.path.join(daemon_path,'registration')\n",
    "reg_daemon = Class_Daemon(registration_daemon_path,verbose=verbose,interval=1,ncpu=15,error_verbose=error_verbose)\n",
    "position_daemon_path = os.path.join(daemon_path,'position')\n",
    "pos_daemon = Class_Daemon(position_daemon_path,verbose=verbose,interval=30,ncpu=10,error_verbose=error_verbose)\n",
    "dataset_daemon_path = os.path.join(daemon_path,'dataset')\n",
    "dataset_daemon = Class_Daemon(dataset_daemon_path,verbose=verbose,interval=60,error_verbose=error_verbose)"
   ]
  },
  {
   "cell_type": "code",
   "execution_count": null,
   "metadata": {},
   "outputs": [],
   "source": [
    "metadata_path = '/hybedata/Images/Zach/ZebraFinch/A4_2020Jun28/'\n",
    "dataset = 'A4_2020Jun28'\n",
    "posname = 'Pos1'\n",
    "hybe = 'hybe1'\n",
    "channel = 'FarRed'\n",
    "zindex = 19\n",
    "cword_config = 'seqfish_config_zebrafinch'\n",
    "fname = dataset+'_'+posname+'.pkl'\n",
    "fname_path = os.path.join(position_daemon_path,'input',fname)\n",
    "data = {'metadata_path':metadata_path,\n",
    "        'dataset':dataset,\n",
    "        'posname':posname,\n",
    "        'hybe':hybe,\n",
    "        'channel':channel,\n",
    "        'zindex':zindex,\n",
    "        'cword_config':cword_config,\n",
    "        'level':'position',\n",
    "        'verbose':False}\n",
    "pickle.dump(data,open(fname_path,'wb'))\n",
    "# object_class = generate_class(data)\n",
    "# object_class.run()"
   ]
  },
  {
   "cell_type": "code",
   "execution_count": null,
   "metadata": {},
   "outputs": [],
   "source": [
    "# Daemon Manager\n",
    "# Need something that checks if daemons are running and restarts them if they crash *****\n",
    "# Add Log to fishdata to figure out why things fail\n",
    "# Maybe add flag checking to fishdata\n"
   ]
  }
 ],
 "metadata": {
  "kernelspec": {
   "display_name": "Python [conda env:pyspots-gpu]",
   "language": "python",
   "name": "conda-env-pyspots-gpu-py"
  },
  "language_info": {
   "codemirror_mode": {
    "name": "ipython",
    "version": 3
   },
   "file_extension": ".py",
   "mimetype": "text/x-python",
   "name": "python",
   "nbconvert_exporter": "python",
   "pygments_lexer": "ipython3",
   "version": "3.6.8"
  }
 },
 "nbformat": 4,
 "nbformat_minor": 4
}
