{
 "cells": [
  {
   "cell_type": "code",
   "execution_count": 2,
   "metadata": {},
   "outputs": [],
   "source": [
    "import pickle\n",
    "df = pickle.load(open('/hybedata/Images/Zach/FISH_Troubleshooting/Predigest_WholeMount_First_2018Nov23-Corrected/codestacks2/spotcalls.pkl','rb'))\n"
   ]
  },
  {
   "cell_type": "code",
   "execution_count": 14,
   "metadata": {},
   "outputs": [],
   "source": [
    "from sklearn.cluster import DBSCAN\n",
    "from scipy.spatial import KDTree\n",
    "import numpy as np\n",
    "\n",
    "def purge_zoverlap(inputs,z_dist = 2):\n",
    "    pos = inputs['posname']\n",
    "    print('Starting ',pos)\n",
    "    posdf = inputs['posdf']\n",
    "    zidxes = posdf.z.unique()\n",
    "    posdic = {}\n",
    "    for z_i in range(len(zidxes)-1):\n",
    "        subdf = posdf[(posdf.z==zidxes[z_i]) | (posdf.z==zidxes[z_i+1])]\n",
    "        yx = subdf.centroid.values\n",
    "        yx = np.stack(yx, axis=0)\n",
    "        tree = KDTree(yx)\n",
    "        dclust = DBSCAN(eps=2, min_samples=2)\n",
    "        dclust.fit(yx)\n",
    "        skip_list = set(np.where(dclust.labels_==-1)[0])\n",
    "        nomatches = []\n",
    "        drop_list = []\n",
    "        for idx, i in enumerate(yx):\n",
    "#             if idx % 10000 == 0:\n",
    "#                 print(idx)\n",
    "            if idx in skip_list:\n",
    "                continue\n",
    "            m = tree.query_ball_point(i, 2)\n",
    "            m = [j for j in m if j!=idx]\n",
    "\n",
    "            row_query = subdf.iloc[idx]\n",
    "            for j in m:\n",
    "                row_match = subdf.iloc[j]\n",
    "                if row_match.cword_idx!=row_query.cword_idx:\n",
    "                    continue\n",
    "\n",
    "                if row_match.npixels>=row_query.npixels:\n",
    "                    drop_list.append((idx, j))\n",
    "                else:\n",
    "                    drop_list.append((j, idx))\n",
    "                    break\n",
    "        if len(drop_list)>0:\n",
    "            droppers, keepers = zip(*drop_list)\n",
    "            index=subdf.iloc[list(droppers).index\n",
    "        posdic[z_i] = index\n",
    "    return posdic,pos"
   ]
  },
  {
   "cell_type": "code",
   "execution_count": null,
   "metadata": {},
   "outputs": [
    {
     "name": "stdout",
     "output_type": "stream",
     "text": [
      "Starting  4-Pos_001_001\n",
      "Starting  3-Pos_005_004\n",
      "Starting  3-Pos_006_007\n",
      "Starting  6-Pos_006_001\n",
      "Starting  5-Pos_001_007\n",
      "Starting  4-Pos_003_006\n",
      "4-Pos_001_001  Finished\n",
      "Starting  6-Pos_004_009\n",
      "Starting  6-Pos_004_004\n",
      "Starting  3-Pos_003_006\n",
      "3-Pos_005_004  Finished\n",
      "3-Pos_006_007  Finished\n",
      "Starting  3-Pos_003_009\n"
     ]
    }
   ],
   "source": [
    "import multiprocessing\n",
    "ncpu = 5\n",
    "poses = df.posname.unique()\n",
    "dfdic = {}\n",
    "with multiprocessing.Pool(ncpu) as ppool:\n",
    "    for result,pos in ppool.imap(purge_zoverlap, [{'posname': pos, 'posdf': df[df.posname==pos]} for pos in poses]):\n",
    "        dfdic[pos] = result\n",
    "        print(pos,' Finished')\n",
    "#df.drop(index=subdf.iloc[list(droppers)].index,inplace=True)"
   ]
  },
  {
   "cell_type": "code",
   "execution_count": null,
   "metadata": {},
   "outputs": [],
   "source": [
    "for pos in df.posname.unique():\n",
    "    posdf = df[df.posname==pos]\n",
    "    for z in posdf.z.unique():\n",
    "        subdf = posdf[posdf.z==z]\n",
    "        droppers = dfdic[pos][z]\n",
    "        df.drop(index=subdf.iloc[list(droppers)].index,inplace=True)"
   ]
  },
  {
   "cell_type": "code",
   "execution_count": null,
   "metadata": {},
   "outputs": [],
   "source": [
    "for pos in dfdic.keys():\n",
    "    for z in dfdic[pos].keys():\n",
    "        droppers = dfdic[pos][z]\n",
    "        df.drop(index=droppers,inplace=True)"
   ]
  }
 ],
 "metadata": {
  "kernelspec": {
   "display_name": "pyspots",
   "language": "python",
   "name": "pyspots"
  },
  "language_info": {
   "codemirror_mode": {
    "name": "ipython",
    "version": 3
   },
   "file_extension": ".py",
   "mimetype": "text/x-python",
   "name": "python",
   "nbconvert_exporter": "python",
   "pygments_lexer": "ipython3",
   "version": "3.6.5"
  }
 },
 "nbformat": 4,
 "nbformat_minor": 2
}
