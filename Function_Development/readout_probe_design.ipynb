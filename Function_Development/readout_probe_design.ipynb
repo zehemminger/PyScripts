{
 "cells": [
  {
   "cell_type": "code",
   "execution_count": 5,
   "metadata": {},
   "outputs": [],
   "source": [
    "import numpy as np\n",
    "import pandas as pd\n",
    "from Blastn import *"
   ]
  },
  {
   "cell_type": "code",
   "execution_count": 6,
   "metadata": {
    "collapsed": true
   },
   "outputs": [],
   "source": [
    "def write_fasta(items, fname='/Users/rfor10/Downloads/temp.fa'):\n",
    "    if isinstance(items, list):\n",
    "        items = {idx: i for idx, i in enumerate(items)}\n",
    "    if not isinstance(items, dict):\n",
    "        return None\n",
    "    \n",
    "    with open(fname, 'w') as f:\n",
    "        for k, v in items.items():\n",
    "            f.write('>'+str(k)+'\\n'+v+'\\n')\n",
    "def check_homology_readouts(hit_list):\n",
    "    bad_ids = set()\n",
    "    min_length = 1000\n",
    "    for h in hit_list_readouts:\n",
    "        fields = str(h).split('\\t')\n",
    "        h_id = float(fields[2].split(':')[0])\n",
    "        subject = float(fields[4].split(':')[0])\n",
    "        length = int(fields[5].split(':')[1].strip(' '))\n",
    "        identity = float(fields[6].split(':')[1].strip(' ').strip('%'))\n",
    "        if (length < min_length) and h_id != subject:\n",
    "            min_length = length\n",
    "        if length>11 and (identity==100) and (h_id != subject):\n",
    "            bad_ids.add(h_id)\n",
    "#         if length <=11:\n",
    "#             print('hi')\n",
    "#             break\n",
    "    return list(bad_ids), min_length"
   ]
  },
  {
   "cell_type": "code",
   "execution_count": 9,
   "metadata": {
    "collapsed": true
   },
   "outputs": [],
   "source": [
    "blastpth = '/Users/robertf/Downloads/ncbi-blast-2.6.0+/bin/makeblastdb'\n",
    "\n",
    "nseqs = 100000"
   ]
  },
  {
   "cell_type": "code",
   "execution_count": 229,
   "metadata": {},
   "outputs": [],
   "source": [
    "pos_readouts = [''.join(np.random.choice(['A', 'T', 'G'], size=20, p=[.25, .25, .5])) for i in range(nseqs)]\n",
    "pos_readouts = [i for i in pos_readouts if (i.count('G')>0.4*20 and i.count('G')<0.5*20)]\n",
    "pos_readouts = [i for i in pos_readouts if 'GGGG' not in i]"
   ]
  },
  {
   "cell_type": "code",
   "execution_count": 230,
   "metadata": {},
   "outputs": [
    {
     "name": "stdout",
     "output_type": "stream",
     "text": [
      "Number initial readouts: 11019\n"
     ]
    }
   ],
   "source": [
    "print('Number initial readouts:', len(pos_readouts))\n",
    "pos_readouts = {float(idx):v for idx, v in enumerate(pos_readouts)}\n",
    "write_fasta(pos_readouts)"
   ]
  },
  {
   "cell_type": "code",
   "execution_count": 4,
   "metadata": {},
   "outputs": [
    {
     "name": "stdout",
     "output_type": "stream",
     "text": [
      "Error, no data received from standard output\n",
      "/bin/sh: /Users/rfor10/Google Drive/wollman/tools/ncbi-blast-2.6.0+/bin/makeblastdb: No such file or directory\n",
      "\n"
     ]
    }
   ],
   "source": [
    "blast = Blastn('/Users/rfor10/Downloads/gencode.v26_and_mouse.vM13.transcripts.fa', makeblastdb_exec=blastpth)"
   ]
  },
  {
   "cell_type": "code",
   "execution_count": 10,
   "metadata": {},
   "outputs": [],
   "source": [
    "high_expressed = Blastn('/Users/robertf/Downloads/MERFISH_Examples2/Homo_sapiens.GRCh38.ncrna.fa', makeblastdb_exec=blastpth)"
   ]
  },
  {
   "cell_type": "code",
   "execution_count": 29,
   "metadata": {
    "collapsed": true
   },
   "outputs": [],
   "source": [
    "high_list = high_expressed(query_path='/Users/robertf/Google\\ Drive/hypefish/ipython/ca_gene_targets/disulfide_readouts.fasta', task='blastn', evalue=.001000000000000000)\n",
    "bad_ids = set()\n",
    "for h in high_list:\n",
    "    fields = str(h).split('\\t')\n",
    "    h_id = float(fields[2].split(':')[0])\n",
    "    length = int(fields[5].split(':')[1].strip(' '))\n",
    "    identity = float(fields[6].split(':')[1].strip(' ').strip('%'))\n",
    "    if length>11 and (identity==100):\n",
    "        bad_ids.add(h_id)\n",
    "bad_ids = list(bad_ids)"
   ]
  },
  {
   "cell_type": "code",
   "execution_count": 231,
   "metadata": {},
   "outputs": [],
   "source": [
    "hit_list = blast(query_path='/Users/rfor10/Downloads/temp.fa', task='blastn-short', evalue=500, best_query_hit=True)\n",
    "bad_ids = set()\n",
    "for h in hit_list:\n",
    "    fields = str(h).split('\\t')\n",
    "    h_id = float(fields[2].split(':')[0])\n",
    "    length = int(fields[5].split(':')[1].strip(' '))\n",
    "    identity = float(fields[6].split(':')[1].strip(' ').strip('%'))\n",
    "    if length>11 and (identity==100):\n",
    "        bad_ids.add(h_id)\n",
    "bad_ids = list(bad_ids)\n",
    "[pos_readouts.pop(i) for i in bad_ids]\n",
    "write_fasta(pos_readouts)"
   ]
  },
  {
   "cell_type": "code",
   "execution_count": 237,
   "metadata": {},
   "outputs": [],
   "source": [
    "readout_blast = Blastn('/Users/rfor10/Downloads/temp.fa', makeblastdb_exec = blastpth)"
   ]
  },
  {
   "cell_type": "code",
   "execution_count": 238,
   "metadata": {},
   "outputs": [
    {
     "name": "stdout",
     "output_type": "stream",
     "text": [
      "Minimum length at this evalue: 10\n"
     ]
    },
    {
     "data": {
      "text/plain": [
       "['TGGTGAGAGTTAGGGTTAGA',\n",
       " 'AGGGATTGAGTGTGATATGG',\n",
       " 'AGTGTTGAAGTGGATGGAAG',\n",
       " 'GTGGTAATTTTAGGTGGTGG',\n",
       " 'TTGGATTGAATGGGAGGAAG',\n",
       " 'GTATGATGGTAGGTTGGGTA',\n",
       " 'TAGTGAAAGAGTGGAAGGTG',\n",
       " 'AATGGGTTAGTGGGTTGATG',\n",
       " 'TGGGATATTGAAGGTGAGAG',\n",
       " 'TTTGGTGGGTATAAGGGAGA',\n",
       " 'TAGTAGGAGATGTAAGTGGG',\n",
       " 'GGGTATGGTATAAGAGGTAG',\n",
       " 'GTGTAAGGGATGTATAGGAG',\n",
       " 'GATGAGTATGTGAGGTAGTG',\n",
       " 'TGTTTAGTATGGTGAGGTGG',\n",
       " 'TGGGAATGATGGTAGTGTGT',\n",
       " 'ATGGTGATAGGAGGAGAATG',\n",
       " 'GGAATAGAGGAGTAAGAGGT',\n",
       " 'TGATGTGGTGTGGTAATGAG',\n",
       " 'TGAGGATAGAGGAGTAAAGG',\n",
       " 'AGGAAAGTGAGAGGTTGGAA',\n",
       " 'GGATGTATAGGAGGGTGATT',\n",
       " 'GGTGGGTATAAGTTGTAGAG',\n",
       " 'TAAGTGGATGGTGTGTGTGT',\n",
       " 'GTGAGAGTTAGGTTGAGAAG',\n",
       " 'AGATGTGGTGTGGATGTGAT',\n",
       " 'AAGGGTGATAGGAGGAAGAA',\n",
       " 'GGAGGGTTTATAAGAGGTAG',\n",
       " 'TAGGGTGGAAGTTAAGGAGA',\n",
       " 'GATGAGAGGTTGGAGATGTA',\n",
       " 'GGGTGATGTTGAAGTGGAAT',\n",
       " 'GGTGATAGGATTGGTAGTAG',\n",
       " 'GGTGGTAAGATTGAGTGTGA',\n",
       " 'TGTTGTGTGAGGTAGTGAGT',\n",
       " 'GTATGGTGGTAGTTGGTATG',\n",
       " 'AGGTGGGAGTTAAAGAGAAG',\n",
       " 'GAAATAGAGGTGGGTTGGTA',\n",
       " 'GGAGAGATGGTGTGTGTTTA',\n",
       " 'GTGGGAATGATGGTGAATAG',\n",
       " 'AAGAGTGAAAGAGTGAGGAG',\n",
       " 'TTGGTTATGTTGAGTGGGTG',\n",
       " 'TGGTTTGAATGGGAGGTTTG',\n",
       " 'TGGGAATGGTTGGTAGGATT',\n",
       " 'AGTGGGAGTTAAATGTGGGA',\n",
       " 'TGGGTGGGATAAGATAGTGT',\n",
       " 'TTGTTGGGAATGGTTGTGAG',\n",
       " 'GTTGTTGAGTGGGTTAAGGT',\n",
       " 'AGGTGGTAGTTGGTGTTTAG',\n",
       " 'TGGATGGATGTTGTATGGTG',\n",
       " 'AGAAGGTGGTTAGTGGGTTA',\n",
       " 'AGGTGAGGGTTAAGAGTATG',\n",
       " 'GATGTAAGTGGGTTTTGAGG',\n",
       " 'GGGATGGATGTTGGAATTTG',\n",
       " 'AAGGAATTAGGTGGGTTGTG',\n",
       " 'AGTGAGATAGGATTGGTGGA',\n",
       " 'ATGGGTGGGTTGAGTAATGT',\n",
       " 'GGATATAGGGTGGGATAAGT',\n",
       " 'TATGGGTATGGTGGTAGGTT',\n",
       " 'AGGGTGGAAGTTGTGAATAG',\n",
       " 'ATGAGGGTAGGTTGGGAAAA',\n",
       " 'GGTTAAGTTGAGTGGGTTGA',\n",
       " 'AGTAGGATAGAGGAGTTGGA',\n",
       " 'AAAGAGGTGGGTTGAGTTTG',\n",
       " 'AGTAGAATTTAGGTGGTGGG',\n",
       " 'TGAAGGTGAGAGATAGAGGA',\n",
       " 'TGGAGTGGAATTAGGTGGAA',\n",
       " 'GTAAGAAGAGGGTTAAGAGG',\n",
       " 'TGAGTTGGTAGGTTGGGAAA',\n",
       " 'GAGGGTTGTTTAGTATGGGA']"
      ]
     },
     "execution_count": 238,
     "metadata": {},
     "output_type": "execute_result"
    }
   ],
   "source": [
    "hit_list_readouts = readout_blast(query_path='/Users/rfor10/Downloads/temp.fa', task='blastn-short', evalue=.1, best_query_hit=False)\n",
    "bad_ids, minl = check_homology_readouts(hit_list_readouts)\n",
    "print('Minimum length at this evalue:', minl)\n",
    "pos_readouts2 = pos_readouts\n",
    "[pos_readouts2.pop(i) for i in bad_ids]"
   ]
  },
  {
   "cell_type": "code",
   "execution_count": 246,
   "metadata": {},
   "outputs": [
    {
     "data": {
      "text/plain": [
       "171"
      ]
     },
     "execution_count": 246,
     "metadata": {},
     "output_type": "execute_result"
    }
   ],
   "source": [
    "pop_list = []\n",
    "for k, v in pos_readouts2.items():\n",
    "    if 'GGG' in v:\n",
    "        pop_list.append(k)\n",
    "for k in pop_list:\n",
    "    pos_readouts2.pop(k)\n",
    "len(pos_readouts2)"
   ]
  },
  {
   "cell_type": "code",
   "execution_count": 247,
   "metadata": {},
   "outputs": [],
   "source": [
    "write_fasta(pos_readouts2, fname='/Users/rfor10/Google Drive/hypefish/ipython/ca_gene_targets/new_readouts.fa')"
   ]
  },
  {
   "cell_type": "code",
   "execution_count": 99,
   "metadata": {},
   "outputs": [],
   "source": [
    "good_ids = list(set(range(len(pos_readouts)))-bad_ids)"
   ]
  },
  {
   "cell_type": "code",
   "execution_count": 86,
   "metadata": {},
   "outputs": [],
   "source": [
    "hit_hist_merprobes = blast(query_path='/Users/rfor10/Downloads/MERFISH_Examples2/readouts.fasta', task='blastn-short', best_query_hit=True)"
   ]
  },
  {
   "cell_type": "code",
   "execution_count": 92,
   "metadata": {},
   "outputs": [
    {
     "name": "stdout",
     "output_type": "stream",
     "text": [
      "RS0015\n",
      "ENSMUST00000171423.7|ENSMUSG00000024659.14|OTTMUSG00000035986.2|OTTMUST00000092344.2|Anxa1-002|Anxa1|362|processed_transcript|\n",
      "16\n",
      "RS0015\n",
      "ENST00000608623.1|ENSG00000235437.7|OTTHUMG00000021699.2|OTTHUMT00000471676.1|LINC01278-004|LINC01278|5053|retained_intron|\n",
      "16\n",
      "RS0083\n",
      "ENST00000541363.5|ENSG00000149948.13|OTTHUMG00000168936.2|OTTHUMT00000401662.1|HMGA2-011|HMGA2|8094|protein_coding|\n",
      "16\n",
      "RS0247\n",
      "ENSMUST00000149514.7|ENSMUSG00000086316.8|OTTMUSG00000019378.4|OTTMUST00000046249.2|2210013O21Rik-003|2210013O21Rik|775|protein_coding|\n",
      "17\n",
      "RS0247\n",
      "ENST00000576359.1|ENSG00000141542.10|OTTHUMG00000177806.1|OTTHUMT00000439010.1|RAB40B-003|RAB40B|2522|retained_intron|\n",
      "16\n",
      "RS0247\n",
      "ENST00000269347.10|ENSG00000141542.10|OTTHUMG00000177806.1|OTTHUMT00000439009.1|RAB40B-002|RAB40B|2189|protein_coding|\n",
      "16\n",
      "RS0247\n",
      "ENST00000571995.5|ENSG00000141542.10|OTTHUMG00000177806.1|OTTHUMT00000439007.1|RAB40B-001|RAB40B|3859|protein_coding|\n",
      "16\n",
      "RS0255\n",
      "ENST00000533797.1|ENSG00000165323.15|OTTHUMG00000154468.4|OTTHUMT00000394317.1|FAT3-005|FAT3|7894|protein_coding|\n",
      "17\n",
      "RS0255\n",
      "ENST00000525166.5|ENSG00000165323.15|OTTHUMG00000154468.4|OTTHUMT00000335363.4|FAT3-001|FAT3|18699|protein_coding|\n",
      "17\n",
      "RS0255\n",
      "ENST00000409404.6|ENSG00000165323.15|OTTHUMG00000154468.4|-|FAT3-201|FAT3|19030|protein_coding|\n",
      "17\n",
      "RS0343\n",
      "ENST00000558190.5|ENSG00000066427.21|OTTHUMG00000162212.10|OTTHUMT00000367922.4|ATXN3-001|ATXN3|26812|protein_coding|\n",
      "16\n"
     ]
    }
   ],
   "source": [
    "for h in hit_hist_merprobes:\n",
    "    fields = str(h).split('\\t')\n",
    "    h_id = int(fields[0].split(' ')[1])\n",
    "    length = int(fields[5].split(':')[1].strip(' '))\n",
    "    identity = float(fields[6].split(':')[1].strip(' ').strip('%'))\n",
    "    if length>11 and (identity==100):\n",
    "        print(h.q_id)\n",
    "        print(h.s_id)\n",
    "        print(h.length)"
   ]
  }
 ],
 "metadata": {
  "kernelspec": {
   "display_name": "pyspots",
   "language": "python",
   "name": "pyspots"
  },
  "language_info": {
   "codemirror_mode": {
    "name": "ipython",
    "version": 3
   },
   "file_extension": ".py",
   "mimetype": "text/x-python",
   "name": "python",
   "nbconvert_exporter": "python",
   "pygments_lexer": "ipython3",
   "version": "3.6.5"
  }
 },
 "nbformat": 4,
 "nbformat_minor": 1
}
