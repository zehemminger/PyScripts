{
 "cells": [
  {
   "cell_type": "code",
   "execution_count": 1,
   "metadata": {
    "collapsed": true,
    "jupyter": {
     "outputs_hidden": true
    }
   },
   "outputs": [
    {
     "name": "stderr",
     "output_type": "stream",
     "text": [
      "/home/zach/miniconda3/envs/pyspots-gpu/lib/python3.6/site-packages/tensorflow/python/framework/dtypes.py:516: FutureWarning: Passing (type, 1) or '1type' as a synonym of type is deprecated; in a future version of numpy, it will be understood as (type, (1,)) / '(1,)type'.\n",
      "  _np_qint8 = np.dtype([(\"qint8\", np.int8, 1)])\n",
      "/home/zach/miniconda3/envs/pyspots-gpu/lib/python3.6/site-packages/tensorflow/python/framework/dtypes.py:517: FutureWarning: Passing (type, 1) or '1type' as a synonym of type is deprecated; in a future version of numpy, it will be understood as (type, (1,)) / '(1,)type'.\n",
      "  _np_quint8 = np.dtype([(\"quint8\", np.uint8, 1)])\n",
      "/home/zach/miniconda3/envs/pyspots-gpu/lib/python3.6/site-packages/tensorflow/python/framework/dtypes.py:518: FutureWarning: Passing (type, 1) or '1type' as a synonym of type is deprecated; in a future version of numpy, it will be understood as (type, (1,)) / '(1,)type'.\n",
      "  _np_qint16 = np.dtype([(\"qint16\", np.int16, 1)])\n",
      "/home/zach/miniconda3/envs/pyspots-gpu/lib/python3.6/site-packages/tensorflow/python/framework/dtypes.py:519: FutureWarning: Passing (type, 1) or '1type' as a synonym of type is deprecated; in a future version of numpy, it will be understood as (type, (1,)) / '(1,)type'.\n",
      "  _np_quint16 = np.dtype([(\"quint16\", np.uint16, 1)])\n",
      "/home/zach/miniconda3/envs/pyspots-gpu/lib/python3.6/site-packages/tensorflow/python/framework/dtypes.py:520: FutureWarning: Passing (type, 1) or '1type' as a synonym of type is deprecated; in a future version of numpy, it will be understood as (type, (1,)) / '(1,)type'.\n",
      "  _np_qint32 = np.dtype([(\"qint32\", np.int32, 1)])\n",
      "/home/zach/miniconda3/envs/pyspots-gpu/lib/python3.6/site-packages/tensorflow/python/framework/dtypes.py:525: FutureWarning: Passing (type, 1) or '1type' as a synonym of type is deprecated; in a future version of numpy, it will be understood as (type, (1,)) / '(1,)type'.\n",
      "  np_resource = np.dtype([(\"resource\", np.ubyte, 1)])\n",
      "/home/zach/miniconda3/envs/pyspots-gpu/lib/python3.6/site-packages/tensorboard/compat/tensorflow_stub/dtypes.py:541: FutureWarning: Passing (type, 1) or '1type' as a synonym of type is deprecated; in a future version of numpy, it will be understood as (type, (1,)) / '(1,)type'.\n",
      "  _np_qint8 = np.dtype([(\"qint8\", np.int8, 1)])\n",
      "/home/zach/miniconda3/envs/pyspots-gpu/lib/python3.6/site-packages/tensorboard/compat/tensorflow_stub/dtypes.py:542: FutureWarning: Passing (type, 1) or '1type' as a synonym of type is deprecated; in a future version of numpy, it will be understood as (type, (1,)) / '(1,)type'.\n",
      "  _np_quint8 = np.dtype([(\"quint8\", np.uint8, 1)])\n",
      "/home/zach/miniconda3/envs/pyspots-gpu/lib/python3.6/site-packages/tensorboard/compat/tensorflow_stub/dtypes.py:543: FutureWarning: Passing (type, 1) or '1type' as a synonym of type is deprecated; in a future version of numpy, it will be understood as (type, (1,)) / '(1,)type'.\n",
      "  _np_qint16 = np.dtype([(\"qint16\", np.int16, 1)])\n",
      "/home/zach/miniconda3/envs/pyspots-gpu/lib/python3.6/site-packages/tensorboard/compat/tensorflow_stub/dtypes.py:544: FutureWarning: Passing (type, 1) or '1type' as a synonym of type is deprecated; in a future version of numpy, it will be understood as (type, (1,)) / '(1,)type'.\n",
      "  _np_quint16 = np.dtype([(\"quint16\", np.uint16, 1)])\n",
      "/home/zach/miniconda3/envs/pyspots-gpu/lib/python3.6/site-packages/tensorboard/compat/tensorflow_stub/dtypes.py:545: FutureWarning: Passing (type, 1) or '1type' as a synonym of type is deprecated; in a future version of numpy, it will be understood as (type, (1,)) / '(1,)type'.\n",
      "  _np_qint32 = np.dtype([(\"qint32\", np.int32, 1)])\n",
      "/home/zach/miniconda3/envs/pyspots-gpu/lib/python3.6/site-packages/tensorboard/compat/tensorflow_stub/dtypes.py:550: FutureWarning: Passing (type, 1) or '1type' as a synonym of type is deprecated; in a future version of numpy, it will be understood as (type, (1,)) / '(1,)type'.\n",
      "  np_resource = np.dtype([(\"resource\", np.ubyte, 1)])\n"
     ]
    }
   ],
   "source": [
    "from MERFISH_Objects.Image import *\n",
    "from MERFISH_Objects.Daemons import *\n",
    "from MERFISH_Objects.Stack import *\n",
    "from MERFISH_Objects.Hybe import *\n",
    "from MERFISH_Objects.Deconvolution import *\n",
    "from MERFISH_Objects.Registration import *\n",
    "from MERFISH_Objects.Position import *\n",
    "from MERFISH_Objects.Dataset import *\n",
    "import dill as pickle\n",
    "import shutil\n",
    "daemon_path = '/scratch/daemon/' \n",
    "utilities_path = '/scratch/utilities/'\n",
    "hybedata_path = '/hybedata/Images/Zach/ZebraFinch/A4_2020Jun28/hybedata/'"
   ]
  },
  {
   "cell_type": "code",
   "execution_count": 2,
   "metadata": {},
   "outputs": [],
   "source": [
    "metadata_path = '/hybedata/Images/Zach/ZebraFinch/A4_2020Jun28/'\n",
    "dataset = 'A4_2020Jun28'\n",
    "position = 'Pos1'\n",
    "hybe = 'hybe1'\n",
    "channel = 'FarRed'\n",
    "zindex = 19\n",
    "cword_config = 'seqfish_config_zebrafinch'\n",
    "object_type = 'image'\n",
    "daemon_path = '/scratch/daemon/' "
   ]
  },
  {
   "cell_type": "code",
   "execution_count": null,
   "metadata": {},
   "outputs": [],
   "source": [
    "# Create script and save\n",
    "import os\n",
    "def generate_executable(metadata_path='metadata_path',\n",
    "                        dataset='dataset',\n",
    "                        position='position',\n",
    "                        hybe='hybe',\n",
    "                        channel='channel',\n",
    "                        zindex='zindex',\n",
    "                        cword_config='cword_config',\n",
    "                        level='level',\n",
    "                        daemon_path='/scratch/daemon/',\n",
    "                        wrapper_path='/path/to/wrapper'):\n",
    "    fname = \"{0}_{1}_{2}_{3}_{4}_{5}.sh\".format(dataset,position,hybe,channel,zindex,level)\n",
    "    out = \"python {0} {1} {2} {3} {4} {5} {6} {7}\".format(wrapper_path,metadata_path,dataset,position,hybe,channel,zindex,level)\n",
    "    print(out)\n",
    "    fname_path = os.path.join(daemon_path,level,'input',fname)\n",
    "    with open(fname_path,\"w+\") as f:\n",
    "        f.write(\"#/bin/bash \\nconda activate pyspots-gpu \\n\"+out)\n",
    "        f.close()\n",
    "generate_executable(level='dataset')"
   ]
  },
  {
   "cell_type": "code",
   "execution_count": null,
   "metadata": {},
   "outputs": [],
   "source": []
  },
  {
   "cell_type": "code",
   "execution_count": 13,
   "metadata": {},
   "outputs": [
    {
     "name": "stdout",
     "output_type": "stream",
     "text": [
      "python /path/to/wrapper metadata_path dataset position hybe channel zindex dataset\n"
     ]
    }
   ],
   "source": [
    "# Create script and save\n",
    "import os\n",
    "def generate_executable(metadata_path='metadata_path',\n",
    "                        dataset='dataset',\n",
    "                        position='position',\n",
    "                        hybe='hybe',\n",
    "                        channel='channel',\n",
    "                        zindex='zindex',\n",
    "                        cword_config='cword_config',\n",
    "                        level='level',\n",
    "                        daemon_path='/scratch/daemon/',\n",
    "                        wrapper_path='/path/to/wrapper'):\n",
    "    fname = \"{0}_{1}_{2}_{3}_{4}_{5}.sh\".format(dataset,position,hybe,channel,zindex,level)\n",
    "    out = \"python {0} {1} {2} {3} {4} {5} {6} {7}\".format(wrapper_path,metadata_path,dataset,position,hybe,channel,zindex,level)\n",
    "    print(out)\n",
    "    fname_path = os.path.join(daemon_path,level,'input',fname)\n",
    "    with open(fname_path,\"w+\") as f:\n",
    "        f.write(\"#/bin/bash \\nconda activate pyspots-gpu \\n\"+out)\n",
    "        f.close()\n",
    "generate_executable(level='dataset')"
   ]
  },
  {
   "cell_type": "code",
   "execution_count": 15,
   "metadata": {},
   "outputs": [
    {
     "name": "stdout",
     "output_type": "stream",
     "text": [
      "Completed\n"
     ]
    }
   ],
   "source": [
    "fname_path = '/home/zach/Desktop/temp.txt'\n",
    "with open(fname_path,\"w+\") as f:\n",
    "    f.write(\"Completed\")\n",
    "    f.close()\n",
    "with open(fname_path,\"r\") as f:\n",
    "    print(f.read())"
   ]
  },
  {
   "cell_type": "code",
   "execution_count": 22,
   "metadata": {},
   "outputs": [],
   "source": [
    "import dill as pickle\n",
    "fname_path = '/home/zach/Desktop/temp.pkl'\n",
    "data = {'metadata_path':'/hybedata/Images/Zach/ZebraFinch/A4_2020Jun28/','dataset':'A4_2020Jun28','posname':'Pos1','level':'position','cword_config':'seqfish_config_zebrafinch'}\n",
    "pickle.dump(data,open(fname_path,'wb'))\n"
   ]
  },
  {
   "cell_type": "code",
   "execution_count": 23,
   "metadata": {},
   "outputs": [],
   "source": [
    "def generate_class(fname_path):\n",
    "    data = pickle.load(open(fname_path,'rb'))\n",
    "    level = data['level']\n",
    "    if level == 'dataset':\n",
    "        data_object = Dataset_Class(data['metadata_path'],data['dataset'],data['cword_config'])\n",
    "    elif level == 'position':\n",
    "        data_object = Position_Class(data['metadata_path'],data['dataset'],data['posname'],data['cword_config'])\n",
    "    elif level == 'hybe':\n",
    "        data_object = Hybe_Class(data['metadata_path'],data['dataset'],data['posname'],data['hybe'],data['cword_config'])\n",
    "    elif level == 'registration':\n",
    "        data_object = Registration_Class(data['metadata_path'],data['dataset'],data['posname'],data['hybe'],data['cword_config'])\n",
    "    elif level == 'stack':\n",
    "        data_object = Stack_Class(data['metadata_path'],data['dataset'],data['posname'],data['hybe'],data['channel'],data['cword_config'])\n",
    "    elif level == 'deconvolution':\n",
    "        data_object = Deconvolution_Class(data['metadata_path'],data['dataset'],data['posname'],data['hybe'],data['channel'],data['cword_config'])\n",
    "    elif level == 'image':\n",
    "        data_object = Image_Class(data['metadata_path'],data['dataset'],data['posname'],data['hybe'],data['channel'],data['zindex'],data['cword_config'])\n",
    "    else:\n",
    "        raise ValueError(level,'Is not implemented')\n",
    "    return data_object\n",
    "data_object = generate_class(data)"
   ]
  },
  {
   "cell_type": "code",
   "execution_count": 18,
   "metadata": {},
   "outputs": [
    {
     "data": {
      "text/plain": [
       "{'metadata_path': 'metadata_path',\n",
       " 'dataset': 'dataset',\n",
       " 'posname': 'posname',\n",
       " 'level': 'position'}"
      ]
     },
     "execution_count": 18,
     "metadata": {},
     "output_type": "execute_result"
    }
   ],
   "source": [
    "\n",
    "data = pickle.load(open(fname_path,'rb'))\n",
    "\n",
    "if level == 'dataset':\n",
    "    data_object = Dataset_Class(metadata_path,dataset,cword_config)\n",
    "elif level == 'position':\n",
    "    data_object = Position_Class(metadata_path,dataset,position,cword_config)\n",
    "elif level == 'hybe':\n",
    "    data_object = Hybe_Class(metadata_path,dataset,position,hybe,cword_config)\n",
    "elif level == 'registration':\n",
    "    data_object = Registration_Class(metadata_path,dataset,position,hybe,cword_config)\n",
    "elif level == 'stack':\n",
    "    data_object = Stack_Class(metadata_path,dataset,position,hybe,channel,cword_config)\n",
    "elif level == 'deconvolution':\n",
    "    data_object = Deconvolution_Class(metadata_path,dataset,position,hybe,channel,cword_config)\n",
    "elif level == 'image':\n",
    "    data_object = Image_Class(metadata_path,dataset,position,hybe,channel,zindex,cword_config)\n",
    "else:\n",
    "    raise ValueError(level,'Is not implemented')\n",
    "data_object.run()"
   ]
  },
  {
   "cell_type": "code",
   "execution_count": null,
   "metadata": {},
   "outputs": [],
   "source": [
    "# Wrapper is an executable\n",
    "# Generate Class\n",
    "# Execute Class\n",
    "\n",
    "# metadata_path = args.metadata_path\n",
    "# cword_config = args.cword_config\n",
    "# dataset = args.dataset \n",
    "# position = args.position \n",
    "# hybe = args.hybe \n",
    "# channel = args.channel \n",
    "# zindex = args.zindex \n",
    "# level = args.level \n",
    "\n",
    "if level == 'dataset':\n",
    "    data_object = Dataset_Class(metadata_path,dataset,cword_config)\n",
    "elif level == 'position':\n",
    "    data_object = Position_Class(metadata_path,dataset,position,cword_config)\n",
    "elif level == 'hybe':\n",
    "    data_object = Hybe_Class(metadata_path,dataset,position,hybe,cword_config)\n",
    "elif level == 'registration':\n",
    "    data_object = Registration_Class(metadata_path,dataset,position,hybe,cword_config)\n",
    "elif level == 'stack':\n",
    "    data_object = Stack_Class(metadata_path,dataset,position,hybe,channel,cword_config)\n",
    "elif level == 'deconvolution':\n",
    "    data_object = Deconvolution_Class(metadata_path,dataset,position,hybe,channel,cword_config)\n",
    "elif level == 'image':\n",
    "    data_object = Image_Class(metadata_path,dataset,position,hybe,channel,zindex,cword_config)\n",
    "else:\n",
    "    raise ValueError(level,'Is not implemented')\n",
    "data_object.run()\n",
    "if self.passed\n"
   ]
  },
  {
   "cell_type": "code",
   "execution_count": null,
   "metadata": {},
   "outputs": [],
   "source": [
    "# Load script and run"
   ]
  },
  {
   "cell_type": "code",
   "execution_count": null,
   "metadata": {},
   "outputs": [],
   "source": []
  }
 ],
 "metadata": {
  "kernelspec": {
   "display_name": "Python [conda env:pyspots-gpu]",
   "language": "python",
   "name": "conda-env-pyspots-gpu-py"
  },
  "language_info": {
   "codemirror_mode": {
    "name": "ipython",
    "version": 3
   },
   "file_extension": ".py",
   "mimetype": "text/x-python",
   "name": "python",
   "nbconvert_exporter": "python",
   "pygments_lexer": "ipython3",
   "version": "3.6.8"
  }
 },
 "nbformat": 4,
 "nbformat_minor": 4
}
