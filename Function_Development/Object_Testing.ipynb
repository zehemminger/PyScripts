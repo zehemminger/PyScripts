{
 "cells": [
  {
   "cell_type": "code",
   "execution_count": null,
   "metadata": {},
   "outputs": [],
   "source": [
    "from MERFISH_Objects.Image import *\n",
    "from MERFISH_Objects.Daemons import *\n",
    "from MERFISH_Objects.Stack import *\n",
    "from MERFISH_Objects.Hybe import *\n",
    "from MERFISH_Objects.Deconvolution import *\n",
    "from MERFISH_Objects.Registration import *\n",
    "from MERFISH_Objects.Position import *\n",
    "from MERFISH_Objects.Dataset import *\n",
    "import dill as pickle"
   ]
  },
  {
   "cell_type": "code",
   "execution_count": null,
   "metadata": {},
   "outputs": [],
   "source": [
    "import shutil\n",
    "daemon_path = '/scratch/daemon/' \n",
    "utilities_path = '/scratch/utilities/'\n",
    "hybedata_path = '/hybedata/Images/Zach/ZebraFinch/A4_2020Jun28/hybedata/'\n",
    "# try:\n",
    "#     shutil.rmtree(daemon_path)\n",
    "#     shutil.rmtree(utilities_path)\n",
    "#     shutil.rmtree(hybedata_path)\n",
    "# except:\n",
    "#     pass\n",
    "# try:\n",
    "#     os.mkdir(daemon_path)\n",
    "#     os.mkdir(utilities_path)\n",
    "#     os.mkdir(hybedata_path)\n",
    "# except:\n",
    "#     pass\n",
    "# import time\n",
    "# time.sleep(2)\n",
    "\n",
    "# deconvolution_daemon_path = os.path.join(daemon_path,'deconvolution')\n",
    "# decon_daemon = Decovolution_Daemon(deconvolution_daemon_path,verbose=True,interval=1)\n",
    "image_daemon_path = os.path.join(daemon_path,'image')\n",
    "img_daemon = Class_Daemon(image_daemon_path,verbose=True,interval=1,ncpu=20)\n",
    "# stack_daemon_path = os.path.join(daemon_path,'stack')\n",
    "# stk_daemon = Class_Daemon(stack_daemon_path,verbose=True,interval=1,ncpu=10)\n",
    "# hybe_daemon_path = os.path.join(daemon_path,'hybe')\n",
    "# hyb_daemon = Class_Daemon(hybe_daemon_path,verbose=True,interval=1,ncpu=10)\n",
    "# registration_daemon_path = os.path.join(daemon_path,'registration')\n",
    "# reg_daemon = Class_Daemon(registration_daemon_path,verbose=True,interval=1,ncpu=15)\n",
    "# position_daemon_path = os.path.join(daemon_path,'position')\n",
    "# pos_daemon = Class_Daemon(position_daemon_path,verbose=True,interval=1,ncpu=10)\n",
    "# dataset_daemon_path = os.path.join(daemon_path,'dataset')\n",
    "# dataset_daemon = Class_Daemon(dataset_daemon_path,verbose=True,interval=60)"
   ]
  },
  {
   "cell_type": "code",
   "execution_count": null,
   "metadata": {},
   "outputs": [],
   "source": [
    "dataset = 'A4_2020Jun28'\n",
    "posname = 'Pos1'\n",
    "hybe = 'hybe1'\n",
    "metadata_path = '/hybedata/Images/Zach/ZebraFinch/A4_2020Jun28/'\n",
    "cword_config = 'seqfish_config_zebrafinch'"
   ]
  },
  {
   "cell_type": "code",
   "execution_count": null,
   "metadata": {
    "scrolled": true
   },
   "outputs": [],
   "source": [
    "\n",
    "File_Name = str(dataset+'_'+posname+'_'+hybe+'.pkl')\n",
    "data_class = Dataset_Class(metadata_path,dataset,cword_config,verbose=True)\n",
    "pickle.dump(data_class,open(os.path.join(dataset_daemon_path,'input',File_Name),'wb'))"
   ]
  },
  {
   "cell_type": "code",
   "execution_count": null,
   "metadata": {},
   "outputs": [],
   "source": [
    "# speed up metadata initialization\n",
    "# speed up finding beads\n",
    "# Add File lock to daemon\n",
    "# update psf kernel with projection\n",
    "# executable"
   ]
  }
 ],
 "metadata": {
  "kernelspec": {
   "display_name": "Python [conda env:pyspots-gpu]",
   "language": "python",
   "name": "conda-env-pyspots-gpu-py"
  },
  "language_info": {
   "codemirror_mode": {
    "name": "ipython",
    "version": 3
   },
   "file_extension": ".py",
   "mimetype": "text/x-python",
   "name": "python",
   "nbconvert_exporter": "python",
   "pygments_lexer": "ipython3",
   "version": "3.6.8"
  }
 },
 "nbformat": 4,
 "nbformat_minor": 4
}
