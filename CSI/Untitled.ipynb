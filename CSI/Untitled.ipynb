{
 "cells": [
  {
   "cell_type": "code",
   "execution_count": 1,
   "metadata": {},
   "outputs": [
    {
     "ename": "ERROR",
     "evalue": "Error in library(scrattch.io): there is no package called ‘scrattch.io’\n",
     "output_type": "error",
     "traceback": [
      "Error in library(scrattch.io): there is no package called ‘scrattch.io’\nTraceback:\n",
      "1. library(scrattch.io)"
     ]
    }
   ],
   "source": [
    "library(scrattch.io)"
   ]
  },
  {
   "cell_type": "code",
   "execution_count": null,
   "metadata": {},
   "outputs": [],
   "source": [
    "devtools::install_github(\"AllenInstitute/scrattch.io\")"
   ]
  },
  {
   "cell_type": "code",
   "execution_count": 2,
   "metadata": {},
   "outputs": [
    {
     "data": {
      "text/plain": [
       "               _                           \n",
       "platform       x86_64-pc-linux-gnu         \n",
       "arch           x86_64                      \n",
       "os             linux-gnu                   \n",
       "system         x86_64, linux-gnu           \n",
       "status                                     \n",
       "major          3                           \n",
       "minor          4.3                         \n",
       "year           2017                        \n",
       "month          11                          \n",
       "day            30                          \n",
       "svn rev        73796                       \n",
       "language       R                           \n",
       "version.string R version 3.4.3 (2017-11-30)\n",
       "nickname       Kite-Eating Tree            "
      ]
     },
     "metadata": {},
     "output_type": "display_data"
    }
   ],
   "source": [
    "version"
   ]
  }
 ],
 "metadata": {
  "kernelspec": {
   "display_name": "R [conda env:sc-tutorial]",
   "language": "R",
   "name": "conda-env-sc-tutorial-r"
  },
  "language_info": {
   "codemirror_mode": "r",
   "file_extension": ".r",
   "mimetype": "text/x-r-source",
   "name": "R",
   "pygments_lexer": "r",
   "version": "3.6.0"
  }
 },
 "nbformat": 4,
 "nbformat_minor": 2
}
