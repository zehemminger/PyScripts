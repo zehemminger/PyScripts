{
 "cells": [
  {
   "cell_type": "markdown",
   "metadata": {},
   "source": [
    "# CSI\n",
    "### Compressed Sensing Inference for Cell State Identification\n",
    "The overall goal is to use reference data in the form of single cell transcriptomics to find a set of 18 or so measurments(where each measurement is the sum of chosen genes expressed in that cell) that preserves the most information from the reference data (Cell Types, Dendrogram location, Gene Expression). Then using the reference data to generate simulated compressed measurements and their paired attributes to map newly measured cells to their attributes"
   ]
  },
  {
   "cell_type": "code",
   "execution_count": 1,
   "metadata": {},
   "outputs": [
    {
     "name": "stderr",
     "output_type": "stream",
     "text": [
      "[2020-01-31 18:45:06,843] INFO - scvi._settings | Added StreamHandler with custom formatter to 'scvi' logger.\n",
      "/home/zach/miniconda3/envs/pytorch/lib/python3.6/site-packages/sklearn/utils/linear_assignment_.py:22: FutureWarning: The linear_assignment_ module is deprecated in 0.21 and will be removed from 0.23. Use scipy.optimize.linear_sum_assignment instead.\n",
      "  FutureWarning)\n"
     ]
    }
   ],
   "source": [
    "import os\n",
    "import sys\n",
    "import time\n",
    "import math\n",
    "import shutil\n",
    "import pickle\n",
    "import random\n",
    "import anndata\n",
    "import operator\n",
    "import matplotlib\n",
    "import pylab as pl\n",
    "import numpy as np\n",
    "import pandas as pd\n",
    "import scanpy as sc\n",
    "from umap import UMAP\n",
    "import seaborn as sns\n",
    "from scipy import sparse\n",
    "from matplotlib import cm\n",
    "from fish_helpers import *\n",
    "from scvi.models import VAE\n",
    "from IPython import display\n",
    "import tqdm.notebook as tqdm\n",
    "from scipy.stats import mode\n",
    "from functools import partial\n",
    "from segmentation_3D import *\n",
    "import matplotlib.pyplot as plt\n",
    "from multiprocessing import Pool\n",
    "import matplotlib.colors as mcolors\n",
    "from matplotlib.lines import Line2D\n",
    "import matplotlib._color_data as mcd\n",
    "import scipy.cluster.hierarchy as shc\n",
    "from scipy.interpolate import interp1d\n",
    "from scipy.stats import pearsonr,spearmanr\n",
    "from scvi.inference import UnsupervisedTrainer\n",
    "from scvi.dataset import AnnDatasetFromAnnData\n",
    "import warnings; warnings.simplefilter('ignore')\n",
    "from sklearn.metrics.pairwise import euclidean_distances\n",
    "from scvi.inference.autotune import auto_tune_scvi_model\n",
    "\n",
    "base_path = '/bigstore/GeneralStorage/Zach/CSI/Hippocampus_CSI/'\n",
    "if not os.path.exists(base_path):\n",
    "    os.mkdir(base_path)"
   ]
  },
  {
   "cell_type": "code",
   "execution_count": 398,
   "metadata": {},
   "outputs": [
    {
     "data": {
      "text/plain": [
       "'56.0 B'"
      ]
     },
     "execution_count": 398,
     "metadata": {},
     "output_type": "execute_result"
    }
   ],
   "source": [
    "import sys\n",
    "def sizeof_fmt(value, suffix='B'):\n",
    "    num = sys.getsizeof(value)\n",
    "    ''' by Fred Cirera,  https://stackoverflow.com/a/1094933/1870254, modified'''\n",
    "    for unit in ['','Ki','Mi','Gi','Ti','Pi','Ei','Zi']:\n",
    "        if abs(num) < 1024.0:\n",
    "            return \"%3.1f %s%s\" % (num, unit, suffix)\n",
    "        num /= 1024.0\n",
    "    return \"%.1f %s%s\" % (num, 'Yi', suffix)\n",
    "sizeof_fmt(vae)"
   ]
  },
  {
   "cell_type": "markdown",
   "metadata": {},
   "source": [
    "# Preprocessing Reference Data\n",
    "- Matrix (Single Cell Gene Expression Profiles)\n",
    "    - columns: Cells\n",
    "    - rows: Genes\n",
    "    - dtype: pd.DataFrame\n",
    "- Genes\n",
    "    - dtype: pd.DataFrame\n",
    "- Cells\n",
    "    - dtype: pd.DataFrame\n",
    "- Info\n",
    "    - columns: Attributes\n",
    "    - rows: Cells\n",
    "    - dtype: pd.DataFrame\n",
    "    - Attributes: Batch*, labels"
   ]
  },
  {
   "cell_type": "markdown",
   "metadata": {},
   "source": [
    "#### Loading Single Cell RNAseq Data"
   ]
  },
  {
   "cell_type": "code",
   "execution_count": null,
   "metadata": {},
   "outputs": [],
   "source": [
    "\"\"\"\n",
    "Redo without TBI Data just SHAM (Control)\n",
    "\"\"\""
   ]
  },
  {
   "cell_type": "code",
   "execution_count": 2,
   "metadata": {},
   "outputs": [],
   "source": [
    "base = '/bigstore/binfo/mouse/Hippocampus/'\n",
    "raw_matrix_path = os.path.join(base,'TBI.SHAM.countdata.with.celltypes.raw_sparse.npz')\n",
    "genes_path = os.path.join(base,'TBI.SHAM.countdata.with.celltypes.genes.csv.gz')\n",
    "cells_path = os.path.join(base,'TBI.SHAM.countdata.with.celltypes.cells.csv.gz')\n",
    "info_path = os.path.join(base,'TBI.SHAM.countdata.with.celltypes.info_df.csv.gz')"
   ]
  },
  {
   "cell_type": "code",
   "execution_count": 3,
   "metadata": {},
   "outputs": [],
   "source": [
    "dtype = raw_matrix_path.split('.')[-1]\n",
    "if dtype == 'gz':\n",
    "    dtype = raw_matrix_path.split('.')[-2]\n",
    "if dtype =='csv':\n",
    "    sparse_path = cells_path.split('.csv')[0]+'.npz'\n",
    "    if os.path.exists(sparse_path):\n",
    "        raw_matrix_sparse = sparse.load_npz(sparse_path)\n",
    "        raw_matrix = raw_matrix_sparse.A\n",
    "    else:\n",
    "        raw_matrix = np.array(pd.read_csv(raw_matrix_path,index_col=0))\n",
    "        raw_matrix_sparse = sparse.csr_matrix(raw_matrix)\n",
    "        sparse.save_npz(sparse_path,raw_matrix_sparse)\n",
    "elif dtype == 'npz':\n",
    "    sparse_path = raw_matrix_path\n",
    "    raw_matrix_sparse = sparse.load_npz(raw_matrix_path)\n",
    "    raw_matrix = raw_matrix_sparse.A\n",
    "else:\n",
    "    raise(ValueError(dtype,' file type not supported'))\n",
    "genes = pd.read_csv(genes_path,index_col=0)\n",
    "cells = pd.read_csv(cells_path,index_col=0)\n",
    "info = pd.read_csv(info_path,index_col=0)\n",
    "if raw_matrix.shape[0]==len(genes):\n",
    "    raw_matrix = raw_matrix.T\n",
    "    raw_matrix_sparse = sparse.csr_matrix(raw_matrix)\n",
    "    sparse.save_npz(sparse_path,raw_matrix_sparse)"
   ]
  },
  {
   "cell_type": "code",
   "execution_count": 4,
   "metadata": {},
   "outputs": [
    {
     "name": "stderr",
     "output_type": "stream",
     "text": [
      "[2020-01-31 18:45:17,909] INFO - scvi.dataset.dataset | Remapping labels to [0,N]\n",
      "[2020-01-31 18:45:17,912] INFO - scvi.dataset.dataset | Remapping batch_indices to [0,N]\n",
      "[2020-01-31 18:45:20,120] INFO - scvi.dataset.dataset | Computing the library size for the new data\n",
      "[2020-01-31 18:45:21,870] INFO - scvi.dataset.dataset | Downsampled from 29013 to 29013 cells\n"
     ]
    }
   ],
   "source": [
    "def convert2int(labels):\n",
    "    label_dict = {}\n",
    "    for i,key in enumerate(np.unique(labels)):\n",
    "        label_dict[key]=i\n",
    "    labels = np.array([label_dict[key] for key in labels])[:,None]\n",
    "    return labels\n",
    "adata = anndata.AnnData(X=raw_matrix)\n",
    "dataset = AnnDatasetFromAnnData(adata)\n",
    "dataset.batch_indices = convert2int(info['dataset'])\n",
    "dataset.cell_types = convert2int(info['cell_type'])\n",
    "dataset.labels = convert2int(list(info.index))"
   ]
  },
  {
   "cell_type": "markdown",
   "metadata": {},
   "source": [
    "#### Preprocessing using scVI\n",
    "https://github.com/YosefLab/scVI"
   ]
  },
  {
   "cell_type": "code",
   "execution_count": 24,
   "metadata": {},
   "outputs": [
    {
     "name": "stdout",
     "output_type": "stream",
     "text": [
      "training: 100%|██████████| 50/50 [04:56<00:00,  5.93s/it]\n"
     ]
    }
   ],
   "source": [
    "use_batches = True\n",
    "vae = VAE(dataset.nb_genes, \n",
    "          n_batch=dataset.n_batches * use_batches,\n",
    "          n_latent=20)\n",
    "trainer = UnsupervisedTrainer(\n",
    "    vae, \n",
    "    dataset, \n",
    "    train_size=0.5, \n",
    "    use_cuda=True,\n",
    "    frequency=5,\n",
    "\n",
    ")\n",
    "trainer.train(n_epochs=50, lr=1e-3)"
   ]
  },
  {
   "cell_type": "code",
   "execution_count": 25,
   "metadata": {},
   "outputs": [
    {
     "data": {
      "text/plain": [
       "<matplotlib.legend.Legend at 0x7f2e8b3671d0>"
      ]
     },
     "execution_count": 25,
     "metadata": {},
     "output_type": "execute_result"
    },
    {
     "data": {
      "image/png": "[encoded data removed]",
      "text/plain": [
       "<Figure size 432x288 with 1 Axes>"
      ]
     },
     "metadata": {
      "needs_background": "light"
     },
     "output_type": "display_data"
    }
   ],
   "source": [
    "%matplotlib inline\n",
    "elbo_train = trainer.history[\"elbo_train_set\"]\n",
    "elbo_test = trainer.history[\"elbo_test_set\"]\n",
    "x = np.linspace(0, 50, (len(elbo_train)))\n",
    "plt.plot(x, np.log10(elbo_train),label='train')\n",
    "plt.plot(x, np.log10(elbo_test),label='test')\n",
    "plt.ylim(np.log10(min(elbo_train)-50), np.log10(3500))\n",
    "plt.legend()"
   ]
  },
  {
   "cell_type": "code",
   "execution_count": 27,
   "metadata": {},
   "outputs": [],
   "source": [
    "full = trainer.create_posterior(trainer.model, dataset, indices=np.arange(len(dataset)))\n",
    "latent, batch_indices, labels = full.sequential().get_latent()\n",
    "imputed_values = full.sequential().imputation()\n",
    "normalized_values = full.sequential().get_sample_scale()\n",
    "batch_indices = batch_indices.ravel()"
   ]
  },
  {
   "cell_type": "code",
   "execution_count": 401,
   "metadata": {},
   "outputs": [],
   "source": [
    "latent_df = pd.DataFrame(latent,index=cells)\n",
    "imputed_values_df = pd.DataFrame(imputed_values,index=cells)\n",
    "normalized_values_df = pd.DataFrame(normalized_values,index=cells)\n",
    "latent_df.to_csv('/bigstore/GeneralStorage/Zach/CSI/latent_df.csv.gz',compression='gzip')\n",
    "imputed_values_df.to_csv('/bigstore/GeneralStorage/Zach/CSI/imputed_values_df.csv.gz',compression='gzip')\n",
    "normalized_values_df.to_csv('/bigstore/GeneralStorage/Zach/CSI/normalized_values_df.csv.gz',compression='gzip')"
   ]
  },
  {
   "cell_type": "code",
   "execution_count": null,
   "metadata": {},
   "outputs": [],
   "source": [
    "latent_df = pd.read_csv('/bigstore/GeneralStorage/Zach/CSI/latent_df.csv.gz',index_col = 0)\n",
    "imputed_values_df = pd.read_csv('/bigstore/GeneralStorage/Zach/CSI/imputed_values_df.csv.gz',index_col = 0)\n",
    "normalized_values_df = pd.read_csv('/bigstore/GeneralStorage/Zach/CSI/normalized_values_df.csv.gz',index_col = 0)\n",
    "latent = np.array(latent_df)\n",
    "imputed_values = np.array(imputed_values_df)\n",
    "normalized_values = np.array(normalized_values_df)"
   ]
  },
  {
   "cell_type": "code",
   "execution_count": 29,
   "metadata": {},
   "outputs": [
    {
     "data": {
      "image/png": "[encoded data removed]",
      "text/plain": [
       "<Figure size 360x360 with 1 Axes>"
      ]
     },
     "metadata": {
      "needs_background": "light"
     },
     "output_type": "display_data"
    }
   ],
   "source": [
    "# checking if datasets are harmonized in latent space\n",
    "latent_u = UMAP(spread=2).fit_transform(latent)\n",
    "fig, ax = plt.subplots(figsize=(5, 5))\n",
    "order = np.arange(latent.shape[0])\n",
    "random.shuffle(order)\n",
    "N = len(np.unique(batch_indices))\n",
    "cm = mcolors.LinearSegmentedColormap.from_list(\n",
    "        'my_cm', random.sample(list(mcolors.CSS4_COLORS.keys()),N), N=N)\n",
    "ax.scatter(latent_u[order, 0], latent_u[order, 1], \n",
    "           c=dataset.batch_indices.ravel()[order], \n",
    "           cmap=cm, edgecolors='none', s=5)    \n",
    "plt.axis(\"off\")\n",
    "custom_lines = [Line2D([0], [0], color=cm(i), lw=2) for i in np.unique(batch_indices)]\n",
    "ax.legend(custom_lines, list(np.unique(info['dataset'])))\n",
    "fig.set_tight_layout(True)"
   ]
  },
  {
   "cell_type": "markdown",
   "metadata": {},
   "source": [
    "#### Optimizing the scVI parameters (untested)"
   ]
  },
  {
   "cell_type": "code",
   "execution_count": 5,
   "metadata": {
    "collapsed": true
   },
   "outputs": [
    {
     "name": "stderr",
     "output_type": "stream",
     "text": [
      "[2020-01-31 18:45:25,545] INFO - scvi.inference.autotune.all | Starting experiment: dataset\n",
      "[2020-01-31 18:45:25,545] DEBUG - scvi.inference.autotune.all | Using default parameter search space.\n",
      "[2020-01-31 18:45:25,547] DEBUG - scvi.inference.autotune.all | Adding default early stopping behaviour.\n",
      "[2020-01-31 18:45:25,548] INFO - scvi.inference.autotune.all | Fixed parameters: \n",
      "model: \n",
      "{}\n",
      "trainer: \n",
      "{'early_stopping_kwargs': {'early_stopping_metric': 'elbo', 'save_best_state_metric': 'elbo', 'patience': 50, 'threshold': 0, 'reduce_lr_on_plateau': True, 'lr_patience': 25, 'lr_factor': 0.2}, 'metrics_to_monitor': ['elbo']}\n",
      "train method: \n",
      "{'n_epochs': 5}\n",
      "[2020-01-31 18:45:25,549] INFO - scvi.inference.autotune.all | Starting parallel hyperoptimization\n",
      "[2020-01-31 18:45:25,783] DEBUG - scvi.inference.autotune.all | Starting MongoDb process, logs redirected to ./mongo/mongo_logfile.txt.\n",
      "[2020-01-31 18:45:31,254] DEBUG - scvi.inference.autotune.all | Starting minimization procedure\n",
      "[2020-01-31 18:45:31,258] DEBUG - scvi.inference.autotune.all | Starting FminProcess.\n",
      "[2020-01-31 18:45:31,259] DEBUG - scvi.inference.autotune.all | Starting worker launcher\n",
      "[2020-01-31 18:45:31,272] DEBUG - scvi.inference.autotune.all | gpu_ids is None, defaulting to all 1 GPUs found by torch.\n",
      "[2020-01-31 18:45:31,275] DEBUG - scvi.inference.autotune.all | Some GPU.s found and n_cpu_wokers is None, defaulting to n_cpu_workers = 0\n",
      "[2020-01-31 18:45:31,277] DEBUG - scvi.inference.autotune.all | Listener listening...\n",
      "[2020-01-31 18:45:31,277] INFO - scvi.inference.autotune.all | Starting 1 worker.s for each of the 1 gpu.s set for use/found.\n",
      "[2020-01-31 18:45:51,511] INFO - scvi.inference.autotune.all | Starting 0 cpu worker.s\n",
      "[2020-01-31 18:45:55,338] DEBUG - scvi.inference.autotune.all | Asynchronous logging has been set.\n",
      "[2020-01-31 18:45:55,338] DEBUG - scvi.inference.autotune.all | Worker working...\n",
      "[2020-01-31 18:46:11,173] DEBUG - scvi.inference.autotune.all | No timer, waiting for fmin...\n",
      "[2020-01-31 18:46:10,824] DEBUG - scvi.inference.autotune.all | Asynchronous logging has been set.\n",
      "[2020-01-31 18:46:10,825] DEBUG - scvi.inference.autotune.all | Instantiating MongoTrials object.\n",
      "[2020-01-31 18:46:10,879] DEBUG - scvi.inference.autotune.all | Calling fmin.\n",
      "[2020-01-31 18:48:55,971] DEBUG - scvi.inference.autotune.all | Caught ReserveTimeout. Exiting after failing to reserve job for 180 seconds.\n",
      "[2020-01-31 18:48:56,552] DEBUG - scvi.inference.autotune.all | All workers have died, check stdout/stderr for error tracebacks.\n",
      "[2020-01-31 18:48:56,553] DEBUG - scvi.inference.autotune.all | Worker watchdog finished, terminating workers and stopping listener.\n",
      "[2020-01-31 18:49:06,351] DEBUG - scvi.inference.autotune.all | multiple_hosts set to false, Fmin has 300 seconds to finish\n"
     ]
    },
    {
     "ename": "KeyboardInterrupt",
     "evalue": "",
     "output_type": "error",
     "traceback": [
      "\u001b[0;31m---------------------------------------------------------------------------\u001b[0m",
      "\u001b[0;31mKeyboardInterrupt\u001b[0m                         Traceback (most recent call last)",
      "\u001b[0;32m<ipython-input-5-b6122af6c5d9>\u001b[0m in \u001b[0;36m<module>\u001b[0;34m\u001b[0m\n\u001b[1;32m      7\u001b[0m     \u001b[0mmax_evals\u001b[0m\u001b[0;34m=\u001b[0m\u001b[0;36m100\u001b[0m\u001b[0;34m,\u001b[0m\u001b[0;34m\u001b[0m\u001b[0;34m\u001b[0m\u001b[0m\n\u001b[1;32m      8\u001b[0m     \u001b[0mreserve_timeout\u001b[0m\u001b[0;34m=\u001b[0m\u001b[0;36m180\u001b[0m\u001b[0;34m,\u001b[0m\u001b[0;34m\u001b[0m\u001b[0;34m\u001b[0m\u001b[0m\n\u001b[0;32m----> 9\u001b[0;31m     fmin_timeout=300)\n\u001b[0m",
      "\u001b[0;32m~/miniconda3/envs/pytorch/lib/python3.6/site-packages/scvi/inference/autotune.py\u001b[0m in \u001b[0;36mdecorated\u001b[0;34m(*args, **kwargs)\u001b[0m\n\u001b[1;32m    142\u001b[0m     \u001b[0;32mdef\u001b[0m \u001b[0mdecorated\u001b[0m\u001b[0;34m(\u001b[0m\u001b[0;34m*\u001b[0m\u001b[0margs\u001b[0m\u001b[0;34m,\u001b[0m \u001b[0;34m**\u001b[0m\u001b[0mkwargs\u001b[0m\u001b[0;34m)\u001b[0m\u001b[0;34m:\u001b[0m\u001b[0;34m\u001b[0m\u001b[0;34m\u001b[0m\u001b[0m\n\u001b[1;32m    143\u001b[0m         \u001b[0;32mtry\u001b[0m\u001b[0;34m:\u001b[0m\u001b[0;34m\u001b[0m\u001b[0;34m\u001b[0m\u001b[0m\n\u001b[0;32m--> 144\u001b[0;31m             \u001b[0;32mreturn\u001b[0m \u001b[0mfunc\u001b[0m\u001b[0;34m(\u001b[0m\u001b[0;34m*\u001b[0m\u001b[0margs\u001b[0m\u001b[0;34m,\u001b[0m \u001b[0;34m**\u001b[0m\u001b[0mkwargs\u001b[0m\u001b[0;34m)\u001b[0m\u001b[0;34m\u001b[0m\u001b[0;34m\u001b[0m\u001b[0m\n\u001b[0m\u001b[1;32m    145\u001b[0m         \u001b[0;32mexcept\u001b[0m \u001b[0mException\u001b[0m \u001b[0;32mas\u001b[0m \u001b[0me\u001b[0m\u001b[0;34m:\u001b[0m\u001b[0;34m\u001b[0m\u001b[0;34m\u001b[0m\u001b[0m\n\u001b[1;32m    146\u001b[0m             logger_all.exception(\n",
      "\u001b[0;32m~/miniconda3/envs/pytorch/lib/python3.6/site-packages/scvi/inference/autotune.py\u001b[0m in \u001b[0;36mauto_tune_scvi_model\u001b[0;34m(exp_key, gene_dataset, delayed_populating, custom_objective_hyperopt, objective_kwargs, model_class, trainer_class, metric_name, metric_kwargs, posterior_name, model_specific_kwargs, trainer_specific_kwargs, train_func_specific_kwargs, space, max_evals, train_best, pickle_result, save_path, use_batches, parallel, n_cpu_workers, gpu_ids, n_workers_per_gpu, reserve_timeout, fmin_timeout, fmin_timer, mongo_port, mongo_host, db_name, multiple_hosts)\u001b[0m\n\u001b[1;32m    426\u001b[0m             \u001b[0mmongo_host\u001b[0m\u001b[0;34m=\u001b[0m\u001b[0mmongo_host\u001b[0m\u001b[0;34m,\u001b[0m\u001b[0;34m\u001b[0m\u001b[0;34m\u001b[0m\u001b[0m\n\u001b[1;32m    427\u001b[0m             \u001b[0mdb_name\u001b[0m\u001b[0;34m=\u001b[0m\u001b[0mdb_name\u001b[0m\u001b[0;34m,\u001b[0m\u001b[0;34m\u001b[0m\u001b[0;34m\u001b[0m\u001b[0m\n\u001b[0;32m--> 428\u001b[0;31m             \u001b[0mmultiple_hosts\u001b[0m\u001b[0;34m=\u001b[0m\u001b[0mmultiple_hosts\u001b[0m\u001b[0;34m,\u001b[0m\u001b[0;34m\u001b[0m\u001b[0;34m\u001b[0m\u001b[0m\n\u001b[0m\u001b[1;32m    429\u001b[0m         )\n\u001b[1;32m    430\u001b[0m \u001b[0;34m\u001b[0m\u001b[0m\n",
      "\u001b[0;32m~/miniconda3/envs/pytorch/lib/python3.6/site-packages/scvi/inference/autotune.py\u001b[0m in \u001b[0;36m_auto_tune_parallel\u001b[0;34m(objective_hyperopt, exp_key, space, max_evals, save_path, n_cpu_workers, gpu_ids, n_workers_per_gpu, reserve_timeout, fmin_timeout, fmin_timer, mongo_port, mongo_host, db_name, multiple_hosts)\u001b[0m\n\u001b[1;32m    658\u001b[0m                 )\n\u001b[1;32m    659\u001b[0m             )\n\u001b[0;32m--> 660\u001b[0;31m         \u001b[0mtrials\u001b[0m \u001b[0;34m=\u001b[0m \u001b[0mqueue\u001b[0m\u001b[0;34m.\u001b[0m\u001b[0mget\u001b[0m\u001b[0;34m(\u001b[0m\u001b[0mtimeout\u001b[0m\u001b[0;34m=\u001b[0m\u001b[0mfmin_timeout\u001b[0m\u001b[0;34m)\u001b[0m\u001b[0;34m\u001b[0m\u001b[0;34m\u001b[0m\u001b[0m\n\u001b[0m\u001b[1;32m    661\u001b[0m         \u001b[0mqueue\u001b[0m\u001b[0;34m.\u001b[0m\u001b[0mclose\u001b[0m\u001b[0;34m(\u001b[0m\u001b[0;34m)\u001b[0m\u001b[0;34m\u001b[0m\u001b[0;34m\u001b[0m\u001b[0m\n\u001b[1;32m    662\u001b[0m     \u001b[0;32mexcept\u001b[0m \u001b[0mEmpty\u001b[0m\u001b[0;34m:\u001b[0m\u001b[0;34m\u001b[0m\u001b[0;34m\u001b[0m\u001b[0m\n",
      "\u001b[0;32m~/miniconda3/envs/pytorch/lib/python3.6/multiprocessing/queues.py\u001b[0m in \u001b[0;36mget\u001b[0;34m(self, block, timeout)\u001b[0m\n\u001b[1;32m    102\u001b[0m                 \u001b[0;32mif\u001b[0m \u001b[0mblock\u001b[0m\u001b[0;34m:\u001b[0m\u001b[0;34m\u001b[0m\u001b[0;34m\u001b[0m\u001b[0m\n\u001b[1;32m    103\u001b[0m                     \u001b[0mtimeout\u001b[0m \u001b[0;34m=\u001b[0m \u001b[0mdeadline\u001b[0m \u001b[0;34m-\u001b[0m \u001b[0mtime\u001b[0m\u001b[0;34m.\u001b[0m\u001b[0mmonotonic\u001b[0m\u001b[0;34m(\u001b[0m\u001b[0;34m)\u001b[0m\u001b[0;34m\u001b[0m\u001b[0;34m\u001b[0m\u001b[0m\n\u001b[0;32m--> 104\u001b[0;31m                     \u001b[0;32mif\u001b[0m \u001b[0;32mnot\u001b[0m \u001b[0mself\u001b[0m\u001b[0;34m.\u001b[0m\u001b[0m_poll\u001b[0m\u001b[0;34m(\u001b[0m\u001b[0mtimeout\u001b[0m\u001b[0;34m)\u001b[0m\u001b[0;34m:\u001b[0m\u001b[0;34m\u001b[0m\u001b[0;34m\u001b[0m\u001b[0m\n\u001b[0m\u001b[1;32m    105\u001b[0m                         \u001b[0;32mraise\u001b[0m \u001b[0mEmpty\u001b[0m\u001b[0;34m\u001b[0m\u001b[0;34m\u001b[0m\u001b[0m\n\u001b[1;32m    106\u001b[0m                 \u001b[0;32melif\u001b[0m \u001b[0;32mnot\u001b[0m \u001b[0mself\u001b[0m\u001b[0;34m.\u001b[0m\u001b[0m_poll\u001b[0m\u001b[0;34m(\u001b[0m\u001b[0;34m)\u001b[0m\u001b[0;34m:\u001b[0m\u001b[0;34m\u001b[0m\u001b[0;34m\u001b[0m\u001b[0m\n",
      "\u001b[0;32m~/miniconda3/envs/pytorch/lib/python3.6/multiprocessing/connection.py\u001b[0m in \u001b[0;36mpoll\u001b[0;34m(self, timeout)\u001b[0m\n\u001b[1;32m    255\u001b[0m         \u001b[0mself\u001b[0m\u001b[0;34m.\u001b[0m\u001b[0m_check_closed\u001b[0m\u001b[0;34m(\u001b[0m\u001b[0;34m)\u001b[0m\u001b[0;34m\u001b[0m\u001b[0;34m\u001b[0m\u001b[0m\n\u001b[1;32m    256\u001b[0m         \u001b[0mself\u001b[0m\u001b[0;34m.\u001b[0m\u001b[0m_check_readable\u001b[0m\u001b[0;34m(\u001b[0m\u001b[0;34m)\u001b[0m\u001b[0;34m\u001b[0m\u001b[0;34m\u001b[0m\u001b[0m\n\u001b[0;32m--> 257\u001b[0;31m         \u001b[0;32mreturn\u001b[0m \u001b[0mself\u001b[0m\u001b[0;34m.\u001b[0m\u001b[0m_poll\u001b[0m\u001b[0;34m(\u001b[0m\u001b[0mtimeout\u001b[0m\u001b[0;34m)\u001b[0m\u001b[0;34m\u001b[0m\u001b[0;34m\u001b[0m\u001b[0m\n\u001b[0m\u001b[1;32m    258\u001b[0m \u001b[0;34m\u001b[0m\u001b[0m\n\u001b[1;32m    259\u001b[0m     \u001b[0;32mdef\u001b[0m \u001b[0m__enter__\u001b[0m\u001b[0;34m(\u001b[0m\u001b[0mself\u001b[0m\u001b[0;34m)\u001b[0m\u001b[0;34m:\u001b[0m\u001b[0;34m\u001b[0m\u001b[0;34m\u001b[0m\u001b[0m\n",
      "\u001b[0;32m~/miniconda3/envs/pytorch/lib/python3.6/multiprocessing/connection.py\u001b[0m in \u001b[0;36m_poll\u001b[0;34m(self, timeout)\u001b[0m\n\u001b[1;32m    412\u001b[0m \u001b[0;34m\u001b[0m\u001b[0m\n\u001b[1;32m    413\u001b[0m     \u001b[0;32mdef\u001b[0m \u001b[0m_poll\u001b[0m\u001b[0;34m(\u001b[0m\u001b[0mself\u001b[0m\u001b[0;34m,\u001b[0m \u001b[0mtimeout\u001b[0m\u001b[0;34m)\u001b[0m\u001b[0;34m:\u001b[0m\u001b[0;34m\u001b[0m\u001b[0;34m\u001b[0m\u001b[0m\n\u001b[0;32m--> 414\u001b[0;31m         \u001b[0mr\u001b[0m \u001b[0;34m=\u001b[0m \u001b[0mwait\u001b[0m\u001b[0;34m(\u001b[0m\u001b[0;34m[\u001b[0m\u001b[0mself\u001b[0m\u001b[0;34m]\u001b[0m\u001b[0;34m,\u001b[0m \u001b[0mtimeout\u001b[0m\u001b[0;34m)\u001b[0m\u001b[0;34m\u001b[0m\u001b[0;34m\u001b[0m\u001b[0m\n\u001b[0m\u001b[1;32m    415\u001b[0m         \u001b[0;32mreturn\u001b[0m \u001b[0mbool\u001b[0m\u001b[0;34m(\u001b[0m\u001b[0mr\u001b[0m\u001b[0;34m)\u001b[0m\u001b[0;34m\u001b[0m\u001b[0;34m\u001b[0m\u001b[0m\n\u001b[1;32m    416\u001b[0m \u001b[0;34m\u001b[0m\u001b[0m\n",
      "\u001b[0;32m~/miniconda3/envs/pytorch/lib/python3.6/multiprocessing/connection.py\u001b[0m in \u001b[0;36mwait\u001b[0;34m(object_list, timeout)\u001b[0m\n\u001b[1;32m    909\u001b[0m \u001b[0;34m\u001b[0m\u001b[0m\n\u001b[1;32m    910\u001b[0m             \u001b[0;32mwhile\u001b[0m \u001b[0;32mTrue\u001b[0m\u001b[0;34m:\u001b[0m\u001b[0;34m\u001b[0m\u001b[0;34m\u001b[0m\u001b[0m\n\u001b[0;32m--> 911\u001b[0;31m                 \u001b[0mready\u001b[0m \u001b[0;34m=\u001b[0m \u001b[0mselector\u001b[0m\u001b[0;34m.\u001b[0m\u001b[0mselect\u001b[0m\u001b[0;34m(\u001b[0m\u001b[0mtimeout\u001b[0m\u001b[0;34m)\u001b[0m\u001b[0;34m\u001b[0m\u001b[0;34m\u001b[0m\u001b[0m\n\u001b[0m\u001b[1;32m    912\u001b[0m                 \u001b[0;32mif\u001b[0m \u001b[0mready\u001b[0m\u001b[0;34m:\u001b[0m\u001b[0;34m\u001b[0m\u001b[0;34m\u001b[0m\u001b[0m\n\u001b[1;32m    913\u001b[0m                     \u001b[0;32mreturn\u001b[0m \u001b[0;34m[\u001b[0m\u001b[0mkey\u001b[0m\u001b[0;34m.\u001b[0m\u001b[0mfileobj\u001b[0m \u001b[0;32mfor\u001b[0m \u001b[0;34m(\u001b[0m\u001b[0mkey\u001b[0m\u001b[0;34m,\u001b[0m \u001b[0mevents\u001b[0m\u001b[0;34m)\u001b[0m \u001b[0;32min\u001b[0m \u001b[0mready\u001b[0m\u001b[0;34m]\u001b[0m\u001b[0;34m\u001b[0m\u001b[0;34m\u001b[0m\u001b[0m\n",
      "\u001b[0;32m~/miniconda3/envs/pytorch/lib/python3.6/selectors.py\u001b[0m in \u001b[0;36mselect\u001b[0;34m(self, timeout)\u001b[0m\n\u001b[1;32m    374\u001b[0m             \u001b[0mready\u001b[0m \u001b[0;34m=\u001b[0m \u001b[0;34m[\u001b[0m\u001b[0;34m]\u001b[0m\u001b[0;34m\u001b[0m\u001b[0;34m\u001b[0m\u001b[0m\n\u001b[1;32m    375\u001b[0m             \u001b[0;32mtry\u001b[0m\u001b[0;34m:\u001b[0m\u001b[0;34m\u001b[0m\u001b[0;34m\u001b[0m\u001b[0m\n\u001b[0;32m--> 376\u001b[0;31m                 \u001b[0mfd_event_list\u001b[0m \u001b[0;34m=\u001b[0m \u001b[0mself\u001b[0m\u001b[0;34m.\u001b[0m\u001b[0m_poll\u001b[0m\u001b[0;34m.\u001b[0m\u001b[0mpoll\u001b[0m\u001b[0;34m(\u001b[0m\u001b[0mtimeout\u001b[0m\u001b[0;34m)\u001b[0m\u001b[0;34m\u001b[0m\u001b[0;34m\u001b[0m\u001b[0m\n\u001b[0m\u001b[1;32m    377\u001b[0m             \u001b[0;32mexcept\u001b[0m \u001b[0mInterruptedError\u001b[0m\u001b[0;34m:\u001b[0m\u001b[0;34m\u001b[0m\u001b[0;34m\u001b[0m\u001b[0m\n\u001b[1;32m    378\u001b[0m                 \u001b[0;32mreturn\u001b[0m \u001b[0mready\u001b[0m\u001b[0;34m\u001b[0m\u001b[0;34m\u001b[0m\u001b[0m\n",
      "\u001b[0;31mKeyboardInterrupt\u001b[0m: "
     ]
    }
   ],
   "source": [
    "# Very Slow\n",
    "best_trainer, trials = auto_tune_scvi_model(\n",
    "    gene_dataset=dataset,\n",
    "    parallel=True,\n",
    "    exp_key=\"dataset\",\n",
    "    train_func_specific_kwargs={\"n_epochs\": 5},\n",
    "    max_evals=100,\n",
    "    reserve_timeout=180,\n",
    "    fmin_timeout=300)"
   ]
  },
  {
   "cell_type": "code",
   "execution_count": null,
   "metadata": {},
   "outputs": [],
   "source": [
    "best_trainer.train(n_epochs=200, lr=1e-3)"
   ]
  },
  {
   "cell_type": "code",
   "execution_count": null,
   "metadata": {},
   "outputs": [],
   "source": [
    "# Plotting the likelihood change across the 50 epochs of training: \n",
    "# blue for training error and orange for testing error. \n",
    "%matplotlib inline\n",
    "elbo_train = best_trainer.history[\"elbo_train_set\"]\n",
    "elbo_test = best_trainer.history[\"elbo_test_set\"]\n",
    "x = np.linspace(0, 200, (len(elbo_train)))\n",
    "plt.plot(x, np.log10(elbo_train))\n",
    "plt.plot(x, np.log10(elbo_test))\n",
    "plt.ylim(np.log10(min(elbo_train)-50), np.log10(3500))"
   ]
  },
  {
   "cell_type": "code",
   "execution_count": null,
   "metadata": {},
   "outputs": [],
   "source": [
    "full = best_trainer.create_posterior(trainer.model, dataset, indices=np.arange(len(dataset)))\n",
    "latent, batch_indices, labels = full.sequential().get_latent()\n",
    "imputed_values = full.sequential().imputation()\n",
    "normalized_values = full.sequential().get_sample_scale()\n",
    "batch_indices = batch_indices.ravel()"
   ]
  },
  {
   "cell_type": "code",
   "execution_count": null,
   "metadata": {},
   "outputs": [],
   "source": [
    "# checking if datasets are harmonized\n",
    "latent_u = UMAP(spread=2).fit_transform(latent)\n",
    "fig, ax = plt.subplots(figsize=(5, 5))\n",
    "order = np.arange(latent.shape[0])\n",
    "random.shuffle(order)\n",
    "N = len(np.unique(batch_indices))\n",
    "cm = LinearSegmentedColormap.from_list(\n",
    "        'my_cm', random.sample(list(mcolors.CSS4_COLORS.keys()),N), N=N)\n",
    "ax.scatter(latent_u[order, 0], latent_u[order, 1], \n",
    "           c=dataset.batch_indices.ravel()[order], \n",
    "           cmap=cm, edgecolors='none', s=5)    \n",
    "plt.axis(\"off\")\n",
    "custom_lines = [Line2D([0], [0], color=cm(i), lw=2) for i in np.unique(batch_indices)]\n",
    "ax.legend(custom_lines, list(np.unique(adata.obs['batch_indices'])))\n",
    "fig.set_tight_layout(True)"
   ]
  },
  {
   "cell_type": "code",
   "execution_count": null,
   "metadata": {},
   "outputs": [],
   "source": [
    "latent_df = pd.DataFrame(latent,index=cells)\n",
    "imputed_values_df = pd.DataFrame(imputed_values,index=cells)\n",
    "normalized_values_df = pd.DataFrame(normalized_values,index=cells)\n",
    "latent_df.to_csv('/bigstore/GeneralStorage/Zach/CSI/latent_df.csv.gz',compression='gzip')\n",
    "imputed_values_df.to_csv('/bigstore/GeneralStorage/Zach/CSI/imputed_values_df.csv.gz',compression='gzip')\n",
    "normalized_values_df.to_csv('/bigstore/GeneralStorage/Zach/CSI/normalized_values_df.csv.gz',compression='gzip')"
   ]
  },
  {
   "cell_type": "code",
   "execution_count": null,
   "metadata": {},
   "outputs": [],
   "source": [
    "latent_df = pd.read_csv('/bigstore/GeneralStorage/Zach/CSI/latent_df.csv.gz',index_col = 0)\n",
    "imputed_values_df = pd.read_csv('/bigstore/GeneralStorage/Zach/CSI/imputed_values_df.csv.gz',index_col = 0)\n",
    "normalized_values_df = pd.read_csv('/bigstore/GeneralStorage/Zach/CSI/normalized_values_df.csv.gz',index_col = 0)\n",
    "latent = np.array(latent_df)\n",
    "imputed_values = np.array(imputed_values_df)\n",
    "normalized_values = np.array(normalized_values_df)"
   ]
  },
  {
   "cell_type": "markdown",
   "metadata": {},
   "source": [
    "#### Final Post Processed Matrix"
   ]
  },
  {
   "cell_type": "code",
   "execution_count": 31,
   "metadata": {
    "scrolled": true
   },
   "outputs": [
    {
     "data": {
      "text/html": [
       "<div>\n",
       "<style scoped>\n",
       "    .dataframe tbody tr th:only-of-type {\n",
       "        vertical-align: middle;\n",
       "    }\n",
       "\n",
       "    .dataframe tbody tr th {\n",
       "        vertical-align: top;\n",
       "    }\n",
       "\n",
       "    .dataframe thead th {\n",
       "        text-align: right;\n",
       "    }\n",
       "</style>\n",
       "<table border=\"1\" class=\"dataframe\">\n",
       "  <thead>\n",
       "    <tr style=\"text-align: right;\">\n",
       "      <th></th>\n",
       "      <th>S1Hip_CCTTGCCACACT_ODC</th>\n",
       "      <th>S1Hip_TTCTATTCGTAG_ODC</th>\n",
       "      <th>S1Hip_TTGGGCCCACCG_ODC</th>\n",
       "      <th>S1Hip_ATGTACGCCGTG_ODC</th>\n",
       "      <th>S1Hip_CCAGAATAATTT_ODC</th>\n",
       "      <th>S1Hip_CCGCTCAAGTCC_ODC</th>\n",
       "      <th>S1Hip_GGAGGATTGGGT_ODC</th>\n",
       "      <th>S1Hip_AGTCACTGTTTA_ODC</th>\n",
       "      <th>S1Hip_TAAAACCTATCG_ODC</th>\n",
       "      <th>S1Hip_CCGTCCCGAGTT_ODC</th>\n",
       "      <th>...</th>\n",
       "      <th>TBI5Hip_TCCTGAGACGCT_EPEN</th>\n",
       "      <th>TBI5Hip_TTGCGCAAAACG_EPEN</th>\n",
       "      <th>TBI5Hip_ACGCCGAGTTGC_EPEN</th>\n",
       "      <th>TBI5Hip_CAGCATATGGCG_EPEN</th>\n",
       "      <th>TBI5Hip_GACATCATTCAT_EPEN</th>\n",
       "      <th>TBI5Hip_GGTATTGACACC_EPEN</th>\n",
       "      <th>TBI5Hip_TCCCACGCCAAC_EPEN</th>\n",
       "      <th>TBI5Hip_TTCCTGTAGACC_EPEN</th>\n",
       "      <th>TBI5Hip_ATTTAATTGAGC_EPEN</th>\n",
       "      <th>TBI5Hip_ATCCCTCGCAGC_EPEN</th>\n",
       "    </tr>\n",
       "  </thead>\n",
       "  <tbody>\n",
       "    <tr>\n",
       "      <th>Reps1</th>\n",
       "      <td>14</td>\n",
       "      <td>11</td>\n",
       "      <td>6</td>\n",
       "      <td>12</td>\n",
       "      <td>11</td>\n",
       "      <td>27</td>\n",
       "      <td>15</td>\n",
       "      <td>19</td>\n",
       "      <td>13</td>\n",
       "      <td>17</td>\n",
       "      <td>...</td>\n",
       "      <td>40</td>\n",
       "      <td>53</td>\n",
       "      <td>31</td>\n",
       "      <td>34</td>\n",
       "      <td>88</td>\n",
       "      <td>29</td>\n",
       "      <td>49</td>\n",
       "      <td>33</td>\n",
       "      <td>32</td>\n",
       "      <td>30</td>\n",
       "    </tr>\n",
       "    <tr>\n",
       "      <th>Soga3</th>\n",
       "      <td>119</td>\n",
       "      <td>152</td>\n",
       "      <td>125</td>\n",
       "      <td>136</td>\n",
       "      <td>115</td>\n",
       "      <td>136</td>\n",
       "      <td>65</td>\n",
       "      <td>147</td>\n",
       "      <td>149</td>\n",
       "      <td>125</td>\n",
       "      <td>...</td>\n",
       "      <td>92</td>\n",
       "      <td>103</td>\n",
       "      <td>88</td>\n",
       "      <td>41</td>\n",
       "      <td>131</td>\n",
       "      <td>124</td>\n",
       "      <td>49</td>\n",
       "      <td>67</td>\n",
       "      <td>100</td>\n",
       "      <td>55</td>\n",
       "    </tr>\n",
       "    <tr>\n",
       "      <th>Rps15</th>\n",
       "      <td>712</td>\n",
       "      <td>567</td>\n",
       "      <td>536</td>\n",
       "      <td>410</td>\n",
       "      <td>488</td>\n",
       "      <td>640</td>\n",
       "      <td>379</td>\n",
       "      <td>488</td>\n",
       "      <td>578</td>\n",
       "      <td>495</td>\n",
       "      <td>...</td>\n",
       "      <td>323</td>\n",
       "      <td>295</td>\n",
       "      <td>441</td>\n",
       "      <td>273</td>\n",
       "      <td>158</td>\n",
       "      <td>219</td>\n",
       "      <td>346</td>\n",
       "      <td>400</td>\n",
       "      <td>277</td>\n",
       "      <td>429</td>\n",
       "    </tr>\n",
       "    <tr>\n",
       "      <th>Anks1b</th>\n",
       "      <td>641</td>\n",
       "      <td>628</td>\n",
       "      <td>570</td>\n",
       "      <td>494</td>\n",
       "      <td>460</td>\n",
       "      <td>661</td>\n",
       "      <td>414</td>\n",
       "      <td>643</td>\n",
       "      <td>620</td>\n",
       "      <td>634</td>\n",
       "      <td>...</td>\n",
       "      <td>174</td>\n",
       "      <td>329</td>\n",
       "      <td>130</td>\n",
       "      <td>64</td>\n",
       "      <td>241</td>\n",
       "      <td>207</td>\n",
       "      <td>115</td>\n",
       "      <td>129</td>\n",
       "      <td>166</td>\n",
       "      <td>131</td>\n",
       "    </tr>\n",
       "    <tr>\n",
       "      <th>Eea1</th>\n",
       "      <td>127</td>\n",
       "      <td>128</td>\n",
       "      <td>141</td>\n",
       "      <td>128</td>\n",
       "      <td>166</td>\n",
       "      <td>137</td>\n",
       "      <td>116</td>\n",
       "      <td>155</td>\n",
       "      <td>151</td>\n",
       "      <td>138</td>\n",
       "      <td>...</td>\n",
       "      <td>247</td>\n",
       "      <td>225</td>\n",
       "      <td>360</td>\n",
       "      <td>710</td>\n",
       "      <td>251</td>\n",
       "      <td>214</td>\n",
       "      <td>263</td>\n",
       "      <td>296</td>\n",
       "      <td>336</td>\n",
       "      <td>286</td>\n",
       "    </tr>\n",
       "    <tr>\n",
       "      <th>...</th>\n",
       "      <td>...</td>\n",
       "      <td>...</td>\n",
       "      <td>...</td>\n",
       "      <td>...</td>\n",
       "      <td>...</td>\n",
       "      <td>...</td>\n",
       "      <td>...</td>\n",
       "      <td>...</td>\n",
       "      <td>...</td>\n",
       "      <td>...</td>\n",
       "      <td>...</td>\n",
       "      <td>...</td>\n",
       "      <td>...</td>\n",
       "      <td>...</td>\n",
       "      <td>...</td>\n",
       "      <td>...</td>\n",
       "      <td>...</td>\n",
       "      <td>...</td>\n",
       "      <td>...</td>\n",
       "      <td>...</td>\n",
       "      <td>...</td>\n",
       "    </tr>\n",
       "    <tr>\n",
       "      <th>n-R5s71</th>\n",
       "      <td>0</td>\n",
       "      <td>0</td>\n",
       "      <td>0</td>\n",
       "      <td>0</td>\n",
       "      <td>0</td>\n",
       "      <td>0</td>\n",
       "      <td>0</td>\n",
       "      <td>0</td>\n",
       "      <td>0</td>\n",
       "      <td>0</td>\n",
       "      <td>...</td>\n",
       "      <td>0</td>\n",
       "      <td>0</td>\n",
       "      <td>0</td>\n",
       "      <td>0</td>\n",
       "      <td>1</td>\n",
       "      <td>0</td>\n",
       "      <td>0</td>\n",
       "      <td>0</td>\n",
       "      <td>0</td>\n",
       "      <td>0</td>\n",
       "    </tr>\n",
       "    <tr>\n",
       "      <th>n-R5s72</th>\n",
       "      <td>0</td>\n",
       "      <td>0</td>\n",
       "      <td>0</td>\n",
       "      <td>0</td>\n",
       "      <td>0</td>\n",
       "      <td>0</td>\n",
       "      <td>0</td>\n",
       "      <td>0</td>\n",
       "      <td>0</td>\n",
       "      <td>0</td>\n",
       "      <td>...</td>\n",
       "      <td>0</td>\n",
       "      <td>0</td>\n",
       "      <td>0</td>\n",
       "      <td>0</td>\n",
       "      <td>0</td>\n",
       "      <td>0</td>\n",
       "      <td>0</td>\n",
       "      <td>0</td>\n",
       "      <td>0</td>\n",
       "      <td>0</td>\n",
       "    </tr>\n",
       "    <tr>\n",
       "      <th>n-R5s85</th>\n",
       "      <td>0</td>\n",
       "      <td>0</td>\n",
       "      <td>0</td>\n",
       "      <td>0</td>\n",
       "      <td>0</td>\n",
       "      <td>0</td>\n",
       "      <td>0</td>\n",
       "      <td>0</td>\n",
       "      <td>0</td>\n",
       "      <td>0</td>\n",
       "      <td>...</td>\n",
       "      <td>0</td>\n",
       "      <td>1</td>\n",
       "      <td>1</td>\n",
       "      <td>1</td>\n",
       "      <td>1</td>\n",
       "      <td>0</td>\n",
       "      <td>1</td>\n",
       "      <td>1</td>\n",
       "      <td>0</td>\n",
       "      <td>0</td>\n",
       "    </tr>\n",
       "    <tr>\n",
       "      <th>n-R5s88</th>\n",
       "      <td>0</td>\n",
       "      <td>0</td>\n",
       "      <td>0</td>\n",
       "      <td>0</td>\n",
       "      <td>0</td>\n",
       "      <td>0</td>\n",
       "      <td>0</td>\n",
       "      <td>0</td>\n",
       "      <td>0</td>\n",
       "      <td>0</td>\n",
       "      <td>...</td>\n",
       "      <td>0</td>\n",
       "      <td>0</td>\n",
       "      <td>0</td>\n",
       "      <td>0</td>\n",
       "      <td>0</td>\n",
       "      <td>0</td>\n",
       "      <td>0</td>\n",
       "      <td>0</td>\n",
       "      <td>0</td>\n",
       "      <td>0</td>\n",
       "    </tr>\n",
       "    <tr>\n",
       "      <th>n-R5s89</th>\n",
       "      <td>0</td>\n",
       "      <td>0</td>\n",
       "      <td>0</td>\n",
       "      <td>0</td>\n",
       "      <td>0</td>\n",
       "      <td>0</td>\n",
       "      <td>0</td>\n",
       "      <td>0</td>\n",
       "      <td>0</td>\n",
       "      <td>0</td>\n",
       "      <td>...</td>\n",
       "      <td>0</td>\n",
       "      <td>0</td>\n",
       "      <td>0</td>\n",
       "      <td>0</td>\n",
       "      <td>0</td>\n",
       "      <td>0</td>\n",
       "      <td>0</td>\n",
       "      <td>0</td>\n",
       "      <td>0</td>\n",
       "      <td>0</td>\n",
       "    </tr>\n",
       "  </tbody>\n",
       "</table>\n",
       "<p>32355 rows × 29013 columns</p>\n",
       "</div>"
      ],
      "text/plain": [
       "         S1Hip_CCTTGCCACACT_ODC  S1Hip_TTCTATTCGTAG_ODC  \\\n",
       "Reps1                        14                      11   \n",
       "Soga3                       119                     152   \n",
       "Rps15                       712                     567   \n",
       "Anks1b                      641                     628   \n",
       "Eea1                        127                     128   \n",
       "...                         ...                     ...   \n",
       "n-R5s71                       0                       0   \n",
       "n-R5s72                       0                       0   \n",
       "n-R5s85                       0                       0   \n",
       "n-R5s88                       0                       0   \n",
       "n-R5s89                       0                       0   \n",
       "\n",
       "         S1Hip_TTGGGCCCACCG_ODC  S1Hip_ATGTACGCCGTG_ODC  \\\n",
       "Reps1                         6                      12   \n",
       "Soga3                       125                     136   \n",
       "Rps15                       536                     410   \n",
       "Anks1b                      570                     494   \n",
       "Eea1                        141                     128   \n",
       "...                         ...                     ...   \n",
       "n-R5s71                       0                       0   \n",
       "n-R5s72                       0                       0   \n",
       "n-R5s85                       0                       0   \n",
       "n-R5s88                       0                       0   \n",
       "n-R5s89                       0                       0   \n",
       "\n",
       "         S1Hip_CCAGAATAATTT_ODC  S1Hip_CCGCTCAAGTCC_ODC  \\\n",
       "Reps1                        11                      27   \n",
       "Soga3                       115                     136   \n",
       "Rps15                       488                     640   \n",
       "Anks1b                      460                     661   \n",
       "Eea1                        166                     137   \n",
       "...                         ...                     ...   \n",
       "n-R5s71                       0                       0   \n",
       "n-R5s72                       0                       0   \n",
       "n-R5s85                       0                       0   \n",
       "n-R5s88                       0                       0   \n",
       "n-R5s89                       0                       0   \n",
       "\n",
       "         S1Hip_GGAGGATTGGGT_ODC  S1Hip_AGTCACTGTTTA_ODC  \\\n",
       "Reps1                        15                      19   \n",
       "Soga3                        65                     147   \n",
       "Rps15                       379                     488   \n",
       "Anks1b                      414                     643   \n",
       "Eea1                        116                     155   \n",
       "...                         ...                     ...   \n",
       "n-R5s71                       0                       0   \n",
       "n-R5s72                       0                       0   \n",
       "n-R5s85                       0                       0   \n",
       "n-R5s88                       0                       0   \n",
       "n-R5s89                       0                       0   \n",
       "\n",
       "         S1Hip_TAAAACCTATCG_ODC  S1Hip_CCGTCCCGAGTT_ODC  ...  \\\n",
       "Reps1                        13                      17  ...   \n",
       "Soga3                       149                     125  ...   \n",
       "Rps15                       578                     495  ...   \n",
       "Anks1b                      620                     634  ...   \n",
       "Eea1                        151                     138  ...   \n",
       "...                         ...                     ...  ...   \n",
       "n-R5s71                       0                       0  ...   \n",
       "n-R5s72                       0                       0  ...   \n",
       "n-R5s85                       0                       0  ...   \n",
       "n-R5s88                       0                       0  ...   \n",
       "n-R5s89                       0                       0  ...   \n",
       "\n",
       "         TBI5Hip_TCCTGAGACGCT_EPEN  TBI5Hip_TTGCGCAAAACG_EPEN  \\\n",
       "Reps1                           40                         53   \n",
       "Soga3                           92                        103   \n",
       "Rps15                          323                        295   \n",
       "Anks1b                         174                        329   \n",
       "Eea1                           247                        225   \n",
       "...                            ...                        ...   \n",
       "n-R5s71                          0                          0   \n",
       "n-R5s72                          0                          0   \n",
       "n-R5s85                          0                          1   \n",
       "n-R5s88                          0                          0   \n",
       "n-R5s89                          0                          0   \n",
       "\n",
       "         TBI5Hip_ACGCCGAGTTGC_EPEN  TBI5Hip_CAGCATATGGCG_EPEN  \\\n",
       "Reps1                           31                         34   \n",
       "Soga3                           88                         41   \n",
       "Rps15                          441                        273   \n",
       "Anks1b                         130                         64   \n",
       "Eea1                           360                        710   \n",
       "...                            ...                        ...   \n",
       "n-R5s71                          0                          0   \n",
       "n-R5s72                          0                          0   \n",
       "n-R5s85                          1                          1   \n",
       "n-R5s88                          0                          0   \n",
       "n-R5s89                          0                          0   \n",
       "\n",
       "         TBI5Hip_GACATCATTCAT_EPEN  TBI5Hip_GGTATTGACACC_EPEN  \\\n",
       "Reps1                           88                         29   \n",
       "Soga3                          131                        124   \n",
       "Rps15                          158                        219   \n",
       "Anks1b                         241                        207   \n",
       "Eea1                           251                        214   \n",
       "...                            ...                        ...   \n",
       "n-R5s71                          1                          0   \n",
       "n-R5s72                          0                          0   \n",
       "n-R5s85                          1                          0   \n",
       "n-R5s88                          0                          0   \n",
       "n-R5s89                          0                          0   \n",
       "\n",
       "         TBI5Hip_TCCCACGCCAAC_EPEN  TBI5Hip_TTCCTGTAGACC_EPEN  \\\n",
       "Reps1                           49                         33   \n",
       "Soga3                           49                         67   \n",
       "Rps15                          346                        400   \n",
       "Anks1b                         115                        129   \n",
       "Eea1                           263                        296   \n",
       "...                            ...                        ...   \n",
       "n-R5s71                          0                          0   \n",
       "n-R5s72                          0                          0   \n",
       "n-R5s85                          1                          1   \n",
       "n-R5s88                          0                          0   \n",
       "n-R5s89                          0                          0   \n",
       "\n",
       "         TBI5Hip_ATTTAATTGAGC_EPEN  TBI5Hip_ATCCCTCGCAGC_EPEN  \n",
       "Reps1                           32                         30  \n",
       "Soga3                          100                         55  \n",
       "Rps15                          277                        429  \n",
       "Anks1b                         166                        131  \n",
       "Eea1                           336                        286  \n",
       "...                            ...                        ...  \n",
       "n-R5s71                          0                          0  \n",
       "n-R5s72                          0                          0  \n",
       "n-R5s85                          0                          0  \n",
       "n-R5s88                          0                          0  \n",
       "n-R5s89                          0                          0  \n",
       "\n",
       "[32355 rows x 29013 columns]"
      ]
     },
     "execution_count": 31,
     "metadata": {},
     "output_type": "execute_result"
    }
   ],
   "source": [
    "matrix_df = pd.DataFrame(normalized_values.T,index=list(genes.index),columns=list(cells.index))\n",
    "matrix_df = matrix_df*(10**6) # Convert to relavent units 10**6 RNA molecules per cell\n",
    "matrix_df = matrix_df.astype('int32') # counts of single molecules\n",
    "matrix_sparse = sparse.csr_matrix(matrix_df)\n",
    "sparse.save_npz(os.path.join(base,'matrix_sparse.npz'),matrix_sparse)\n",
    "matrix_df"
   ]
  },
  {
   "cell_type": "code",
   "execution_count": null,
   "metadata": {},
   "outputs": [],
   "source": [
    "matrix_sparse = sparse.load_npz(os.path.join(base,'matrix_sparse.npz'))\n",
    "matrix_df = pd.DataFrame(matrix_sparse.A,index=list(genes.index),columns=list(cells.index))"
   ]
  },
  {
   "cell_type": "markdown",
   "metadata": {},
   "source": [
    "# Generating Measurement Matrix"
   ]
  },
  {
   "cell_type": "markdown",
   "metadata": {},
   "source": [
    "### Filtering Genes by Expression"
   ]
  },
  {
   "cell_type": "code",
   "execution_count": 45,
   "metadata": {},
   "outputs": [
    {
     "data": {
      "application/vnd.jupyter.widget-view+json": {
       "model_id": "7878ea76cb8d421f8e81bdd0ef248df4",
       "version_major": 2,
       "version_minor": 0
      },
      "text/plain": [
       "HBox(children=(FloatProgress(value=0.0, max=32355.0), HTML(value='')))"
      ]
     },
     "metadata": {},
     "output_type": "display_data"
    },
    {
     "name": "stdout",
     "output_type": "stream",
     "text": [
      "\n"
     ]
    }
   ],
   "source": [
    "\"\"\"\n",
    "if a transcript is lowly expressed across all cells\n",
    "it is not worth probing for \n",
    "(less than 5 copies in more than 90% of the cells)\n",
    "\"\"\"\n",
    "temp_df = matrix_df.T\n",
    "copies = 5\n",
    "thresh = int(len(cells)*0.1) \n",
    "ncells = []\n",
    "for gene in tqdm.tqdm(temp_df.columns,mininterval=0.5):\n",
    "    temp = temp_df[gene]\n",
    "    ncells.append(len(temp[temp>=copies]))\n",
    "filtered_matrix_df = matrix_df[np.array(ncells)>=thresh]"
   ]
  },
  {
   "cell_type": "code",
   "execution_count": 33,
   "metadata": {},
   "outputs": [
    {
     "data": {
      "image/png": "[encoded data removed]",
      "text/plain": [
       "<Figure size 432x288 with 1 Axes>"
      ]
     },
     "metadata": {
      "needs_background": "light"
     },
     "output_type": "display_data"
    }
   ],
   "source": [
    "plt.hist(np.log10(np.array(ncells)+1),bins=100)\n",
    "plt.xlabel('number of cells >5 copies')\n",
    "plt.show()"
   ]
  },
  {
   "cell_type": "code",
   "execution_count": 34,
   "metadata": {},
   "outputs": [
    {
     "data": {
      "image/png": "[encoded data removed]",
      "text/plain": [
       "<Figure size 432x288 with 1 Axes>"
      ]
     },
     "metadata": {
      "needs_background": "light"
     },
     "output_type": "display_data"
    }
   ],
   "source": [
    "avg = np.average(matrix_df,axis=1)\n",
    "plt.scatter(np.log10(np.array(ncells)+1),np.log10(avg+1),s=0.1,alpha=0.5)\n",
    "plt.xlabel('number of cells >5 copies')\n",
    "plt.ylabel('average expression')\n",
    "plt.show()"
   ]
  },
  {
   "cell_type": "markdown",
   "metadata": {},
   "source": [
    "### Filtering Genes By Variance"
   ]
  },
  {
   "cell_type": "code",
   "execution_count": 35,
   "metadata": {
    "scrolled": true
   },
   "outputs": [],
   "source": [
    "# \"\"\"\n",
    "# If a gene is expressed consistantly across cells\n",
    "# then it wont explain additional information about \n",
    "# variance between cells\n",
    "# (relative standard dev less than 2)\n",
    "# \"\"\"\n",
    "# avg = np.average(filtered_matrix_df,axis=1)\n",
    "# std = np.std(filtered_matrix_df,axis=1)\n",
    "# rstd = np.divide(std,avg)\n",
    "# filtered_matrix_df = filtered_matrix_df[rstd>=2]"
   ]
  },
  {
   "cell_type": "code",
   "execution_count": 36,
   "metadata": {},
   "outputs": [
    {
     "data": {
      "image/png": "[encoded data removed]",
      "text/plain": [
       "<Figure size 432x288 with 1 Axes>"
      ]
     },
     "metadata": {
      "needs_background": "light"
     },
     "output_type": "display_data"
    }
   ],
   "source": [
    "plt.hist(rstd,bins=100)\n",
    "plt.xlabel('relative standard dev')\n",
    "plt.show()"
   ]
  },
  {
   "cell_type": "code",
   "execution_count": 37,
   "metadata": {},
   "outputs": [
    {
     "data": {
      "image/png": "[encoded data removed]",
      "text/plain": [
       "<Figure size 432x288 with 1 Axes>"
      ]
     },
     "metadata": {
      "needs_background": "light"
     },
     "output_type": "display_data"
    }
   ],
   "source": [
    "plt.scatter(np.log10(avg),rstd,s=0.1,alpha=0.5)\n",
    "plt.xlabel('average')\n",
    "plt.ylabel('relative std')\n",
    "plt.show()"
   ]
  },
  {
   "cell_type": "markdown",
   "metadata": {},
   "source": [
    "## Approaches to Creating Measurement Matrix"
   ]
  },
  {
   "cell_type": "code",
   "execution_count": 47,
   "metadata": {},
   "outputs": [],
   "source": [
    "class CompressedSensingClass(object):\n",
    "    def __init__(self,matrix,latent,info_df,\n",
    "                 avg=[],\n",
    "                 std=[],\n",
    "                 zscore=[],\n",
    "                 which_genes=[],\n",
    "                 subsample=1000,\n",
    "                 noise = 0.1,\n",
    "                 metric='cell_type',\n",
    "                 nblanks=None,\n",
    "                 npos=1000,\n",
    "                 nbits=18,\n",
    "                 ncpu=1,\n",
    "                 pop_ncpu=1,\n",
    "                 keepers=10,\n",
    "                 mutation_rate=0.1,\n",
    "                 offspring_number=0,\n",
    "                 mutation_number=0,\n",
    "                 k=100,\n",
    "                 sample=1000,\n",
    "                 survivors=[],\n",
    "                 iterations=100,\n",
    "                 base_path='',\n",
    "                 color='r',\n",
    "                 fresh=True,\n",
    "                 verbose=True):\n",
    "        matrix = matrix.astype('int16')\n",
    "        self.noise = noise\n",
    "        self.metric = metric\n",
    "        self.info_df = info_df\n",
    "        self.cell_types = self.info_df.cell_type.unique()\n",
    "        self.fresh = fresh\n",
    "        self.verbose = verbose\n",
    "        if base_path == '':\n",
    "            base_path = os.path.join(os.getcwd(),'Results')\n",
    "        self.base_path = base_path\n",
    "        if not os.path.exists(self.base_path):\n",
    "            os.mkdir(self.base_path)\n",
    "        self.cells = list(matrix.columns)\n",
    "        self.ncells = len(self.cells)\n",
    "        self.full_matrix = matrix\n",
    "        if nblanks==None:\n",
    "            nblanks = npos\n",
    "        if nblanks>0:\n",
    "            blanks = pd.DataFrame(np.zeros((nblanks,self.ncells)),index=['blank'+str(i)for i in range(nblanks)],columns=self.cells)\n",
    "            if len(which_genes)==0:\n",
    "                self.matrix = pd.concat([matrix,blanks])\n",
    "            else:\n",
    "                self.matrix = pd.concat([matrix.loc[which_genes],blanks])\n",
    "        else:\n",
    "            if len(which_genes)==0:\n",
    "                self.matrix = matrix\n",
    "            else:\n",
    "                self.matrix = matrix.loc[which_genes]\n",
    "                \n",
    "        if len(std)==0:\n",
    "            self.std = np.std(self.full_matrix,axis=1)\n",
    "        else:\n",
    "            self.std=std\n",
    "        if len(avg)==0:\n",
    "            self.avg = np.average(self.full_matrix,axis=1)\n",
    "        else:\n",
    "            self.avg = avg\n",
    "        if len(zscore)==0:\n",
    "            self.zscore = np.divide(np.subtract(self.full_matrix,avg[:,None]),std[:,None]).fillna(0)\n",
    "        else:\n",
    "            self.zscore = zscore\n",
    "        non_zero = self.full_matrix.index[avg>0]\n",
    "        self.zscore = self.zscore.loc[non_zero]\n",
    "        self.avg = avg[avg>0]\n",
    "        self.std = std[avg>0]\n",
    "        if subsample>0:\n",
    "            random_genes = random.sample(range(len(self.zscore)),subsample)\n",
    "            self.zscore = self.zscore.iloc[random_genes]\n",
    "            self.avg = self.avg[random_genes]\n",
    "            self.std = self.std[random_genes]\n",
    "        self.nblanks = nblanks\n",
    "        self.genes = list(self.matrix.index)\n",
    "        self.ngenes = len(self.genes)\n",
    "        self.npos = npos\n",
    "        self.nbits = nbits\n",
    "        self.ncpu = ncpu\n",
    "        self.pop_ncpu = pop_ncpu\n",
    "        self.keepers = keepers\n",
    "        self.ideal = np.zeros(self.ngenes)\n",
    "        self.ideal[0:npos] = 1\n",
    "        self.ideal = list(self.ideal)\n",
    "        self.mutation_rate = mutation_rate\n",
    "        self.offspring_number = offspring_number\n",
    "        self.mutation_number = mutation_number\n",
    "        self.k = k # could infer\n",
    "        self.sample = sample\n",
    "        self.survivors = survivors\n",
    "        self.iterations = iterations\n",
    "        self.color = color\n",
    "\n",
    "    def generate_random(self):\n",
    "        species = np.zeros((self.ngenes,self.nbits))\n",
    "        mutable = int(self.npos)\n",
    "        y = random.choices(range(self.nbits),k=mutable)\n",
    "        x = random.choices(range(self.ngenes),k=mutable)\n",
    "        species[x,y] = 1\n",
    "        return species\n",
    "\n",
    "    def generate_starting_survivors(self):\n",
    "        survivors = []\n",
    "        for k in range(self.keepers):\n",
    "            survivors.append(self.generate_random())\n",
    "        self.survivors = survivors\n",
    "\n",
    "    def generate_mutations(self,species):\n",
    "        mutated = species.copy()\n",
    "        possible_mutations = self.generate_random()\n",
    "        mutable = int(random.random()*self.mutation_rate*self.ngenes*self.nbits)\n",
    "        y = random.choices(range(self.nbits),k=mutable)\n",
    "        x = random.choices(range(self.ngenes),k=mutable)\n",
    "        mutated[x,y] = possible_mutations[x,y]\n",
    "        return mutated\n",
    "\n",
    "    def generate_offspring(self,species,mate):\n",
    "        offspring = species.copy()\n",
    "        mutable = int(0.5*self.ngenes*self.nbits)\n",
    "        y = random.choices(range(self.nbits),k=mutable)\n",
    "        x = random.choices(range(self.ngenes),k=mutable)\n",
    "        offspring[x,y] = mate[x,y]\n",
    "        return offspring\n",
    "\n",
    "    def generate_progenerators(self):\n",
    "        progenerators = self.survivors.copy()\n",
    "        for species in self.survivors:\n",
    "            for i in range(self.offspring_number):\n",
    "                mate = self.survivors[random.randint(0,self.keepers-1)].copy()\n",
    "                progenerators.append(self.generate_offspring(species,mate))\n",
    "        self.progenerators = progenerators\n",
    "\n",
    "    def pfunc_generate_mutations(self,species):\n",
    "        ppopulation = []\n",
    "        for i in range(self.mutation_number):\n",
    "            ppopulation.append(self.generate_mutations(species))\n",
    "        return ppopulation\n",
    "\n",
    "    def generate_population(self):\n",
    "        population = self.progenerators.copy()\n",
    "        if self.mutation_number>0:\n",
    "            if self.pop_ncpu==1:\n",
    "                for species in self.progenerators:\n",
    "                    for i in range(self.mutation_number):\n",
    "                        population.append(self.generate_mutations(species))\n",
    "            else:\n",
    "                sys.stdout.flush()\n",
    "                with Pool(self.pop_ncpu) as p:\n",
    "                    for ppopulation in p.imap(self.pfunc_generate_mutations,self.progenerators,chunksize=1):\n",
    "                        for species in ppopulation:\n",
    "                            population.append(species)\n",
    "                sys.stdout.flush()\n",
    "        self.population = population\n",
    "\n",
    "    def generate_compressed(self,species):\n",
    "        compressed = pd.DataFrame(index=self.cells)\n",
    "        temp_matrix = np.array(self.matrix)\n",
    "        out = []\n",
    "        for i in range(self.nbits):\n",
    "            compressed[i] = np.sum(np.multiply(temp_matrix,species[:,i][...,None]),axis=0)\n",
    "        return compressed\n",
    "\n",
    "    def calculate_metric(self,compressed):\n",
    "        X = np.array(compressed.copy())\n",
    "        cells = np.array(self.cells)\n",
    "        n = random.sample(list(range(self.ncells)),int(self.sample*self.ncells))\n",
    "        noise = np.random.randn(len(n),self.nbits)\n",
    "        sim = X[n,:]+(self.noise*X[n,:]*noise)\n",
    "        dist = euclidean_distances(X, sim)\n",
    "        rank = dist.argpartition(self.k+1,axis=0)[:self.k+1,:]\n",
    "        metrics = []\n",
    "        for i,idx in enumerate(n):\n",
    "            cell = cells[idx]\n",
    "            knn = cells[rank[:,i]]\n",
    "            knn = knn[knn!=cell]\n",
    "            if self.metric =='imputation':\n",
    "                zsig = self.zscore[cell]\n",
    "                znn = np.average(self.zscore[knn[1:]],axis=1)\n",
    "                metric = spearmanr(zsig,znn)[0]\n",
    "            elif self.metric == 'cell_type':\n",
    "                cell = self.info_df.loc[knn[0]].cell_type\n",
    "                temp_df = self.info_df.loc[knn[1:]]\n",
    "                metric = len(temp_df[temp_df.cell_type==cell])/self.k\n",
    "            elif self.metric == 'dendogram':\n",
    "                print('Not implemented')\n",
    "            metrics.append(metric)\n",
    "        metric = np.average(metrics)\n",
    "        return metric\n",
    "\n",
    "    def pfunc(self,species):\n",
    "        compressed = self.generate_compressed(species)\n",
    "        metric = self.calculate_metric(compressed)\n",
    "        return species,compressed,metric\n",
    "    \n",
    "    def selection(self):\n",
    "        new_population = []\n",
    "        compresseds = []\n",
    "        metrics = []\n",
    "        if self.ncpu==1:\n",
    "            for species in tqdm.tqdm(self.population):\n",
    "                species,compressed,metric = self.pfunc(species)\n",
    "                new_population.append(species)\n",
    "                compresseds.append(compressed)\n",
    "                metrics.append(metric)\n",
    "        else:\n",
    "            sys.stdout.flush()\n",
    "            with Pool(self.ncpu) as p:\n",
    "                for species,compressed,metric in tqdm.tqdm(p.imap(self.pfunc,self.population,chunksize=1),total=len(self.population)):\n",
    "                    new_population.append(species)\n",
    "                    compresseds.append(compressed)\n",
    "                    metrics.append(metric)\n",
    "            sys.stdout.flush()\n",
    "        df = pd.DataFrame(index=range(len(self.population)))\n",
    "        df['population'] = new_population\n",
    "        df['metrics'] = metrics\n",
    "        df['compresseds'] = compresseds\n",
    "        df = df.sort_values('metrics',ascending=False)\n",
    "        survivors = df.iloc[:self.keepers]\n",
    "        self.metrics = list(survivors['metrics'])\n",
    "        self.compresseds = list(survivors['compresseds'])\n",
    "        self.survivors = list(survivors['population'])\n",
    "        self.elite_survivor = self.survivors[0]\n",
    "    \n",
    "    def populate(self):\n",
    "        self.generate_progenerators()\n",
    "        self.generate_population()\n",
    "            \n",
    "    def evolve(self):\n",
    "        start_time = time.time()\n",
    "        self.X = []\n",
    "        self.Y = []\n",
    "        self.max = []\n",
    "        self.min = []\n",
    "        if len(self.survivors) != self.keepers:\n",
    "            self.generate_starting_survivors()\n",
    "        display.clear_output(wait=True)\n",
    "        for I in range(self.iterations):\n",
    "            if self.verbose:\n",
    "                print('Iteration '+str(I))\n",
    "            self.populate()\n",
    "            if self.verbose:\n",
    "                print('Population Generated '+str(len(self.population)))\n",
    "            self.selection()\n",
    "            if self.verbose:\n",
    "                print('Selection Complete')\n",
    "            pickle.dump(self.elite_survivor,open(os.path.join(self.base_path,str('elite_survivor_'+str(I)+'.pkl')),'wb'))\n",
    "            pickle.dump(self.survivors,open(os.path.join(self.base_path,str('survivors_'+str(I)+'.pkl')),'wb'))\n",
    "            pickle.dump(self.metrics,open(os.path.join(self.base_path,str('metrics_'+str(I)+'.pkl')),'wb'))\n",
    "            pickle.dump(self.compresseds,open(os.path.join(self.base_path,str('compresseds_'+str(I)+'.pkl')),'wb'))\n",
    "            avg = np.average(self.metrics)\n",
    "            std = np.std(self.metrics) \n",
    "            self.X.append((time.time()-start_time)/(60*60))\n",
    "            self.Y.append(avg)\n",
    "            self.max.append(avg+std)\n",
    "            self.min.append(avg-std)\n",
    "            if self.verbose:\n",
    "                pl.plot(self.X,self.Y,c='k',linewidth=1)\n",
    "                pl.fill_between(self.X,self.max,self.min,color=self.color)\n",
    "                if self.metric =='imputation':\n",
    "                    pl.ylabel('Zscore correlation')\n",
    "                elif self.metric == 'cell_type':\n",
    "                    pl.ylabel('Average % Accurate')\n",
    "                elif self.metric == 'dendogram':\n",
    "                    pl.ylabel('Average metric')\n",
    "                pl.xlabel('Time Hours')\n",
    "                display.clear_output(wait=True)\n",
    "                display.display(pl.gcf())\n",
    "            if I>10:\n",
    "                if np.average(self.Y[-5:])==self.Y[-1]:\n",
    "                    break\n",
    "        if self.verbose:\n",
    "            display.clear_output(wait=True)"
   ]
  },
  {
   "cell_type": "code",
   "execution_count": 39,
   "metadata": {},
   "outputs": [],
   "source": [
    "avg = np.average(matrix_df,axis=1)\n",
    "std = np.std(matrix_df,axis=1)\n",
    "zscore = np.divide(np.subtract(matrix_df,avg[:,None]),std[:,None]).fillna(0)"
   ]
  },
  {
   "cell_type": "markdown",
   "metadata": {},
   "source": [
    "### Genetic Algorithm\n",
    "Starting with a random matrix(genes prefiltered) you can calculate metrics about how much information is preserved in the compressed measurement. The metric we are using is the correlation on the gene expression(in zscore) between a cell and its 10 nearest neighbors in the compressed space. measurement matricies that score well are preserved while those that do poorly are eliminated. survivors are crossed( 50% of matrix from each mate) and mutated (20% of matrix is crossed with a random matrix). Correlation is calculated for each new measurement matrix and the process is repeated. The hope is that there are gene sets that are non random that preserve more signal. while the total possible space of measurement matricies is vast a GA may navigate the landscape to aproach spaces that preserve as much information as possible. "
   ]
  },
  {
   "cell_type": "code",
   "execution_count": 48,
   "metadata": {
    "scrolled": true
   },
   "outputs": [
    {
     "data": {
      "image/png": "[encoded data removed]",
      "text/plain": [
       "<Figure size 432x288 with 1 Axes>"
      ]
     },
     "metadata": {},
     "output_type": "display_data"
    },
    {
     "name": "stdout",
     "output_type": "stream",
     "text": [
      "Iteration 52\n",
      "Population Generated 9\n"
     ]
    },
    {
     "data": {
      "application/vnd.jupyter.widget-view+json": {
       "model_id": "d82c89afa8f74992b4bc4e914cdfc684",
       "version_major": 2,
       "version_minor": 0
      },
      "text/plain": [
       "HBox(children=(FloatProgress(value=0.0, max=9.0), HTML(value='')))"
      ]
     },
     "metadata": {},
     "output_type": "display_data"
    },
    {
     "ename": "KeyboardInterrupt",
     "evalue": "",
     "output_type": "error",
     "traceback": [
      "\u001b[0;31m---------------------------------------------------------------------------\u001b[0m",
      "\u001b[0;31mKeyboardInterrupt\u001b[0m                         Traceback (most recent call last)",
      "\u001b[0;32m<ipython-input-48-7a94e07f0fd7>\u001b[0m in \u001b[0;36m<module>\u001b[0;34m\u001b[0m\n\u001b[1;32m     25\u001b[0m                              \u001b[0mfresh\u001b[0m\u001b[0;34m=\u001b[0m\u001b[0;32mTrue\u001b[0m\u001b[0;34m,\u001b[0m\u001b[0;34m\u001b[0m\u001b[0;34m\u001b[0m\u001b[0m\n\u001b[1;32m     26\u001b[0m                              verbose=True)\n\u001b[0;32m---> 27\u001b[0;31m \u001b[0mCSC\u001b[0m\u001b[0;34m.\u001b[0m\u001b[0mevolve\u001b[0m\u001b[0;34m(\u001b[0m\u001b[0;34m)\u001b[0m\u001b[0;34m\u001b[0m\u001b[0;34m\u001b[0m\u001b[0m\n\u001b[0m",
      "\u001b[0;32m<ipython-input-47-c547629bcca6>\u001b[0m in \u001b[0;36mevolve\u001b[0;34m(self)\u001b[0m\n\u001b[1;32m    244\u001b[0m             \u001b[0;32mif\u001b[0m \u001b[0mself\u001b[0m\u001b[0;34m.\u001b[0m\u001b[0mverbose\u001b[0m\u001b[0;34m:\u001b[0m\u001b[0;34m\u001b[0m\u001b[0;34m\u001b[0m\u001b[0m\n\u001b[1;32m    245\u001b[0m                 \u001b[0mprint\u001b[0m\u001b[0;34m(\u001b[0m\u001b[0;34m'Population Generated '\u001b[0m\u001b[0;34m+\u001b[0m\u001b[0mstr\u001b[0m\u001b[0;34m(\u001b[0m\u001b[0mlen\u001b[0m\u001b[0;34m(\u001b[0m\u001b[0mself\u001b[0m\u001b[0;34m.\u001b[0m\u001b[0mpopulation\u001b[0m\u001b[0;34m)\u001b[0m\u001b[0;34m)\u001b[0m\u001b[0;34m)\u001b[0m\u001b[0;34m\u001b[0m\u001b[0;34m\u001b[0m\u001b[0m\n\u001b[0;32m--> 246\u001b[0;31m             \u001b[0mself\u001b[0m\u001b[0;34m.\u001b[0m\u001b[0mselection\u001b[0m\u001b[0;34m(\u001b[0m\u001b[0;34m)\u001b[0m\u001b[0;34m\u001b[0m\u001b[0;34m\u001b[0m\u001b[0m\n\u001b[0m\u001b[1;32m    247\u001b[0m             \u001b[0;32mif\u001b[0m \u001b[0mself\u001b[0m\u001b[0;34m.\u001b[0m\u001b[0mverbose\u001b[0m\u001b[0;34m:\u001b[0m\u001b[0;34m\u001b[0m\u001b[0;34m\u001b[0m\u001b[0m\n\u001b[1;32m    248\u001b[0m                 \u001b[0mprint\u001b[0m\u001b[0;34m(\u001b[0m\u001b[0;34m'Selection Complete'\u001b[0m\u001b[0;34m)\u001b[0m\u001b[0;34m\u001b[0m\u001b[0;34m\u001b[0m\u001b[0m\n",
      "\u001b[0;32m<ipython-input-47-c547629bcca6>\u001b[0m in \u001b[0;36mselection\u001b[0;34m(self)\u001b[0m\n\u001b[1;32m    202\u001b[0m         \u001b[0;32mif\u001b[0m \u001b[0mself\u001b[0m\u001b[0;34m.\u001b[0m\u001b[0mncpu\u001b[0m\u001b[0;34m==\u001b[0m\u001b[0;36m1\u001b[0m\u001b[0;34m:\u001b[0m\u001b[0;34m\u001b[0m\u001b[0;34m\u001b[0m\u001b[0m\n\u001b[1;32m    203\u001b[0m             \u001b[0;32mfor\u001b[0m \u001b[0mspecies\u001b[0m \u001b[0;32min\u001b[0m \u001b[0mtqdm\u001b[0m\u001b[0;34m.\u001b[0m\u001b[0mtqdm\u001b[0m\u001b[0;34m(\u001b[0m\u001b[0mself\u001b[0m\u001b[0;34m.\u001b[0m\u001b[0mpopulation\u001b[0m\u001b[0;34m)\u001b[0m\u001b[0;34m:\u001b[0m\u001b[0;34m\u001b[0m\u001b[0;34m\u001b[0m\u001b[0m\n\u001b[0;32m--> 204\u001b[0;31m                 \u001b[0mspecies\u001b[0m\u001b[0;34m,\u001b[0m\u001b[0mcompressed\u001b[0m\u001b[0;34m,\u001b[0m\u001b[0mmetric\u001b[0m \u001b[0;34m=\u001b[0m \u001b[0mself\u001b[0m\u001b[0;34m.\u001b[0m\u001b[0mpfunc\u001b[0m\u001b[0;34m(\u001b[0m\u001b[0mspecies\u001b[0m\u001b[0;34m)\u001b[0m\u001b[0;34m\u001b[0m\u001b[0;34m\u001b[0m\u001b[0m\n\u001b[0m\u001b[1;32m    205\u001b[0m                 \u001b[0mnew_population\u001b[0m\u001b[0;34m.\u001b[0m\u001b[0mappend\u001b[0m\u001b[0;34m(\u001b[0m\u001b[0mspecies\u001b[0m\u001b[0;34m)\u001b[0m\u001b[0;34m\u001b[0m\u001b[0;34m\u001b[0m\u001b[0m\n\u001b[1;32m    206\u001b[0m                 \u001b[0mcompresseds\u001b[0m\u001b[0;34m.\u001b[0m\u001b[0mappend\u001b[0m\u001b[0;34m(\u001b[0m\u001b[0mcompressed\u001b[0m\u001b[0;34m)\u001b[0m\u001b[0;34m\u001b[0m\u001b[0;34m\u001b[0m\u001b[0m\n",
      "\u001b[0;32m<ipython-input-47-c547629bcca6>\u001b[0m in \u001b[0;36mpfunc\u001b[0;34m(self, species)\u001b[0m\n\u001b[1;32m    192\u001b[0m \u001b[0;34m\u001b[0m\u001b[0m\n\u001b[1;32m    193\u001b[0m     \u001b[0;32mdef\u001b[0m \u001b[0mpfunc\u001b[0m\u001b[0;34m(\u001b[0m\u001b[0mself\u001b[0m\u001b[0;34m,\u001b[0m\u001b[0mspecies\u001b[0m\u001b[0;34m)\u001b[0m\u001b[0;34m:\u001b[0m\u001b[0;34m\u001b[0m\u001b[0;34m\u001b[0m\u001b[0m\n\u001b[0;32m--> 194\u001b[0;31m         \u001b[0mcompressed\u001b[0m \u001b[0;34m=\u001b[0m \u001b[0mself\u001b[0m\u001b[0;34m.\u001b[0m\u001b[0mgenerate_compressed\u001b[0m\u001b[0;34m(\u001b[0m\u001b[0mspecies\u001b[0m\u001b[0;34m)\u001b[0m\u001b[0;34m\u001b[0m\u001b[0;34m\u001b[0m\u001b[0m\n\u001b[0m\u001b[1;32m    195\u001b[0m         \u001b[0mmetric\u001b[0m \u001b[0;34m=\u001b[0m \u001b[0mself\u001b[0m\u001b[0;34m.\u001b[0m\u001b[0mcalculate_metric\u001b[0m\u001b[0;34m(\u001b[0m\u001b[0mcompressed\u001b[0m\u001b[0;34m)\u001b[0m\u001b[0;34m\u001b[0m\u001b[0;34m\u001b[0m\u001b[0m\n\u001b[1;32m    196\u001b[0m         \u001b[0;32mreturn\u001b[0m \u001b[0mspecies\u001b[0m\u001b[0;34m,\u001b[0m\u001b[0mcompressed\u001b[0m\u001b[0;34m,\u001b[0m\u001b[0mmetric\u001b[0m\u001b[0;34m\u001b[0m\u001b[0;34m\u001b[0m\u001b[0m\n",
      "\u001b[0;32m<ipython-input-47-c547629bcca6>\u001b[0m in \u001b[0;36mgenerate_compressed\u001b[0;34m(self, species)\u001b[0m\n\u001b[1;32m    161\u001b[0m         \u001b[0mout\u001b[0m \u001b[0;34m=\u001b[0m \u001b[0;34m[\u001b[0m\u001b[0;34m]\u001b[0m\u001b[0;34m\u001b[0m\u001b[0;34m\u001b[0m\u001b[0m\n\u001b[1;32m    162\u001b[0m         \u001b[0;32mfor\u001b[0m \u001b[0mi\u001b[0m \u001b[0;32min\u001b[0m \u001b[0mrange\u001b[0m\u001b[0;34m(\u001b[0m\u001b[0mself\u001b[0m\u001b[0;34m.\u001b[0m\u001b[0mnbits\u001b[0m\u001b[0;34m)\u001b[0m\u001b[0;34m:\u001b[0m\u001b[0;34m\u001b[0m\u001b[0;34m\u001b[0m\u001b[0m\n\u001b[0;32m--> 163\u001b[0;31m             \u001b[0mcompressed\u001b[0m\u001b[0;34m[\u001b[0m\u001b[0mi\u001b[0m\u001b[0;34m]\u001b[0m \u001b[0;34m=\u001b[0m \u001b[0mnp\u001b[0m\u001b[0;34m.\u001b[0m\u001b[0msum\u001b[0m\u001b[0;34m(\u001b[0m\u001b[0mnp\u001b[0m\u001b[0;34m.\u001b[0m\u001b[0mmultiply\u001b[0m\u001b[0;34m(\u001b[0m\u001b[0mtemp_matrix\u001b[0m\u001b[0;34m,\u001b[0m\u001b[0mspecies\u001b[0m\u001b[0;34m[\u001b[0m\u001b[0;34m:\u001b[0m\u001b[0;34m,\u001b[0m\u001b[0mi\u001b[0m\u001b[0;34m]\u001b[0m\u001b[0;34m[\u001b[0m\u001b[0;34m...\u001b[0m\u001b[0;34m,\u001b[0m\u001b[0;32mNone\u001b[0m\u001b[0;34m]\u001b[0m\u001b[0;34m)\u001b[0m\u001b[0;34m,\u001b[0m\u001b[0maxis\u001b[0m\u001b[0;34m=\u001b[0m\u001b[0;36m0\u001b[0m\u001b[0;34m)\u001b[0m\u001b[0;34m\u001b[0m\u001b[0;34m\u001b[0m\u001b[0m\n\u001b[0m\u001b[1;32m    164\u001b[0m         \u001b[0;32mreturn\u001b[0m \u001b[0mcompressed\u001b[0m\u001b[0;34m\u001b[0m\u001b[0;34m\u001b[0m\u001b[0m\n\u001b[1;32m    165\u001b[0m \u001b[0;34m\u001b[0m\u001b[0m\n",
      "\u001b[0;31mKeyboardInterrupt\u001b[0m: "
     ]
    },
    {
     "data": {
      "image/png": "[encoded data removed]",
      "text/plain": [
       "<Figure size 432x288 with 1 Axes>"
      ]
     },
     "metadata": {
      "needs_background": "light"
     },
     "output_type": "display_data"
    }
   ],
   "source": [
    "keepers = list(filtered_matrix_df.index)\n",
    "CSC = CompressedSensingClass(matrix_df,latent,info,\n",
    "                             avg=avg,\n",
    "                             std=std,\n",
    "                             zscore=zscore,\n",
    "                             subsample=5000,\n",
    "                             noise=0.05,\n",
    "                             which_genes=keepers,\n",
    "                             metric='imputation',\n",
    "                             nblanks=0,\n",
    "                             npos=800,\n",
    "                             nbits=18,\n",
    "                             ncpu=1,\n",
    "                             pop_ncpu=1,\n",
    "                             keepers=3,\n",
    "                             mutation_rate=0.4,\n",
    "                             offspring_number=0,\n",
    "                             mutation_number=2,\n",
    "                             k=10,\n",
    "                             sample=0.15,\n",
    "                             survivors=[],\n",
    "                             iterations=1000,\n",
    "                             base_path=base_path,\n",
    "                             color='r',\n",
    "                             fresh=True,\n",
    "                             verbose=True)\n",
    "CSC.evolve()"
   ]
  },
  {
   "cell_type": "code",
   "execution_count": 49,
   "metadata": {
    "scrolled": true
   },
   "outputs": [
    {
     "data": {
      "image/png": "[encoded data removed]",
      "text/plain": [
       "<Figure size 432x288 with 1 Axes>"
      ]
     },
     "metadata": {},
     "output_type": "display_data"
    },
    {
     "name": "stdout",
     "output_type": "stream",
     "text": [
      "Iteration 83\n",
      "Population Generated 9\n"
     ]
    },
    {
     "data": {
      "application/vnd.jupyter.widget-view+json": {
       "model_id": "40253b08f8674f5a9eec243122532059",
       "version_major": 2,
       "version_minor": 0
      },
      "text/plain": [
       "HBox(children=(FloatProgress(value=0.0, max=9.0), HTML(value='')))"
      ]
     },
     "metadata": {},
     "output_type": "display_data"
    },
    {
     "ename": "KeyboardInterrupt",
     "evalue": "",
     "output_type": "error",
     "traceback": [
      "\u001b[0;31m---------------------------------------------------------------------------\u001b[0m",
      "\u001b[0;31mKeyboardInterrupt\u001b[0m                         Traceback (most recent call last)",
      "\u001b[0;32m<ipython-input-49-3b9d950ceaf4>\u001b[0m in \u001b[0;36m<module>\u001b[0;34m\u001b[0m\n\u001b[1;32m     25\u001b[0m                              \u001b[0mfresh\u001b[0m\u001b[0;34m=\u001b[0m\u001b[0;32mTrue\u001b[0m\u001b[0;34m,\u001b[0m\u001b[0;34m\u001b[0m\u001b[0;34m\u001b[0m\u001b[0m\n\u001b[1;32m     26\u001b[0m                              verbose=True)\n\u001b[0;32m---> 27\u001b[0;31m \u001b[0mCSC\u001b[0m\u001b[0;34m.\u001b[0m\u001b[0mevolve\u001b[0m\u001b[0;34m(\u001b[0m\u001b[0;34m)\u001b[0m\u001b[0;34m\u001b[0m\u001b[0;34m\u001b[0m\u001b[0m\n\u001b[0m",
      "\u001b[0;32m<ipython-input-47-c547629bcca6>\u001b[0m in \u001b[0;36mevolve\u001b[0;34m(self)\u001b[0m\n\u001b[1;32m    244\u001b[0m             \u001b[0;32mif\u001b[0m \u001b[0mself\u001b[0m\u001b[0;34m.\u001b[0m\u001b[0mverbose\u001b[0m\u001b[0;34m:\u001b[0m\u001b[0;34m\u001b[0m\u001b[0;34m\u001b[0m\u001b[0m\n\u001b[1;32m    245\u001b[0m                 \u001b[0mprint\u001b[0m\u001b[0;34m(\u001b[0m\u001b[0;34m'Population Generated '\u001b[0m\u001b[0;34m+\u001b[0m\u001b[0mstr\u001b[0m\u001b[0;34m(\u001b[0m\u001b[0mlen\u001b[0m\u001b[0;34m(\u001b[0m\u001b[0mself\u001b[0m\u001b[0;34m.\u001b[0m\u001b[0mpopulation\u001b[0m\u001b[0;34m)\u001b[0m\u001b[0;34m)\u001b[0m\u001b[0;34m)\u001b[0m\u001b[0;34m\u001b[0m\u001b[0;34m\u001b[0m\u001b[0m\n\u001b[0;32m--> 246\u001b[0;31m             \u001b[0mself\u001b[0m\u001b[0;34m.\u001b[0m\u001b[0mselection\u001b[0m\u001b[0;34m(\u001b[0m\u001b[0;34m)\u001b[0m\u001b[0;34m\u001b[0m\u001b[0;34m\u001b[0m\u001b[0m\n\u001b[0m\u001b[1;32m    247\u001b[0m             \u001b[0;32mif\u001b[0m \u001b[0mself\u001b[0m\u001b[0;34m.\u001b[0m\u001b[0mverbose\u001b[0m\u001b[0;34m:\u001b[0m\u001b[0;34m\u001b[0m\u001b[0;34m\u001b[0m\u001b[0m\n\u001b[1;32m    248\u001b[0m                 \u001b[0mprint\u001b[0m\u001b[0;34m(\u001b[0m\u001b[0;34m'Selection Complete'\u001b[0m\u001b[0;34m)\u001b[0m\u001b[0;34m\u001b[0m\u001b[0;34m\u001b[0m\u001b[0m\n",
      "\u001b[0;32m<ipython-input-47-c547629bcca6>\u001b[0m in \u001b[0;36mselection\u001b[0;34m(self)\u001b[0m\n\u001b[1;32m    202\u001b[0m         \u001b[0;32mif\u001b[0m \u001b[0mself\u001b[0m\u001b[0;34m.\u001b[0m\u001b[0mncpu\u001b[0m\u001b[0;34m==\u001b[0m\u001b[0;36m1\u001b[0m\u001b[0;34m:\u001b[0m\u001b[0;34m\u001b[0m\u001b[0;34m\u001b[0m\u001b[0m\n\u001b[1;32m    203\u001b[0m             \u001b[0;32mfor\u001b[0m \u001b[0mspecies\u001b[0m \u001b[0;32min\u001b[0m \u001b[0mtqdm\u001b[0m\u001b[0;34m.\u001b[0m\u001b[0mtqdm\u001b[0m\u001b[0;34m(\u001b[0m\u001b[0mself\u001b[0m\u001b[0;34m.\u001b[0m\u001b[0mpopulation\u001b[0m\u001b[0;34m)\u001b[0m\u001b[0;34m:\u001b[0m\u001b[0;34m\u001b[0m\u001b[0;34m\u001b[0m\u001b[0m\n\u001b[0;32m--> 204\u001b[0;31m                 \u001b[0mspecies\u001b[0m\u001b[0;34m,\u001b[0m\u001b[0mcompressed\u001b[0m\u001b[0;34m,\u001b[0m\u001b[0mmetric\u001b[0m \u001b[0;34m=\u001b[0m \u001b[0mself\u001b[0m\u001b[0;34m.\u001b[0m\u001b[0mpfunc\u001b[0m\u001b[0;34m(\u001b[0m\u001b[0mspecies\u001b[0m\u001b[0;34m)\u001b[0m\u001b[0;34m\u001b[0m\u001b[0;34m\u001b[0m\u001b[0m\n\u001b[0m\u001b[1;32m    205\u001b[0m                 \u001b[0mnew_population\u001b[0m\u001b[0;34m.\u001b[0m\u001b[0mappend\u001b[0m\u001b[0;34m(\u001b[0m\u001b[0mspecies\u001b[0m\u001b[0;34m)\u001b[0m\u001b[0;34m\u001b[0m\u001b[0;34m\u001b[0m\u001b[0m\n\u001b[1;32m    206\u001b[0m                 \u001b[0mcompresseds\u001b[0m\u001b[0;34m.\u001b[0m\u001b[0mappend\u001b[0m\u001b[0;34m(\u001b[0m\u001b[0mcompressed\u001b[0m\u001b[0;34m)\u001b[0m\u001b[0;34m\u001b[0m\u001b[0;34m\u001b[0m\u001b[0m\n",
      "\u001b[0;32m<ipython-input-47-c547629bcca6>\u001b[0m in \u001b[0;36mpfunc\u001b[0;34m(self, species)\u001b[0m\n\u001b[1;32m    192\u001b[0m \u001b[0;34m\u001b[0m\u001b[0m\n\u001b[1;32m    193\u001b[0m     \u001b[0;32mdef\u001b[0m \u001b[0mpfunc\u001b[0m\u001b[0;34m(\u001b[0m\u001b[0mself\u001b[0m\u001b[0;34m,\u001b[0m\u001b[0mspecies\u001b[0m\u001b[0;34m)\u001b[0m\u001b[0;34m:\u001b[0m\u001b[0;34m\u001b[0m\u001b[0;34m\u001b[0m\u001b[0m\n\u001b[0;32m--> 194\u001b[0;31m         \u001b[0mcompressed\u001b[0m \u001b[0;34m=\u001b[0m \u001b[0mself\u001b[0m\u001b[0;34m.\u001b[0m\u001b[0mgenerate_compressed\u001b[0m\u001b[0;34m(\u001b[0m\u001b[0mspecies\u001b[0m\u001b[0;34m)\u001b[0m\u001b[0;34m\u001b[0m\u001b[0;34m\u001b[0m\u001b[0m\n\u001b[0m\u001b[1;32m    195\u001b[0m         \u001b[0mmetric\u001b[0m \u001b[0;34m=\u001b[0m \u001b[0mself\u001b[0m\u001b[0;34m.\u001b[0m\u001b[0mcalculate_metric\u001b[0m\u001b[0;34m(\u001b[0m\u001b[0mcompressed\u001b[0m\u001b[0;34m)\u001b[0m\u001b[0;34m\u001b[0m\u001b[0;34m\u001b[0m\u001b[0m\n\u001b[1;32m    196\u001b[0m         \u001b[0;32mreturn\u001b[0m \u001b[0mspecies\u001b[0m\u001b[0;34m,\u001b[0m\u001b[0mcompressed\u001b[0m\u001b[0;34m,\u001b[0m\u001b[0mmetric\u001b[0m\u001b[0;34m\u001b[0m\u001b[0;34m\u001b[0m\u001b[0m\n",
      "\u001b[0;32m<ipython-input-47-c547629bcca6>\u001b[0m in \u001b[0;36mgenerate_compressed\u001b[0;34m(self, species)\u001b[0m\n\u001b[1;32m    161\u001b[0m         \u001b[0mout\u001b[0m \u001b[0;34m=\u001b[0m \u001b[0;34m[\u001b[0m\u001b[0;34m]\u001b[0m\u001b[0;34m\u001b[0m\u001b[0;34m\u001b[0m\u001b[0m\n\u001b[1;32m    162\u001b[0m         \u001b[0;32mfor\u001b[0m \u001b[0mi\u001b[0m \u001b[0;32min\u001b[0m \u001b[0mrange\u001b[0m\u001b[0;34m(\u001b[0m\u001b[0mself\u001b[0m\u001b[0;34m.\u001b[0m\u001b[0mnbits\u001b[0m\u001b[0;34m)\u001b[0m\u001b[0;34m:\u001b[0m\u001b[0;34m\u001b[0m\u001b[0;34m\u001b[0m\u001b[0m\n\u001b[0;32m--> 163\u001b[0;31m             \u001b[0mcompressed\u001b[0m\u001b[0;34m[\u001b[0m\u001b[0mi\u001b[0m\u001b[0;34m]\u001b[0m \u001b[0;34m=\u001b[0m \u001b[0mnp\u001b[0m\u001b[0;34m.\u001b[0m\u001b[0msum\u001b[0m\u001b[0;34m(\u001b[0m\u001b[0mnp\u001b[0m\u001b[0;34m.\u001b[0m\u001b[0mmultiply\u001b[0m\u001b[0;34m(\u001b[0m\u001b[0mtemp_matrix\u001b[0m\u001b[0;34m,\u001b[0m\u001b[0mspecies\u001b[0m\u001b[0;34m[\u001b[0m\u001b[0;34m:\u001b[0m\u001b[0;34m,\u001b[0m\u001b[0mi\u001b[0m\u001b[0;34m]\u001b[0m\u001b[0;34m[\u001b[0m\u001b[0;34m...\u001b[0m\u001b[0;34m,\u001b[0m\u001b[0;32mNone\u001b[0m\u001b[0;34m]\u001b[0m\u001b[0;34m)\u001b[0m\u001b[0;34m,\u001b[0m\u001b[0maxis\u001b[0m\u001b[0;34m=\u001b[0m\u001b[0;36m0\u001b[0m\u001b[0;34m)\u001b[0m\u001b[0;34m\u001b[0m\u001b[0;34m\u001b[0m\u001b[0m\n\u001b[0m\u001b[1;32m    164\u001b[0m         \u001b[0;32mreturn\u001b[0m \u001b[0mcompressed\u001b[0m\u001b[0;34m\u001b[0m\u001b[0;34m\u001b[0m\u001b[0m\n\u001b[1;32m    165\u001b[0m \u001b[0;34m\u001b[0m\u001b[0m\n",
      "\u001b[0;31mKeyboardInterrupt\u001b[0m: "
     ]
    },
    {
     "data": {
      "image/png": "[encoded data removed]",
      "text/plain": [
       "<Figure size 432x288 with 1 Axes>"
      ]
     },
     "metadata": {
      "needs_background": "light"
     },
     "output_type": "display_data"
    }
   ],
   "source": [
    "keepers = list(filtered_matrix_df.index)\n",
    "CSC = CompressedSensingClass(matrix_df,latent,info,\n",
    "                             avg=avg,\n",
    "                             std=std,\n",
    "                             zscore=zscore,\n",
    "                             subsample=5000,\n",
    "                             noise=0,\n",
    "                             which_genes=keepers,\n",
    "                             metric='imputation',\n",
    "                             nblanks=0,\n",
    "                             npos=800,\n",
    "                             nbits=18,\n",
    "                             ncpu=1,\n",
    "                             pop_ncpu=1,\n",
    "                             keepers=3,\n",
    "                             mutation_rate=0.4,\n",
    "                             offspring_number=0,\n",
    "                             mutation_number=2,\n",
    "                             k=10,\n",
    "                             sample=0.15,\n",
    "                             survivors=[],\n",
    "                             iterations=1000,\n",
    "                             base_path='/bigstore/GeneralStorage/Zach/CSI/Hippocampus_CSI2/',\n",
    "                             color='r',\n",
    "                             fresh=True,\n",
    "                             verbose=True)\n",
    "CSC.evolve()"
   ]
  },
  {
   "cell_type": "code",
   "execution_count": 51,
   "metadata": {},
   "outputs": [],
   "source": [
    "survivors = pickle.load(open('/bigstore/GeneralStorage/Zach/CSI/Hippocampus_CSI2/survivors_82.pkl','rb'))"
   ]
  },
  {
   "cell_type": "code",
   "execution_count": 52,
   "metadata": {},
   "outputs": [
    {
     "data": {
      "image/png": "[encoded data removed]",
      "text/plain": [
       "<Figure size 432x288 with 1 Axes>"
      ]
     },
     "metadata": {
      "needs_background": "light"
     },
     "output_type": "display_data"
    }
   ],
   "source": [
    "keepers = list(filtered_matrix_df.index)\n",
    "CSC = CompressedSensingClass(matrix_df,latent,info,\n",
    "                             avg=avg,\n",
    "                             std=std,\n",
    "                             zscore=zscore,\n",
    "                             subsample=0,\n",
    "                             noise=0,\n",
    "                             which_genes=keepers,\n",
    "                             metric='imputation',\n",
    "                             nblanks=0,\n",
    "                             npos=800,\n",
    "                             nbits=18,\n",
    "                             ncpu=1,\n",
    "                             pop_ncpu=1,\n",
    "                             keepers=3,\n",
    "                             mutation_rate=0.4,\n",
    "                             offspring_number=0,\n",
    "                             mutation_number=2,\n",
    "                             k=10,\n",
    "                             sample=1,\n",
    "                             survivors=survivors,\n",
    "                             iterations=1000,\n",
    "                             base_path='/bigstore/GeneralStorage/Zach/CSI/Hippocampus_CSI3/',\n",
    "                             color='r',\n",
    "                             fresh=True,\n",
    "                             verbose=True)\n",
    "CSC.evolve()"
   ]
  },
  {
   "cell_type": "code",
   "execution_count": 53,
   "metadata": {
    "scrolled": true
   },
   "outputs": [
    {
     "data": {
      "image/png": "[encoded data removed]",
      "text/plain": [
       "<Figure size 432x288 with 1 Axes>"
      ]
     },
     "metadata": {},
     "output_type": "display_data"
    },
    {
     "name": "stdout",
     "output_type": "stream",
     "text": [
      "Iteration 9\n",
      "Population Generated 9\n"
     ]
    },
    {
     "data": {
      "application/vnd.jupyter.widget-view+json": {
       "model_id": "289effc56ed64617a05c95b2b0b16114",
       "version_major": 2,
       "version_minor": 0
      },
      "text/plain": [
       "HBox(children=(FloatProgress(value=0.0, max=9.0), HTML(value='')))"
      ]
     },
     "metadata": {},
     "output_type": "display_data"
    },
    {
     "ename": "KeyboardInterrupt",
     "evalue": "",
     "output_type": "error",
     "traceback": [
      "\u001b[0;31m---------------------------------------------------------------------------\u001b[0m",
      "\u001b[0;31mKeyboardInterrupt\u001b[0m                         Traceback (most recent call last)",
      "\u001b[0;32m<ipython-input-53-5a5932161011>\u001b[0m in \u001b[0;36m<module>\u001b[0;34m\u001b[0m\n\u001b[0;32m----> 1\u001b[0;31m \u001b[0mCSC\u001b[0m\u001b[0;34m.\u001b[0m\u001b[0mevolve\u001b[0m\u001b[0;34m(\u001b[0m\u001b[0;34m)\u001b[0m\u001b[0;34m\u001b[0m\u001b[0;34m\u001b[0m\u001b[0m\n\u001b[0m",
      "\u001b[0;32m<ipython-input-47-c547629bcca6>\u001b[0m in \u001b[0;36mevolve\u001b[0;34m(self)\u001b[0m\n\u001b[1;32m    244\u001b[0m             \u001b[0;32mif\u001b[0m \u001b[0mself\u001b[0m\u001b[0;34m.\u001b[0m\u001b[0mverbose\u001b[0m\u001b[0;34m:\u001b[0m\u001b[0;34m\u001b[0m\u001b[0;34m\u001b[0m\u001b[0m\n\u001b[1;32m    245\u001b[0m                 \u001b[0mprint\u001b[0m\u001b[0;34m(\u001b[0m\u001b[0;34m'Population Generated '\u001b[0m\u001b[0;34m+\u001b[0m\u001b[0mstr\u001b[0m\u001b[0;34m(\u001b[0m\u001b[0mlen\u001b[0m\u001b[0;34m(\u001b[0m\u001b[0mself\u001b[0m\u001b[0;34m.\u001b[0m\u001b[0mpopulation\u001b[0m\u001b[0;34m)\u001b[0m\u001b[0;34m)\u001b[0m\u001b[0;34m)\u001b[0m\u001b[0;34m\u001b[0m\u001b[0;34m\u001b[0m\u001b[0m\n\u001b[0;32m--> 246\u001b[0;31m             \u001b[0mself\u001b[0m\u001b[0;34m.\u001b[0m\u001b[0mselection\u001b[0m\u001b[0;34m(\u001b[0m\u001b[0;34m)\u001b[0m\u001b[0;34m\u001b[0m\u001b[0;34m\u001b[0m\u001b[0m\n\u001b[0m\u001b[1;32m    247\u001b[0m             \u001b[0;32mif\u001b[0m \u001b[0mself\u001b[0m\u001b[0;34m.\u001b[0m\u001b[0mverbose\u001b[0m\u001b[0;34m:\u001b[0m\u001b[0;34m\u001b[0m\u001b[0;34m\u001b[0m\u001b[0m\n\u001b[1;32m    248\u001b[0m                 \u001b[0mprint\u001b[0m\u001b[0;34m(\u001b[0m\u001b[0;34m'Selection Complete'\u001b[0m\u001b[0;34m)\u001b[0m\u001b[0;34m\u001b[0m\u001b[0;34m\u001b[0m\u001b[0m\n",
      "\u001b[0;32m<ipython-input-47-c547629bcca6>\u001b[0m in \u001b[0;36mselection\u001b[0;34m(self)\u001b[0m\n\u001b[1;32m    202\u001b[0m         \u001b[0;32mif\u001b[0m \u001b[0mself\u001b[0m\u001b[0;34m.\u001b[0m\u001b[0mncpu\u001b[0m\u001b[0;34m==\u001b[0m\u001b[0;36m1\u001b[0m\u001b[0;34m:\u001b[0m\u001b[0;34m\u001b[0m\u001b[0;34m\u001b[0m\u001b[0m\n\u001b[1;32m    203\u001b[0m             \u001b[0;32mfor\u001b[0m \u001b[0mspecies\u001b[0m \u001b[0;32min\u001b[0m \u001b[0mtqdm\u001b[0m\u001b[0;34m.\u001b[0m\u001b[0mtqdm\u001b[0m\u001b[0;34m(\u001b[0m\u001b[0mself\u001b[0m\u001b[0;34m.\u001b[0m\u001b[0mpopulation\u001b[0m\u001b[0;34m)\u001b[0m\u001b[0;34m:\u001b[0m\u001b[0;34m\u001b[0m\u001b[0;34m\u001b[0m\u001b[0m\n\u001b[0;32m--> 204\u001b[0;31m                 \u001b[0mspecies\u001b[0m\u001b[0;34m,\u001b[0m\u001b[0mcompressed\u001b[0m\u001b[0;34m,\u001b[0m\u001b[0mmetric\u001b[0m \u001b[0;34m=\u001b[0m \u001b[0mself\u001b[0m\u001b[0;34m.\u001b[0m\u001b[0mpfunc\u001b[0m\u001b[0;34m(\u001b[0m\u001b[0mspecies\u001b[0m\u001b[0;34m)\u001b[0m\u001b[0;34m\u001b[0m\u001b[0;34m\u001b[0m\u001b[0m\n\u001b[0m\u001b[1;32m    205\u001b[0m                 \u001b[0mnew_population\u001b[0m\u001b[0;34m.\u001b[0m\u001b[0mappend\u001b[0m\u001b[0;34m(\u001b[0m\u001b[0mspecies\u001b[0m\u001b[0;34m)\u001b[0m\u001b[0;34m\u001b[0m\u001b[0;34m\u001b[0m\u001b[0m\n\u001b[1;32m    206\u001b[0m                 \u001b[0mcompresseds\u001b[0m\u001b[0;34m.\u001b[0m\u001b[0mappend\u001b[0m\u001b[0;34m(\u001b[0m\u001b[0mcompressed\u001b[0m\u001b[0;34m)\u001b[0m\u001b[0;34m\u001b[0m\u001b[0;34m\u001b[0m\u001b[0m\n",
      "\u001b[0;32m<ipython-input-47-c547629bcca6>\u001b[0m in \u001b[0;36mpfunc\u001b[0;34m(self, species)\u001b[0m\n\u001b[1;32m    193\u001b[0m     \u001b[0;32mdef\u001b[0m \u001b[0mpfunc\u001b[0m\u001b[0;34m(\u001b[0m\u001b[0mself\u001b[0m\u001b[0;34m,\u001b[0m\u001b[0mspecies\u001b[0m\u001b[0;34m)\u001b[0m\u001b[0;34m:\u001b[0m\u001b[0;34m\u001b[0m\u001b[0;34m\u001b[0m\u001b[0m\n\u001b[1;32m    194\u001b[0m         \u001b[0mcompressed\u001b[0m \u001b[0;34m=\u001b[0m \u001b[0mself\u001b[0m\u001b[0;34m.\u001b[0m\u001b[0mgenerate_compressed\u001b[0m\u001b[0;34m(\u001b[0m\u001b[0mspecies\u001b[0m\u001b[0;34m)\u001b[0m\u001b[0;34m\u001b[0m\u001b[0;34m\u001b[0m\u001b[0m\n\u001b[0;32m--> 195\u001b[0;31m         \u001b[0mmetric\u001b[0m \u001b[0;34m=\u001b[0m \u001b[0mself\u001b[0m\u001b[0;34m.\u001b[0m\u001b[0mcalculate_metric\u001b[0m\u001b[0;34m(\u001b[0m\u001b[0mcompressed\u001b[0m\u001b[0;34m)\u001b[0m\u001b[0;34m\u001b[0m\u001b[0;34m\u001b[0m\u001b[0m\n\u001b[0m\u001b[1;32m    196\u001b[0m         \u001b[0;32mreturn\u001b[0m \u001b[0mspecies\u001b[0m\u001b[0;34m,\u001b[0m\u001b[0mcompressed\u001b[0m\u001b[0;34m,\u001b[0m\u001b[0mmetric\u001b[0m\u001b[0;34m\u001b[0m\u001b[0;34m\u001b[0m\u001b[0m\n\u001b[1;32m    197\u001b[0m \u001b[0;34m\u001b[0m\u001b[0m\n",
      "\u001b[0;32m<ipython-input-47-c547629bcca6>\u001b[0m in \u001b[0;36mcalculate_metric\u001b[0;34m(self, compressed)\u001b[0m\n\u001b[1;32m    180\u001b[0m                 \u001b[0mzsig\u001b[0m \u001b[0;34m=\u001b[0m \u001b[0mself\u001b[0m\u001b[0;34m.\u001b[0m\u001b[0mzscore\u001b[0m\u001b[0;34m[\u001b[0m\u001b[0mcell\u001b[0m\u001b[0;34m]\u001b[0m\u001b[0;34m\u001b[0m\u001b[0;34m\u001b[0m\u001b[0m\n\u001b[1;32m    181\u001b[0m                 \u001b[0mznn\u001b[0m \u001b[0;34m=\u001b[0m \u001b[0mnp\u001b[0m\u001b[0;34m.\u001b[0m\u001b[0maverage\u001b[0m\u001b[0;34m(\u001b[0m\u001b[0mself\u001b[0m\u001b[0;34m.\u001b[0m\u001b[0mzscore\u001b[0m\u001b[0;34m[\u001b[0m\u001b[0mknn\u001b[0m\u001b[0;34m[\u001b[0m\u001b[0;36m1\u001b[0m\u001b[0;34m:\u001b[0m\u001b[0;34m]\u001b[0m\u001b[0;34m]\u001b[0m\u001b[0;34m,\u001b[0m\u001b[0maxis\u001b[0m\u001b[0;34m=\u001b[0m\u001b[0;36m1\u001b[0m\u001b[0;34m)\u001b[0m\u001b[0;34m\u001b[0m\u001b[0;34m\u001b[0m\u001b[0m\n\u001b[0;32m--> 182\u001b[0;31m                 \u001b[0mmetric\u001b[0m \u001b[0;34m=\u001b[0m \u001b[0mspearmanr\u001b[0m\u001b[0;34m(\u001b[0m\u001b[0mzsig\u001b[0m\u001b[0;34m,\u001b[0m\u001b[0mznn\u001b[0m\u001b[0;34m)\u001b[0m\u001b[0;34m[\u001b[0m\u001b[0;36m0\u001b[0m\u001b[0;34m]\u001b[0m\u001b[0;34m\u001b[0m\u001b[0;34m\u001b[0m\u001b[0m\n\u001b[0m\u001b[1;32m    183\u001b[0m             \u001b[0;32melif\u001b[0m \u001b[0mself\u001b[0m\u001b[0;34m.\u001b[0m\u001b[0mmetric\u001b[0m \u001b[0;34m==\u001b[0m \u001b[0;34m'cell_type'\u001b[0m\u001b[0;34m:\u001b[0m\u001b[0;34m\u001b[0m\u001b[0;34m\u001b[0m\u001b[0m\n\u001b[1;32m    184\u001b[0m                 \u001b[0mcell\u001b[0m \u001b[0;34m=\u001b[0m \u001b[0mself\u001b[0m\u001b[0;34m.\u001b[0m\u001b[0minfo_df\u001b[0m\u001b[0;34m.\u001b[0m\u001b[0mloc\u001b[0m\u001b[0;34m[\u001b[0m\u001b[0mknn\u001b[0m\u001b[0;34m[\u001b[0m\u001b[0;36m0\u001b[0m\u001b[0;34m]\u001b[0m\u001b[0;34m]\u001b[0m\u001b[0;34m.\u001b[0m\u001b[0mcell_type\u001b[0m\u001b[0;34m\u001b[0m\u001b[0;34m\u001b[0m\u001b[0m\n",
      "\u001b[0;32m~/miniconda3/envs/pytorch/lib/python3.6/site-packages/scipy/stats/stats.py\u001b[0m in \u001b[0;36mspearmanr\u001b[0;34m(a, b, axis, nan_policy)\u001b[0m\n\u001b[1;32m   3741\u001b[0m                 \u001b[0mvariable_has_nan\u001b[0m \u001b[0;34m=\u001b[0m \u001b[0mnp\u001b[0m\u001b[0;34m.\u001b[0m\u001b[0misnan\u001b[0m\u001b[0;34m(\u001b[0m\u001b[0ma\u001b[0m\u001b[0;34m)\u001b[0m\u001b[0;34m.\u001b[0m\u001b[0msum\u001b[0m\u001b[0;34m(\u001b[0m\u001b[0maxis\u001b[0m\u001b[0;34m=\u001b[0m\u001b[0maxisout\u001b[0m\u001b[0;34m)\u001b[0m\u001b[0;34m\u001b[0m\u001b[0;34m\u001b[0m\u001b[0m\n\u001b[1;32m   3742\u001b[0m \u001b[0;34m\u001b[0m\u001b[0m\n\u001b[0;32m-> 3743\u001b[0;31m     \u001b[0ma_ranked\u001b[0m \u001b[0;34m=\u001b[0m \u001b[0mnp\u001b[0m\u001b[0;34m.\u001b[0m\u001b[0mapply_along_axis\u001b[0m\u001b[0;34m(\u001b[0m\u001b[0mrankdata\u001b[0m\u001b[0;34m,\u001b[0m \u001b[0maxisout\u001b[0m\u001b[0;34m,\u001b[0m \u001b[0ma\u001b[0m\u001b[0;34m)\u001b[0m\u001b[0;34m\u001b[0m\u001b[0;34m\u001b[0m\u001b[0m\n\u001b[0m\u001b[1;32m   3744\u001b[0m     \u001b[0mrs\u001b[0m \u001b[0;34m=\u001b[0m \u001b[0mnp\u001b[0m\u001b[0;34m.\u001b[0m\u001b[0mcorrcoef\u001b[0m\u001b[0;34m(\u001b[0m\u001b[0ma_ranked\u001b[0m\u001b[0;34m,\u001b[0m \u001b[0mrowvar\u001b[0m\u001b[0;34m=\u001b[0m\u001b[0maxisout\u001b[0m\u001b[0;34m)\u001b[0m\u001b[0;34m\u001b[0m\u001b[0;34m\u001b[0m\u001b[0m\n\u001b[1;32m   3745\u001b[0m     \u001b[0mdof\u001b[0m \u001b[0;34m=\u001b[0m \u001b[0mn_obs\u001b[0m \u001b[0;34m-\u001b[0m \u001b[0;36m2\u001b[0m  \u001b[0;31m# degrees of freedom\u001b[0m\u001b[0;34m\u001b[0m\u001b[0;34m\u001b[0m\u001b[0m\n",
      "\u001b[0;32m<__array_function__ internals>\u001b[0m in \u001b[0;36mapply_along_axis\u001b[0;34m(*args, **kwargs)\u001b[0m\n",
      "\u001b[0;32m~/miniconda3/envs/pytorch/lib/python3.6/site-packages/numpy/lib/shape_base.py\u001b[0m in \u001b[0;36mapply_along_axis\u001b[0;34m(func1d, axis, arr, *args, **kwargs)\u001b[0m\n\u001b[1;32m    400\u001b[0m     \u001b[0mbuff\u001b[0m\u001b[0;34m[\u001b[0m\u001b[0mind0\u001b[0m\u001b[0;34m]\u001b[0m \u001b[0;34m=\u001b[0m \u001b[0mres\u001b[0m\u001b[0;34m\u001b[0m\u001b[0;34m\u001b[0m\u001b[0m\n\u001b[1;32m    401\u001b[0m     \u001b[0;32mfor\u001b[0m \u001b[0mind\u001b[0m \u001b[0;32min\u001b[0m \u001b[0minds\u001b[0m\u001b[0;34m:\u001b[0m\u001b[0;34m\u001b[0m\u001b[0;34m\u001b[0m\u001b[0m\n\u001b[0;32m--> 402\u001b[0;31m         \u001b[0mbuff\u001b[0m\u001b[0;34m[\u001b[0m\u001b[0mind\u001b[0m\u001b[0;34m]\u001b[0m \u001b[0;34m=\u001b[0m \u001b[0masanyarray\u001b[0m\u001b[0;34m(\u001b[0m\u001b[0mfunc1d\u001b[0m\u001b[0;34m(\u001b[0m\u001b[0minarr_view\u001b[0m\u001b[0;34m[\u001b[0m\u001b[0mind\u001b[0m\u001b[0;34m]\u001b[0m\u001b[0;34m,\u001b[0m \u001b[0;34m*\u001b[0m\u001b[0margs\u001b[0m\u001b[0;34m,\u001b[0m \u001b[0;34m**\u001b[0m\u001b[0mkwargs\u001b[0m\u001b[0;34m)\u001b[0m\u001b[0;34m)\u001b[0m\u001b[0;34m\u001b[0m\u001b[0;34m\u001b[0m\u001b[0m\n\u001b[0m\u001b[1;32m    403\u001b[0m \u001b[0;34m\u001b[0m\u001b[0m\n\u001b[1;32m    404\u001b[0m     \u001b[0;32mif\u001b[0m \u001b[0;32mnot\u001b[0m \u001b[0misinstance\u001b[0m\u001b[0;34m(\u001b[0m\u001b[0mres\u001b[0m\u001b[0;34m,\u001b[0m \u001b[0mmatrix\u001b[0m\u001b[0;34m)\u001b[0m\u001b[0;34m:\u001b[0m\u001b[0;34m\u001b[0m\u001b[0;34m\u001b[0m\u001b[0m\n",
      "\u001b[0;32m~/miniconda3/envs/pytorch/lib/python3.6/site-packages/scipy/stats/stats.py\u001b[0m in \u001b[0;36mrankdata\u001b[0;34m(a, method)\u001b[0m\n\u001b[1;32m   6680\u001b[0m \u001b[0;34m\u001b[0m\u001b[0m\n\u001b[1;32m   6681\u001b[0m     \u001b[0;31m# average method\u001b[0m\u001b[0;34m\u001b[0m\u001b[0;34m\u001b[0m\u001b[0;34m\u001b[0m\u001b[0m\n\u001b[0;32m-> 6682\u001b[0;31m     \u001b[0;32mreturn\u001b[0m \u001b[0;36m.5\u001b[0m \u001b[0;34m*\u001b[0m \u001b[0;34m(\u001b[0m\u001b[0mcount\u001b[0m\u001b[0;34m[\u001b[0m\u001b[0mdense\u001b[0m\u001b[0;34m]\u001b[0m \u001b[0;34m+\u001b[0m \u001b[0mcount\u001b[0m\u001b[0;34m[\u001b[0m\u001b[0mdense\u001b[0m \u001b[0;34m-\u001b[0m \u001b[0;36m1\u001b[0m\u001b[0;34m]\u001b[0m \u001b[0;34m+\u001b[0m \u001b[0;36m1\u001b[0m\u001b[0;34m)\u001b[0m\u001b[0;34m\u001b[0m\u001b[0;34m\u001b[0m\u001b[0m\n\u001b[0m",
      "\u001b[0;31mKeyboardInterrupt\u001b[0m: "
     ]
    },
    {
     "data": {
      "image/png": "[encoded data removed]",
      "text/plain": [
       "<Figure size 432x288 with 1 Axes>"
      ]
     },
     "metadata": {
      "needs_background": "light"
     },
     "output_type": "display_data"
    }
   ],
   "source": [
    "CSC.evolve()"
   ]
  },
  {
   "cell_type": "code",
   "execution_count": 366,
   "metadata": {},
   "outputs": [
    {
     "data": {
      "image/png": "[encoded data removed]",
      "text/plain": [
       "<Figure size 432x288 with 1 Axes>"
      ]
     },
     "metadata": {
      "needs_background": "light"
     },
     "output_type": "display_data"
    }
   ],
   "source": [
    "CSC.ncpu = 1\n",
    "CSC.sample = 0.05\n",
    "CSC.noise = 0.05\n",
    "CSC.evolve()"
   ]
  },
  {
   "cell_type": "code",
   "execution_count": 55,
   "metadata": {},
   "outputs": [
    {
     "name": "stdout",
     "output_type": "stream",
     "text": [
      "0.9041353664504458\n",
      "0.8941563166315746\n",
      "0.8638240414536656\n",
      "0.4436771912939436\n",
      "0.275882416746076\n",
      "0.1473987429570208\n"
     ]
    }
   ],
   "source": [
    "# Sensitivity to noise\n",
    "CSC.sample = 0.15\n",
    "ga_measurement = CSC.elite_survivor\n",
    "simulated_compressed = CSC.generate_compressed(ga_measurement)\n",
    "CSC.noise = 0\n",
    "metric = CSC.calculate_metric(simulated_compressed)\n",
    "print(metric)\n",
    "CSC.noise = 0.05\n",
    "metric = CSC.calculate_metric(simulated_compressed)\n",
    "print(metric)\n",
    "CSC.noise = 0.1\n",
    "metric = CSC.calculate_metric(simulated_compressed)\n",
    "print(metric)\n",
    "CSC.noise = 0.5\n",
    "metric = CSC.calculate_metric(simulated_compressed)\n",
    "print(metric)\n",
    "CSC.noise = 1\n",
    "metric = CSC.calculate_metric(simulated_compressed)\n",
    "print(metric)\n",
    "CSC.noise = 10\n",
    "metric = CSC.calculate_metric(simulated_compressed)\n",
    "print(metric)"
   ]
  },
  {
   "cell_type": "markdown",
   "metadata": {},
   "source": [
    "### Random\n",
    "While the GA does learn to have a higher correlation than random the improvement is minor"
   ]
  },
  {
   "cell_type": "code",
   "execution_count": 56,
   "metadata": {},
   "outputs": [
    {
     "name": "stdout",
     "output_type": "stream",
     "text": [
      "0.8799988741520345\n",
      "0.8734313384749607\n",
      "0.8464948471567376\n",
      "0.5172709472366009\n",
      "0.3414411380578301\n",
      "0.2005300153993538\n",
      "0.1894089433970831\n"
     ]
    }
   ],
   "source": [
    "# Sensitivity to noise\n",
    "CSC.sample = 0.15\n",
    "random_measurement = CSC.generate_random()\n",
    "simulated_compressed = CSC.generate_compressed(random_measurement)\n",
    "CSC.noise = 0\n",
    "metric = CSC.calculate_metric(simulated_compressed)\n",
    "print(metric)\n",
    "CSC.noise = 0.05\n",
    "metric = CSC.calculate_metric(simulated_compressed)\n",
    "print(metric)\n",
    "CSC.noise = 0.1\n",
    "metric = CSC.calculate_metric(simulated_compressed)\n",
    "print(metric)\n",
    "CSC.noise = 0.5\n",
    "metric = CSC.calculate_metric(simulated_compressed)\n",
    "print(metric)\n",
    "CSC.noise = 1\n",
    "metric = CSC.calculate_metric(simulated_compressed)\n",
    "print(metric)\n",
    "CSC.noise = 10\n",
    "metric = CSC.calculate_metric(simulated_compressed)\n",
    "print(metric)\n",
    "CSC.noise = 100\n",
    "metric = CSC.calculate_metric(simulated_compressed)\n",
    "print(metric)"
   ]
  },
  {
   "cell_type": "markdown",
   "metadata": {},
   "source": [
    "### Covariation\n",
    "It is possible that the possible measurement matrix space is too vast or has too many local minima that the GA cant navigate through. Another alternative is that genes chosen for each measurement should contain different information compared with genes in other measurements. By clustering genes by covariation and usign those clusters for each measurement we may be able to preserve more of the information. "
   ]
  },
  {
   "cell_type": "code",
   "execution_count": null,
   "metadata": {},
   "outputs": [],
   "source": []
  },
  {
   "cell_type": "markdown",
   "metadata": {},
   "source": [
    "# MERFISH Test"
   ]
  },
  {
   "cell_type": "markdown",
   "metadata": {},
   "source": [
    "### Measurement Matrix\n",
    "Genes by measurements(bits) 1 for presence or 0 for absence"
   ]
  },
  {
   "cell_type": "code",
   "execution_count": 57,
   "metadata": {},
   "outputs": [],
   "source": [
    "codebook_pth = '/bigstore/GeneralStorage/Rob/merfish/MERFISH_analysis-master/mouse/Doug/Hippocampus/HippocampusCodebookFinalPass2.txt'\n",
    "codewords = pd.read_csv(codebook_pth,skiprows=3)\n",
    "codewords.columns = ['name', 'id', 'barcode']\n",
    "binary = np.zeros((len(codewords),18))\n",
    "for y,barcode in enumerate(codewords.barcode):\n",
    "    for x,b in enumerate(str(barcode).zfill(18)):\n",
    "        binary[y,x]=b\n",
    "binary_df = pd.DataFrame(binary,index=list(codewords['name']))"
   ]
  },
  {
   "cell_type": "markdown",
   "metadata": {},
   "source": [
    "### Measurement\n",
    "Intensity values from cells. in each measurement genes with a 1 in the measurement matrix were probed for and the intensity reflects the summed presence of those genes. "
   ]
  },
  {
   "cell_type": "code",
   "execution_count": 93,
   "metadata": {},
   "outputs": [],
   "source": [
    "\"\"\"\n",
    "This needs some work. likely cell segmentation. positional affects.3D\n",
    "\"\"\"\n",
    "def convert2compressed(temp_df,md,blur=40):\n",
    "    bitmap = [('RS0095_cy5', 'hybe1', 'FarRed'), \n",
    "              ('RS0109_cy5', 'hybe3', 'FarRed'),\n",
    "              ('RS0175_cy5', 'hybe5', 'FarRed'), \n",
    "              ('RS0237_cy5', 'hybe7', 'FarRed'),\n",
    "              ('RS0307_cy5', 'hybe2', 'FarRed'), \n",
    "              ('RS0332_cy5', 'hybe4', 'FarRed'),\n",
    "              ('RSN9927.0_cy5', 'hybe8', 'FarRed'), \n",
    "              ('RSN2336.0_cy5', 'hybe6', 'FarRed'), \n",
    "              ('RSN1807.0_cy5', 'hybe9', 'FarRed'),\n",
    "              ('RS0384_atto565', 'hybe4', 'Orange'), \n",
    "              ('RS0406_atto565', 'hybe5', 'Orange'),\n",
    "              ('RS0451_atto565', 'hybe3', 'Orange'), \n",
    "              ('RS0468_atto565', 'hybe2', 'Orange'),\n",
    "              ('RS0548_atto565', 'hybe1', 'Orange'), \n",
    "              ('RS64.0_atto565', 'hybe7', 'Orange'),\n",
    "              ('RSN4287.0_atto565', 'hybe6', 'Orange'), \n",
    "              ('RSN1252.0_atto565', 'hybe9', 'Orange'), \n",
    "              ('RSN9535.0_atto565', 'hybe8', 'Orange')]\n",
    "    pos = temp_df.pos.iloc[0]\n",
    "    compressed_measurement = np.zeros((len(temp_df),18))\n",
    "    for bit,bit_data in enumerate(bitmap):\n",
    "        rp,hybe,color = bit_data\n",
    "        acq = [i for i in md.acqnames if hybe in i]\n",
    "        stk = md.stkread(Position=pos,Channel=color,acq=acq).astype('float64')\n",
    "        img = np.sum(stk,axis=2)\n",
    "        blurred = filters.gaussian(img, int(blur))\n",
    "        for i,cell in enumerate(temp_df.index):\n",
    "            y = temp_df['pixel_x'].loc[cell]\n",
    "            x = temp_df['pixel_y'].loc[cell]\n",
    "            compressed_measurement[i,bit] = blurred[int(x),int(y)]\n",
    "    compressed_df = pd.DataFrame(compressed_measurement,index=temp_df.index)\n",
    "    return compressed_df"
   ]
  },
  {
   "cell_type": "code",
   "execution_count": 64,
   "metadata": {
    "scrolled": true
   },
   "outputs": [],
   "source": [
    "md = Metadata('/hybedata/Images/Robert/TBI_v2/sham_m3_slide4_2019Nov04/')\n",
    "cell_info_df = pd.read_csv('/bigstore/GeneralStorage/Zach/CSI/cell_info_df.csv.gz',index_col=0)\n",
    "cell_counts_df = pd.read_csv('/bigstore/GeneralStorage/Zach/CSI/cell_counts_df.csv.gz',index_col=0)\n"
   ]
  },
  {
   "cell_type": "code",
   "execution_count": null,
   "metadata": {},
   "outputs": [],
   "source": [
    "sys.stdout.flush()\n",
    "pfunc = partial(convert2compressed,md=md,blur=10)\n",
    "Input = [cell_info_df[cell_info_df.pos==pos] for pos in cell_info_df.pos.unique()]\n",
    "temp_dfs = []\n",
    "with Pool(30) as p:\n",
    "    for temp_df in tqdm.tqdm(p.imap(pfunc,Input,chunksize=1),total=len(Input)):\n",
    "        temp_dfs.append(temp_df)\n",
    "sys.stdout.flush()\n",
    "measured = pd.concat(temp_dfs)"
   ]
  },
  {
   "cell_type": "code",
   "execution_count": null,
   "metadata": {},
   "outputs": [],
   "source": [
    "measured.to_csv('/bigstore/GeneralStorage/Zach/CSI/compressed_df.csv.gz',compression='gzip')"
   ]
  },
  {
   "cell_type": "code",
   "execution_count": 65,
   "metadata": {},
   "outputs": [],
   "source": [
    "measured = pd.read_csv('/bigstore/GeneralStorage/Zach/CSI/compressed_df.csv.gz',index_col=0)"
   ]
  },
  {
   "cell_type": "markdown",
   "metadata": {},
   "source": [
    "## Reference\n",
    "In this case we have 2 possible references. the first is single cell rnaseq from samples of the same tissue. the second is MERFISH performed on the sample."
   ]
  },
  {
   "cell_type": "markdown",
   "metadata": {},
   "source": [
    "### Generate Simulated Compressed"
   ]
  },
  {
   "cell_type": "code",
   "execution_count": 66,
   "metadata": {},
   "outputs": [],
   "source": [
    "compressed = pd.DataFrame(index=matrix_df.columns)\n",
    "probed_expression_matrix = matrix_df.loc[list(codewords.name)]\n",
    "temp_matrix = np.array(probed_expression_matrix)\n",
    "for i in range(18):\n",
    "    compressed[i] = np.nansum(np.multiply(temp_matrix,binary[:,i][...,None]),axis=0)\n",
    "scRNAseq_compressed = compressed\n",
    "\n",
    "compressed = pd.DataFrame(index=cell_counts_df.index)\n",
    "for i in range(18):\n",
    "    genes = list(binary_df[binary_df[i]==1].index)\n",
    "    compressed[i] = np.sum(cell_counts_df[genes],axis=1)\n",
    "MERFISH_compressed = compressed"
   ]
  },
  {
   "cell_type": "code",
   "execution_count": 68,
   "metadata": {
    "scrolled": true
   },
   "outputs": [
    {
     "data": {
      "text/html": [
       "<div>\n",
       "<style scoped>\n",
       "    .dataframe tbody tr th:only-of-type {\n",
       "        vertical-align: middle;\n",
       "    }\n",
       "\n",
       "    .dataframe tbody tr th {\n",
       "        vertical-align: top;\n",
       "    }\n",
       "\n",
       "    .dataframe thead th {\n",
       "        text-align: right;\n",
       "    }\n",
       "</style>\n",
       "<table border=\"1\" class=\"dataframe\">\n",
       "  <thead>\n",
       "    <tr style=\"text-align: right;\">\n",
       "      <th></th>\n",
       "      <th>0</th>\n",
       "      <th>1</th>\n",
       "      <th>2</th>\n",
       "      <th>3</th>\n",
       "      <th>4</th>\n",
       "      <th>5</th>\n",
       "      <th>6</th>\n",
       "      <th>7</th>\n",
       "      <th>8</th>\n",
       "      <th>9</th>\n",
       "      <th>10</th>\n",
       "      <th>11</th>\n",
       "      <th>12</th>\n",
       "      <th>13</th>\n",
       "      <th>14</th>\n",
       "      <th>15</th>\n",
       "      <th>16</th>\n",
       "      <th>17</th>\n",
       "    </tr>\n",
       "  </thead>\n",
       "  <tbody>\n",
       "    <tr>\n",
       "      <th>S1Hip_CCTTGCCACACT_ODC</th>\n",
       "      <td>12530.0</td>\n",
       "      <td>5033.0</td>\n",
       "      <td>8320.0</td>\n",
       "      <td>7810.0</td>\n",
       "      <td>6596.0</td>\n",
       "      <td>9532.0</td>\n",
       "      <td>3939.0</td>\n",
       "      <td>8911.0</td>\n",
       "      <td>2869.0</td>\n",
       "      <td>2748.0</td>\n",
       "      <td>1371.0</td>\n",
       "      <td>5267.0</td>\n",
       "      <td>6731.0</td>\n",
       "      <td>3057.0</td>\n",
       "      <td>6258.0</td>\n",
       "      <td>5788.0</td>\n",
       "      <td>2230.0</td>\n",
       "      <td>1434.0</td>\n",
       "    </tr>\n",
       "    <tr>\n",
       "      <th>S1Hip_TTCTATTCGTAG_ODC</th>\n",
       "      <td>16798.0</td>\n",
       "      <td>3995.0</td>\n",
       "      <td>8319.0</td>\n",
       "      <td>11014.0</td>\n",
       "      <td>7432.0</td>\n",
       "      <td>14684.0</td>\n",
       "      <td>6240.0</td>\n",
       "      <td>12016.0</td>\n",
       "      <td>2766.0</td>\n",
       "      <td>3118.0</td>\n",
       "      <td>1392.0</td>\n",
       "      <td>4114.0</td>\n",
       "      <td>9504.0</td>\n",
       "      <td>2982.0</td>\n",
       "      <td>5232.0</td>\n",
       "      <td>6488.0</td>\n",
       "      <td>4133.0</td>\n",
       "      <td>1509.0</td>\n",
       "    </tr>\n",
       "    <tr>\n",
       "      <th>S1Hip_TTGGGCCCACCG_ODC</th>\n",
       "      <td>16549.0</td>\n",
       "      <td>4311.0</td>\n",
       "      <td>8597.0</td>\n",
       "      <td>10226.0</td>\n",
       "      <td>7514.0</td>\n",
       "      <td>13700.0</td>\n",
       "      <td>5540.0</td>\n",
       "      <td>12015.0</td>\n",
       "      <td>2620.0</td>\n",
       "      <td>2840.0</td>\n",
       "      <td>1157.0</td>\n",
       "      <td>4282.0</td>\n",
       "      <td>8735.0</td>\n",
       "      <td>2910.0</td>\n",
       "      <td>5540.0</td>\n",
       "      <td>6800.0</td>\n",
       "      <td>3533.0</td>\n",
       "      <td>1419.0</td>\n",
       "    </tr>\n",
       "    <tr>\n",
       "      <th>S1Hip_ATGTACGCCGTG_ODC</th>\n",
       "      <td>15562.0</td>\n",
       "      <td>3056.0</td>\n",
       "      <td>7499.0</td>\n",
       "      <td>10098.0</td>\n",
       "      <td>6181.0</td>\n",
       "      <td>13570.0</td>\n",
       "      <td>5149.0</td>\n",
       "      <td>10490.0</td>\n",
       "      <td>2555.0</td>\n",
       "      <td>2725.0</td>\n",
       "      <td>1285.0</td>\n",
       "      <td>3292.0</td>\n",
       "      <td>8909.0</td>\n",
       "      <td>2730.0</td>\n",
       "      <td>4300.0</td>\n",
       "      <td>5469.0</td>\n",
       "      <td>3339.0</td>\n",
       "      <td>1475.0</td>\n",
       "    </tr>\n",
       "    <tr>\n",
       "      <th>S1Hip_CCAGAATAATTT_ODC</th>\n",
       "      <td>15729.0</td>\n",
       "      <td>4228.0</td>\n",
       "      <td>9094.0</td>\n",
       "      <td>10851.0</td>\n",
       "      <td>6540.0</td>\n",
       "      <td>14413.0</td>\n",
       "      <td>5938.0</td>\n",
       "      <td>11110.0</td>\n",
       "      <td>2731.0</td>\n",
       "      <td>3461.0</td>\n",
       "      <td>1575.0</td>\n",
       "      <td>4634.0</td>\n",
       "      <td>9201.0</td>\n",
       "      <td>2832.0</td>\n",
       "      <td>5793.0</td>\n",
       "      <td>5575.0</td>\n",
       "      <td>3684.0</td>\n",
       "      <td>1443.0</td>\n",
       "    </tr>\n",
       "    <tr>\n",
       "      <th>...</th>\n",
       "      <td>...</td>\n",
       "      <td>...</td>\n",
       "      <td>...</td>\n",
       "      <td>...</td>\n",
       "      <td>...</td>\n",
       "      <td>...</td>\n",
       "      <td>...</td>\n",
       "      <td>...</td>\n",
       "      <td>...</td>\n",
       "      <td>...</td>\n",
       "      <td>...</td>\n",
       "      <td>...</td>\n",
       "      <td>...</td>\n",
       "      <td>...</td>\n",
       "      <td>...</td>\n",
       "      <td>...</td>\n",
       "      <td>...</td>\n",
       "      <td>...</td>\n",
       "    </tr>\n",
       "    <tr>\n",
       "      <th>TBI5Hip_GGTATTGACACC_EPEN</th>\n",
       "      <td>27306.0</td>\n",
       "      <td>4756.0</td>\n",
       "      <td>6013.0</td>\n",
       "      <td>27233.0</td>\n",
       "      <td>3155.0</td>\n",
       "      <td>25332.0</td>\n",
       "      <td>2745.0</td>\n",
       "      <td>4170.0</td>\n",
       "      <td>6593.0</td>\n",
       "      <td>4561.0</td>\n",
       "      <td>2883.0</td>\n",
       "      <td>7433.0</td>\n",
       "      <td>28175.0</td>\n",
       "      <td>6866.0</td>\n",
       "      <td>5562.0</td>\n",
       "      <td>4350.0</td>\n",
       "      <td>3651.0</td>\n",
       "      <td>3256.0</td>\n",
       "    </tr>\n",
       "    <tr>\n",
       "      <th>TBI5Hip_TCCCACGCCAAC_EPEN</th>\n",
       "      <td>8714.0</td>\n",
       "      <td>4200.0</td>\n",
       "      <td>4652.0</td>\n",
       "      <td>7856.0</td>\n",
       "      <td>2727.0</td>\n",
       "      <td>7327.0</td>\n",
       "      <td>2134.0</td>\n",
       "      <td>3816.0</td>\n",
       "      <td>5842.0</td>\n",
       "      <td>2885.0</td>\n",
       "      <td>2386.0</td>\n",
       "      <td>4813.0</td>\n",
       "      <td>9010.0</td>\n",
       "      <td>4969.0</td>\n",
       "      <td>4385.0</td>\n",
       "      <td>3331.0</td>\n",
       "      <td>2302.0</td>\n",
       "      <td>2623.0</td>\n",
       "    </tr>\n",
       "    <tr>\n",
       "      <th>TBI5Hip_TTCCTGTAGACC_EPEN</th>\n",
       "      <td>10562.0</td>\n",
       "      <td>6045.0</td>\n",
       "      <td>4721.0</td>\n",
       "      <td>8252.0</td>\n",
       "      <td>3057.0</td>\n",
       "      <td>7413.0</td>\n",
       "      <td>2067.0</td>\n",
       "      <td>3597.0</td>\n",
       "      <td>6746.0</td>\n",
       "      <td>2852.0</td>\n",
       "      <td>2164.0</td>\n",
       "      <td>5139.0</td>\n",
       "      <td>9470.0</td>\n",
       "      <td>7049.0</td>\n",
       "      <td>4400.0</td>\n",
       "      <td>5134.0</td>\n",
       "      <td>2119.0</td>\n",
       "      <td>2613.0</td>\n",
       "    </tr>\n",
       "    <tr>\n",
       "      <th>TBI5Hip_ATTTAATTGAGC_EPEN</th>\n",
       "      <td>12448.0</td>\n",
       "      <td>5933.0</td>\n",
       "      <td>5451.0</td>\n",
       "      <td>11689.0</td>\n",
       "      <td>3101.0</td>\n",
       "      <td>10566.0</td>\n",
       "      <td>2212.0</td>\n",
       "      <td>3396.0</td>\n",
       "      <td>6775.0</td>\n",
       "      <td>3260.0</td>\n",
       "      <td>2484.0</td>\n",
       "      <td>6999.0</td>\n",
       "      <td>12527.0</td>\n",
       "      <td>6071.0</td>\n",
       "      <td>5097.0</td>\n",
       "      <td>5091.0</td>\n",
       "      <td>2368.0</td>\n",
       "      <td>2860.0</td>\n",
       "    </tr>\n",
       "    <tr>\n",
       "      <th>TBI5Hip_ATCCCTCGCAGC_EPEN</th>\n",
       "      <td>7225.0</td>\n",
       "      <td>4407.0</td>\n",
       "      <td>4573.0</td>\n",
       "      <td>6272.0</td>\n",
       "      <td>2662.0</td>\n",
       "      <td>6004.0</td>\n",
       "      <td>1953.0</td>\n",
       "      <td>3356.0</td>\n",
       "      <td>5532.0</td>\n",
       "      <td>2531.0</td>\n",
       "      <td>2430.0</td>\n",
       "      <td>4528.0</td>\n",
       "      <td>7250.0</td>\n",
       "      <td>5065.0</td>\n",
       "      <td>3997.0</td>\n",
       "      <td>3556.0</td>\n",
       "      <td>2269.0</td>\n",
       "      <td>2410.0</td>\n",
       "    </tr>\n",
       "  </tbody>\n",
       "</table>\n",
       "<p>29013 rows × 18 columns</p>\n",
       "</div>"
      ],
      "text/plain": [
       "                                0       1       2        3       4        5   \\\n",
       "S1Hip_CCTTGCCACACT_ODC     12530.0  5033.0  8320.0   7810.0  6596.0   9532.0   \n",
       "S1Hip_TTCTATTCGTAG_ODC     16798.0  3995.0  8319.0  11014.0  7432.0  14684.0   \n",
       "S1Hip_TTGGGCCCACCG_ODC     16549.0  4311.0  8597.0  10226.0  7514.0  13700.0   \n",
       "S1Hip_ATGTACGCCGTG_ODC     15562.0  3056.0  7499.0  10098.0  6181.0  13570.0   \n",
       "S1Hip_CCAGAATAATTT_ODC     15729.0  4228.0  9094.0  10851.0  6540.0  14413.0   \n",
       "...                            ...     ...     ...      ...     ...      ...   \n",
       "TBI5Hip_GGTATTGACACC_EPEN  27306.0  4756.0  6013.0  27233.0  3155.0  25332.0   \n",
       "TBI5Hip_TCCCACGCCAAC_EPEN   8714.0  4200.0  4652.0   7856.0  2727.0   7327.0   \n",
       "TBI5Hip_TTCCTGTAGACC_EPEN  10562.0  6045.0  4721.0   8252.0  3057.0   7413.0   \n",
       "TBI5Hip_ATTTAATTGAGC_EPEN  12448.0  5933.0  5451.0  11689.0  3101.0  10566.0   \n",
       "TBI5Hip_ATCCCTCGCAGC_EPEN   7225.0  4407.0  4573.0   6272.0  2662.0   6004.0   \n",
       "\n",
       "                               6        7       8       9       10      11  \\\n",
       "S1Hip_CCTTGCCACACT_ODC     3939.0   8911.0  2869.0  2748.0  1371.0  5267.0   \n",
       "S1Hip_TTCTATTCGTAG_ODC     6240.0  12016.0  2766.0  3118.0  1392.0  4114.0   \n",
       "S1Hip_TTGGGCCCACCG_ODC     5540.0  12015.0  2620.0  2840.0  1157.0  4282.0   \n",
       "S1Hip_ATGTACGCCGTG_ODC     5149.0  10490.0  2555.0  2725.0  1285.0  3292.0   \n",
       "S1Hip_CCAGAATAATTT_ODC     5938.0  11110.0  2731.0  3461.0  1575.0  4634.0   \n",
       "...                           ...      ...     ...     ...     ...     ...   \n",
       "TBI5Hip_GGTATTGACACC_EPEN  2745.0   4170.0  6593.0  4561.0  2883.0  7433.0   \n",
       "TBI5Hip_TCCCACGCCAAC_EPEN  2134.0   3816.0  5842.0  2885.0  2386.0  4813.0   \n",
       "TBI5Hip_TTCCTGTAGACC_EPEN  2067.0   3597.0  6746.0  2852.0  2164.0  5139.0   \n",
       "TBI5Hip_ATTTAATTGAGC_EPEN  2212.0   3396.0  6775.0  3260.0  2484.0  6999.0   \n",
       "TBI5Hip_ATCCCTCGCAGC_EPEN  1953.0   3356.0  5532.0  2531.0  2430.0  4528.0   \n",
       "\n",
       "                                12      13      14      15      16      17  \n",
       "S1Hip_CCTTGCCACACT_ODC      6731.0  3057.0  6258.0  5788.0  2230.0  1434.0  \n",
       "S1Hip_TTCTATTCGTAG_ODC      9504.0  2982.0  5232.0  6488.0  4133.0  1509.0  \n",
       "S1Hip_TTGGGCCCACCG_ODC      8735.0  2910.0  5540.0  6800.0  3533.0  1419.0  \n",
       "S1Hip_ATGTACGCCGTG_ODC      8909.0  2730.0  4300.0  5469.0  3339.0  1475.0  \n",
       "S1Hip_CCAGAATAATTT_ODC      9201.0  2832.0  5793.0  5575.0  3684.0  1443.0  \n",
       "...                            ...     ...     ...     ...     ...     ...  \n",
       "TBI5Hip_GGTATTGACACC_EPEN  28175.0  6866.0  5562.0  4350.0  3651.0  3256.0  \n",
       "TBI5Hip_TCCCACGCCAAC_EPEN   9010.0  4969.0  4385.0  3331.0  2302.0  2623.0  \n",
       "TBI5Hip_TTCCTGTAGACC_EPEN   9470.0  7049.0  4400.0  5134.0  2119.0  2613.0  \n",
       "TBI5Hip_ATTTAATTGAGC_EPEN  12527.0  6071.0  5097.0  5091.0  2368.0  2860.0  \n",
       "TBI5Hip_ATCCCTCGCAGC_EPEN   7250.0  5065.0  3997.0  3556.0  2269.0  2410.0  \n",
       "\n",
       "[29013 rows x 18 columns]"
      ]
     },
     "execution_count": 68,
     "metadata": {},
     "output_type": "execute_result"
    }
   ],
   "source": [
    "scRNAseq_compressed"
   ]
  },
  {
   "cell_type": "code",
   "execution_count": 67,
   "metadata": {},
   "outputs": [
    {
     "data": {
      "text/html": [
       "<div>\n",
       "<style scoped>\n",
       "    .dataframe tbody tr th:only-of-type {\n",
       "        vertical-align: middle;\n",
       "    }\n",
       "\n",
       "    .dataframe tbody tr th {\n",
       "        vertical-align: top;\n",
       "    }\n",
       "\n",
       "    .dataframe thead th {\n",
       "        text-align: right;\n",
       "    }\n",
       "</style>\n",
       "<table border=\"1\" class=\"dataframe\">\n",
       "  <thead>\n",
       "    <tr style=\"text-align: right;\">\n",
       "      <th></th>\n",
       "      <th>0</th>\n",
       "      <th>1</th>\n",
       "      <th>2</th>\n",
       "      <th>3</th>\n",
       "      <th>4</th>\n",
       "      <th>5</th>\n",
       "      <th>6</th>\n",
       "      <th>7</th>\n",
       "      <th>8</th>\n",
       "      <th>9</th>\n",
       "      <th>10</th>\n",
       "      <th>11</th>\n",
       "      <th>12</th>\n",
       "      <th>13</th>\n",
       "      <th>14</th>\n",
       "      <th>15</th>\n",
       "      <th>16</th>\n",
       "      <th>17</th>\n",
       "    </tr>\n",
       "  </thead>\n",
       "  <tbody>\n",
       "    <tr>\n",
       "      <th>0</th>\n",
       "      <td>126</td>\n",
       "      <td>15</td>\n",
       "      <td>31</td>\n",
       "      <td>8</td>\n",
       "      <td>30</td>\n",
       "      <td>19</td>\n",
       "      <td>40</td>\n",
       "      <td>24</td>\n",
       "      <td>60</td>\n",
       "      <td>97</td>\n",
       "      <td>52</td>\n",
       "      <td>118</td>\n",
       "      <td>108</td>\n",
       "      <td>78</td>\n",
       "      <td>10</td>\n",
       "      <td>65</td>\n",
       "      <td>84</td>\n",
       "      <td>79</td>\n",
       "    </tr>\n",
       "    <tr>\n",
       "      <th>1</th>\n",
       "      <td>79</td>\n",
       "      <td>37</td>\n",
       "      <td>22</td>\n",
       "      <td>13</td>\n",
       "      <td>32</td>\n",
       "      <td>16</td>\n",
       "      <td>27</td>\n",
       "      <td>31</td>\n",
       "      <td>52</td>\n",
       "      <td>52</td>\n",
       "      <td>40</td>\n",
       "      <td>84</td>\n",
       "      <td>75</td>\n",
       "      <td>51</td>\n",
       "      <td>8</td>\n",
       "      <td>43</td>\n",
       "      <td>63</td>\n",
       "      <td>63</td>\n",
       "    </tr>\n",
       "    <tr>\n",
       "      <th>2</th>\n",
       "      <td>221</td>\n",
       "      <td>117</td>\n",
       "      <td>60</td>\n",
       "      <td>22</td>\n",
       "      <td>103</td>\n",
       "      <td>88</td>\n",
       "      <td>107</td>\n",
       "      <td>131</td>\n",
       "      <td>123</td>\n",
       "      <td>171</td>\n",
       "      <td>133</td>\n",
       "      <td>148</td>\n",
       "      <td>171</td>\n",
       "      <td>102</td>\n",
       "      <td>15</td>\n",
       "      <td>124</td>\n",
       "      <td>171</td>\n",
       "      <td>117</td>\n",
       "    </tr>\n",
       "    <tr>\n",
       "      <th>3</th>\n",
       "      <td>23</td>\n",
       "      <td>2</td>\n",
       "      <td>12</td>\n",
       "      <td>2</td>\n",
       "      <td>9</td>\n",
       "      <td>0</td>\n",
       "      <td>9</td>\n",
       "      <td>3</td>\n",
       "      <td>21</td>\n",
       "      <td>17</td>\n",
       "      <td>30</td>\n",
       "      <td>37</td>\n",
       "      <td>39</td>\n",
       "      <td>41</td>\n",
       "      <td>0</td>\n",
       "      <td>13</td>\n",
       "      <td>55</td>\n",
       "      <td>51</td>\n",
       "    </tr>\n",
       "    <tr>\n",
       "      <th>4</th>\n",
       "      <td>171</td>\n",
       "      <td>19</td>\n",
       "      <td>37</td>\n",
       "      <td>9</td>\n",
       "      <td>37</td>\n",
       "      <td>32</td>\n",
       "      <td>57</td>\n",
       "      <td>44</td>\n",
       "      <td>72</td>\n",
       "      <td>99</td>\n",
       "      <td>90</td>\n",
       "      <td>107</td>\n",
       "      <td>107</td>\n",
       "      <td>75</td>\n",
       "      <td>14</td>\n",
       "      <td>82</td>\n",
       "      <td>98</td>\n",
       "      <td>102</td>\n",
       "    </tr>\n",
       "    <tr>\n",
       "      <th>...</th>\n",
       "      <td>...</td>\n",
       "      <td>...</td>\n",
       "      <td>...</td>\n",
       "      <td>...</td>\n",
       "      <td>...</td>\n",
       "      <td>...</td>\n",
       "      <td>...</td>\n",
       "      <td>...</td>\n",
       "      <td>...</td>\n",
       "      <td>...</td>\n",
       "      <td>...</td>\n",
       "      <td>...</td>\n",
       "      <td>...</td>\n",
       "      <td>...</td>\n",
       "      <td>...</td>\n",
       "      <td>...</td>\n",
       "      <td>...</td>\n",
       "      <td>...</td>\n",
       "    </tr>\n",
       "    <tr>\n",
       "      <th>29646</th>\n",
       "      <td>7</td>\n",
       "      <td>3</td>\n",
       "      <td>6</td>\n",
       "      <td>2</td>\n",
       "      <td>6</td>\n",
       "      <td>3</td>\n",
       "      <td>4</td>\n",
       "      <td>3</td>\n",
       "      <td>14</td>\n",
       "      <td>3</td>\n",
       "      <td>4</td>\n",
       "      <td>16</td>\n",
       "      <td>12</td>\n",
       "      <td>5</td>\n",
       "      <td>2</td>\n",
       "      <td>15</td>\n",
       "      <td>16</td>\n",
       "      <td>7</td>\n",
       "    </tr>\n",
       "    <tr>\n",
       "      <th>29647</th>\n",
       "      <td>22</td>\n",
       "      <td>19</td>\n",
       "      <td>6</td>\n",
       "      <td>6</td>\n",
       "      <td>22</td>\n",
       "      <td>12</td>\n",
       "      <td>21</td>\n",
       "      <td>13</td>\n",
       "      <td>80</td>\n",
       "      <td>48</td>\n",
       "      <td>39</td>\n",
       "      <td>92</td>\n",
       "      <td>95</td>\n",
       "      <td>93</td>\n",
       "      <td>5</td>\n",
       "      <td>27</td>\n",
       "      <td>54</td>\n",
       "      <td>62</td>\n",
       "    </tr>\n",
       "    <tr>\n",
       "      <th>29648</th>\n",
       "      <td>25</td>\n",
       "      <td>11</td>\n",
       "      <td>16</td>\n",
       "      <td>62</td>\n",
       "      <td>26</td>\n",
       "      <td>20</td>\n",
       "      <td>61</td>\n",
       "      <td>71</td>\n",
       "      <td>63</td>\n",
       "      <td>17</td>\n",
       "      <td>13</td>\n",
       "      <td>11</td>\n",
       "      <td>14</td>\n",
       "      <td>4</td>\n",
       "      <td>6</td>\n",
       "      <td>19</td>\n",
       "      <td>8</td>\n",
       "      <td>9</td>\n",
       "    </tr>\n",
       "    <tr>\n",
       "      <th>29649</th>\n",
       "      <td>12</td>\n",
       "      <td>22</td>\n",
       "      <td>19</td>\n",
       "      <td>11</td>\n",
       "      <td>11</td>\n",
       "      <td>13</td>\n",
       "      <td>17</td>\n",
       "      <td>18</td>\n",
       "      <td>22</td>\n",
       "      <td>28</td>\n",
       "      <td>34</td>\n",
       "      <td>59</td>\n",
       "      <td>45</td>\n",
       "      <td>36</td>\n",
       "      <td>5</td>\n",
       "      <td>18</td>\n",
       "      <td>49</td>\n",
       "      <td>53</td>\n",
       "    </tr>\n",
       "    <tr>\n",
       "      <th>29650</th>\n",
       "      <td>36</td>\n",
       "      <td>24</td>\n",
       "      <td>19</td>\n",
       "      <td>22</td>\n",
       "      <td>26</td>\n",
       "      <td>13</td>\n",
       "      <td>27</td>\n",
       "      <td>35</td>\n",
       "      <td>70</td>\n",
       "      <td>39</td>\n",
       "      <td>28</td>\n",
       "      <td>64</td>\n",
       "      <td>44</td>\n",
       "      <td>61</td>\n",
       "      <td>10</td>\n",
       "      <td>37</td>\n",
       "      <td>37</td>\n",
       "      <td>44</td>\n",
       "    </tr>\n",
       "  </tbody>\n",
       "</table>\n",
       "<p>29651 rows × 18 columns</p>\n",
       "</div>"
      ],
      "text/plain": [
       "        0    1   2   3    4   5    6    7    8    9    10   11   12   13  14  \\\n",
       "0      126   15  31   8   30  19   40   24   60   97   52  118  108   78  10   \n",
       "1       79   37  22  13   32  16   27   31   52   52   40   84   75   51   8   \n",
       "2      221  117  60  22  103  88  107  131  123  171  133  148  171  102  15   \n",
       "3       23    2  12   2    9   0    9    3   21   17   30   37   39   41   0   \n",
       "4      171   19  37   9   37  32   57   44   72   99   90  107  107   75  14   \n",
       "...    ...  ...  ..  ..  ...  ..  ...  ...  ...  ...  ...  ...  ...  ...  ..   \n",
       "29646    7    3   6   2    6   3    4    3   14    3    4   16   12    5   2   \n",
       "29647   22   19   6   6   22  12   21   13   80   48   39   92   95   93   5   \n",
       "29648   25   11  16  62   26  20   61   71   63   17   13   11   14    4   6   \n",
       "29649   12   22  19  11   11  13   17   18   22   28   34   59   45   36   5   \n",
       "29650   36   24  19  22   26  13   27   35   70   39   28   64   44   61  10   \n",
       "\n",
       "        15   16   17  \n",
       "0       65   84   79  \n",
       "1       43   63   63  \n",
       "2      124  171  117  \n",
       "3       13   55   51  \n",
       "4       82   98  102  \n",
       "...    ...  ...  ...  \n",
       "29646   15   16    7  \n",
       "29647   27   54   62  \n",
       "29648   19    8    9  \n",
       "29649   18   49   53  \n",
       "29650   37   37   44  \n",
       "\n",
       "[29651 rows x 18 columns]"
      ]
     },
     "execution_count": 67,
     "metadata": {},
     "output_type": "execute_result"
    }
   ],
   "source": [
    "MERFISH_compressed"
   ]
  },
  {
   "cell_type": "code",
   "execution_count": 69,
   "metadata": {},
   "outputs": [],
   "source": [
    "scRNAseq_compressed.to_csv('/bigstore/GeneralStorage/Zach/CSI/scRNAseq_compressed.csv.gz',compression='gzip')\n",
    "MERFISH_compressed.to_csv('/bigstore/GeneralStorage/Zach/CSI/MERFISH_compressed.csv.gz',compression='gzip')"
   ]
  },
  {
   "cell_type": "code",
   "execution_count": null,
   "metadata": {},
   "outputs": [],
   "source": [
    "scRNAseq_compressed = pd.read_csv('/bigstore/GeneralStorage/Zach/CSI/scRNAseq_compressed.csv.gz',index_col=0)\n",
    "MERFISH_compressed = pd.read_csv('/bigstore/GeneralStorage/Zach/CSI/MERFISH_compressed.csv.gz',index_col=0)"
   ]
  },
  {
   "cell_type": "markdown",
   "metadata": {},
   "source": [
    "### Conversion\n",
    "convert measured to simulated space"
   ]
  },
  {
   "cell_type": "code",
   "execution_count": 91,
   "metadata": {},
   "outputs": [],
   "source": [
    "def interpolate2ref(reference,measured,qmin=0,qmax=100,n=1000):\n",
    "    percentile = np.linspace(qmin,qmax,n)\n",
    "    interpolated = measured.copy()\n",
    "    rcol = list(reference.columns)\n",
    "    mcol = list(measured.columns)\n",
    "    for i in tqdm.tqdm(range(len(measured.columns))):\n",
    "        reference_percentile = []\n",
    "        measured_percentile = []\n",
    "        for p in percentile:\n",
    "            reference_percentile.append(np.percentile(reference[rcol[i]],p))\n",
    "            measured_percentile.append(np.percentile(measured[mcol[i]],p))\n",
    "        f = interp1d(measured_percentile,reference_percentile,kind='linear')\n",
    "        interpolated[mcol[i]] = measured[mcol[i]].apply(f)\n",
    "    return interpolated"
   ]
  },
  {
   "cell_type": "code",
   "execution_count": 92,
   "metadata": {},
   "outputs": [
    {
     "data": {
      "application/vnd.jupyter.widget-view+json": {
       "model_id": "ef5fac768dfc413f8181bb45e2ff910b",
       "version_major": 2,
       "version_minor": 0
      },
      "text/plain": [
       "HBox(children=(FloatProgress(value=0.0, max=18.0), HTML(value='')))"
      ]
     },
     "metadata": {},
     "output_type": "display_data"
    },
    {
     "name": "stdout",
     "output_type": "stream",
     "text": [
      "\n"
     ]
    },
    {
     "data": {
      "application/vnd.jupyter.widget-view+json": {
       "model_id": "5ea93a23252b471a9864a5b326b33be3",
       "version_major": 2,
       "version_minor": 0
      },
      "text/plain": [
       "HBox(children=(FloatProgress(value=0.0, max=18.0), HTML(value='')))"
      ]
     },
     "metadata": {},
     "output_type": "display_data"
    },
    {
     "name": "stdout",
     "output_type": "stream",
     "text": [
      "\n"
     ]
    }
   ],
   "source": [
    "scRNAseq_compressed_interpolated = interpolate2ref(scRNAseq_compressed,measured,qmin=0,qmax=100,n=1000)\n",
    "MERFISH_compressed_interpolated = interpolate2ref(MERFISH_compressed,measured,qmin=0,qmax=100,n=1000)"
   ]
  },
  {
   "cell_type": "code",
   "execution_count": null,
   "metadata": {},
   "outputs": [],
   "source": [
    "\"\"\"\n",
    "Non linearities (bias) in the scRNAseq need to be dealt with\n",
    "Poor Mapping between expression and intensity\n",
    "\"\"\""
   ]
  },
  {
   "cell_type": "code",
   "execution_count": 94,
   "metadata": {},
   "outputs": [],
   "source": [
    "scRNAseq_compressed_interpolated.to_csv('/bigstore/GeneralStorage/Zach/CSI/scRNAseq_compressed_interpolated.csv.gz',compression='gzip')\n",
    "MERFISH_compressed_interpolated.to_csv('/bigstore/GeneralStorage/Zach/CSI/MERFISH_compressed_interpolated.csv.gz',compression='gzip')"
   ]
  },
  {
   "cell_type": "code",
   "execution_count": null,
   "metadata": {},
   "outputs": [],
   "source": [
    "scRNAseq_compressed_interpolated = pd.read_csv('/bigstore/GeneralStorage/Zach/CSI/scRNAseq_compressed_interpolated.csv.gz',index_col=0)\n",
    "MERFISH_compressed_interpolated = pd.read_csv('/bigstore/GeneralStorage/Zach/CSI/MERFISH_compressed_interpolated.csv.gz',index_col=0)"
   ]
  },
  {
   "cell_type": "markdown",
   "metadata": {},
   "source": [
    "### KNN Cell Type Imputation\n",
    "We have annotated cell type labels for the references that we can then map onto the measured using the mode of a cells 10 nearest neighbors in the reference compressed space"
   ]
  },
  {
   "cell_type": "code",
   "execution_count": 100,
   "metadata": {},
   "outputs": [],
   "source": [
    "def knn_cell_type_imputation(reference,interpolated,ref_labels,k=10):\n",
    "    reference_array = np.array(reference.copy())\n",
    "    interpolated_array = np.array(interpolated.copy())\n",
    "    cells = np.array(interpolated.index)\n",
    "    ref_cells = np.array(reference.index)\n",
    "    dist = euclidean_distances(reference, measured)\n",
    "    rank = dist.argpartition(k,axis=0)[:k,:]\n",
    "    imputed = []\n",
    "    for y in tqdm.tqdm(range(rank.shape[1])):\n",
    "        temp_cells = ref_cells[list(rank[:,y])]\n",
    "        imputed.append(mode(ref_labels['cell_type'].loc[temp_cells]).mode[0])\n",
    "    imputed_cell_types = pd.DataFrame(imputed,index=cells,columns=['imputed'])\n",
    "    return imputed_cell_types"
   ]
  },
  {
   "cell_type": "code",
   "execution_count": 112,
   "metadata": {},
   "outputs": [
    {
     "data": {
      "application/vnd.jupyter.widget-view+json": {
       "model_id": "809b3f2179db48d596394132ae13ab96",
       "version_major": 2,
       "version_minor": 0
      },
      "text/plain": [
       "HBox(children=(FloatProgress(value=0.0, max=29651.0), HTML(value='')))"
      ]
     },
     "metadata": {},
     "output_type": "display_data"
    },
    {
     "name": "stdout",
     "output_type": "stream",
     "text": [
      "\n"
     ]
    }
   ],
   "source": [
    "# reference = scRNAseq_compressed\n",
    "# interpolated = scRNAseq_compressed_interpolated\n",
    "# ref_labels = pd.DataFrame([i.split('_')[-1] for i in reference.index],\n",
    "#                         index=reference.index,columns=['cell_type'])\n",
    "# scRNAseq_imputed_cell_types = knn_cell_type_imputation(reference,interpolated,ref_labels,k=10)\n",
    "\n",
    "reference = MERFISH_compressed\n",
    "interpolated = MERFISH_compressed_interpolated\n",
    "ref_labels = pd.DataFrame(list(cell_info_df['louvain_r0.5']),index=cell_info_df.index,columns=['cell_type'])\n",
    "MERFISH_imputed_cell_types = knn_cell_type_imputation(reference,interpolated,ref_labels,k=10)"
   ]
  },
  {
   "cell_type": "code",
   "execution_count": 114,
   "metadata": {},
   "outputs": [],
   "source": [
    "scRNAseq_imputed_cell_types.to_csv('/bigstore/GeneralStorage/Zach/CSI/scRNAseq_imputed_cell_types.csv.gz',compression='gzip')\n",
    "MERFISH_imputed_cell_types.to_csv('/bigstore/GeneralStorage/Zach/CSI/MERFISH_imputed_cell_types.csv.gz',compression='gzip')"
   ]
  },
  {
   "cell_type": "code",
   "execution_count": null,
   "metadata": {},
   "outputs": [],
   "source": [
    "scRNAseq_imputed_cell_types = pd.read_csv('/bigstore/GeneralStorage/Zach/CSI/scRNAseq_imputed_cell_types.csv.gz',index_col=0)\n",
    "MERFISH_imputed_cell_types = pd.read_csv('/bigstore/GeneralStorage/Zach/CSI/MERFISH_imputed_cell_types.csv.gz',index_col=0)"
   ]
  },
  {
   "cell_type": "code",
   "execution_count": 118,
   "metadata": {},
   "outputs": [],
   "source": [
    "def generate_confusion_matrix(real,imputed):\n",
    "    temp = pd.DataFrame(index=real.index)\n",
    "    temp['real'] = real\n",
    "    temp['imputed'] = imputed\n",
    "    cell_types = list(np.unique(temp['real']))\n",
    "    cell_types.sort()\n",
    "    confusion_matrix = np.zeros((len(cell_types),len(cell_types)))\n",
    "    correct = 0\n",
    "    for r,real_ct in enumerate(cell_types):\n",
    "        ct_temp = temp[temp['real']==real_ct]\n",
    "        for i,imputed_ct in enumerate(cell_types):\n",
    "            count = len(ct_temp[ct_temp['imputed']==imputed_ct])\n",
    "            if imputed_ct == real_ct:\n",
    "                correct+=count\n",
    "            confusion_matrix[r,i] = count/len(ct_temp)\n",
    "    confusion_df = pd.DataFrame(confusion_matrix,\n",
    "                                index=cell_types,\n",
    "                                columns=cell_types)\n",
    "    accuracy = correct/len(temp)\n",
    "    return confusion_df,accuracy"
   ]
  },
  {
   "cell_type": "code",
   "execution_count": null,
   "metadata": {},
   "outputs": [],
   "source": [
    "real = cell_info_df['louvain_r0.5']\n",
    "imputed = MERFISH_imputed_cell_types\n",
    "confusion_df,accuracy = generate_confusion_matrix(real,imputed)\n",
    "print(accuracy)\n",
    "%matplotlib inline\n",
    "sns.heatmap(confusion_df,cmap='inferno',vmin=0,vmax=1)\n",
    "plt.show()\n",
    "\n",
    "real = cell_info_df['louvain_r0.5']\n",
    "imputed = scRNAseq_imputed_cell_types\n",
    "confusion_df,accuracy = generate_confusion_matrix(real,imputed)\n",
    "print(accuracy)\n",
    "%matplotlib inline\n",
    "sns.heatmap(confusion_df,cmap='inferno',vmin=0,vmax=1)\n",
    "plt.show()"
   ]
  },
  {
   "cell_type": "markdown",
   "metadata": {},
   "source": [
    "### KNN Dendrogram Imputation\n",
    "Cell type labels are only as good as the origional assignment. These labels change over time as the field changes. Instead we can represent the heterogeneity in a dendrogram. This we can calculate using the reference. We can then map onto the measured using the dendrogram position of a cells 1 nearest neighbor in the reference compressed space"
   ]
  },
  {
   "cell_type": "code",
   "execution_count": 121,
   "metadata": {},
   "outputs": [],
   "source": [
    "\"\"\"\n",
    "using the latent space of scVI but could use PCA or others\n",
    "\"\"\"\n",
    "scRNAseq_linkage = shc.linkage(latent, method='ward')\n",
    "\"\"\"\n",
    "using the Zscore of MERFISH but could use PCA or others\n",
    "\"\"\"\n",
    "zscore = np.divide(np.subtract(cell_counts_df,np.average(cell_counts_df,axis=1)[:,None]),np.std(cell_counts_df,axis=1)[:,None])\n",
    "MERFISH_linkage = shc.linkage(zscore, method='ward')"
   ]
  },
  {
   "cell_type": "code",
   "execution_count": 122,
   "metadata": {},
   "outputs": [],
   "source": [
    "pd.DataFrame(MERFISH_linkage).to_csv('/bigstore/GeneralStorage/Zach/CSI/MERFISH_linkage.csv.gz',compression='gzip')\n",
    "pd.DataFrame(scRNAseq_linkage).to_csv('/bigstore/GeneralStorage/Zach/CSI/scRNAseq_linkage.csv.gz',compression='gzip')"
   ]
  },
  {
   "cell_type": "code",
   "execution_count": null,
   "metadata": {},
   "outputs": [],
   "source": [
    "MERFISH_linkage = np.array(pd.read_csv('/bigstore/GeneralStorage/Zach/CSI/MERFISH_linkage.csv.gz',index_col=0))\n",
    "scRNAseq_linkage = np.array(pd.read_csv('/bigstore/GeneralStorage/Zach/CSI/scRNAseq_linkage.csv.gz',index_col=0))"
   ]
  },
  {
   "cell_type": "code",
   "execution_count": 127,
   "metadata": {},
   "outputs": [],
   "source": [
    "def find_next_node(i,df):\n",
    "    temp = df[(df[0]==i)|(df[1]==i)]\n",
    "    if len(temp)==1:\n",
    "        return int(temp[4].iloc[0])\n",
    "    else:\n",
    "        return 'stop'\n",
    "def find_nodes(i,new_df):\n",
    "    n = []\n",
    "    new_node = find_next_node(i,new_df)\n",
    "    n.append(i)\n",
    "    while isinstance(new_node,int):\n",
    "            n.append(new_node)\n",
    "            new_node = find_next_node(new_node,new_df)\n",
    "    return n\n",
    "def linkage2binary(linkage,cells,ncpu=1):\n",
    "    ncells = len(cells)\n",
    "    new_df = pd.DataFrame(linkage)\n",
    "    new_df[4] = ncells+np.array(range(len(new_df)))\n",
    "    binary_node_matrix = np.zeros((ncells,linkage.shape[0]+ncells))\n",
    "    sys.stdout.flush()\n",
    "    pfunc = partial(find_nodes,new_df=new_df)\n",
    "    if ncpu>1:\n",
    "        with Pool(30) as p:\n",
    "            for nodes in tqdm.tqdm(p.imap(pfunc,list(range(ncells)),chunksize=1),total=ncells):\n",
    "                i = nodes[0]\n",
    "                for n in nodes:\n",
    "                    binary_node_matrix[i,n]=1\n",
    "        sys.stdout.flush()\n",
    "    else:\n",
    "        for i in tqdm.tqdm(range(ncells)):\n",
    "            nodes = find_nodes(i,new_df)\n",
    "            for n in nodes:\n",
    "                binary_node_matrix[i,n]=1\n",
    "    node_df = pd.DataFrame(binary_node_matrix,index=cells)\n",
    "    return node_df"
   ]
  },
  {
   "cell_type": "code",
   "execution_count": 128,
   "metadata": {},
   "outputs": [
    {
     "data": {
      "application/vnd.jupyter.widget-view+json": {
       "model_id": "b74823acfea14282927064bdee1247da",
       "version_major": 2,
       "version_minor": 0
      },
      "text/plain": [
       "HBox(children=(FloatProgress(value=0.0, max=29013.0), HTML(value='')))"
      ]
     },
     "metadata": {},
     "output_type": "display_data"
    },
    {
     "name": "stdout",
     "output_type": "stream",
     "text": [
      "\n"
     ]
    },
    {
     "data": {
      "application/vnd.jupyter.widget-view+json": {
       "model_id": "210c14f791184f8888f91bbb7be1b7bf",
       "version_major": 2,
       "version_minor": 0
      },
      "text/plain": [
       "HBox(children=(FloatProgress(value=0.0, max=29651.0), HTML(value='')))"
      ]
     },
     "metadata": {},
     "output_type": "display_data"
    },
    {
     "name": "stdout",
     "output_type": "stream",
     "text": [
      "\n"
     ]
    }
   ],
   "source": [
    "scRNAseq_node_df = linkage2binary(scRNAseq_linkage,list(info.index))\n",
    "MERFISH_node_df = linkage2binary(MERFISH_linkage,list(cell_info_df.index))"
   ]
  },
  {
   "cell_type": "code",
   "execution_count": 129,
   "metadata": {
    "collapsed": true
   },
   "outputs": [
    {
     "ename": "KeyboardInterrupt",
     "evalue": "",
     "output_type": "error",
     "traceback": [
      "\u001b[0;31m---------------------------------------------------------------------------\u001b[0m",
      "\u001b[0;31mKeyboardInterrupt\u001b[0m                         Traceback (most recent call last)",
      "\u001b[0;32m<ipython-input-129-ec35c763fa98>\u001b[0m in \u001b[0;36m<module>\u001b[0;34m\u001b[0m\n\u001b[0;32m----> 1\u001b[0;31m \u001b[0mscRNAseq_node_df\u001b[0m\u001b[0;34m.\u001b[0m\u001b[0mto_csv\u001b[0m\u001b[0;34m(\u001b[0m\u001b[0;34m'/bigstore/GeneralStorage/Zach/CSI/scRNAseq_node_df.csv.gz'\u001b[0m\u001b[0;34m,\u001b[0m\u001b[0mcompression\u001b[0m\u001b[0;34m=\u001b[0m\u001b[0;34m'gzip'\u001b[0m\u001b[0;34m)\u001b[0m\u001b[0;34m\u001b[0m\u001b[0;34m\u001b[0m\u001b[0m\n\u001b[0m\u001b[1;32m      2\u001b[0m \u001b[0mMERFISH_node_df\u001b[0m\u001b[0;34m.\u001b[0m\u001b[0mto_csv\u001b[0m\u001b[0;34m(\u001b[0m\u001b[0;34m'/bigstore/GeneralStorage/Zach/CSI/MERFISH_node_df.csv.gz'\u001b[0m\u001b[0;34m,\u001b[0m\u001b[0mcompression\u001b[0m\u001b[0;34m=\u001b[0m\u001b[0;34m'gzip'\u001b[0m\u001b[0;34m)\u001b[0m\u001b[0;34m\u001b[0m\u001b[0;34m\u001b[0m\u001b[0m\n",
      "\u001b[0;32m~/miniconda3/envs/pytorch/lib/python3.6/site-packages/pandas/core/generic.py\u001b[0m in \u001b[0;36mto_csv\u001b[0;34m(self, path_or_buf, sep, na_rep, float_format, columns, header, index, index_label, mode, encoding, compression, quoting, quotechar, line_terminator, chunksize, date_format, doublequote, escapechar, decimal)\u001b[0m\n\u001b[1;32m   3226\u001b[0m             \u001b[0mdecimal\u001b[0m\u001b[0;34m=\u001b[0m\u001b[0mdecimal\u001b[0m\u001b[0;34m,\u001b[0m\u001b[0;34m\u001b[0m\u001b[0;34m\u001b[0m\u001b[0m\n\u001b[1;32m   3227\u001b[0m         )\n\u001b[0;32m-> 3228\u001b[0;31m         \u001b[0mformatter\u001b[0m\u001b[0;34m.\u001b[0m\u001b[0msave\u001b[0m\u001b[0;34m(\u001b[0m\u001b[0;34m)\u001b[0m\u001b[0;34m\u001b[0m\u001b[0;34m\u001b[0m\u001b[0m\n\u001b[0m\u001b[1;32m   3229\u001b[0m \u001b[0;34m\u001b[0m\u001b[0m\n\u001b[1;32m   3230\u001b[0m         \u001b[0;32mif\u001b[0m \u001b[0mpath_or_buf\u001b[0m \u001b[0;32mis\u001b[0m \u001b[0;32mNone\u001b[0m\u001b[0;34m:\u001b[0m\u001b[0;34m\u001b[0m\u001b[0;34m\u001b[0m\u001b[0m\n",
      "\u001b[0;32m~/miniconda3/envs/pytorch/lib/python3.6/site-packages/pandas/io/formats/csvs.py\u001b[0m in \u001b[0;36msave\u001b[0;34m(self)\u001b[0m\n\u001b[1;32m    200\u001b[0m                 \u001b[0mself\u001b[0m\u001b[0;34m.\u001b[0m\u001b[0mwriter\u001b[0m \u001b[0;34m=\u001b[0m \u001b[0mUnicodeWriter\u001b[0m\u001b[0;34m(\u001b[0m\u001b[0mf\u001b[0m\u001b[0;34m,\u001b[0m \u001b[0;34m**\u001b[0m\u001b[0mwriter_kwargs\u001b[0m\u001b[0;34m)\u001b[0m\u001b[0;34m\u001b[0m\u001b[0;34m\u001b[0m\u001b[0m\n\u001b[1;32m    201\u001b[0m \u001b[0;34m\u001b[0m\u001b[0m\n\u001b[0;32m--> 202\u001b[0;31m             \u001b[0mself\u001b[0m\u001b[0;34m.\u001b[0m\u001b[0m_save\u001b[0m\u001b[0;34m(\u001b[0m\u001b[0;34m)\u001b[0m\u001b[0;34m\u001b[0m\u001b[0;34m\u001b[0m\u001b[0m\n\u001b[0m\u001b[1;32m    203\u001b[0m \u001b[0;34m\u001b[0m\u001b[0m\n\u001b[1;32m    204\u001b[0m         \u001b[0;32mfinally\u001b[0m\u001b[0;34m:\u001b[0m\u001b[0;34m\u001b[0m\u001b[0;34m\u001b[0m\u001b[0m\n",
      "\u001b[0;32m~/miniconda3/envs/pytorch/lib/python3.6/site-packages/pandas/io/formats/csvs.py\u001b[0m in \u001b[0;36m_save\u001b[0;34m(self)\u001b[0m\n\u001b[1;32m    322\u001b[0m                 \u001b[0;32mbreak\u001b[0m\u001b[0;34m\u001b[0m\u001b[0;34m\u001b[0m\u001b[0m\n\u001b[1;32m    323\u001b[0m \u001b[0;34m\u001b[0m\u001b[0m\n\u001b[0;32m--> 324\u001b[0;31m             \u001b[0mself\u001b[0m\u001b[0;34m.\u001b[0m\u001b[0m_save_chunk\u001b[0m\u001b[0;34m(\u001b[0m\u001b[0mstart_i\u001b[0m\u001b[0;34m,\u001b[0m \u001b[0mend_i\u001b[0m\u001b[0;34m)\u001b[0m\u001b[0;34m\u001b[0m\u001b[0;34m\u001b[0m\u001b[0m\n\u001b[0m\u001b[1;32m    325\u001b[0m \u001b[0;34m\u001b[0m\u001b[0m\n\u001b[1;32m    326\u001b[0m     \u001b[0;32mdef\u001b[0m \u001b[0m_save_chunk\u001b[0m\u001b[0;34m(\u001b[0m\u001b[0mself\u001b[0m\u001b[0;34m,\u001b[0m \u001b[0mstart_i\u001b[0m\u001b[0;34m,\u001b[0m \u001b[0mend_i\u001b[0m\u001b[0;34m)\u001b[0m\u001b[0;34m:\u001b[0m\u001b[0;34m\u001b[0m\u001b[0;34m\u001b[0m\u001b[0m\n",
      "\u001b[0;32m~/miniconda3/envs/pytorch/lib/python3.6/site-packages/pandas/io/formats/csvs.py\u001b[0m in \u001b[0;36m_save_chunk\u001b[0;34m(self, start_i, end_i)\u001b[0m\n\u001b[1;32m    343\u001b[0m             \u001b[0;32mfor\u001b[0m \u001b[0mcol_loc\u001b[0m\u001b[0;34m,\u001b[0m \u001b[0mcol\u001b[0m \u001b[0;32min\u001b[0m \u001b[0mzip\u001b[0m\u001b[0;34m(\u001b[0m\u001b[0mb\u001b[0m\u001b[0;34m.\u001b[0m\u001b[0mmgr_locs\u001b[0m\u001b[0;34m,\u001b[0m \u001b[0md\u001b[0m\u001b[0;34m)\u001b[0m\u001b[0;34m:\u001b[0m\u001b[0;34m\u001b[0m\u001b[0;34m\u001b[0m\u001b[0m\n\u001b[1;32m    344\u001b[0m                 \u001b[0;31m# self.data is a preallocated list\u001b[0m\u001b[0;34m\u001b[0m\u001b[0;34m\u001b[0m\u001b[0;34m\u001b[0m\u001b[0m\n\u001b[0;32m--> 345\u001b[0;31m                 \u001b[0mself\u001b[0m\u001b[0;34m.\u001b[0m\u001b[0mdata\u001b[0m\u001b[0;34m[\u001b[0m\u001b[0mcol_loc\u001b[0m\u001b[0;34m]\u001b[0m \u001b[0;34m=\u001b[0m \u001b[0mcol\u001b[0m\u001b[0;34m\u001b[0m\u001b[0;34m\u001b[0m\u001b[0m\n\u001b[0m\u001b[1;32m    346\u001b[0m \u001b[0;34m\u001b[0m\u001b[0m\n\u001b[1;32m    347\u001b[0m         ix = data_index.to_native_types(\n",
      "\u001b[0;31mKeyboardInterrupt\u001b[0m: "
     ]
    }
   ],
   "source": [
    "scRNAseq_node_df.to_csv('/bigstore/GeneralStorage/Zach/CSI/scRNAseq_node_df.csv.gz',compression='gzip')\n",
    "MERFISH_node_df.to_csv('/bigstore/GeneralStorage/Zach/CSI/MERFISH_node_df.csv.gz',compression='gzip')"
   ]
  },
  {
   "cell_type": "code",
   "execution_count": null,
   "metadata": {},
   "outputs": [],
   "source": [
    "scRNAseq_node_df = pd.read_csv('/bigstore/GeneralStorage/Zach/CSI/scRNAseq_node_df.csv.gz',index_col=0)\n",
    "MERFISH_node_df = pd.read_csv('/bigstore/GeneralStorage/Zach/CSI/MERFISH_node_df.csv.gz',index_col=0)"
   ]
  },
  {
   "cell_type": "code",
   "execution_count": 130,
   "metadata": {},
   "outputs": [],
   "source": [
    "def knn_impute_dendrogram_position(reference,measurement,node_df,k=1):\n",
    "    reference = np.array(reference)\n",
    "    cells = np.array(node_df.index)\n",
    "    ncells = len(cells)\n",
    "    k = 1\n",
    "    dist = euclidean_distances(reference, measurement)\n",
    "    rank = dist.argpartition(k+1,axis=0)[:k+1,:]\n",
    "    imputed_node_df = node_df.copy()\n",
    "    for x in tqdm.tqdm(range(ncells)):\n",
    "        cell = cells[x]\n",
    "        imputed_node_df.loc[cell] = node_df.loc[cells[rank[1,x]]]\n",
    "    return imputed_node_df"
   ]
  },
  {
   "cell_type": "code",
   "execution_count": 131,
   "metadata": {},
   "outputs": [
    {
     "data": {
      "application/vnd.jupyter.widget-view+json": {
       "model_id": "8ec9f90ce6f2422a9090c5f74d1df807",
       "version_major": 2,
       "version_minor": 0
      },
      "text/plain": [
       "HBox(children=(FloatProgress(value=0.0, max=29013.0), HTML(value='')))"
      ]
     },
     "metadata": {},
     "output_type": "display_data"
    },
    {
     "name": "stdout",
     "output_type": "stream",
     "text": [
      "\n"
     ]
    },
    {
     "data": {
      "application/vnd.jupyter.widget-view+json": {
       "model_id": "b740d62a07e94bf6837757f71e9f93e4",
       "version_major": 2,
       "version_minor": 0
      },
      "text/plain": [
       "HBox(children=(FloatProgress(value=0.0, max=29651.0), HTML(value='')))"
      ]
     },
     "metadata": {},
     "output_type": "display_data"
    },
    {
     "name": "stdout",
     "output_type": "stream",
     "text": [
      "\n"
     ]
    }
   ],
   "source": [
    "reference = scRNAseq_compressed\n",
    "measurement = scRNAseq_compressed_interpolated\n",
    "node_df = scRNAseq_node_df\n",
    "scRNAseq_imputed_node_df = knn_impute_dendrogram_position(reference,measurement,node_df,k=1)\n",
    "\n",
    "reference = MERFISH_compressed\n",
    "measurement = MERFISH_compressed_interpolated\n",
    "node_df = MERFISH_node_df\n",
    "MERFISH_imputed_node_df = knn_impute_dendrogram_position(reference,measurement,node_df,k=1)"
   ]
  },
  {
   "cell_type": "code",
   "execution_count": null,
   "metadata": {},
   "outputs": [],
   "source": [
    "scRNAseq_imputed_node_df.to_csv('/bigstore/GeneralStorage/Zach/CSI/scRNAseq_imputed_node_df.csv.gz',compression='gzip')\n",
    "MERFISH_imputed_node_df.to_csv('/bigstore/GeneralStorage/Zach/CSI/MERFISH_imputed_node_df.csv.gz',compression='gzip')"
   ]
  },
  {
   "cell_type": "code",
   "execution_count": null,
   "metadata": {},
   "outputs": [],
   "source": [
    "scRNAseq_imputed_node_df = pd.read_csv('/bigstore/GeneralStorage/Zach/CSI/scRNAseq_imputed_node_df.csv.gz',index_col=0)\n",
    "MERFISH_imputed_node_df = pd.read_csv('/bigstore/GeneralStorage/Zach/CSI/MERFISH_imputed_node_df.csv.gz',index_col=0)"
   ]
  },
  {
   "cell_type": "code",
   "execution_count": 132,
   "metadata": {},
   "outputs": [],
   "source": [
    "def calculate_accuracy_dendrogram(truth,imputed):\n",
    "    accuracy_matrix = np.zeros(len(imputed.columns))\n",
    "    false_positive_rate_matrix = np.zeros(len(imputed.columns))\n",
    "    false_negative_rate_matrix = np.zeros(len(imputed.columns))\n",
    "    for i in tqdm.tqdm(imputed.columns):\n",
    "        imputed_cells = list(imputed[imputed[i]==1].index)\n",
    "        truth_cells = list(truth[truth[i]==1].index)\n",
    "        true = len(set(imputed_cells).intersection(truth_cells))\n",
    "        fp = len(imputed_cells)-true\n",
    "        fn = len(truth_cells)-true\n",
    "        ltruth = len(truth_cells)\n",
    "        accuracy_matrix[i] = true/ltruth\n",
    "        false_positive_rate_matrix[i] = fp/ltruth\n",
    "        false_negative_rate_matrix[i] = fn/ltruth\n",
    "    return accuracy_matrix,false_positive_rate_matrix,false_negative_rate_matrix"
   ]
  },
  {
   "cell_type": "code",
   "execution_count": 133,
   "metadata": {},
   "outputs": [
    {
     "data": {
      "application/vnd.jupyter.widget-view+json": {
       "model_id": "284b98a4e11f4e7e8807465ccb16c87d",
       "version_major": 2,
       "version_minor": 0
      },
      "text/plain": [
       "HBox(children=(FloatProgress(value=0.0, max=59301.0), HTML(value='')))"
      ]
     },
     "metadata": {},
     "output_type": "display_data"
    },
    {
     "name": "stdout",
     "output_type": "stream",
     "text": [
      "\n"
     ]
    }
   ],
   "source": [
    "# scRNAseq_accuracy_matrix,scRNAseq_false_positive_rate_matrix,scRNAseq_false_negative_rate_matrix = calculate_accuracy_dendrogram(scRNAseq_node_df,scRNAseq_imputed_node_df)\n",
    "MERFISH_accuracy_matrix,MERFISH_false_positive_rate_matrix,MERFISH_false_negative_rate_matrix = calculate_accuracy_dendrogram(MERFISH_node_df,MERFISH_imputed_node_df)"
   ]
  },
  {
   "cell_type": "code",
   "execution_count": null,
   "metadata": {},
   "outputs": [],
   "source": [
    "# scRNAseq_accuracy_matrix.to_csv('/bigstore/GeneralStorage/Zach/CSI/scRNAseq_accuracy_matrix.csv.gz',compression='gzip')\n",
    "MERFISH_accuracy_matrix.to_csv('/bigstore/GeneralStorage/Zach/CSI/MERFISH_accuracy_matrix.csv.gz',compression='gzip')"
   ]
  },
  {
   "cell_type": "code",
   "execution_count": null,
   "metadata": {},
   "outputs": [],
   "source": [
    "# scRNAseq_accuracy_matrix = pd.read_csv('/bigstore/GeneralStorage/Zach/CSI/scRNAseq_accuracy_matrix.csv.gz',index_col=0)\n",
    "MERFISH_accuracy_matrix = pd.read_csv('/bigstore/GeneralStorage/Zach/CSI/MERFISH_accuracy_matrix.csv.gz',index_col=0)"
   ]
  },
  {
   "cell_type": "code",
   "execution_count": 146,
   "metadata": {},
   "outputs": [],
   "source": [
    "def plot_dendrogram(linkage,accuracy_matrix):\n",
    "    Z = linkage.copy()\n",
    "    Z[:,2] = np.log10(Z[:,2]+1)\n",
    "    cmap = matplotlib.cm.plasma(accuracy_matrix)\n",
    "    temp = [matplotlib.colors.rgb2hex(rgb[:3]) for rgb in cmap]\n",
    "    link_cols = {}\n",
    "    for i,c in enumerate(temp):\n",
    "        link_cols[i] = c\n",
    "    plt.figure(figsize=[5,10])\n",
    "    D = shc.dendrogram(Z=Z,\n",
    "                       link_color_func=lambda x: link_cols[x],\n",
    "                       orientation='left',no_labels=True)\n",
    "    plt.xlim([3.5,1])\n",
    "    plt.colorbar(matplotlib.cm.ScalarMappable(cmap='plasma'),orientation=\"vertical\")\n",
    "    plt.show()"
   ]
  },
  {
   "cell_type": "code",
   "execution_count": 147,
   "metadata": {},
   "outputs": [
    {
     "data": {
      "image/png": "[encoded data removed]",
      "text/plain": [
       "<Figure size 360x720 with 2 Axes>"
      ]
     },
     "metadata": {
      "needs_background": "light"
     },
     "output_type": "display_data"
    }
   ],
   "source": [
    "%matplotlib inline\n",
    "# plot_dendrogram(scRNAseq_linkage,scRNAseq_accuracy_matrix)\n",
    "plot_dendrogram(MERFISH_linkage,MERFISH_accuracy_matrix)"
   ]
  },
  {
   "cell_type": "markdown",
   "metadata": {},
   "source": [
    "### KNN Gene Expression Imputation\n",
    "Cell types and dendrogram locations can be used to seperate cells into categories to represent some of the heterogeneity of the sample. Even within categories or clusters single cells can have gene expression differences. It may be possible to impute this gene expression using the average gene expression of the 10 nearest neighbors in the reference compressed space"
   ]
  },
  {
   "cell_type": "code",
   "execution_count": null,
   "metadata": {},
   "outputs": [],
   "source": []
  },
  {
   "cell_type": "markdown",
   "metadata": {},
   "source": [
    "### ML Intensity to Simulated Compressed Conversion\n",
    "While there are no nonlinearities between intensity and MERFISH there are between FISH based methods and sequencing based methods. These nonlinearities make the conversion from intensity to counts in scRNAseq much harder. We have paired data between the intensity and MERFISH. Other work has been done to impute scRNAseq from MERFISH data. Using this we could pair Intensity to imputed scRNAseq. This may allow us to train some form of neural net to map intensity values to nonlinear single cell rnaseq."
   ]
  },
  {
   "cell_type": "code",
   "execution_count": null,
   "metadata": {},
   "outputs": [],
   "source": []
  },
  {
   "cell_type": "markdown",
   "metadata": {},
   "source": [
    "### ML Cell Type Imputation\n",
    "since we have simulated compressed from our reference and cell type labels, rather than using a knn based classifier we could also train a neural net classifier to convert from compressed to cell types"
   ]
  },
  {
   "cell_type": "code",
   "execution_count": null,
   "metadata": {},
   "outputs": [],
   "source": []
  },
  {
   "cell_type": "markdown",
   "metadata": {},
   "source": [
    "### ML Dendrogram Imputation\n",
    "since we have simulated compressed from our reference and dendrogram position labels, rather than using a knn based classifier we could also train a neural net classifier to convert from compressed to dendrogram position labels"
   ]
  },
  {
   "cell_type": "code",
   "execution_count": null,
   "metadata": {},
   "outputs": [],
   "source": []
  },
  {
   "cell_type": "markdown",
   "metadata": {},
   "source": [
    "### ML Gene Expression Imputation\n",
    "since we have simulated compressed from our reference and full gene expression profiles, rather than using a knn based classifier we could also train a neural net classifier to convert from compressed to the full gene expression profiles"
   ]
  }
 ],
 "metadata": {
  "kernelspec": {
   "display_name": "Python [conda env:pytorch]",
   "language": "python",
   "name": "conda-env-pytorch-py"
  },
  "language_info": {
   "codemirror_mode": {
    "name": "ipython",
    "version": 3
   },
   "file_extension": ".py",
   "mimetype": "text/x-python",
   "name": "python",
   "nbconvert_exporter": "python",
   "pygments_lexer": "ipython3",
   "version": "3.6.9"
  }
 },
 "nbformat": 4,
 "nbformat_minor": 2
}
