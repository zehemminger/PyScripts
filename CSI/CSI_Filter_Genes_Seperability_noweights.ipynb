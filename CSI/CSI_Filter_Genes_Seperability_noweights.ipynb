{
 "cells": [
  {
   "cell_type": "code",
   "execution_count": 1,
   "metadata": {},
   "outputs": [],
   "source": [
    "import os\n",
    "import pandas as pd\n",
    "import numpy as np\n",
    "from fish_helpers import *\n",
    "import tqdm\n",
    "import time\n",
    "from scipy import sparse\n",
    "import random\n",
    "from ipypb import ipb\n",
    "base = '/bigstore/binfo/mouse/Hippocampus/'"
   ]
  },
  {
   "cell_type": "code",
   "execution_count": 2,
   "metadata": {},
   "outputs": [
    {
     "name": "stderr",
     "output_type": "stream",
     "text": [
      "/home/zach/miniconda3/envs/pyspots/lib/python3.6/site-packages/IPython/core/interactiveshell.py:2785: DtypeWarning: Columns (36,54) have mixed types. Specify dtype option on import or set low_memory=False.\n",
      "  interactivity=interactivity, compiler=compiler, result=result)\n",
      "100%|██████████| 290/290 [00:13<00:00, 20.73it/s]\n"
     ]
    }
   ],
   "source": [
    "\"\"\"\n",
    "Decoding dendogram\n",
    "Converting to linkage\n",
    "\"\"\"\n",
    "import json\n",
    "with open('/bigstore/binfo/mouse/Hippocampus/dend.json') as json_file:\n",
    "    data = json.load(json_file)\n",
    "def inspect_node(node):\n",
    "    if 'leaf_attributes' in node.keys():\n",
    "        attributes = node['leaf_attributes'][0]\n",
    "        c = attributes['node_id']\n",
    "        h = attributes['height']\n",
    "        a = 'None'\n",
    "        b = 'None'\n",
    "        children = False\n",
    "    else:\n",
    "        attributes = node['node_attributes'][0]\n",
    "        c = attributes['node_id']\n",
    "        h = attributes['height']\n",
    "        children = node['children']\n",
    "        a_node = node['children'][0]\n",
    "        if 'leaf_attributes' in a_node.keys():\n",
    "            a = a_node['leaf_attributes'][0]['node_id']\n",
    "        else:\n",
    "            a = a_node['node_attributes'][0]['node_id']\n",
    "        b_node = node['children'][1]\n",
    "        if 'leaf_attributes' in b_node.keys():\n",
    "            b = b_node['leaf_attributes'][0]['node_id']\n",
    "        else:\n",
    "            b = b_node['node_attributes'][0]['node_id']\n",
    "    return c,h,a,b,children\n",
    "\n",
    "C = []\n",
    "H = []\n",
    "A = []\n",
    "B = []\n",
    "node_dict = {}\n",
    "\n",
    "node = data\n",
    "c,h,a,b,children = inspect_node(node)\n",
    "C.append(c)\n",
    "H.append(h)\n",
    "A.append(a)\n",
    "B.append(b)\n",
    "while len(children)>0:\n",
    "    new_children = []\n",
    "    for node in children:\n",
    "        c,h,a,b,node_children = inspect_node(node)\n",
    "        C.append(c)\n",
    "        H.append(h)\n",
    "        A.append(a)\n",
    "        B.append(b)\n",
    "        if isinstance(node_children,list):\n",
    "            new_children.extend(node_children)\n",
    "    children = new_children\n",
    "linkage = pd.DataFrame()\n",
    "linkage['C'] = C\n",
    "linkage['H'] = H\n",
    "linkage['A'] = A\n",
    "linkage['B'] = B\n",
    "\"\"\"\n",
    "Convert linkage to dendrogram format\n",
    "\"\"\"\n",
    "sorted_linkage = linkage.sort_values('H',ascending=True)\n",
    "sorted_linkage['n'] = range(len(sorted_linkage))\n",
    "nA = []\n",
    "for A in sorted_linkage['A']:\n",
    "    if A!='None':\n",
    "        nA.append(np.array(sorted_linkage[sorted_linkage['C']==A]['n'])[0])\n",
    "    else:\n",
    "        nA.append('None')\n",
    "nB = []\n",
    "for B in sorted_linkage['B']:\n",
    "    if B!='None':\n",
    "        nB.append(np.array(sorted_linkage[sorted_linkage['C']==B]['n'])[0])\n",
    "    else:\n",
    "        nB.append('None')\n",
    "sorted_linkage['nA'] = nA\n",
    "sorted_linkage['nB'] = nB\n",
    "sorted_linkage['nC'] = list(sorted_linkage['n'])\n",
    "sorted_linkage = sorted_linkage[sorted_linkage['H']>0]\n",
    "sorted_linkage = sorted_linkage.sort_values('H',ascending=True)\n",
    "\"\"\"\n",
    "Convert to shc format\n",
    "\"\"\"\n",
    "linkage_shc = np.zeros((len(sorted_linkage),4))\n",
    "linkage_shc[:,0] = sorted_linkage['nA']\n",
    "linkage_shc[:,1] = sorted_linkage['nB']\n",
    "linkage_shc[:,2] = sorted_linkage['H']\n",
    "linkage_shc[:,3] = 1\n",
    "\"\"\"\n",
    "Convert to cell type by node matrix\n",
    "\"\"\"\n",
    "def find_next_node(i,df):\n",
    "    temp = df[(df['A']==i)|(df['B']==i)]\n",
    "    if len(temp)==1:\n",
    "        return temp['C'].iloc[0]\n",
    "    else:\n",
    "        return False\n",
    "def linkage2binary(linkage,cells):\n",
    "    nnodes = len(linkage)\n",
    "    ncells = len(cells)\n",
    "    binary_node_matrix = np.zeros((ncells,nnodes))\n",
    "    first_node = linkage['C'].iloc[0]\n",
    "    for i,cell in tqdm.tqdm(enumerate(cells),total=ncells):\n",
    "        node_loc = list(linkage[linkage['C']==cell].index)[0]\n",
    "        binary_node_matrix[i,node_loc]=1\n",
    "        new_node = find_next_node(cell,linkage)\n",
    "        while isinstance(new_node,str):\n",
    "            node_loc = list(linkage[linkage['C']==new_node].index)[0]\n",
    "            binary_node_matrix[i,node_loc]=1\n",
    "            new_node = find_next_node(new_node,linkage)\n",
    "    binary_node_df = pd.DataFrame(binary_node_matrix,index=cells,columns=list(linkage['C']))\n",
    "    return binary_node_df\n",
    "metadata = pd.read_csv(os.path.join(base,'sample_annotations.csv'),index_col=0)\n",
    "good_types = [i for i in metadata['cell_type_alias_label'].unique() if (not 'Doub' in i)&(not 'Quality' in i)&(not 'Unknown' in i)]\n",
    "binary_node_df = linkage2binary(linkage,good_types)\n",
    "binary_node_df = binary_node_df.T"
   ]
  },
  {
   "cell_type": "code",
   "execution_count": 3,
   "metadata": {},
   "outputs": [
    {
     "name": "stderr",
     "output_type": "stream",
     "text": [
      "100%|██████████| 290/290 [01:53<00:00,  2.55it/s]\n"
     ]
    }
   ],
   "source": [
    "\"\"\"\n",
    "Build cell type to cell type weight matrix\n",
    "\"\"\"\n",
    "n_cell_types = len(good_types)\n",
    "weight_matrix = np.zeros((n_cell_types,n_cell_types))\n",
    "for x,cell_type1 in tqdm.tqdm(enumerate(good_types),total=n_cell_types):\n",
    "    for y,cell_type2 in enumerate(good_types):\n",
    "        if x<y:\n",
    "            ancester_nodes = list(binary_node_df[(binary_node_df[cell_type1]==1)&(binary_node_df[cell_type2]==1)].index)\n",
    "            weight = np.min(linkage[linkage['C'].isin(ancester_nodes)]['H'])\n",
    "            weight_matrix[x,y] = weight\n",
    "            weight_matrix[y,x] = weight\n",
    "weight_matrix_df = pd.DataFrame(weight_matrix,index=good_types,columns=good_types)"
   ]
  },
  {
   "cell_type": "code",
   "execution_count": 4,
   "metadata": {},
   "outputs": [
    {
     "name": "stderr",
     "output_type": "stream",
     "text": [
      "/home/zach/miniconda3/envs/pyspots/lib/python3.6/site-packages/IPython/core/interactiveshell.py:2785: DtypeWarning: Columns (36,54) have mixed types. Specify dtype option on import or set low_memory=False.\n",
      "  interactivity=interactivity, compiler=compiler, result=result)\n"
     ]
    }
   ],
   "source": [
    "\"\"\"\n",
    "Loading Data from backup\n",
    "\"\"\"\n",
    "raw_counts_sparse =  sparse.load_npz(os.path.join(base,'Allen/filtered_raw_counts.npz'))\n",
    "cells =  np.array(pd.read_csv(os.path.join(base,'Allen/filtered_raw_cells.csv'),index_col=0)['0'])\n",
    "genes = np.array(pd.read_csv(os.path.join(base,'Allen/filtered_raw_genes.csv'),index_col=0)['0'])\n",
    "metadata = pd.read_csv(os.path.join(base,'sample_annotations.csv'),index_col=0)\n",
    "good_types = [i for i in metadata['cell_type_alias_label'].unique() if (not 'Doub' in i)&(not 'Quality' in i)&(not 'Unknown' in i)]\n",
    "raw_counts = raw_counts_sparse.A\n",
    "normalized_raw_counts = np.divide(raw_counts,np.sum(raw_counts,axis=0))*10**6\n",
    "del raw_counts"
   ]
  },
  {
   "cell_type": "code",
   "execution_count": 5,
   "metadata": {},
   "outputs": [],
   "source": [
    "\"\"\"\n",
    "Generating Cell Type Lookup Table\n",
    "\"\"\"\n",
    "cell_type_loc = {}\n",
    "labels = np.array(metadata['cell_type_alias_label'].loc[list(cells)])\n",
    "for cell_type in np.unique(labels):\n",
    "    cell_type_loc[cell_type] = np.where(labels==cell_type)[0]"
   ]
  },
  {
   "cell_type": "code",
   "execution_count": 11,
   "metadata": {},
   "outputs": [
    {
     "data": {
      "text/html": [
       "<div><span class=\"Text-label\" style=\"display:inline-block; overflow:hidden; white-space:nowrap; text-overflow:ellipsis; min-width:0; max-width:15ex; vertical-align:middle; text-align:right\"></span>\n",
       "<progress style=\"width:60ex\" max=\"290\" value=\"290\" class=\"Progress-main\"/></progress>\n",
       "<span class=\"Progress-label\"><strong>100%</strong></span>\n",
       "<span class=\"Iteration-label\">290/290</span>\n",
       "<span class=\"Time-label\">[02:39<00:01, 0.55s/it]</span></div>"
      ],
      "text/plain": [
       "\u001b[A\u001b[2K\r",
       " [████████████████████████████████████████████████████████████] 290/290 [02:39<00:01, 0.55s/it]"
      ]
     },
     "metadata": {},
     "output_type": "display_data"
    },
    {
     "data": {
      "text/html": [
       "<div><span class=\"Text-label\" style=\"display:inline-block; overflow:hidden; white-space:nowrap; text-overflow:ellipsis; min-width:0; max-width:15ex; vertical-align:middle; text-align:right\"></span>\n",
       "<progress style=\"width:60ex\" max=\"290\" value=\"290\" class=\"Progress-main\"/></progress>\n",
       "<span class=\"Progress-label\"><strong>100%</strong></span>\n",
       "<span class=\"Iteration-label\">290/290</span>\n",
       "<span class=\"Time-label\">[02:23<00:00, 0.49s/it]</span></div>"
      ],
      "text/plain": [
       "\u001b[A\u001b[2K\r",
       " [████████████████████████████████████████████████████████████] 290/290 [02:23<00:00, 0.49s/it]"
      ]
     },
     "metadata": {},
     "output_type": "display_data"
    },
    {
     "name": "stderr",
     "output_type": "stream",
     "text": [
      "/home/zach/miniconda3/envs/pyspots/lib/python3.6/site-packages/ipykernel_launcher.py:32: RuntimeWarning: invalid value encountered in true_divide\n"
     ]
    }
   ],
   "source": [
    "\"\"\"\n",
    "Calculate median and variance for each gene for each cell type\n",
    "\"\"\"\n",
    "from ipypb import ipb\n",
    "indexes = list(range(len(cells)))\n",
    "cell_types = cell_type_loc.keys()\n",
    "n_cell_types = len(cell_types)\n",
    "ngenes = len(genes)\n",
    "normalized_cell_type_averages= np.zeros((n_cell_types,ngenes))\n",
    "normalized_cell_type_variance = np.zeros((n_cell_types,ngenes))\n",
    "for i,cell_type in ipb(enumerate(cell_types),n_cell_types):\n",
    "    loc = cell_type_loc[cell_type]\n",
    "    if len(loc)>0: # if there are no cells for that node keep as 0?\n",
    "        cel_type_counts = normalized_raw_counts[:,loc]\n",
    "        normalized_cell_type_averages[i,:] = np.average(cel_type_counts,axis=1)\n",
    "        normalized_cell_type_variance[i,:] = np.std(cel_type_counts,axis=1)\n",
    "\"\"\"\n",
    "cell_type loop\n",
    "elementwise\n",
    "matrix subtraction of medians\n",
    "matrix addition of variances\n",
    "Use Nodes heights as weights\n",
    "Calculate seperability for genes independantly\n",
    "\"\"\"\n",
    "weights = weight_matrix\n",
    "normalized_seperability_matrix = np.zeros_like(normalized_cell_type_averages)\n",
    "for i in ipb(range(n_cell_types)):\n",
    "    average = normalized_cell_type_averages[i,:]\n",
    "    variance = normalized_cell_type_variance[i,:]\n",
    "    delta_averages = np.abs(np.subtract(normalized_cell_type_averages,average[None,:]))\n",
    "    sigma_variances = np.add(normalized_cell_type_variance,variance[None,:])\n",
    "    seperability = np.divide(delta_averages,sigma_variances)\n",
    "    seperability[seperability==np.inf]=0\n",
    "    weighted_seperability = seperability\n",
    "    weighted_seperability[weighted_seperability==np.inf]=0\n",
    "    normalized_seperability_matrix[i,:] = np.nansum(weighted_seperability,axis=0)\n",
    "normalized_total_seperation = np.sum(normalized_seperability_matrix,axis=0)"
   ]
  },
  {
   "cell_type": "code",
   "execution_count": 12,
   "metadata": {},
   "outputs": [
    {
     "data": {
      "image/png": "[encoded data removed]",
      "text/plain": [
       "<Figure size 432x288 with 1 Axes>"
      ]
     },
     "metadata": {},
     "output_type": "display_data"
    }
   ],
   "source": [
    "normalized_sorted_seperability = pd.DataFrame(normalized_total_seperation,index=genes,columns=['seperability']).sort_values('seperability',ascending=False)\n",
    "plt.style.use(['dark_background'])\n",
    "plt.plot(np.array(range(len(normalized_sorted_seperability))),normalized_sorted_seperability,c='c',label='normalized_True')\n",
    "plt.xlabel('genes rank sorted')\n",
    "plt.ylabel('seperability')\n",
    "plt.legend()\n",
    "plt.show()"
   ]
  },
  {
   "cell_type": "code",
   "execution_count": 17,
   "metadata": {},
   "outputs": [
    {
     "name": "stdout",
     "output_type": "stream",
     "text": [
      "20089.188971846466\n"
     ]
    },
    {
     "data": {
      "image/png": "[encoded data removed]",
      "text/plain": [
       "<Figure size 432x288 with 1 Axes>"
      ]
     },
     "metadata": {},
     "output_type": "display_data"
    }
   ],
   "source": [
    "# normalized_average_expression = pd.DataFrame(np.average(normalized_raw_counts,axis=1),index=genes)\n",
    "# normalized_sorted_seperability['expression'] = normalized_average_expression\n",
    "thresh = normalized_sorted_seperability[normalized_sorted_seperability['expression']>10]['seperability'].iloc[5000]\n",
    "print(thresh)\n",
    "plt.style.use(['dark_background'])\n",
    "plt.scatter(np.log10(normalized_sorted_seperability['expression']+1),normalized_sorted_seperability['seperability'],s=1,alpha=0.5)\n",
    "plt.plot([1,1],[0,np.max(normalized_sorted_seperability['seperability'])],c='r')\n",
    "plt.plot([0,np.max(np.log10(normalized_sorted_seperability['expression']+1))],[thresh,thresh],c='r')\n",
    "plt.xlabel('log10 expression')\n",
    "plt.ylabel(' seperability')\n",
    "plt.show()"
   ]
  },
  {
   "cell_type": "code",
   "execution_count": 19,
   "metadata": {
    "collapsed": true,
    "jupyter": {
     "outputs_hidden": true
    }
   },
   "outputs": [
    {
     "name": "stdout",
     "output_type": "stream",
     "text": [
      "5000\n"
     ]
    },
    {
     "ename": "KeyboardInterrupt",
     "evalue": "",
     "output_type": "error",
     "traceback": [
      "\u001b[0;31m---------------------------------------------------------------------------\u001b[0m",
      "\u001b[0;31mKeyboardInterrupt\u001b[0m                         Traceback (most recent call last)",
      "\u001b[0;32m<ipython-input-19-874b8d8e2264>\u001b[0m in \u001b[0;36m<module>\u001b[0;34m()\u001b[0m\n\u001b[1;32m      8\u001b[0m \u001b[0mfiltered_counts\u001b[0m \u001b[0;34m=\u001b[0m \u001b[0mnormalized_raw_counts\u001b[0m\u001b[0;34m[\u001b[0m\u001b[0mfiltered_mask\u001b[0m\u001b[0;34m,\u001b[0m\u001b[0;34m:\u001b[0m\u001b[0;34m]\u001b[0m\u001b[0;34m\u001b[0m\u001b[0m\n\u001b[1;32m      9\u001b[0m \u001b[0mfiltered_counts_sparse\u001b[0m \u001b[0;34m=\u001b[0m \u001b[0msparse\u001b[0m\u001b[0;34m.\u001b[0m\u001b[0mcsr_matrix\u001b[0m\u001b[0;34m(\u001b[0m\u001b[0mfiltered_counts\u001b[0m\u001b[0;34m)\u001b[0m\u001b[0;34m\u001b[0m\u001b[0m\n\u001b[0;32m---> 10\u001b[0;31m \u001b[0msparse\u001b[0m\u001b[0;34m.\u001b[0m\u001b[0msave_npz\u001b[0m\u001b[0;34m(\u001b[0m\u001b[0mos\u001b[0m\u001b[0;34m.\u001b[0m\u001b[0mpath\u001b[0m\u001b[0;34m.\u001b[0m\u001b[0mjoin\u001b[0m\u001b[0;34m(\u001b[0m\u001b[0mbase\u001b[0m\u001b[0;34m,\u001b[0m\u001b[0;34m'Allen/seperability_filtered_counts_no_weights.npz'\u001b[0m\u001b[0;34m)\u001b[0m\u001b[0;34m,\u001b[0m\u001b[0mfiltered_counts_sparse\u001b[0m\u001b[0;34m)\u001b[0m\u001b[0;34m\u001b[0m\u001b[0m\n\u001b[0m\u001b[1;32m     11\u001b[0m \u001b[0mpd\u001b[0m\u001b[0;34m.\u001b[0m\u001b[0mDataFrame\u001b[0m\u001b[0;34m(\u001b[0m\u001b[0mcells\u001b[0m\u001b[0;34m)\u001b[0m\u001b[0;34m.\u001b[0m\u001b[0mto_csv\u001b[0m\u001b[0;34m(\u001b[0m\u001b[0mos\u001b[0m\u001b[0;34m.\u001b[0m\u001b[0mpath\u001b[0m\u001b[0;34m.\u001b[0m\u001b[0mjoin\u001b[0m\u001b[0;34m(\u001b[0m\u001b[0mbase\u001b[0m\u001b[0;34m,\u001b[0m\u001b[0;34m'Allen/seperability_filtered_cells_no_weights.csv'\u001b[0m\u001b[0;34m)\u001b[0m\u001b[0;34m)\u001b[0m\u001b[0;34m\u001b[0m\u001b[0m\n\u001b[1;32m     12\u001b[0m \u001b[0mpd\u001b[0m\u001b[0;34m.\u001b[0m\u001b[0mDataFrame\u001b[0m\u001b[0;34m(\u001b[0m\u001b[0mfiltered_genes\u001b[0m\u001b[0;34m)\u001b[0m\u001b[0;34m.\u001b[0m\u001b[0mto_csv\u001b[0m\u001b[0;34m(\u001b[0m\u001b[0mos\u001b[0m\u001b[0;34m.\u001b[0m\u001b[0mpath\u001b[0m\u001b[0;34m.\u001b[0m\u001b[0mjoin\u001b[0m\u001b[0;34m(\u001b[0m\u001b[0mbase\u001b[0m\u001b[0;34m,\u001b[0m\u001b[0;34m'Allen/seperability_filtered_genes_no_weights.csv'\u001b[0m\u001b[0;34m)\u001b[0m\u001b[0;34m)\u001b[0m\u001b[0;34m\u001b[0m\u001b[0m\n",
      "\u001b[0;32m~/miniconda3/envs/pyspots/lib/python3.6/site-packages/scipy/sparse/_matrix_io.py\u001b[0m in \u001b[0;36msave_npz\u001b[0;34m(file, matrix, compressed)\u001b[0m\n\u001b[1;32m     76\u001b[0m     )\n\u001b[1;32m     77\u001b[0m     \u001b[0;32mif\u001b[0m \u001b[0mcompressed\u001b[0m\u001b[0;34m:\u001b[0m\u001b[0;34m\u001b[0m\u001b[0m\n\u001b[0;32m---> 78\u001b[0;31m         \u001b[0mnp\u001b[0m\u001b[0;34m.\u001b[0m\u001b[0msavez_compressed\u001b[0m\u001b[0;34m(\u001b[0m\u001b[0mfile\u001b[0m\u001b[0;34m,\u001b[0m \u001b[0;34m**\u001b[0m\u001b[0marrays_dict\u001b[0m\u001b[0;34m)\u001b[0m\u001b[0;34m\u001b[0m\u001b[0m\n\u001b[0m\u001b[1;32m     79\u001b[0m     \u001b[0;32melse\u001b[0m\u001b[0;34m:\u001b[0m\u001b[0;34m\u001b[0m\u001b[0m\n\u001b[1;32m     80\u001b[0m         \u001b[0mnp\u001b[0m\u001b[0;34m.\u001b[0m\u001b[0msavez\u001b[0m\u001b[0;34m(\u001b[0m\u001b[0mfile\u001b[0m\u001b[0;34m,\u001b[0m \u001b[0;34m**\u001b[0m\u001b[0marrays_dict\u001b[0m\u001b[0;34m)\u001b[0m\u001b[0;34m\u001b[0m\u001b[0m\n",
      "\u001b[0;32m~/miniconda3/envs/pyspots/lib/python3.6/site-packages/numpy/lib/npyio.py\u001b[0m in \u001b[0;36msavez_compressed\u001b[0;34m(file, *args, **kwds)\u001b[0m\n\u001b[1;32m    689\u001b[0m \u001b[0;34m\u001b[0m\u001b[0m\n\u001b[1;32m    690\u001b[0m     \"\"\"\n\u001b[0;32m--> 691\u001b[0;31m     \u001b[0m_savez\u001b[0m\u001b[0;34m(\u001b[0m\u001b[0mfile\u001b[0m\u001b[0;34m,\u001b[0m \u001b[0margs\u001b[0m\u001b[0;34m,\u001b[0m \u001b[0mkwds\u001b[0m\u001b[0;34m,\u001b[0m \u001b[0;32mTrue\u001b[0m\u001b[0;34m)\u001b[0m\u001b[0;34m\u001b[0m\u001b[0m\n\u001b[0m\u001b[1;32m    692\u001b[0m \u001b[0;34m\u001b[0m\u001b[0m\n\u001b[1;32m    693\u001b[0m \u001b[0;34m\u001b[0m\u001b[0m\n",
      "\u001b[0;32m~/miniconda3/envs/pyspots/lib/python3.6/site-packages/numpy/lib/npyio.py\u001b[0m in \u001b[0;36m_savez\u001b[0;34m(file, args, kwds, compress, allow_pickle, pickle_kwargs)\u001b[0m\n\u001b[1;32m    726\u001b[0m                 format.write_array(fid, val,\n\u001b[1;32m    727\u001b[0m                                    \u001b[0mallow_pickle\u001b[0m\u001b[0;34m=\u001b[0m\u001b[0mallow_pickle\u001b[0m\u001b[0;34m,\u001b[0m\u001b[0;34m\u001b[0m\u001b[0m\n\u001b[0;32m--> 728\u001b[0;31m                                    pickle_kwargs=pickle_kwargs)\n\u001b[0m\u001b[1;32m    729\u001b[0m     \u001b[0;32melse\u001b[0m\u001b[0;34m:\u001b[0m\u001b[0;34m\u001b[0m\u001b[0m\n\u001b[1;32m    730\u001b[0m         \u001b[0;31m# Stage arrays in a temporary file on disk, before writing to zip.\u001b[0m\u001b[0;34m\u001b[0m\u001b[0;34m\u001b[0m\u001b[0m\n",
      "\u001b[0;32m~/miniconda3/envs/pyspots/lib/python3.6/site-packages/numpy/lib/format.py\u001b[0m in \u001b[0;36mwrite_array\u001b[0;34m(fp, array, version, allow_pickle, pickle_kwargs)\u001b[0m\n\u001b[1;32m    643\u001b[0m                     \u001b[0marray\u001b[0m\u001b[0;34m,\u001b[0m \u001b[0mflags\u001b[0m\u001b[0;34m=\u001b[0m\u001b[0;34m[\u001b[0m\u001b[0;34m'external_loop'\u001b[0m\u001b[0;34m,\u001b[0m \u001b[0;34m'buffered'\u001b[0m\u001b[0;34m,\u001b[0m \u001b[0;34m'zerosize_ok'\u001b[0m\u001b[0;34m]\u001b[0m\u001b[0;34m,\u001b[0m\u001b[0;34m\u001b[0m\u001b[0m\n\u001b[1;32m    644\u001b[0m                     buffersize=buffersize, order='C'):\n\u001b[0;32m--> 645\u001b[0;31m                 \u001b[0mfp\u001b[0m\u001b[0;34m.\u001b[0m\u001b[0mwrite\u001b[0m\u001b[0;34m(\u001b[0m\u001b[0mchunk\u001b[0m\u001b[0;34m.\u001b[0m\u001b[0mtobytes\u001b[0m\u001b[0;34m(\u001b[0m\u001b[0;34m'C'\u001b[0m\u001b[0;34m)\u001b[0m\u001b[0;34m)\u001b[0m\u001b[0;34m\u001b[0m\u001b[0m\n\u001b[0m\u001b[1;32m    646\u001b[0m \u001b[0;34m\u001b[0m\u001b[0m\n\u001b[1;32m    647\u001b[0m \u001b[0;34m\u001b[0m\u001b[0m\n",
      "\u001b[0;32m~/miniconda3/envs/pyspots/lib/python3.6/zipfile.py\u001b[0m in \u001b[0;36mwrite\u001b[0;34m(self, data)\u001b[0m\n\u001b[1;32m    988\u001b[0m         \u001b[0mself\u001b[0m\u001b[0;34m.\u001b[0m\u001b[0m_crc\u001b[0m \u001b[0;34m=\u001b[0m \u001b[0mcrc32\u001b[0m\u001b[0;34m(\u001b[0m\u001b[0mdata\u001b[0m\u001b[0;34m,\u001b[0m \u001b[0mself\u001b[0m\u001b[0;34m.\u001b[0m\u001b[0m_crc\u001b[0m\u001b[0;34m)\u001b[0m\u001b[0;34m\u001b[0m\u001b[0m\n\u001b[1;32m    989\u001b[0m         \u001b[0;32mif\u001b[0m \u001b[0mself\u001b[0m\u001b[0;34m.\u001b[0m\u001b[0m_compressor\u001b[0m\u001b[0;34m:\u001b[0m\u001b[0;34m\u001b[0m\u001b[0m\n\u001b[0;32m--> 990\u001b[0;31m             \u001b[0mdata\u001b[0m \u001b[0;34m=\u001b[0m \u001b[0mself\u001b[0m\u001b[0;34m.\u001b[0m\u001b[0m_compressor\u001b[0m\u001b[0;34m.\u001b[0m\u001b[0mcompress\u001b[0m\u001b[0;34m(\u001b[0m\u001b[0mdata\u001b[0m\u001b[0;34m)\u001b[0m\u001b[0;34m\u001b[0m\u001b[0m\n\u001b[0m\u001b[1;32m    991\u001b[0m             \u001b[0mself\u001b[0m\u001b[0;34m.\u001b[0m\u001b[0m_compress_size\u001b[0m \u001b[0;34m+=\u001b[0m \u001b[0mlen\u001b[0m\u001b[0;34m(\u001b[0m\u001b[0mdata\u001b[0m\u001b[0;34m)\u001b[0m\u001b[0;34m\u001b[0m\u001b[0m\n\u001b[1;32m    992\u001b[0m         \u001b[0mself\u001b[0m\u001b[0;34m.\u001b[0m\u001b[0m_fileobj\u001b[0m\u001b[0;34m.\u001b[0m\u001b[0mwrite\u001b[0m\u001b[0;34m(\u001b[0m\u001b[0mdata\u001b[0m\u001b[0;34m)\u001b[0m\u001b[0;34m\u001b[0m\u001b[0m\n",
      "\u001b[0;31mKeyboardInterrupt\u001b[0m: "
     ]
    }
   ],
   "source": [
    "\"\"\"\n",
    "Save seperability filtered counts\n",
    "\"\"\"\n",
    "filtered_genes = np.array(normalized_sorted_seperability[normalized_sorted_seperability['expression']>10].iloc[:5000].index)\n",
    "print(len(filtered_genes))\n",
    "filtered_mask = np.isin(genes,filtered_genes)\n",
    "filtered_genes = genes[filtered_mask]\n",
    "filtered_counts = normalized_raw_counts[filtered_mask,:]\n",
    "filtered_counts_sparse = sparse.csr_matrix(filtered_counts)\n",
    "sparse.save_npz(os.path.join(base,'Allen/seperability_filtered_counts_no_weights.npz'),filtered_counts_sparse)\n",
    "pd.DataFrame(cells).to_csv(os.path.join(base,'Allen/seperability_filtered_cells_no_weights.csv'))\n",
    "pd.DataFrame(filtered_genes).to_csv(os.path.join(base,'Allen/seperability_filtered_genes_no_weights.csv'))"
   ]
  },
  {
   "cell_type": "code",
   "execution_count": 28,
   "metadata": {},
   "outputs": [
    {
     "data": {
      "text/plain": [
       "0.22449760828097695"
      ]
     },
     "execution_count": 28,
     "metadata": {},
     "output_type": "execute_result"
    }
   ],
   "source": [
    "np.sum(1*(filtered_counts==0))/(filtered_counts.shape[0]*filtered_counts.shape[1])"
   ]
  },
  {
   "cell_type": "code",
   "execution_count": 29,
   "metadata": {},
   "outputs": [],
   "source": [
    "sparse.save_npz(os.path.join(base,'Allen/seperability_filtered_counts_no_weights.npz'),filtered_counts_sparse)\n",
    "pd.DataFrame(cells).to_csv(os.path.join(base,'Allen/seperability_filtered_cells_no_weights.csv'))\n",
    "pd.DataFrame(filtered_genes).to_csv(os.path.join(base,'Allen/seperability_filtered_genes_no_weights.csv'))"
   ]
  },
  {
   "cell_type": "code",
   "execution_count": 23,
   "metadata": {},
   "outputs": [
    {
     "name": "stdout",
     "output_type": "stream",
     "text": [
      "               filtered_counts:  2.8 GiB\n",
      "                      metadata: 174.0 MiB\n",
      "  normalized_cell_type_medians: 61.0 MiB\n",
      " normalized_cell_type_variance: 61.0 MiB\n",
      "normalized_seperability_matrix: 61.0 MiB\n",
      "                 delta_medians: 61.0 MiB\n",
      "               sigma_variances: 61.0 MiB\n",
      "                  seperability: 61.0 MiB\n",
      "         weighted_seperability: 61.0 MiB\n",
      "normalized_cell_type_medians_permuted: 61.0 MiB\n"
     ]
    }
   ],
   "source": [
    "import sys\n",
    "def sizeof_fmt(num, suffix='B'):\n",
    "    ''' by Fred Cirera,  https://stackoverflow.com/a/1094933/1870254, modified'''\n",
    "    for unit in ['','Ki','Mi','Gi','Ti','Pi','Ei','Zi']:\n",
    "        if abs(num) < 1024.0:\n",
    "            return \"%3.1f %s%s\" % (num, unit, suffix)\n",
    "        num /= 1024.0\n",
    "    return \"%.1f %s%s\" % (num, 'Yi', suffix)\n",
    "\n",
    "for name, size in sorted(((name, sys.getsizeof(value)) for name, value in locals().items()),\n",
    "                         key= lambda x: -x[1])[:10]:\n",
    "    print(\"{:>30}: {:>8}\".format(name, sizeof_fmt(size)))"
   ]
  }
 ],
 "metadata": {
  "kernelspec": {
   "display_name": "pyspots [conda env:pyspots]",
   "language": "python",
   "name": "conda-env-pyspots-pyspots"
  },
  "language_info": {
   "codemirror_mode": {
    "name": "ipython",
    "version": 3
   },
   "file_extension": ".py",
   "mimetype": "text/x-python",
   "name": "python",
   "nbconvert_exporter": "python",
   "pygments_lexer": "ipython3",
   "version": "3.6.5"
  }
 },
 "nbformat": 4,
 "nbformat_minor": 4
}
