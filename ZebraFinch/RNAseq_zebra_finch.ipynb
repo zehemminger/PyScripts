{
 "cells": [
  {
   "cell_type": "markdown",
   "metadata": {},
   "source": [
    "# Overview\n",
    "     0) Download Genome Fasta and Annotation GTF\n",
    "     1) Clean Fasta with Fastp\n",
    "     2) STAR Generate Genome\n",
    "     3) STAR Align\n",
    "     4) Cufflinks"
   ]
  },
  {
   "cell_type": "markdown",
   "metadata": {},
   "source": [
    "# Download Reference Genome and Annotations\n",
    "https://uswest.ensembl.org/Taeniopygia_guttata/Info/Index"
   ]
  },
  {
   "cell_type": "code",
   "execution_count": null,
   "metadata": {},
   "outputs": [],
   "source": [
    "mkdir /bigstore/binfo/zebra_finch/\n",
    "mkdir /bigstore/binfo/zebra_finch/GenomeFasta/\n",
    "cd /bigstore/binfo/zebra_finch/GenomeFasta/\n",
    "rsync -av rsync://ftp.ensembl.org/pub/release-96/fasta/taeniopygia_guttata/dna/"
   ]
  },
  {
   "cell_type": "code",
   "execution_count": null,
   "metadata": {},
   "outputs": [],
   "source": [
    "cd /bigstore/binfo/zebra_finch/\n",
    "rsync -av rsync://ftp.ensembl.org/pub/release-96/gtf/taeniopygia_guttata/"
   ]
  },
  {
   "cell_type": "code",
   "execution_count": null,
   "metadata": {},
   "outputs": [],
   "source": [
    "!for f in /bigstore/binfo/zebra_finch/GenomeFasta/Taeniopygia_guttata.taeGut3.2.4.dna.chromosome* ; do gunzip $f ; done"
   ]
  },
  {
   "cell_type": "code",
   "execution_count": 5,
   "metadata": {},
   "outputs": [],
   "source": [
    "!cat /bigstore/binfo/zebra_finch/GenomeFasta/Taeniopygia_guttata.taeGut3.2.4.dna.chromosome* > '/bigstore/binfo/zebra_finch/GenomeFasta/Taeniopygia_guttata.taeGut3.2.4.dna.primary_assembly.fa'"
   ]
  },
  {
   "cell_type": "markdown",
   "metadata": {},
   "source": [
    "# STAR Generate Genome\n",
    "    https://github.com/alexdobin/STAR\n",
    "    conda install -c bioconda star"
   ]
  },
  {
   "cell_type": "code",
   "execution_count": null,
   "metadata": {},
   "outputs": [],
   "source": [
    "# STAR Generate Genome\n",
    "STAR\n",
    "--runThreadN 32\n",
    "--runMode genomeGenerate\n",
    "--genomeDir /bigstore/binfo/zebra_finch/STARgenomeDir\n",
    "--genomeFastaFiles /bigstore/binfo/zebra_finch/Taeniopygia_guttata.taeGut3.2.4.dna.primary_assembly.fa\n",
    "--sjdbGTFfile /bigstore/binfo/zebra_finch/Taeniopygia_guttata.taeGut3.2.4.96.gtf"
   ]
  },
  {
   "cell_type": "code",
   "execution_count": 6,
   "metadata": {},
   "outputs": [
    {
     "name": "stdout",
     "output_type": "stream",
     "text": [
      "Apr 28 14:38:15 ..... started STAR run\n",
      "Apr 28 14:38:15 ... starting to generate Genome files\n",
      "Apr 28 14:38:50 ... starting to sort Suffix Array. This may take a long time...\n",
      "Apr 28 14:39:01 ... sorting Suffix Array chunks and saving them to disk...\n",
      "Apr 28 14:43:51 ... loading chunks from disk, packing SA...\n",
      "Apr 28 14:44:32 ... finished generating suffix array\n",
      "Apr 28 14:44:32 ... generating Suffix Array index\n",
      "Apr 28 14:47:50 ... completed Suffix Array index\n",
      "Apr 28 14:47:50 ..... processing annotations GTF\n",
      "Apr 28 14:47:54 ..... inserting junctions into the genome indices\n",
      "Apr 28 14:49:45 ... writing Genome to disk ...\n",
      "Apr 28 14:49:48 ... writing Suffix Array to disk ...\n",
      "Apr 28 14:50:04 ... writing SAindex to disk\n",
      "Apr 28 14:50:09 ..... finished successfully\n"
     ]
    }
   ],
   "source": [
    "!STAR --runThreadN 32 --runMode genomeGenerate --genomeDir /bigstore/binfo/zebra_finch/STARgenomeDir --genomeFastaFiles /bigstore/binfo/zebra_finch/Taeniopygia_guttata.taeGut3.2.4.dna.primary_assembly.fa --sjdbGTFfile /bigstore/binfo/zebra_finch/Taeniopygia_guttata.taeGut3.2.4.96.gtf"
   ]
  },
  {
   "cell_type": "markdown",
   "metadata": {},
   "source": [
    "# Retrieved Files from Caitlin\n"
   ]
  },
  {
   "cell_type": "code",
   "execution_count": null,
   "metadata": {},
   "outputs": [],
   "source": [
    "!mkdir /bigstore/binfo/zebra_finch/RegionXExpression/\n",
    "!mkdir /bigstore/binfo/zebra_finch/RegionXExpression/Raw/"
   ]
  },
  {
   "cell_type": "code",
   "execution_count": 7,
   "metadata": {},
   "outputs": [],
   "source": [
    "!for f in /bigstore/binfo/zebra_finch/RegionXExpression/Raw/*.fastq.gz ; do gunzip $f ; done"
   ]
  },
  {
   "cell_type": "markdown",
   "metadata": {},
   "source": [
    "# Clean Fasta Files: Fastp\n",
    "    https://github.com/OpenGene/fastp\n",
    "    conda install -c bioconda fastp"
   ]
  },
  {
   "cell_type": "code",
   "execution_count": null,
   "metadata": {},
   "outputs": [],
   "source": [
    "!mkdir /bigstore/binfo/zebra_finch/RegionXExpression/Fastp/\n",
    "!for f in /bigstore/binfo/zebra_finch/RegionXExpression/Raw/*.fastq ; do fastp -i $f -o /bigstore/binfo/zebra_finch/RegionXExpression/Fastp/$f ; done"
   ]
  },
  {
   "cell_type": "code",
   "execution_count": 10,
   "metadata": {},
   "outputs": [],
   "source": [
    "pth = '/bigstore/binfo/zebra_finch/RegionXExpression/Fastp/'\n",
    "Blue623x_S6_L001_R2_001 = open(os.path.join(pth,'Blue623X_S6_L001_R1_001.fastq'))"
   ]
  },
  {
   "cell_type": "markdown",
   "metadata": {},
   "source": [
    "# STAR Align"
   ]
  },
  {
   "cell_type": "code",
   "execution_count": 7,
   "metadata": {},
   "outputs": [
    {
     "name": "stdout",
     "output_type": "stream",
     "text": [
      "Blue623X_S6_L002\n",
      "Purple418X_S42_L004\n",
      "Purple418X_S42_L003\n",
      "LtPink78X_S40_L004\n",
      "Brown443X_S79_L008\n",
      "Blue623X_S6_L001\n",
      "LtPink78X_S40_L003\n",
      "LtPink82X_S67_L007\n",
      "Purple405X_S68_L008\n",
      "LtPink82X_S67_L008\n",
      "Purple405X_S68_L007\n",
      "Brown443X_S79_L007\n"
     ]
    }
   ],
   "source": [
    "# Generate samples list for later use\n",
    "pth = '/bigstore/binfo/zebra_finch/RegionXExpression/Raw'\n",
    "import os\n",
    "import pandas as pd\n",
    "files = []\n",
    "for f in os.listdir(pth):\n",
    "    if '.fastq' in f:\n",
    "        fn = f.split('_R')[0]\n",
    "        if not fn in files:\n",
    "            files.append(fn)\n",
    "            print(fn)\n",
    "files = pd.Series(data=files)\n",
    "files.to_csv('/bigstore/binfo/zebra_finch/Samples.csv',index='False')"
   ]
  },
  {
   "cell_type": "code",
   "execution_count": null,
   "metadata": {},
   "outputs": [],
   "source": [
    "# STAR Align\n",
    "cat /bigstore/binfo/zebra_finch/RegionXExpression/Samples.csv | while read line\n",
    "do\n",
    "STAR\n",
    "--runThreadN 32\n",
    "--runMode alignReads\n",
    "--genomeDir /bigstore/binfo/zebra_finch/STARgenomeDir\n",
    "--readFilesIn /bigstore/binfo/zebra_finch/RegionXExpression/Fastp/\"$line\"_R1_001.fastq.gz /bigstore/binfo/zebra_finch/RegionXExpression/Fastp/\"$line\"_R2_001.fastq.gz\n",
    "--outFileNamePrefix /bigstore/binfo/zebra_finch/RegionXExpression/Aligned/$line\n",
    "--readFilesCommand gunzip -c\n",
    "--outSAMtype BAM SortedByCoordinate\n",
    "--quantMode TranscriptomeSAM GeneCounts\n",
    "--genomeLoad LoadAndKeep\n",
    "done"
   ]
  },
  {
   "cell_type": "code",
   "execution_count": null,
   "metadata": {},
   "outputs": [],
   "source": [
    "!mkdir /bigstore/binfo/zebra_finch/RegionXExpression/Aligned"
   ]
  },
  {
   "cell_type": "code",
   "execution_count": null,
   "metadata": {},
   "outputs": [],
   "source": [
    "#Seperatly\n",
    "!cat /bigstore/binfo/zebra_finch/RegionXExpression/Samples.csv | while read line\n",
    "do\n",
    "STAR --runThreadN 32 --runMode alignReads --genomeDir /bigstore/binfo/zebra_finch/STARgenomeDir/ --readFilesIn /bigstore/binfo/zebra_finch/RegionXExpression/Fastp/\"$line\"_R1_001.fastq /bigstore/binfo/zebra_finch/RegionXExpression/Fastp/\"$line\"_R2_001.fastq --outFileNamePrefix /bigstore/binfo/zebra_finch/RegionXExpression/Aligned/$line --outSAMtype BAM SortedByCoordinate --quantMode TranscriptomeSAM GeneCounts\n",
    "done"
   ]
  },
  {
   "cell_type": "code",
   "execution_count": 3,
   "metadata": {},
   "outputs": [
    {
     "name": "stdout",
     "output_type": "stream",
     "text": [
      "Apr 28 17:27:26 ..... started STAR run\n",
      "Apr 28 17:27:26 ..... loading genome\n",
      "Apr 28 17:27:37 ..... started mapping\n",
      "Apr 28 17:39:42 ..... finished mapping\n",
      "Apr 28 17:39:45 ..... started sorting BAM\n",
      "Apr 28 17:41:32 ..... finished successfully\n"
     ]
    }
   ],
   "source": [
    "#Together\n",
    "!STAR --runThreadN 20 --genomeDir /bigstore/binfo/zebra_finch/STARgenomeDir/ --readFilesIn /bigstore/binfo/zebra_finch/RegionXExpression/Fastp/Blue623X_S6_L001_R1_001.fastq,/bigstore/binfo/zebra_finch/RegionXExpression/Fastp/Blue623X_S6_L001_R2_001.fastq,/bigstore/binfo/zebra_finch/RegionXExpression/Fastp/Blue623X_S6_L002_R1_001.fastq,/bigstore/binfo/zebra_finch/RegionXExpression/Fastp/Blue623X_S6_L002_R2_001.fastq,/bigstore/binfo/zebra_finch/RegionXExpression/Fastp/Brown443X_S79_L007_R1_001.fastq,/bigstore/binfo/zebra_finch/RegionXExpression/Fastp/Brown443X_S79_L007_R2_001.fastq,/bigstore/binfo/zebra_finch/RegionXExpression/Fastp/Brown443X_S79_L008_R1_001.fastq,/bigstore/binfo/zebra_finch/RegionXExpression/Fastp/Brown443X_S79_L008_R2_001.fastq,/bigstore/binfo/zebra_finch/RegionXExpression/Fastp/LtPink78X_S40_L003_R1_001.fastq,/bigstore/binfo/zebra_finch/RegionXExpression/Fastp/LtPink78X_S40_L003_R2_001.fastq,/bigstore/binfo/zebra_finch/RegionXExpression/Fastp/LtPink78X_S40_L004_R1_001.fastq,/bigstore/binfo/zebra_finch/RegionXExpression/Fastp/LtPink78X_S40_L004_R2_001.fastq,/bigstore/binfo/zebra_finch/RegionXExpression/Fastp/LtPink82X_S67_L007_R1_001.fastq,/bigstore/binfo/zebra_finch/RegionXExpression/Fastp/LtPink82X_S67_L007_R2_001.fastq,/bigstore/binfo/zebra_finch/RegionXExpression/Fastp/LtPink82X_S67_L008_R1_001.fastq,/bigstore/binfo/zebra_finch/RegionXExpression/Fastp/LtPink82X_S67_L008_R2_001.fastq,/bigstore/binfo/zebra_finch/RegionXExpression/Fastp/Purple405X_S68_L007_R1_001.fastq,/bigstore/binfo/zebra_finch/RegionXExpression/Fastp/Purple405X_S68_L007_R2_001.fastq,/bigstore/binfo/zebra_finch/RegionXExpression/Fastp/Purple405X_S68_L008_R1_001.fastq,/bigstore/binfo/zebra_finch/RegionXExpression/Fastp/Purple405X_S68_L008_R2_001.fastq,/bigstore/binfo/zebra_finch/RegionXExpression/Fastp/Purple418X_S42_L003_R1_001.fastq,/bigstore/binfo/zebra_finch/RegionXExpression/Fastp/Purple418X_S42_L003_R2_001.fastq,/bigstore/binfo/zebra_finch/RegionXExpression/Fastp/Purple418X_S42_L004_R1_001.fastq,/bigstore/binfo/zebra_finch/RegionXExpression/Fastp/Purple418X_S42_L004_R2_001.fastq --outFileNamePrefix /bigstore/binfo/zebra_finch/RegionXExpression/ --outSAMtype BAM SortedByCoordinate --quantMode TranscriptomeSAM GeneCounts"
   ]
  },
  {
   "cell_type": "markdown",
   "metadata": {},
   "source": [
    "# Cufflinks\n",
    "    https://github.com/cole-trapnell-lab/cufflinks\n",
    "    conda install -c bioconda cufflinks"
   ]
  },
  {
   "cell_type": "code",
   "execution_count": 5,
   "metadata": {},
   "outputs": [],
   "source": [
    "!mkdir /bigstore/binfo/zebra_finch/RegionXExpression/Cufflinks/"
   ]
  },
  {
   "cell_type": "code",
   "execution_count": null,
   "metadata": {},
   "outputs": [],
   "source": [
    "!cufflinks -p 24 -G /bigstore/binfo/zebra_finch/Taeniopygia_guttata.taeGut3.2.4.96.gtf -o /bigstore/binfo/zebra_finch/RegionXExpression/Cufflinks/ /bigstore/binfo/zebra_finch/RegionXExpression/Aligned.sortedByCoord.out.bam"
   ]
  },
  {
   "cell_type": "markdown",
   "metadata": {},
   "source": [
    "# Convert Files to MERFISH Format"
   ]
  },
  {
   "cell_type": "code",
   "execution_count": 2,
   "metadata": {},
   "outputs": [],
   "source": [
    "import pandas as pd\n",
    "from Bio import SeqIO"
   ]
  },
  {
   "cell_type": "code",
   "execution_count": null,
   "metadata": {},
   "outputs": [],
   "source": [
    "expression_path = '/bigstore/binfo/zebra_finch/RegionXExpression/Cufflinks/isoforms.fpkm_tracking'\n",
    "FPKM_df = pd.read_csv(open(expression_path, 'r'),sep='\\t')\n",
    "FPKM_df.to_csv('/bigstore/binfo/zebra_finch/RegionXExpression/FPKM.csv',index=False)"
   ]
  },
  {
   "cell_type": "code",
   "execution_count": 4,
   "metadata": {},
   "outputs": [],
   "source": [
    "biomart_download_fname = '/bigstore/binfo/zebra_finch/zebra_finch_biomart.txt'\n",
    "transcript_df = pd.read_csv(open(biomart_download_fname, 'r'))"
   ]
  },
  {
   "cell_type": "code",
   "execution_count": 8,
   "metadata": {},
   "outputs": [],
   "source": [
    "f = '/bigstore/binfo/zebra_finch/Taeniopygia_guttata.taeGut3.2.4.cdna.all.fa'\n",
    "out = '/bigstore/binfo/zebra_finch/Taeniopygia_guttata.transcripts.fa'\n",
    "with open(f) as fasta_file:\n",
    "    in_iterator = SeqIO.parse(fasta_file,'fasta') \n",
    "    input_records=list(in_iterator)\n",
    "    for i,seq_record in enumerate(input_records):\n",
    "        Split = seq_record.description.split(' ')\n",
    "        tid = seq_record.id.split('.')[0]\n",
    "        seq_record.id = tid\n",
    "        seq_record.name = tid\n",
    "        gid = Split[3].split(':')[1].split('.')[0]\n",
    "        gname = transcript_df[transcript_df['Gene stable ID']==gid]['Gene name'].iloc[0]\n",
    "        seq_record.description = str(tid+' gene='+str(gname))\n",
    "        input_records[i] = seq_record\n",
    "    SeqIO.write(input_records,open(out,'w'),'fasta')"
   ]
  },
  {
   "cell_type": "code",
   "execution_count": 9,
   "metadata": {},
   "outputs": [
    {
     "name": "stdout",
     "output_type": "stream",
     "text": [
      ">ENSTGUT00000018018 gene=nan\r\n",
      "AGAAGTCCAAATGCAACGGAATATAACTGGCACCATCTAAGATACCCAAAAATCCCGGAA\r\n",
      "CGTCTGAACCCCCCAGCAGCAGCTGGCCCGGCTCTCAGCACTGCCGAGGGCTGGATGCTG\r\n",
      "CCCTGGGGCAATGGCCAGCATCCGCTGCTGGCCCGGGCACCGGGAAAGGGACGGGAAAGG\r\n",
      "GATGGGAAAGAACTAATTAAAAAACCAAAAACATTTAAATTTACTTTTCTAAAAAAAAAA\r\n",
      "AAAAAAAAAAAAAAAAAAACCTTTAAA\r\n",
      ">ENSTGUT00000018017 gene=nan\r\n",
      "CCCGACCTCAGAGAGCTGGTCCTTATGTTTGAGCATTTGCACCGGGTTCGCAACGGAGGA\r\n",
      "TTTAGGAATTCAGAGGTGAAAAAATGGCCTGACAGATCCCCACCGCCCTATCACTCCTTC\r\n",
      "ACCCCTGCCCAGAAAAGCTTCAGCCTGGCCGGGTGCTCAGGGGAAAGCACCAAGATGGGC\r\n"
     ]
    }
   ],
   "source": [
    "!head /bigstore/binfo/zebra_finch/Taeniopygia_guttata.transcripts.fa"
   ]
  }
 ],
 "metadata": {
  "kernelspec": {
   "display_name": "pyspots",
   "language": "python",
   "name": "pyspots"
  },
  "language_info": {
   "codemirror_mode": {
    "name": "ipython",
    "version": 3
   },
   "file_extension": ".py",
   "mimetype": "text/x-python",
   "name": "python",
   "nbconvert_exporter": "python",
   "pygments_lexer": "ipython3",
   "version": "3.6.5"
  }
 },
 "nbformat": 4,
 "nbformat_minor": 2
}
