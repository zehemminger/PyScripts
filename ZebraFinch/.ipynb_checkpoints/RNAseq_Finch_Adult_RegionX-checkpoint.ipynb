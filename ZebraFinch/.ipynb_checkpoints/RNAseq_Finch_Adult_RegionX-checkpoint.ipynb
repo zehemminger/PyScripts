{
 "cells": [
  {
   "cell_type": "markdown",
   "metadata": {},
   "source": [
    "# Overview\n",
    "     0) Download Genome Fasta and Annotation GTF\n",
    "     1) Clean Fasta with Fastp\n",
    "     2) STAR Generate Genome\n",
    "     3) STAR Align\n",
    "     4) Cufflinks"
   ]
  },
  {
   "cell_type": "markdown",
   "metadata": {},
   "source": [
    "# Download Reference Genome and Annotations\n",
    "https://uswest.ensembl.org/Taeniopygia_guttata/Info/Index"
   ]
  },
  {
   "cell_type": "code",
   "execution_count": null,
   "metadata": {},
   "outputs": [],
   "source": [
    "mkdir /bigstore/binfo/zebra_finch/\n",
    "mkdir /bigstore/binfo/zebra_finch/GenomeFasta/\n",
    "cd /bigstore/binfo/zebra_finch/GenomeFasta/\n",
    "rsync -av rsync://ftp.ensembl.org/pub/release-96/fasta/taeniopygia_guttata/dna/"
   ]
  },
  {
   "cell_type": "code",
   "execution_count": null,
   "metadata": {},
   "outputs": [],
   "source": [
    "cd /bigstore/binfo/zebra_finch/\n",
    "rsync -av rsync://ftp.ensembl.org/pub/release-96/gtf/taeniopygia_guttata/"
   ]
  },
  {
   "cell_type": "code",
   "execution_count": null,
   "metadata": {},
   "outputs": [],
   "source": [
    "!for f in /bigstore/binfo/zebra_finch/GenomeFasta/Taeniopygia_guttata.taeGut3.2.4.dna.chromosome* ; do gunzip $f ; done"
   ]
  },
  {
   "cell_type": "code",
   "execution_count": 5,
   "metadata": {},
   "outputs": [],
   "source": [
    "!cat /bigstore/binfo/zebra_finch/GenomeFasta/Taeniopygia_guttata.taeGut3.2.4.dna.chromosome* > '/bigstore/binfo/zebra_finch/GenomeFasta/Taeniopygia_guttata.taeGut3.2.4.dna.primary_assembly.fa'"
   ]
  },
  {
   "cell_type": "markdown",
   "metadata": {},
   "source": [
    "# STAR Generate Genome\n",
    "    https://github.com/alexdobin/STAR\n",
    "    conda install -c bioconda star"
   ]
  },
  {
   "cell_type": "code",
   "execution_count": null,
   "metadata": {},
   "outputs": [],
   "source": [
    "# STAR Generate Genome\n",
    "STAR\n",
    "--runThreadN 32\n",
    "--runMode genomeGenerate\n",
    "--genomeDir /bigstore/binfo/zebra_finch/STARgenomeDir\n",
    "--genomeFastaFiles /bigstore/binfo/zebra_finch/Taeniopygia_guttata.taeGut3.2.4.dna.primary_assembly.fa\n",
    "--sjdbGTFfile /bigstore/binfo/zebra_finch/Taeniopygia_guttata.taeGut3.2.4.96.gtf"
   ]
  },
  {
   "cell_type": "code",
   "execution_count": null,
   "metadata": {},
   "outputs": [
    {
     "name": "stdout",
     "output_type": "stream",
     "text": [
      "Apr 28 14:38:15 ..... started STAR run\n",
      "Apr 28 14:38:15 ... starting to generate Genome files\n",
      "Apr 28 14:38:50 ... starting to sort Suffix Array. This may take a long time...\n",
      "Apr 28 14:39:01 ... sorting Suffix Array chunks and saving them to disk...\n"
     ]
    }
   ],
   "source": [
    "!STAR --runThreadN 32 --runMode genomeGenerate --genomeDir /bigstore/binfo/zebra_finch/STARgenomeDir --genomeFastaFiles /bigstore/binfo/zebra_finch/Taeniopygia_guttata.taeGut3.2.4.dna.primary_assembly.fa --sjdbGTFfile /bigstore/binfo/zebra_finch/Taeniopygia_guttata.taeGut3.2.4.96.gtf"
   ]
  },
  {
   "cell_type": "markdown",
   "metadata": {},
   "source": [
    "# Retrieved Files from Caitlin\n"
   ]
  },
  {
   "cell_type": "code",
   "execution_count": null,
   "metadata": {},
   "outputs": [],
   "source": [
    "!mkdir /bigstore/binfo/zebra_finch/RegionXExpression/\n",
    "!mkdir /bigstore/binfo/zebra_finch/RegionXExpression/Raw/"
   ]
  },
  {
   "cell_type": "code",
   "execution_count": 7,
   "metadata": {},
   "outputs": [],
   "source": [
    "!for f in /bigstore/binfo/zebra_finch/RegionXExpression/Raw/*.fastq.gz ; do gunzip $f ; done"
   ]
  },
  {
   "cell_type": "markdown",
   "metadata": {},
   "source": [
    "# Clean Fasta Files: Fastp\n",
    "    https://github.com/OpenGene/fastp\n",
    "    conda install -c bioconda fastp"
   ]
  },
  {
   "cell_type": "code",
   "execution_count": null,
   "metadata": {},
   "outputs": [],
   "source": [
    "!mkdir /bigstore/binfo/zebra_finch/RegionXExpression/Fastp/\n",
    "!for f in /bigstore/binfo/zebra_finch/RegionXExpression/Raw/*.fastq ; do fastp -i $f -o /bigstore/binfo/zebra_finch/RegionXExpression/Fastp/$f ; done"
   ]
  },
  {
   "cell_type": "markdown",
   "metadata": {},
   "source": [
    "# STAR Align"
   ]
  },
  {
   "cell_type": "code",
   "execution_count": 9,
   "metadata": {},
   "outputs": [
    {
     "data": {
      "text/plain": [
       "['Blue623X_S6_L001',\n",
       " 'Blue623X_S6_L002',\n",
       " 'Brown443X_S79_L007',\n",
       " 'Brown443X_S79_L008',\n",
       " 'LtPink78X_S40_L003',\n",
       " 'LtPink78X_S40_L004',\n",
       " 'LtPink82X_S67_L007',\n",
       " 'LtPink82X_S67_L008',\n",
       " 'Purple405X_S68_L007',\n",
       " 'Purple405X_S68_L008',\n",
       " 'Purple418X_S42_L003',\n",
       " 'Purple418X_S42_L004']"
      ]
     },
     "execution_count": 9,
     "metadata": {},
     "output_type": "execute_result"
    }
   ],
   "source": [
    "# Generate samples list for later use\n",
    "pth = '/bigstore/binfo/zebra_finch/RegionXExpression/Raw'\n",
    "import os\n",
    "import pandas as pd\n",
    "files = []\n",
    "for f in os.listdir(pth):\n",
    "    if '.fastq' in f:\n",
    "        fn = f.split('_R')[0]\n",
    "        if not fn in files:\n",
    "            files.append(fn)\n",
    "            print(fn)\n",
    "files = pd.Series(data=files)\n",
    "files.to_csv('/bigstore/binfo/zebra_finch/Samples.csv',index='False')"
   ]
  },
  {
   "cell_type": "code",
   "execution_count": null,
   "metadata": {},
   "outputs": [],
   "source": [
    "# STAR Align\n",
    "cat /bigstore/binfo/zebra_finch/RegionXExpression/Samples.csv | while read line\n",
    "do\n",
    "STAR\n",
    "--runThreadN 32\n",
    "--runMode alignReads\n",
    "--genomeDir /bigstore/binfo/zebra_finch/STARgenomeDir\n",
    "--readFilesIn /bigstore/binfo/zebra_finch/RegionXExpression/Fastp/\"$line\"_R1_001.fastq.gz /bigstore/binfo/zebra_finch/RegionXExpression/Fastp/\"$line\"_R2_001.fastq.gz\n",
    "--outFileNamePrefix /bigstore/binfo/zebra_finch/RegionXExpression/Aligned/$line\n",
    "--readFilesCommand gunzip -c\n",
    "--outSAMtype BAM SortedByCoordinate\n",
    "--quantMode TranscriptomeSAM GeneCounts\n",
    "--genomeLoad LoadAndKeep\n",
    "done"
   ]
  },
  {
   "cell_type": "code",
   "execution_count": null,
   "metadata": {},
   "outputs": [],
   "source": [
    "!cat /bigstore/binfo/zebra_finch/RegionXExpression/Samples.csv | while read line\n",
    "do\n",
    "STAR --runThreadN 32 --runMode alignReads --genomeDir /bigstore/binfo/zebra_finch/STARgenomeDir/ --readFilesIn /bigstore/binfo/zebra_finch/RegionXExpression/Fastp/\"$line\"_R1_001.fastq /bigstore/binfo/zebra_finch/RegionXExpression/Fastp/\"$line\"_R2_001.fastq --outFileNamePrefix /bigstore/binfo/zebra_finch/RegionXExpression/Aligned/$line --outSAMtype BAM SortedByCoordinate --quantMode TranscriptomeSAM GeneCounts\n",
    "done"
   ]
  },
  {
   "cell_type": "code",
   "execution_count": null,
   "metadata": {},
   "outputs": [],
   "source": [
    "STAR --runThreadN 32 --genomeDir /bigstore/binfo/zebra_finch/STARgenomeDir/ --readFilesIn /bigstore/binfo/zebra_finch/RegionXExpression/Fastp/Blue623X_S6_L001_R1_001.fastq /bigstore/binfo/zebra_finch/RegionXExpression/Fastp/Blue623X_S6_L001_R2_001.fastq --outFileNamePrefix /bigstore/binfo/zebra_finch/RegionXExpression/Aligned/Blue623X_S6_L001 --outSAMtype BAM SortedByCoordinate --quantMode TranscriptomeSAM GeneCounts"
   ]
  },
  {
   "cell_type": "markdown",
   "metadata": {},
   "source": [
    "# Cufflinks\n",
    "    https://github.com/cole-trapnell-lab/cufflinks\n",
    "    conda install -c bioconda cufflinks"
   ]
  },
  {
   "cell_type": "code",
   "execution_count": null,
   "metadata": {},
   "outputs": [],
   "source": []
  }
 ],
 "metadata": {
  "kernelspec": {
   "display_name": "pyspots",
   "language": "python",
   "name": "pyspots"
  },
  "language_info": {
   "codemirror_mode": {
    "name": "ipython",
    "version": 3
   },
   "file_extension": ".py",
   "mimetype": "text/x-python",
   "name": "python",
   "nbconvert_exporter": "python",
   "pygments_lexer": "ipython3",
   "version": "3.6.5"
  }
 },
 "nbformat": 4,
 "nbformat_minor": 2
}
