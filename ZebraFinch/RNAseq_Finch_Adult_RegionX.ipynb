{
 "cells": [
  {
   "cell_type": "markdown",
   "metadata": {},
   "source": [
    "# Overview\n",
    "     0) Download Genome Fasta and Annotation GTF\n",
    "     1) Clean Fasta with Fastp\n",
    "     2) STAR Generate Genome\n",
    "     3) STAR Align\n",
    "     4) Cufflinks"
   ]
  },
  {
   "cell_type": "markdown",
   "metadata": {},
   "source": [
    "# Download Reference Genome and Annotations\n",
    "https://uswest.ensembl.org/Taeniopygia_guttata/Info/Index"
   ]
  },
  {
   "cell_type": "code",
   "execution_count": null,
   "metadata": {},
   "outputs": [],
   "source": [
    "mkdir /bigstore/binfo/zebra_finch/\n",
    "mkdir /bigstore/binfo/zebra_finch/GenomeFasta/\n",
    "cd /bigstore/binfo/zebra_finch/GenomeFasta/\n",
    "rsync -av rsync://ftp.ensembl.org/pub/release-96/fasta/taeniopygia_guttata/dna/"
   ]
  },
  {
   "cell_type": "code",
   "execution_count": null,
   "metadata": {},
   "outputs": [],
   "source": [
    "cd /bigstore/binfo/zebra_finch/\n",
    "rsync -av rsync://ftp.ensembl.org/pub/release-96/gtf/taeniopygia_guttata/"
   ]
  },
  {
   "cell_type": "code",
   "execution_count": null,
   "metadata": {},
   "outputs": [],
   "source": [
    "!for f in /bigstore/binfo/zebra_finch/GenomeFasta/Taeniopygia_guttata.taeGut3.2.4.dna.chromosome* ; do gunzip $f ; done"
   ]
  },
  {
   "cell_type": "code",
   "execution_count": 5,
   "metadata": {},
   "outputs": [],
   "source": [
    "!cat /bigstore/binfo/zebra_finch/GenomeFasta/Taeniopygia_guttata.taeGut3.2.4.dna.chromosome* > '/bigstore/binfo/zebra_finch/GenomeFasta/Taeniopygia_guttata.taeGut3.2.4.dna.primary_assembly.fa'"
   ]
  },
  {
   "cell_type": "markdown",
   "metadata": {},
   "source": [
    "# STAR Generate Genome\n",
    "    https://github.com/alexdobin/STAR\n",
    "    conda install -c bioconda star"
   ]
  },
  {
   "cell_type": "code",
   "execution_count": null,
   "metadata": {},
   "outputs": [],
   "source": [
    "# STAR Generate Genome\n",
    "STAR\n",
    "--runThreadN 32\n",
    "--runMode genomeGenerate\n",
    "--genomeDir /bigstore/binfo/zebra_finch/STARgenomeDir\n",
    "--genomeFastaFiles /bigstore/binfo/zebra_finch/Taeniopygia_guttata.taeGut3.2.4.dna.primary_assembly.fa\n",
    "--sjdbGTFfile /bigstore/binfo/zebra_finch/Taeniopygia_guttata.taeGut3.2.4.96.gtf"
   ]
  },
  {
   "cell_type": "code",
   "execution_count": 6,
   "metadata": {},
   "outputs": [
    {
     "name": "stdout",
     "output_type": "stream",
     "text": [
      "Apr 28 14:38:15 ..... started STAR run\n",
      "Apr 28 14:38:15 ... starting to generate Genome files\n",
      "Apr 28 14:38:50 ... starting to sort Suffix Array. This may take a long time...\n",
      "Apr 28 14:39:01 ... sorting Suffix Array chunks and saving them to disk...\n",
      "Apr 28 14:43:51 ... loading chunks from disk, packing SA...\n",
      "Apr 28 14:44:32 ... finished generating suffix array\n",
      "Apr 28 14:44:32 ... generating Suffix Array index\n",
      "Apr 28 14:47:50 ... completed Suffix Array index\n",
      "Apr 28 14:47:50 ..... processing annotations GTF\n",
      "Apr 28 14:47:54 ..... inserting junctions into the genome indices\n",
      "Apr 28 14:49:45 ... writing Genome to disk ...\n",
      "Apr 28 14:49:48 ... writing Suffix Array to disk ...\n",
      "Apr 28 14:50:04 ... writing SAindex to disk\n",
      "Apr 28 14:50:09 ..... finished successfully\n"
     ]
    }
   ],
   "source": [
    "!STAR --runThreadN 32 --runMode genomeGenerate --genomeDir /bigstore/binfo/zebra_finch/STARgenomeDir --genomeFastaFiles /bigstore/binfo/zebra_finch/Taeniopygia_guttata.taeGut3.2.4.dna.primary_assembly.fa --sjdbGTFfile /bigstore/binfo/zebra_finch/Taeniopygia_guttata.taeGut3.2.4.96.gtf"
   ]
  },
  {
   "cell_type": "markdown",
   "metadata": {},
   "source": [
    "# Retrieved Files from Caitlin\n"
   ]
  },
  {
   "cell_type": "code",
   "execution_count": null,
   "metadata": {},
   "outputs": [],
   "source": [
    "!mkdir /bigstore/binfo/zebra_finch/RegionXExpression/\n",
    "!mkdir /bigstore/binfo/zebra_finch/RegionXExpression/Raw/"
   ]
  },
  {
   "cell_type": "code",
   "execution_count": 7,
   "metadata": {},
   "outputs": [],
   "source": [
    "!for f in /bigstore/binfo/zebra_finch/RegionXExpression/Raw/*.fastq.gz ; do gunzip $f ; done"
   ]
  },
  {
   "cell_type": "markdown",
   "metadata": {},
   "source": [
    "# Clean Fasta Files: Fastp\n",
    "    https://github.com/OpenGene/fastp\n",
    "    conda install -c bioconda fastp"
   ]
  },
  {
   "cell_type": "code",
   "execution_count": null,
   "metadata": {},
   "outputs": [],
   "source": [
    "!mkdir /bigstore/binfo/zebra_finch/RegionXExpression/Fastp/\n",
    "!for f in /bigstore/binfo/zebra_finch/RegionXExpression/Raw/*.fastq ; do fastp -i $f -o /bigstore/binfo/zebra_finch/RegionXExpression/Fastp/$f ; done"
   ]
  },
  {
   "cell_type": "code",
   "execution_count": 10,
   "metadata": {},
   "outputs": [],
   "source": [
    "pth = '/bigstore/binfo/zebra_finch/RegionXExpression/Fastp/'\n",
    "Blue623x_S6_L001_R2_001 = open(os.path.join(pth,'Blue623X_S6_L001_R1_001.fastq'))"
   ]
  },
  {
   "cell_type": "code",
   "execution_count": 33,
   "metadata": {
    "collapsed": true
   },
   "outputs": [
    {
     "ename": "KeyboardInterrupt",
     "evalue": "",
     "output_type": "error",
     "traceback": [
      "\u001b[0;31m---------------------------------------------------------------------------\u001b[0m",
      "\u001b[0;31mKeyboardInterrupt\u001b[0m                         Traceback (most recent call last)",
      "\u001b[0;32m<ipython-input-33-e2d083846a90>\u001b[0m in \u001b[0;36m<module>\u001b[0;34m()\u001b[0m\n\u001b[0;32m----> 1\u001b[0;31m \u001b[0mBlue623x_S6_L001_R2_001\u001b[0m\u001b[0;34m.\u001b[0m\u001b[0mread\u001b[0m\u001b[0;34m(\u001b[0m\u001b[0;34m)\u001b[0m\u001b[0;34m\u001b[0m\u001b[0m\n\u001b[0m",
      "\u001b[0;32m~/miniconda3/envs/pyspots/lib/python3.6/site-packages/IPython/core/displayhook.py\u001b[0m in \u001b[0;36m__call__\u001b[0;34m(self, result)\u001b[0m\n\u001b[1;32m    261\u001b[0m                 \u001b[0mself\u001b[0m\u001b[0;34m.\u001b[0m\u001b[0mwrite_format_data\u001b[0m\u001b[0;34m(\u001b[0m\u001b[0mformat_dict\u001b[0m\u001b[0;34m,\u001b[0m \u001b[0mmd_dict\u001b[0m\u001b[0;34m)\u001b[0m\u001b[0;34m\u001b[0m\u001b[0m\n\u001b[1;32m    262\u001b[0m                 \u001b[0mself\u001b[0m\u001b[0;34m.\u001b[0m\u001b[0mlog_output\u001b[0m\u001b[0;34m(\u001b[0m\u001b[0mformat_dict\u001b[0m\u001b[0;34m)\u001b[0m\u001b[0;34m\u001b[0m\u001b[0m\n\u001b[0;32m--> 263\u001b[0;31m             \u001b[0mself\u001b[0m\u001b[0;34m.\u001b[0m\u001b[0mfinish_displayhook\u001b[0m\u001b[0;34m(\u001b[0m\u001b[0;34m)\u001b[0m\u001b[0;34m\u001b[0m\u001b[0m\n\u001b[0m\u001b[1;32m    264\u001b[0m \u001b[0;34m\u001b[0m\u001b[0m\n\u001b[1;32m    265\u001b[0m     \u001b[0;32mdef\u001b[0m \u001b[0mcull_cache\u001b[0m\u001b[0;34m(\u001b[0m\u001b[0mself\u001b[0m\u001b[0;34m)\u001b[0m\u001b[0;34m:\u001b[0m\u001b[0;34m\u001b[0m\u001b[0m\n",
      "\u001b[0;32m~/miniconda3/envs/pyspots/lib/python3.6/site-packages/ipykernel/displayhook.py\u001b[0m in \u001b[0;36mfinish_displayhook\u001b[0;34m(self)\u001b[0m\n\u001b[1;32m     77\u001b[0m         \u001b[0msys\u001b[0m\u001b[0;34m.\u001b[0m\u001b[0mstderr\u001b[0m\u001b[0;34m.\u001b[0m\u001b[0mflush\u001b[0m\u001b[0;34m(\u001b[0m\u001b[0;34m)\u001b[0m\u001b[0;34m\u001b[0m\u001b[0m\n\u001b[1;32m     78\u001b[0m         \u001b[0;32mif\u001b[0m \u001b[0mself\u001b[0m\u001b[0;34m.\u001b[0m\u001b[0mmsg\u001b[0m\u001b[0;34m[\u001b[0m\u001b[0;34m'content'\u001b[0m\u001b[0;34m]\u001b[0m\u001b[0;34m[\u001b[0m\u001b[0;34m'data'\u001b[0m\u001b[0;34m]\u001b[0m\u001b[0;34m:\u001b[0m\u001b[0;34m\u001b[0m\u001b[0m\n\u001b[0;32m---> 79\u001b[0;31m             \u001b[0mself\u001b[0m\u001b[0;34m.\u001b[0m\u001b[0msession\u001b[0m\u001b[0;34m.\u001b[0m\u001b[0msend\u001b[0m\u001b[0;34m(\u001b[0m\u001b[0mself\u001b[0m\u001b[0;34m.\u001b[0m\u001b[0mpub_socket\u001b[0m\u001b[0;34m,\u001b[0m \u001b[0mself\u001b[0m\u001b[0;34m.\u001b[0m\u001b[0mmsg\u001b[0m\u001b[0;34m,\u001b[0m \u001b[0mident\u001b[0m\u001b[0;34m=\u001b[0m\u001b[0mself\u001b[0m\u001b[0;34m.\u001b[0m\u001b[0mtopic\u001b[0m\u001b[0;34m)\u001b[0m\u001b[0;34m\u001b[0m\u001b[0m\n\u001b[0m\u001b[1;32m     80\u001b[0m         \u001b[0mself\u001b[0m\u001b[0;34m.\u001b[0m\u001b[0mmsg\u001b[0m \u001b[0;34m=\u001b[0m \u001b[0;32mNone\u001b[0m\u001b[0;34m\u001b[0m\u001b[0m\n",
      "\u001b[0;32m~/miniconda3/envs/pyspots/lib/python3.6/site-packages/jupyter_client/session.py\u001b[0m in \u001b[0;36msend\u001b[0;34m(self, stream, msg_or_type, content, parent, ident, buffers, track, header, metadata)\u001b[0m\n\u001b[1;32m    735\u001b[0m         \u001b[0;32mif\u001b[0m \u001b[0mself\u001b[0m\u001b[0;34m.\u001b[0m\u001b[0madapt_version\u001b[0m\u001b[0;34m:\u001b[0m\u001b[0;34m\u001b[0m\u001b[0m\n\u001b[1;32m    736\u001b[0m             \u001b[0mmsg\u001b[0m \u001b[0;34m=\u001b[0m \u001b[0madapt\u001b[0m\u001b[0;34m(\u001b[0m\u001b[0mmsg\u001b[0m\u001b[0;34m,\u001b[0m \u001b[0mself\u001b[0m\u001b[0;34m.\u001b[0m\u001b[0madapt_version\u001b[0m\u001b[0;34m)\u001b[0m\u001b[0;34m\u001b[0m\u001b[0m\n\u001b[0;32m--> 737\u001b[0;31m         \u001b[0mto_send\u001b[0m \u001b[0;34m=\u001b[0m \u001b[0mself\u001b[0m\u001b[0;34m.\u001b[0m\u001b[0mserialize\u001b[0m\u001b[0;34m(\u001b[0m\u001b[0mmsg\u001b[0m\u001b[0;34m,\u001b[0m \u001b[0mident\u001b[0m\u001b[0;34m)\u001b[0m\u001b[0;34m\u001b[0m\u001b[0m\n\u001b[0m\u001b[1;32m    738\u001b[0m         \u001b[0mto_send\u001b[0m\u001b[0;34m.\u001b[0m\u001b[0mextend\u001b[0m\u001b[0;34m(\u001b[0m\u001b[0mbuffers\u001b[0m\u001b[0;34m)\u001b[0m\u001b[0;34m\u001b[0m\u001b[0m\n\u001b[1;32m    739\u001b[0m         \u001b[0mlongest\u001b[0m \u001b[0;34m=\u001b[0m \u001b[0mmax\u001b[0m\u001b[0;34m(\u001b[0m\u001b[0;34m[\u001b[0m \u001b[0mlen\u001b[0m\u001b[0;34m(\u001b[0m\u001b[0ms\u001b[0m\u001b[0;34m)\u001b[0m \u001b[0;32mfor\u001b[0m \u001b[0ms\u001b[0m \u001b[0;32min\u001b[0m \u001b[0mto_send\u001b[0m \u001b[0;34m]\u001b[0m\u001b[0;34m)\u001b[0m\u001b[0;34m\u001b[0m\u001b[0m\n",
      "\u001b[0;32m~/miniconda3/envs/pyspots/lib/python3.6/site-packages/jupyter_client/session.py\u001b[0m in \u001b[0;36mserialize\u001b[0;34m(self, msg, ident)\u001b[0m\n\u001b[1;32m    623\u001b[0m             \u001b[0mcontent\u001b[0m \u001b[0;34m=\u001b[0m \u001b[0mself\u001b[0m\u001b[0;34m.\u001b[0m\u001b[0mnone\u001b[0m\u001b[0;34m\u001b[0m\u001b[0m\n\u001b[1;32m    624\u001b[0m         \u001b[0;32melif\u001b[0m \u001b[0misinstance\u001b[0m\u001b[0;34m(\u001b[0m\u001b[0mcontent\u001b[0m\u001b[0;34m,\u001b[0m \u001b[0mdict\u001b[0m\u001b[0;34m)\u001b[0m\u001b[0;34m:\u001b[0m\u001b[0;34m\u001b[0m\u001b[0m\n\u001b[0;32m--> 625\u001b[0;31m             \u001b[0mcontent\u001b[0m \u001b[0;34m=\u001b[0m \u001b[0mself\u001b[0m\u001b[0;34m.\u001b[0m\u001b[0mpack\u001b[0m\u001b[0;34m(\u001b[0m\u001b[0mcontent\u001b[0m\u001b[0;34m)\u001b[0m\u001b[0;34m\u001b[0m\u001b[0m\n\u001b[0m\u001b[1;32m    626\u001b[0m         \u001b[0;32melif\u001b[0m \u001b[0misinstance\u001b[0m\u001b[0;34m(\u001b[0m\u001b[0mcontent\u001b[0m\u001b[0;34m,\u001b[0m \u001b[0mbytes\u001b[0m\u001b[0;34m)\u001b[0m\u001b[0;34m:\u001b[0m\u001b[0;34m\u001b[0m\u001b[0m\n\u001b[1;32m    627\u001b[0m             \u001b[0;31m# content is already packed, as in a relayed message\u001b[0m\u001b[0;34m\u001b[0m\u001b[0;34m\u001b[0m\u001b[0m\n",
      "\u001b[0;32m~/miniconda3/envs/pyspots/lib/python3.6/site-packages/jupyter_client/session.py\u001b[0m in \u001b[0;36m<lambda>\u001b[0;34m(obj)\u001b[0m\n\u001b[1;32m    101\u001b[0m \u001b[0;31m# disallow nan, because it's not actually valid JSON\u001b[0m\u001b[0;34m\u001b[0m\u001b[0;34m\u001b[0m\u001b[0m\n\u001b[1;32m    102\u001b[0m json_packer = lambda obj: jsonapi.dumps(obj, default=date_default,\n\u001b[0;32m--> 103\u001b[0;31m     \u001b[0mensure_ascii\u001b[0m\u001b[0;34m=\u001b[0m\u001b[0;32mFalse\u001b[0m\u001b[0;34m,\u001b[0m \u001b[0mallow_nan\u001b[0m\u001b[0;34m=\u001b[0m\u001b[0;32mFalse\u001b[0m\u001b[0;34m,\u001b[0m\u001b[0;34m\u001b[0m\u001b[0m\n\u001b[0m\u001b[1;32m    104\u001b[0m )\n\u001b[1;32m    105\u001b[0m \u001b[0mjson_unpacker\u001b[0m \u001b[0;34m=\u001b[0m \u001b[0;32mlambda\u001b[0m \u001b[0ms\u001b[0m\u001b[0;34m:\u001b[0m \u001b[0mjsonapi\u001b[0m\u001b[0;34m.\u001b[0m\u001b[0mloads\u001b[0m\u001b[0;34m(\u001b[0m\u001b[0ms\u001b[0m\u001b[0;34m)\u001b[0m\u001b[0;34m\u001b[0m\u001b[0m\n",
      "\u001b[0;32m~/miniconda3/envs/pyspots/lib/python3.6/site-packages/zmq/utils/jsonapi.py\u001b[0m in \u001b[0;36mdumps\u001b[0;34m(o, **kwargs)\u001b[0m\n\u001b[1;32m     38\u001b[0m         \u001b[0mkwargs\u001b[0m\u001b[0;34m[\u001b[0m\u001b[0;34m'separators'\u001b[0m\u001b[0;34m]\u001b[0m \u001b[0;34m=\u001b[0m \u001b[0;34m(\u001b[0m\u001b[0;34m','\u001b[0m\u001b[0;34m,\u001b[0m \u001b[0;34m':'\u001b[0m\u001b[0;34m)\u001b[0m\u001b[0;34m\u001b[0m\u001b[0m\n\u001b[1;32m     39\u001b[0m \u001b[0;34m\u001b[0m\u001b[0m\n\u001b[0;32m---> 40\u001b[0;31m     \u001b[0ms\u001b[0m \u001b[0;34m=\u001b[0m \u001b[0mjsonmod\u001b[0m\u001b[0;34m.\u001b[0m\u001b[0mdumps\u001b[0m\u001b[0;34m(\u001b[0m\u001b[0mo\u001b[0m\u001b[0;34m,\u001b[0m \u001b[0;34m**\u001b[0m\u001b[0mkwargs\u001b[0m\u001b[0;34m)\u001b[0m\u001b[0;34m\u001b[0m\u001b[0m\n\u001b[0m\u001b[1;32m     41\u001b[0m \u001b[0;34m\u001b[0m\u001b[0m\n\u001b[1;32m     42\u001b[0m     \u001b[0;32mif\u001b[0m \u001b[0misinstance\u001b[0m\u001b[0;34m(\u001b[0m\u001b[0ms\u001b[0m\u001b[0;34m,\u001b[0m \u001b[0municode\u001b[0m\u001b[0;34m)\u001b[0m\u001b[0;34m:\u001b[0m\u001b[0;34m\u001b[0m\u001b[0m\n",
      "\u001b[0;32m~/miniconda3/envs/pyspots/lib/python3.6/site-packages/simplejson/__init__.py\u001b[0m in \u001b[0;36mdumps\u001b[0;34m(obj, skipkeys, ensure_ascii, check_circular, allow_nan, cls, indent, separators, encoding, default, use_decimal, namedtuple_as_object, tuple_as_array, bigint_as_string, sort_keys, item_sort_key, for_json, ignore_nan, int_as_string_bitcount, iterable_as_array, **kw)\u001b[0m\n\u001b[1;32m    397\u001b[0m         \u001b[0mignore_nan\u001b[0m\u001b[0;34m=\u001b[0m\u001b[0mignore_nan\u001b[0m\u001b[0;34m,\u001b[0m\u001b[0;34m\u001b[0m\u001b[0m\n\u001b[1;32m    398\u001b[0m         \u001b[0mint_as_string_bitcount\u001b[0m\u001b[0;34m=\u001b[0m\u001b[0mint_as_string_bitcount\u001b[0m\u001b[0;34m,\u001b[0m\u001b[0;34m\u001b[0m\u001b[0m\n\u001b[0;32m--> 399\u001b[0;31m         **kw).encode(obj)\n\u001b[0m\u001b[1;32m    400\u001b[0m \u001b[0;34m\u001b[0m\u001b[0m\n\u001b[1;32m    401\u001b[0m \u001b[0;34m\u001b[0m\u001b[0m\n",
      "\u001b[0;32m~/miniconda3/envs/pyspots/lib/python3.6/site-packages/simplejson/encoder.py\u001b[0m in \u001b[0;36mencode\u001b[0;34m(self, o)\u001b[0m\n\u001b[1;32m    294\u001b[0m         \u001b[0;31m# exceptions aren't as detailed.  The list call should be roughly\u001b[0m\u001b[0;34m\u001b[0m\u001b[0;34m\u001b[0m\u001b[0m\n\u001b[1;32m    295\u001b[0m         \u001b[0;31m# equivalent to the PySequence_Fast that ''.join() would do.\u001b[0m\u001b[0;34m\u001b[0m\u001b[0;34m\u001b[0m\u001b[0m\n\u001b[0;32m--> 296\u001b[0;31m         \u001b[0mchunks\u001b[0m \u001b[0;34m=\u001b[0m \u001b[0mself\u001b[0m\u001b[0;34m.\u001b[0m\u001b[0miterencode\u001b[0m\u001b[0;34m(\u001b[0m\u001b[0mo\u001b[0m\u001b[0;34m,\u001b[0m \u001b[0m_one_shot\u001b[0m\u001b[0;34m=\u001b[0m\u001b[0;32mTrue\u001b[0m\u001b[0;34m)\u001b[0m\u001b[0;34m\u001b[0m\u001b[0m\n\u001b[0m\u001b[1;32m    297\u001b[0m         \u001b[0;32mif\u001b[0m \u001b[0;32mnot\u001b[0m \u001b[0misinstance\u001b[0m\u001b[0;34m(\u001b[0m\u001b[0mchunks\u001b[0m\u001b[0;34m,\u001b[0m \u001b[0;34m(\u001b[0m\u001b[0mlist\u001b[0m\u001b[0;34m,\u001b[0m \u001b[0mtuple\u001b[0m\u001b[0;34m)\u001b[0m\u001b[0;34m)\u001b[0m\u001b[0;34m:\u001b[0m\u001b[0;34m\u001b[0m\u001b[0m\n\u001b[1;32m    298\u001b[0m             \u001b[0mchunks\u001b[0m \u001b[0;34m=\u001b[0m \u001b[0mlist\u001b[0m\u001b[0;34m(\u001b[0m\u001b[0mchunks\u001b[0m\u001b[0;34m)\u001b[0m\u001b[0;34m\u001b[0m\u001b[0m\n",
      "\u001b[0;32m~/miniconda3/envs/pyspots/lib/python3.6/site-packages/simplejson/encoder.py\u001b[0m in \u001b[0;36miterencode\u001b[0;34m(self, o, _one_shot)\u001b[0m\n\u001b[1;32m    376\u001b[0m                 self.iterable_as_array, Decimal=decimal.Decimal)\n\u001b[1;32m    377\u001b[0m         \u001b[0;32mtry\u001b[0m\u001b[0;34m:\u001b[0m\u001b[0;34m\u001b[0m\u001b[0m\n\u001b[0;32m--> 378\u001b[0;31m             \u001b[0;32mreturn\u001b[0m \u001b[0m_iterencode\u001b[0m\u001b[0;34m(\u001b[0m\u001b[0mo\u001b[0m\u001b[0;34m,\u001b[0m \u001b[0;36m0\u001b[0m\u001b[0;34m)\u001b[0m\u001b[0;34m\u001b[0m\u001b[0m\n\u001b[0m\u001b[1;32m    379\u001b[0m         \u001b[0;32mfinally\u001b[0m\u001b[0;34m:\u001b[0m\u001b[0;34m\u001b[0m\u001b[0m\n\u001b[1;32m    380\u001b[0m             \u001b[0mkey_memo\u001b[0m\u001b[0;34m.\u001b[0m\u001b[0mclear\u001b[0m\u001b[0;34m(\u001b[0m\u001b[0;34m)\u001b[0m\u001b[0;34m\u001b[0m\u001b[0m\n",
      "\u001b[0;32m~/miniconda3/envs/pyspots/lib/python3.6/site-packages/simplejson/encoder.py\u001b[0m in \u001b[0;36mencode_basestring\u001b[0;34m(s, _PY3, _q)\u001b[0m\n\u001b[1;32m     60\u001b[0m     \u001b[0;32mdef\u001b[0m \u001b[0mreplace\u001b[0m\u001b[0;34m(\u001b[0m\u001b[0mmatch\u001b[0m\u001b[0;34m)\u001b[0m\u001b[0;34m:\u001b[0m\u001b[0;34m\u001b[0m\u001b[0m\n\u001b[1;32m     61\u001b[0m         \u001b[0;32mreturn\u001b[0m \u001b[0mESCAPE_DCT\u001b[0m\u001b[0;34m[\u001b[0m\u001b[0mmatch\u001b[0m\u001b[0;34m.\u001b[0m\u001b[0mgroup\u001b[0m\u001b[0;34m(\u001b[0m\u001b[0;36m0\u001b[0m\u001b[0;34m)\u001b[0m\u001b[0;34m]\u001b[0m\u001b[0;34m\u001b[0m\u001b[0m\n\u001b[0;32m---> 62\u001b[0;31m     \u001b[0;32mreturn\u001b[0m \u001b[0m_q\u001b[0m \u001b[0;34m+\u001b[0m \u001b[0mESCAPE\u001b[0m\u001b[0;34m.\u001b[0m\u001b[0msub\u001b[0m\u001b[0;34m(\u001b[0m\u001b[0mreplace\u001b[0m\u001b[0;34m,\u001b[0m \u001b[0ms\u001b[0m\u001b[0;34m)\u001b[0m \u001b[0;34m+\u001b[0m \u001b[0m_q\u001b[0m\u001b[0;34m\u001b[0m\u001b[0m\n\u001b[0m\u001b[1;32m     63\u001b[0m \u001b[0;34m\u001b[0m\u001b[0m\n\u001b[1;32m     64\u001b[0m \u001b[0;34m\u001b[0m\u001b[0m\n",
      "\u001b[0;32m~/miniconda3/envs/pyspots/lib/python3.6/site-packages/simplejson/encoder.py\u001b[0m in \u001b[0;36mreplace\u001b[0;34m(match)\u001b[0m\n\u001b[1;32m     58\u001b[0m             \u001b[0;32melse\u001b[0m\u001b[0;34m:\u001b[0m\u001b[0;34m\u001b[0m\u001b[0m\n\u001b[1;32m     59\u001b[0m                 \u001b[0ms\u001b[0m \u001b[0;34m=\u001b[0m \u001b[0municode\u001b[0m\u001b[0;34m.\u001b[0m\u001b[0m__getnewargs__\u001b[0m\u001b[0;34m(\u001b[0m\u001b[0ms\u001b[0m\u001b[0;34m)\u001b[0m\u001b[0;34m[\u001b[0m\u001b[0;36m0\u001b[0m\u001b[0;34m]\u001b[0m\u001b[0;34m\u001b[0m\u001b[0m\n\u001b[0;32m---> 60\u001b[0;31m     \u001b[0;32mdef\u001b[0m \u001b[0mreplace\u001b[0m\u001b[0;34m(\u001b[0m\u001b[0mmatch\u001b[0m\u001b[0;34m)\u001b[0m\u001b[0;34m:\u001b[0m\u001b[0;34m\u001b[0m\u001b[0m\n\u001b[0m\u001b[1;32m     61\u001b[0m         \u001b[0;32mreturn\u001b[0m \u001b[0mESCAPE_DCT\u001b[0m\u001b[0;34m[\u001b[0m\u001b[0mmatch\u001b[0m\u001b[0;34m.\u001b[0m\u001b[0mgroup\u001b[0m\u001b[0;34m(\u001b[0m\u001b[0;36m0\u001b[0m\u001b[0;34m)\u001b[0m\u001b[0;34m]\u001b[0m\u001b[0;34m\u001b[0m\u001b[0m\n\u001b[1;32m     62\u001b[0m     \u001b[0;32mreturn\u001b[0m \u001b[0m_q\u001b[0m \u001b[0;34m+\u001b[0m \u001b[0mESCAPE\u001b[0m\u001b[0;34m.\u001b[0m\u001b[0msub\u001b[0m\u001b[0;34m(\u001b[0m\u001b[0mreplace\u001b[0m\u001b[0;34m,\u001b[0m \u001b[0ms\u001b[0m\u001b[0;34m)\u001b[0m \u001b[0;34m+\u001b[0m \u001b[0m_q\u001b[0m\u001b[0;34m\u001b[0m\u001b[0m\n",
      "\u001b[0;31mKeyboardInterrupt\u001b[0m: "
     ]
    }
   ],
   "source": [
    "Blue623x_S6_L001_R2_001."
   ]
  },
  {
   "cell_type": "markdown",
   "metadata": {},
   "source": [
    "# STAR Align"
   ]
  },
  {
   "cell_type": "code",
   "execution_count": 7,
   "metadata": {},
   "outputs": [
    {
     "name": "stdout",
     "output_type": "stream",
     "text": [
      "Blue623X_S6_L002\n",
      "Purple418X_S42_L004\n",
      "Purple418X_S42_L003\n",
      "LtPink78X_S40_L004\n",
      "Brown443X_S79_L008\n",
      "Blue623X_S6_L001\n",
      "LtPink78X_S40_L003\n",
      "LtPink82X_S67_L007\n",
      "Purple405X_S68_L008\n",
      "LtPink82X_S67_L008\n",
      "Purple405X_S68_L007\n",
      "Brown443X_S79_L007\n"
     ]
    }
   ],
   "source": [
    "# Generate samples list for later use\n",
    "pth = '/bigstore/binfo/zebra_finch/RegionXExpression/Raw'\n",
    "import os\n",
    "import pandas as pd\n",
    "files = []\n",
    "for f in os.listdir(pth):\n",
    "    if '.fastq' in f:\n",
    "        fn = f.split('_R')[0]\n",
    "        if not fn in files:\n",
    "            files.append(fn)\n",
    "            print(fn)\n",
    "files = pd.Series(data=files)\n",
    "files.to_csv('/bigstore/binfo/zebra_finch/Samples.csv',index='False')"
   ]
  },
  {
   "cell_type": "code",
   "execution_count": null,
   "metadata": {},
   "outputs": [],
   "source": [
    "# STAR Align\n",
    "cat /bigstore/binfo/zebra_finch/RegionXExpression/Samples.csv | while read line\n",
    "do\n",
    "STAR\n",
    "--runThreadN 32\n",
    "--runMode alignReads\n",
    "--genomeDir /bigstore/binfo/zebra_finch/STARgenomeDir\n",
    "--readFilesIn /bigstore/binfo/zebra_finch/RegionXExpression/Fastp/\"$line\"_R1_001.fastq.gz /bigstore/binfo/zebra_finch/RegionXExpression/Fastp/\"$line\"_R2_001.fastq.gz\n",
    "--outFileNamePrefix /bigstore/binfo/zebra_finch/RegionXExpression/Aligned/$line\n",
    "--readFilesCommand gunzip -c\n",
    "--outSAMtype BAM SortedByCoordinate\n",
    "--quantMode TranscriptomeSAM GeneCounts\n",
    "--genomeLoad LoadAndKeep\n",
    "done"
   ]
  },
  {
   "cell_type": "code",
   "execution_count": null,
   "metadata": {},
   "outputs": [],
   "source": [
    "!mkdir /bigstore/binfo/zebra_finch/RegionXExpression/Aligned"
   ]
  },
  {
   "cell_type": "code",
   "execution_count": 8,
   "metadata": {
    "collapsed": true
   },
   "outputs": [
    {
     "ename": "SyntaxError",
     "evalue": "invalid syntax (<ipython-input-8-9e83f7606eff>, line 3)",
     "output_type": "error",
     "traceback": [
      "\u001b[0;36m  File \u001b[0;32m\"<ipython-input-8-9e83f7606eff>\"\u001b[0;36m, line \u001b[0;32m3\u001b[0m\n\u001b[0;31m    STAR --runThreadN 32 --runMode alignReads --genomeDir /bigstore/binfo/zebra_finch/STARgenomeDir/ --readFilesIn /bigstore/binfo/zebra_finch/RegionXExpression/Fastp/\"$line\"_R1_001.fastq /bigstore/binfo/zebra_finch/RegionXExpression/Fastp/\"$line\"_R2_001.fastq --outFileNamePrefix /bigstore/binfo/zebra_finch/RegionXExpression/Aligned/$line --outSAMtype BAM SortedByCoordinate --quantMode TranscriptomeSAM GeneCounts\u001b[0m\n\u001b[0m                       ^\u001b[0m\n\u001b[0;31mSyntaxError\u001b[0m\u001b[0;31m:\u001b[0m invalid syntax\n"
     ]
    }
   ],
   "source": [
    "!cat /bigstore/binfo/zebra_finch/RegionXExpression/Samples.csv | while read line\n",
    "do\n",
    "STAR --runThreadN 32 --runMode alignReads --genomeDir /bigstore/binfo/zebra_finch/STARgenomeDir/ --readFilesIn /bigstore/binfo/zebra_finch/RegionXExpression/Fastp/\"$line\"_R1_001.fastq /bigstore/binfo/zebra_finch/RegionXExpression/Fastp/\"$line\"_R2_001.fastq --outFileNamePrefix /bigstore/binfo/zebra_finch/RegionXExpression/Aligned/$line --outSAMtype BAM SortedByCoordinate --quantMode TranscriptomeSAM GeneCounts\n",
    "done"
   ]
  },
  {
   "cell_type": "code",
   "execution_count": 37,
   "metadata": {},
   "outputs": [
    {
     "name": "stdout",
     "output_type": "stream",
     "text": [
      "Apr 28 15:30:39 ..... started STAR run\n",
      "Apr 28 15:30:39 ..... loading genome\n",
      "Apr 28 15:30:50 ..... started mapping\n",
      "\n",
      "EXITING because of FATAL ERROR in reads input: short read sequence line: 0\n",
      "Read Name=@SN860:669:C8F8HACXX:1:2316:19178:67540\n",
      "Read Sequence====\n",
      "DEF_readNameLengthMax=50000\n",
      "DEF_readSeqLengthMax=650\n",
      "\n",
      "Apr 28 15:31:18 ...... FATAL ERROR, exiting\n"
     ]
    }
   ],
   "source": [
    "!STAR --runThreadN 20 --genomeDir /bigstore/binfo/zebra_finch/STARgenomeDir/ --readFilesIn /bigstore/binfo/zebra_finch/RegionXExpression/Fastp/Blue623X_S6_L001_R1_001.fastq /bigstore/binfo/zebra_finch/RegionXExpression/Fastp/Blue623X_S6_L001_R2_001.fastq --outFileNamePrefix /bigstore/binfo/zebra_finch/RegionXExpression/Aligned/Blue623X_S6_L001 --outSAMtype BAM SortedByCoordinate --quantMode TranscriptomeSAM GeneCounts"
   ]
  },
  {
   "cell_type": "code",
   "execution_count": 39,
   "metadata": {},
   "outputs": [
    {
     "data": {
      "text/plain": [
       "['Blue623X_S6_L001_R1_001.fastq',\n",
       " 'Blue623X_S6_L001_R2_001.fastq',\n",
       " 'Blue623X_S6_L002_R1_001.fastq',\n",
       " 'Blue623X_S6_L002_R2_001.fastq',\n",
       " 'Brown443X_S79_L007_R1_001.fastq',\n",
       " 'Brown443X_S79_L007_R2_001.fastq',\n",
       " 'Brown443X_S79_L008_R1_001.fastq',\n",
       " 'Brown443X_S79_L008_R2_001.fastq',\n",
       " 'LtPink78X_S40_L003_R1_001.fastq',\n",
       " 'LtPink78X_S40_L003_R2_001.fastq',\n",
       " 'LtPink78X_S40_L004_R1_001.fastq',\n",
       " 'LtPink78X_S40_L004_R2_001.fastq',\n",
       " 'LtPink82X_S67_L007_R1_001.fastq',\n",
       " 'LtPink82X_S67_L007_R2_001.fastq',\n",
       " 'LtPink82X_S67_L008_R1_001.fastq',\n",
       " 'LtPink82X_S67_L008_R2_001.fastq',\n",
       " 'Purple405X_S68_L007_R1_001.fastq',\n",
       " 'Purple405X_S68_L007_R2_001.fastq',\n",
       " 'Purple405X_S68_L008_R1_001.fastq',\n",
       " 'Purple405X_S68_L008_R2_001.fastq',\n",
       " 'Purple418X_S42_L003_R1_001.fastq',\n",
       " 'Purple418X_S42_L003_R2_001.fastq',\n",
       " 'Purple418X_S42_L004_R1_001.fastq',\n",
       " 'Purple418X_S42_L004_R2_001.fastq']"
      ]
     },
     "execution_count": 39,
     "metadata": {},
     "output_type": "execute_result"
    }
   ],
   "source": [
    "for file in os.listdir(pth)\n",
    "print()"
   ]
  },
  {
   "cell_type": "code",
   "execution_count": 41,
   "metadata": {},
   "outputs": [
    {
     "name": "stdout",
     "output_type": "stream",
     "text": [
      "\r\n",
      "EXITING because of fatal input ERROR: could not open readFilesIn=fastp.html\r\n",
      "\r\n",
      "Apr 28 16:24:08 ...... FATAL ERROR, exiting\r\n"
     ]
    }
   ],
   "source": [
    "!cd /bigstore/binfo/zebra_finch/RegionXExpression/Fastp/\n",
    "!for f in /*.fastq ; do STAR --runThreadN 20 --genomeDir /bigstore/binfo/zebra_finch/STARgenomeDir/ --readFilesIn $f --outFileNamePrefix /bigstore/binfo/zebra_finch/RegionXExpression/Aligned/$f --outSAMtype BAM SortedByCoordinate --quantMode TranscriptomeSAM GeneCounts ; done"
   ]
  },
  {
   "cell_type": "code",
   "execution_count": 75,
   "metadata": {},
   "outputs": [
    {
     "name": "stdout",
     "output_type": "stream",
     "text": [
      "/bigstore/binfo/zebra_finch/RegionXExpression/Fastp/Blue623X_S6_L001_R1_001\r\n",
      "/bigstore/binfo/zebra_finch/RegionXExpression/Fastp/Blue623X_S6_L001_R2_001\r\n",
      "/bigstore/binfo/zebra_finch/RegionXExpression/Fastp/Blue623X_S6_L002_R1_001\r\n",
      "/bigstore/binfo/zebra_finch/RegionXExpression/Fastp/Blue623X_S6_L002_R2_001\r\n",
      "/bigstore/binfo/zebra_finch/RegionXExpression/Fastp/Brown443X_S79_L007_R1_001\r\n",
      "/bigstore/binfo/zebra_finch/RegionXExpression/Fastp/Brown443X_S79_L007_R2_001\r\n",
      "/bigstore/binfo/zebra_finch/RegionXExpression/Fastp/Brown443X_S79_L008_R1_001\r\n",
      "/bigstore/binfo/zebra_finch/RegionXExpression/Fastp/Brown443X_S79_L008_R2_001\r\n",
      "/bigstore/binfo/zebra_finch/RegionXExpression/Fastp/LtPink78X_S40_L003_R1_001\r\n",
      "/bigstore/binfo/zebra_finch/RegionXExpression/Fastp/LtPink78X_S40_L003_R2_001\r\n",
      "/bigstore/binfo/zebra_finch/RegionXExpression/Fastp/LtPink78X_S40_L004_R1_001\r\n",
      "/bigstore/binfo/zebra_finch/RegionXExpression/Fastp/LtPink78X_S40_L004_R2_001\r\n",
      "/bigstore/binfo/zebra_finch/RegionXExpression/Fastp/LtPink82X_S67_L007_R1_001\r\n",
      "/bigstore/binfo/zebra_finch/RegionXExpression/Fastp/LtPink82X_S67_L007_R2_001\r\n",
      "/bigstore/binfo/zebra_finch/RegionXExpression/Fastp/LtPink82X_S67_L008_R1_001\r\n",
      "/bigstore/binfo/zebra_finch/RegionXExpression/Fastp/LtPink82X_S67_L008_R2_001\r\n",
      "/bigstore/binfo/zebra_finch/RegionXExpression/Fastp/Purple405X_S68_L007_R1_001\r\n",
      "/bigstore/binfo/zebra_finch/RegionXExpression/Fastp/Purple405X_S68_L007_R2_001\r\n",
      "/bigstore/binfo/zebra_finch/RegionXExpression/Fastp/Purple405X_S68_L008_R1_001\r\n",
      "/bigstore/binfo/zebra_finch/RegionXExpression/Fastp/Purple405X_S68_L008_R2_001\r\n",
      "/bigstore/binfo/zebra_finch/RegionXExpression/Fastp/Purple418X_S42_L003_R1_001\r\n",
      "/bigstore/binfo/zebra_finch/RegionXExpression/Fastp/Purple418X_S42_L003_R2_001\r\n",
      "/bigstore/binfo/zebra_finch/RegionXExpression/Fastp/Purple418X_S42_L004_R1_001\r\n",
      "/bigstore/binfo/zebra_finch/RegionXExpression/Fastp/Purple418X_S42_L004_R2_001\r\n"
     ]
    }
   ],
   "source": [
    "! cd\n",
    "!for a in /bigstore/binfo/zebra_finch/RegionXExpression/Fastp/* ; do echo \"$(cut -d'_' -f2 <<<'one_two_three_four_five')\" ; done"
   ]
  },
  {
   "cell_type": "markdown",
   "metadata": {},
   "source": [
    "# Cufflinks\n",
    "    https://github.com/cole-trapnell-lab/cufflinks\n",
    "    conda install -c bioconda cufflinks"
   ]
  },
  {
   "cell_type": "code",
   "execution_count": null,
   "metadata": {},
   "outputs": [],
   "source": []
  }
 ],
 "metadata": {
  "kernelspec": {
   "display_name": "pyspots",
   "language": "python",
   "name": "pyspots"
  },
  "language_info": {
   "codemirror_mode": {
    "name": "ipython",
    "version": 3
   },
   "file_extension": ".py",
   "mimetype": "text/x-python",
   "name": "python",
   "nbconvert_exporter": "python",
   "pygments_lexer": "ipython3",
   "version": "3.6.5"
  }
 },
 "nbformat": 4,
 "nbformat_minor": 2
}
