{
 "cells": [
  {
   "cell_type": "code",
   "execution_count": null,
   "metadata": {},
   "outputs": [],
   "source": []
  }
 ],
 "metadata": {
  "kernelspec": {
   "display_name": "pyspots",
   "language": "python",
   "name": "pyspots"
  }
 },
 "nbformat": 4,
 "nbformat_minor": 2
}
