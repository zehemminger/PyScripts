{
 "cells": [
  {
   "cell_type": "code",
   "execution_count": null,
   "metadata": {},
   "outputs": [],
   "source": [
    "import pickle\n",
    "import os\n",
    "md_path = '/hybedata/Images/Zach/ExVivo/Predigest_WholeMount_Third_2019Mar22/'\n",
    "spotcalls = pickle.load(open(os.path.join(md_path,'results','spotcalls.pkl'),'rb'))"
   ]
  },
  {
   "cell_type": "code",
   "execution_count": null,
   "metadata": {
    "scrolled": true
   },
   "outputs": [],
   "source": [
    "spotcalls"
   ]
  },
  {
   "cell_type": "code",
   "execution_count": null,
   "metadata": {},
   "outputs": [],
   "source": [
    "from fish_helpers import *"
   ]
  },
  {
   "cell_type": "code",
   "execution_count": null,
   "metadata": {},
   "outputs": [],
   "source": [
    "wounded_spotcalls = spot_dist(wounded_spotcalls)\n",
    "unwounded_spotcalls = spot_dist(unwounded_spotcalls)\n",
    "pickle.dump(wounded_spotcalls,open(os.path.join(md_path,'results','wounded_spotcalls.pkl'),'wb'))\n",
    "pickle.dump(unwounded_spotcalls,open(os.path.join(md_path,'results','unwounded_spotcalls.pkl'),'wb'))"
   ]
  },
  {
   "cell_type": "code",
   "execution_count": null,
   "metadata": {},
   "outputs": [],
   "source": [
    "nucstain = 'nuc_highWellCapacity_6'"
   ]
  },
  {
   "cell_type": "code",
   "execution_count": null,
   "metadata": {},
   "outputs": [],
   "source": [
    "md = Metadata(md_path)\n",
    "nucstain = 'nuc_highWellCapacity_6'\n",
    "wounded_intensity_list,wounded_dist_list = nuc_norm_list(wounded_spotcalls,md,nucstain=nucstain)\n",
    "unwounded_intensity_list,unwounded_dist_list = nuc_norm_list(unwounded_spotcalls,md,nucstain=nucstain)\n",
    "pickle.dump(wounded_intensity_list,open(os.path.join(md_path,'results','wounded_intensity_list.pkl'),'wb'))\n",
    "pickle.dump(wounded_dist_list,open(os.path.join(md_path,'results','wounded_dist_list.pkl'),'wb'))\n",
    "pickle.dump(unwounded_intensity_list,open(os.path.join(md_path,'results','unwounded_intensity_list.pkl'),'wb'))\n",
    "pickle.dump(unwounded_dist_list,open(os.path.join(md_path,'results','unwounded_dist_list.pkl'),'wb'))"
   ]
  },
  {
   "cell_type": "code",
   "execution_count": null,
   "metadata": {},
   "outputs": [],
   "source": [
    "wounded_intensity_hist,wounded_intensity_bins = nuc_hist(wounded_intensity_list,wounded_dist_list)\n",
    "unwounded_intensity_hist,unwounded_intensity_bins = nuc_hist(unwounded_intensity_list,unwounded_dist_list)\n",
    "pickle.dump(wounded_intensity_hist,open(os.path.join(md_path,'results','wounded_intensity_hist.pkl'),'wb'))\n",
    "pickle.dump(wounded_intensity_bins,open(os.path.join(md_path,'results','wounded_intensity_bins.pkl'),'wb'))\n",
    "pickle.dump(unwounded_intensity_hist,open(os.path.join(md_path,'results','unwounded_intensity_hist.pkl'),'wb'))\n",
    "pickle.dump(unwounded_intensity_bins,open(os.path.join(md_path,'results','unwounded_intensity_bins.pkl'),'wb'))"
   ]
  },
  {
   "cell_type": "code",
   "execution_count": null,
   "metadata": {},
   "outputs": [],
   "source": [
    "wounded_gene_df = generate_spatial_df(wounded_spotcalls[wounded_spotcalls.ave>10**2.9],wounded_intensity_bins)\n",
    "unwounded_gene_df = generate_spatial_df(unwounded_spotcalls[unwounded_spotcalls.ave>10**2.9],unwounded_intensity_bins)\n",
    "pickle.dump(wounded_gene_df,open(os.path.join(md_path,'results','wounded_gene_df.pkl'),'wb'))\n",
    "pickle.dump(unwounded_gene_df,open(os.path.join(md_path,'results','unwounded_gene_df.pkl'),'wb'))"
   ]
  },
  {
   "cell_type": "code",
   "execution_count": null,
   "metadata": {},
   "outputs": [],
   "source": []
  },
  {
   "cell_type": "code",
   "execution_count": null,
   "metadata": {},
   "outputs": [],
   "source": [
    "import matplotlib.pyplot as plt\n",
    "plt.hist(spotcalls.CoordX,bins=1000)\n",
    "plt.show()"
   ]
  },
  {
   "cell_type": "code",
   "execution_count": null,
   "metadata": {},
   "outputs": [],
   "source": [
    "pickle.dump(spotcalls,open(os.path.join(md_path,'results','spotcalls.pkl'),'wb'))"
   ]
  },
  {
   "cell_type": "code",
   "execution_count": null,
   "metadata": {},
   "outputs": [],
   "source": [
    "from metadata import Metadata\n",
    "md = Metadata(md_path)"
   ]
  },
  {
   "cell_type": "code",
   "execution_count": null,
   "metadata": {},
   "outputs": [],
   "source": [
    "import numpy as np\n",
    "xy = np.stack(md.image_table.XY,axis=0)\n",
    "import matplotlib.pyplot as plt\n",
    "plt.scatter(xy[:,0],xy[:,1])\n",
    "plt.show()"
   ]
  },
  {
   "cell_type": "code",
   "execution_count": null,
   "metadata": {},
   "outputs": [],
   "source": [
    "from math import sqrt\n",
    "import numpy as np\n",
    "from skimage.transform import resize\n",
    "stitched = np.empty((5000,11000))\n",
    "pos_df = {}\n",
    "for pos in spotcalls.posname.unique():\n",
    "    if 'Pos' in pos:\n",
    "        pos_df[pos] = md.image_table[md.image_table.Position==pos].XY.iloc[0]\n",
    "        x = pos_df[pos][0]+4000\n",
    "        y = pos_df[pos][1]+1000\n",
    "        im = md.stkread(Position=pos,Channel='DeepBlue',acq='nuc_highWellCapacity_6',Zindex=20)[:,:,0]\n",
    "        im_resize = resize(im,(int(2048*0.109),int(2048*0.109)),mode='constant')\n",
    "        x_shape,y_shape=im_resize.shape\n",
    "        stitched[int(y):int(y+y_shape),int(x):int(x+x_shape)]=im_resize\n",
    "        upper = np.percentile(stitched[stitched>0],95)\n",
    "up_stitched = stitched\n",
    "up_stitched[up_stitched>upper]=upper\n",
    "plt.imshow(up_stitched,cmap='inferno')"
   ]
  },
  {
   "cell_type": "code",
   "execution_count": null,
   "metadata": {},
   "outputs": [],
   "source": [
    "upper = np.percentile(stitched[stitched>0],95)\n",
    "up_stitched = stitched\n",
    "up_stitched[up_stitched>upper]=upper\n",
    "plt.imshow(up_stitched,cmap='inferno')"
   ]
  },
  {
   "cell_type": "code",
   "execution_count": null,
   "metadata": {},
   "outputs": [],
   "source": [
    "def wavelettransform(stk,wavelet,keep_list='All'):\n",
    "    if len(stk.shape)==2:\n",
    "        img = stk\n",
    "        coeffs = pywt.wavedec2(img,wavelet)\n",
    "        for i in range(0,len(coeffs)+1):\n",
    "            if i in keep_list:\n",
    "                continue\n",
    "            coeffs[-i] = tuple([np.zeros_like(v) for v in coeffs[-i]])\n",
    "        ref = pywt.waverec2(coeffs,wavelet)\n",
    "    else:\n",
    "        Result = []\n",
    "        for z in range(stk.shape[2]):\n",
    "            img = stk[:,:,z]\n",
    "            coeffs = pywt.wavedec2(img,wavelet)\n",
    "            for i in range(0,len(coeffs)+1):\n",
    "                if i in keep_list:\n",
    "                    continue\n",
    "                coeffs[-i] = tuple([np.zeros_like(v) for v in coeffs[-i]])\n",
    "            result = pywt.waverec2(coeffs,wavelet)\n",
    "            Result.append(result)\n",
    "        Result  = np.array(Result)\n",
    "        Result = np.swapaxes(np.swapaxes(Result,0,2),0,1)\n",
    "        ref = Result.astype('float64')\n",
    "        ref_mmin = ref-np.percentile(ref.ravel(),1)\n",
    "        ref = (ref_mmin)/(np.percentile(ref_mmin.ravel(),99))\n",
    "    return ref"
   ]
  },
  {
   "cell_type": "code",
   "execution_count": null,
   "metadata": {},
   "outputs": [],
   "source": [
    "%matplotlib inline\n",
    "from matplotlib import pyplot as plt\n",
    "from skimage.transform import resize\n",
    "from matplotlib.image import BboxImage\n",
    "from matplotlib.transforms import Bbox, TransformedBbox\n",
    "#from segmentation_3D import *\n",
    "import numpy as np\n",
    "fig = plt.figure(figsize=(8,8))#,dpi=100)\n",
    "ax = fig.add_subplot(111)\n",
    "artists = []\n",
    "X = []\n",
    "Y = []\n",
    "scale = int(2048*0.109)\n",
    "for pos in md.image_table.Position.unique():\n",
    "    if 'Pos' in pos:\n",
    "        x,y = md.image_table[md.image_table.Position==pos].XY.iloc[0]\n",
    "        X.append(x)\n",
    "        Y.append(y)\n",
    "        if x<1000:\n",
    "            im = np.flipud(md.stkread(Position=pos,Channel='DeepBlue',acq='nuc_highWellCapacity_6',Zindex=20)[:,:,0])\n",
    "            #im_wave = wavelettransform(im,'db9',keep_list=[4,5,6])\n",
    "            #im_resize = resize(im,(scale,scale),mode='constant',anti_aliasing=True)\n",
    "            bb = Bbox.from_bounds(x,y,scale,scale)\n",
    "            bb2 = TransformedBbox(bb,ax.transData)\n",
    "            bbox_image = BboxImage(bb2,\n",
    "                                norm = None,\n",
    "                                origin=None,\n",
    "                                clip_on=False,\n",
    "                                cmap='Greys')\n",
    "            bbox_image.set_data(im)\n",
    "            ax.add_artist(bbox_image)\n",
    "ax.set_xlim(-3500,500)\n",
    "ax.set_ylim(0,3500)\n",
    "plt.xlabel('X Stage Coordinate')\n",
    "plt.ylabel('Y Stage Coordinate')\n",
    "plt.suptitle('Wounded Cornea')\n",
    "plt.show()\n",
    "fig.savefig('/home/zach/Desktop/Wounded_Cornea')"
   ]
  },
  {
   "cell_type": "code",
   "execution_count": null,
   "metadata": {},
   "outputs": [],
   "source": [
    "%matplotlib inline\n",
    "from matplotlib import pyplot as plt\n",
    "from skimage.transform import resize\n",
    "from matplotlib.image import BboxImage\n",
    "from matplotlib.transforms import Bbox, TransformedBbox\n",
    "#from segmentation_3D import *\n",
    "import numpy as np\n",
    "fig = plt.figure(figsize=(8,8),dpi=1000)\n",
    "ax = fig.add_subplot(111)\n",
    "artists = []\n",
    "X = []\n",
    "Y = []\n",
    "scale = int(2048*0.109)\n",
    "for pos in md.image_table.Position.unique():\n",
    "    if 'Pos' in pos:\n",
    "        x,y = md.image_table[md.image_table.Position==pos].XY.iloc[0]\n",
    "        X.append(x)\n",
    "        Y.append(y)\n",
    "        if x<1000:\n",
    "            im = np.flipud(md.stkread(Position=pos,Channel='DeepBlue',acq='nuc_highWellCapacity_6',Zindex=20)[:,:,0])\n",
    "            #im_wave = wavelettransform(im,'db9',keep_list=[4,5,6])\n",
    "            #im_resize = resize(im,(scale,scale),mode='constant',anti_aliasing=True)\n",
    "            bb = Bbox.from_bounds(x,y,scale,scale)\n",
    "            bb2 = TransformedBbox(bb,ax.transData)\n",
    "            bbox_image = BboxImage(bb2,\n",
    "                                norm = None,\n",
    "                                origin=None,\n",
    "                                clip_on=False,\n",
    "                                cmap='Greys')\n",
    "            bbox_image.set_data(im)\n",
    "            ax.add_artist(bbox_image)\n",
    "gene = 'Tnfrsf21'\n",
    "temp = spotcalls[(spotcalls.gene==gene)&(spotcalls.CoordX<1000)&(spotcalls.ave>1000)]\n",
    "x = temp.CoordX+2049*0.109\n",
    "y = temp.CoordY\n",
    "z = temp.z\n",
    "plt.scatter(x,y,s=1,alpha=0.1,c='r')\n",
    "ax.set_xlim(-3500,500)\n",
    "ax.set_ylim(0,3500)\n",
    "plt.xlabel('X Stage Coordinate')\n",
    "plt.ylabel('Y Stage Coordinate')\n",
    "plt.suptitle('Wounded Cornea')\n",
    "plt.show()\n",
    "fig.savefig('/home/zach/Desktop/Wounded_Cornea_spots')"
   ]
  },
  {
   "cell_type": "code",
   "execution_count": null,
   "metadata": {},
   "outputs": [],
   "source": [
    "%matplotlib inline\n",
    "from matplotlib import pyplot as plt\n",
    "from skimage.transform import resize\n",
    "from matplotlib.image import BboxImage\n",
    "from matplotlib.transforms import Bbox, TransformedBbox\n",
    "#from segmentation_3D import *\n",
    "import numpy as np\n",
    "fig = plt.figure(figsize=(8,8),dpi=1000)\n",
    "ax = fig.add_subplot(111)\n",
    "artists = []\n",
    "x_min = -2500\n",
    "x_max = -1300\n",
    "y_min = 600\n",
    "y_max = 2000\n",
    "scale = int(2048*0.109)\n",
    "for pos in md.image_table.Position.unique():\n",
    "    if 'Pos' in pos:\n",
    "        x,y = md.image_table[md.image_table.Position==pos].XY.iloc[0]\n",
    "        if (x>x_min)&(x<x_max)&(y>y_min)&(y<y_max):\n",
    "            im = np.flipud(md.stkread(Position=pos,Channel='DeepBlue',acq='nuc_highWellCapacity_6',Zindex=20)[:,:,0])\n",
    "            #im_wave = wavelettransform(im,'db9',keep_list=[4,5,6])\n",
    "            #im_resize = resize(im,(scale,scale),mode='constant',anti_aliasing=True)\n",
    "            bb = Bbox.from_bounds(x,y,scale,scale)\n",
    "            bb2 = TransformedBbox(bb,ax.transData)\n",
    "            bbox_image = BboxImage(bb2,\n",
    "                                norm = None,\n",
    "                                origin=None,\n",
    "                                clip_on=False,\n",
    "                                cmap='Greys')\n",
    "            bbox_image.set_data(im)\n",
    "            ax.add_artist(bbox_image)\n",
    "gene = 'Tnfrsf21'\n",
    "temp = spotcalls[(spotcalls.gene==gene)&(spotcalls.CoordX<1000)&(spotcalls.ave>1000)]\n",
    "x = temp.CoordX+2049*0.109\n",
    "y = temp.CoordY\n",
    "z = temp.z\n",
    "plt.scatter(x,y,s=1,alpha=0.1,c='r')\n",
    "ax.set_xlim(x_min,x_max)\n",
    "ax.set_ylim(y_min,y_max)\n",
    "plt.xlabel('X Stage Coordinate')\n",
    "plt.ylabel('Y Stage Coordinate')\n",
    "plt.suptitle('Wounded Cornea')\n",
    "plt.show()\n",
    "fig.savefig('/home/zach/Desktop/Wounded_Cornea_spots_zoom')"
   ]
  },
  {
   "cell_type": "code",
   "execution_count": null,
   "metadata": {},
   "outputs": [],
   "source": [
    "import matplotlib.pyplot as plt\n",
    "% matplotlib inline\n",
    "gene = 'Tnfrsf21'\n",
    "temp = spotcalls[(spotcalls.gene==gene)&(spotcalls.CoordX<1000)]\n",
    "x = temp.CoordX+2049*0.109\n",
    "y = temp.CoordY\n",
    "z = temp.z\n",
    "plt.scatter(x,y,s=1,alpha=0.1)\n",
    "plt.show()"
   ]
  },
  {
   "cell_type": "code",
   "execution_count": null,
   "metadata": {},
   "outputs": [],
   "source": [
    "for gene in spotcalls.gene.unique():\n",
    "    temp = spotcalls[(spotcalls.gene==gene)&(spotcalls.CoordX<1000)]\n",
    "    x = temp.CoordX+2049*0.109\n",
    "    y = temp.CoordY\n",
    "    z = temp.z\n",
    "    plt.scatter(x,y,s=1,alpha=0.1)\n",
    "    plt.title(gene)\n",
    "    plt.show()"
   ]
  },
  {
   "cell_type": "code",
   "execution_count": null,
   "metadata": {},
   "outputs": [],
   "source": [
    "gene = 'Tnfrsf21'\n",
    "temp = spotcalls[(spotcalls.gene==gene)&(spotcalls.CoordX<1000)&(spotcalls.ave>1000)]\n",
    "x = temp.CoordX+2049*0.109\n",
    "y = temp.CoordY\n",
    "z = temp.z\n",
    "plt.scatter(x,y,c=z,s=1)\n",
    "plt.show()"
   ]
  },
  {
   "cell_type": "code",
   "execution_count": null,
   "metadata": {},
   "outputs": [],
   "source": [
    "%matplotlib inline\n",
    "from matplotlib import pyplot as plt\n",
    "from skimage.transform import resize\n",
    "from matplotlib.image import BboxImage\n",
    "from matplotlib.transforms import Bbox, TransformedBbox\n",
    "#from segmentation_3D import *\n",
    "import numpy as np\n",
    "fig = plt.figure(figsize=(8,8),dpi=1000)\n",
    "ax = fig.add_subplot(111)\n",
    "artists = []\n",
    "X = []\n",
    "Y = []\n",
    "scale = int(2048*0.109)\n",
    "for pos in md.image_table.Position.unique():\n",
    "    if 'Pos' in pos:\n",
    "        x,y = md.image_table[md.image_table.Position==pos].XY.iloc[0]\n",
    "        X.append(x)\n",
    "        Y.append(y)\n",
    "        if x<1000:\n",
    "            im = np.flipud(md.stkread(Position=pos,Channel='DeepBlue',acq='nuc_highWellCapacity_6',Zindex=20)[:,:,0])\n",
    "            #im_wave = wavelettransform(im,'db9',keep_list=[4,5,6])\n",
    "            #im_resize = resize(im,(scale,scale),mode='constant',anti_aliasing=True)\n",
    "            bb = Bbox.from_bounds(x,y,scale,scale)\n",
    "            bb2 = TransformedBbox(bb,ax.transData)\n",
    "            bbox_image = BboxImage(bb2,\n",
    "                                norm = None,\n",
    "                                origin=None,\n",
    "                                clip_on=False,\n",
    "                                cmap='Greys')\n",
    "            bbox_image.set_data(im)\n",
    "            ax.add_artist(bbox_image)\n",
    "ax.set_xlim(-3500,500)\n",
    "ax.set_ylim(0,3500)\n",
    "plt.xlabel('X Stage Coordinate')\n",
    "plt.ylabel('Y Stage Coordinate')\n",
    "plt.suptitle('Wounded Cornea')\n",
    "plt.show()\n",
    "fig.savefig('/home/zach/Desktop/Wounded_Cornea')"
   ]
  },
  {
   "cell_type": "code",
   "execution_count": null,
   "metadata": {},
   "outputs": [],
   "source": [
    "%matplotlib inline\n",
    "from matplotlib import pyplot as plt\n",
    "from skimage.transform import resize\n",
    "from matplotlib.image import BboxImage\n",
    "from matplotlib.transforms import Bbox, TransformedBbox\n",
    "import numpy as np\n",
    "fig = plt.figure(figsize=(8,8),dpi=100)\n",
    "ax = fig.add_subplot(111)\n",
    "artists = []\n",
    "X = []\n",
    "Y = []\n",
    "scale = int(2048*0.109)\n",
    "for pos in md.image_table.Position.unique():\n",
    "    if 'Pos' in pos:\n",
    "        x,y = md.image_table[md.image_table.Position==pos].XY.iloc[0]\n",
    "        X.append(x)\n",
    "        Y.append(y)\n",
    "        if x>1000:\n",
    "            im = np.flipud(md.stkread(Position=pos,Channel='DeepBlue',acq='nuc_highWellCapacity_6',Zindex=20)[:,:,0])\n",
    "            im_resize = resize(im,(scale,scale),mode='constant',anti_aliasing=True)\n",
    "            bb = Bbox.from_bounds(x,y,scale,scale)\n",
    "            bb2 = TransformedBbox(bb,ax.transData)\n",
    "            bbox_image = BboxImage(bb2,\n",
    "                                norm = None,\n",
    "                                origin=None,\n",
    "                                clip_on=False,\n",
    "                                cmap='Greys')\n",
    "            bbox_image.set_data(im_resize)\n",
    "            ax.add_artist(bbox_image)\n",
    "ax.set_xlim(3000,7000)\n",
    "ax.set_ylim(-500,3000)\n",
    "plt.xlabel('X Stage Coordinate')\n",
    "plt.ylabel('Y Stage Coordinate')\n",
    "#plt.suptitle('mRNA Spots Identified Single Cornea')\n",
    "plt.show()\n",
    "fig.savefig('/home/zach/Desktop/Stitched_unwounded')"
   ]
  },
  {
   "cell_type": "code",
   "execution_count": null,
   "metadata": {},
   "outputs": [],
   "source": [
    "wounded_pos = []\n",
    "unwounded_pos = []\n",
    "for pos in md.image_table.Position.unique():\n",
    "    if 'Pos' in pos:\n",
    "        x,y = md.image_table[md.image_table.Position==pos].XY.iloc[0]\n",
    "        if x<1000:\n",
    "            wounded_pos.append(pos)\n",
    "        else:\n",
    "            unwounded_pos.append(pos)"
   ]
  },
  {
   "cell_type": "code",
   "execution_count": null,
   "metadata": {},
   "outputs": [],
   "source": [
    "keepers= []\n",
    "tossers = []\n",
    "for pos in spotcalls.posname.unique():\n",
    "    print(pos)\n",
    "    if np.average(spotcalls[spotcalls.posname==pos].ave)<1250:\n",
    "        tossers.append(pos)\n",
    "        #print(pos,' Tossed')\n",
    "    else:\n",
    "        keepers.append(pos)\n",
    "        #print(pos,' Good')\n",
    "print('Total Good: ',len(keepers))\n",
    "print('Total Tossed: ',len(tossers))"
   ]
  },
  {
   "cell_type": "code",
   "execution_count": null,
   "metadata": {},
   "outputs": [],
   "source": [
    "spotcalls_good = spotcalls\n",
    "for pos in tossers:\n",
    "    spotcalls_good = spotcalls_good.drop(index=spotcalls_good[spotcalls_good.posname==pos].index)"
   ]
  },
  {
   "cell_type": "code",
   "execution_count": null,
   "metadata": {},
   "outputs": [],
   "source": [
    "%matplotlib inline\n",
    "import matplotlib.pyplot as plt\n",
    "temp_df = spotcalls_good\n",
    "plt.hist(temp_df.ave,bins=int(len(temp_df.ave)/1000))\n",
    "plt.xlim([0,3500])\n",
    "plt.suptitle('Distribution of FISH spot intensity')\n",
    "plt.xlabel('Spot intensity')\n",
    "plt.ylabel('Spot Count')\n",
    "plt.show()"
   ]
  },
  {
   "cell_type": "code",
   "execution_count": null,
   "metadata": {},
   "outputs": [],
   "source": [
    "from math import sqrt\n",
    "import numpy as np\n",
    "from skimage.transform import resize\n",
    "stitched = np.empty((5000,11000))\n",
    "pos_df = {}\n",
    "for pos in spotcalls_good.posname.unique():\n",
    "    if 'Pos' in pos:\n",
    "        pos_df[pos] = md.image_table[md.image_table.Position==pos].XY.iloc[0]\n",
    "        x = pos_df[pos][0]+4000\n",
    "        y = pos_df[pos][1]+1000\n",
    "        im = md.stkread(Position=pos,Channel='DeepBlue',acq='nuc_highWellCapacity_6',Zindex=20)[:,:,0]\n",
    "        im_resize = resize(im,(int(2048*0.109),int(2048*0.109)),mode='constant')\n",
    "        x_shape,y_shape=im_resize.shape\n",
    "        stitched[int(y):int(y+y_shape),int(x):int(x+x_shape)]=im_resize\n",
    "upper = np.percentile(stitched[stitched>0],95)\n",
    "up_stitched = stitched\n",
    "up_stitched[up_stitched>upper]=upper\n",
    "plt.imshow(up_stitched,cmap='inferno')"
   ]
  },
  {
   "cell_type": "code",
   "execution_count": null,
   "metadata": {},
   "outputs": [],
   "source": [
    "center_unwounded = [4750,1750]\n",
    "center_wounded = [-1750,1500]"
   ]
  },
  {
   "cell_type": "code",
   "execution_count": null,
   "metadata": {},
   "outputs": [],
   "source": [
    "from math import sqrt\n",
    "import numpy as np\n",
    "from skimage.transform import resize\n",
    "\n",
    "center_unwounded = [4750,1750]\n",
    "center_wounded = [-1750,1500]\n",
    "wounded_distlist = []\n",
    "wounded_nuclist = []\n",
    "unwounded_distlist = []\n",
    "unwounded_nuclist = []\n",
    "stitched = np.empty((4000,7500))\n",
    "temp = spotcalls_filtered\n",
    "for pos in temp.posname.unique():\n",
    "    x,y = md.image_table[md.image_table.Position==pos].XY.iloc[0]\n",
    "    im = md.stkread(Position=pos,Channel='DeepBlue',acq='nuc_highWellCapacity_6',Zindex=20)[:,:,0]\n",
    "    im_resize = resize(im,(int(2048*0.109),int(2048*0.109)),mode='constant',anti_aliasing=True)\n",
    "    if x<1000:\n",
    "        for x_loc in range(im_resize.shape[1]):\n",
    "            x_vector = im_resize[:,x_loc]\n",
    "            for y_loc,pixel in enumerate(x_vector):\n",
    "                pix_x = x+x_loc\n",
    "                pix_y = y+y_loc\n",
    "                distance = sqrt( (center_wounded[0] - pix_x)**2 + (center_wounded[1] - pix_y)**2 )\n",
    "                wounded_distlist.append(distance)\n",
    "                wounded_nuclist.append(pixel)\n",
    "    if x>1000:\n",
    "        for x_loc in range(im_resize.shape[1]):\n",
    "            x_vector = im_resize[:,x_loc]\n",
    "            for y_loc,pixel in enumerate(x_vector):\n",
    "                if pixel==0:\n",
    "                    continue\n",
    "                pix_x = x+x_loc\n",
    "                pix_y = y+y_loc\n",
    "                distance = sqrt( (center_unwounded[0] - pix_x)**2 + (center_unwounded[1] - pix_y)**2 )\n",
    "                unwounded_distlist.append(distance)\n",
    "                unwounded_nuclist.append(pixel)"
   ]
  },
  {
   "cell_type": "code",
   "execution_count": null,
   "metadata": {},
   "outputs": [],
   "source": [
    "wounded_nuc_intensity_dict=pickle.load(open(os.path.join(md_path,'results','wounded_nuc_intensity_dict.pkl'),'rb'))\n",
    "unwounded_nuc_intensity_dict=pickle.load(open(os.path.join(md_path,'results','unwounded_nuc_intensity_dict.pkl'),'rb'))"
   ]
  },
  {
   "cell_type": "code",
   "execution_count": null,
   "metadata": {},
   "outputs": [],
   "source": [
    "nbins = 100\n",
    "rmin = 150\n",
    "rmax = 1600\n",
    "bins = np.linspace(rmin,rmax,nbins)\n",
    "bins[1]-bins[0]"
   ]
  },
  {
   "cell_type": "code",
   "execution_count": null,
   "metadata": {},
   "outputs": [],
   "source": [
    "nbins = 100\n",
    "rmin = 150\n",
    "rmax = 1600\n",
    "bins = np.linspace(rmin,rmax,nbins)\n",
    "step = (bins[1]-bins[0])/2\n",
    "wounded_nuc_intensity_dict = np.zeros_like(bins)\n",
    "unwounded_nuc_intensity_dict = np.zeros_like(bins)\n",
    "wounded_nuclist_array = np.array(wounded_nuclist)\n",
    "unwounded_nuclist_array = np.array(unwounded_nuclist)\n",
    "wounded_distlist_array = np.array(wounded_distlist)\n",
    "unwounded_distlist_array = np.array(unwounded_distlist)\n",
    "for i,r in enumerate(bins):\n",
    "    r_min = r-step\n",
    "    r_max = r+step\n",
    "    wounded_keepers = np.array(wounded_nuclist)\n",
    "    unwounded_keepers = np.array(unwounded_nuclist)\n",
    "    wounded_keepers[wounded_distlist_array>r_max]=0\n",
    "    unwounded_keepers[unwounded_distlist_array>r_max]=0\n",
    "    wounded_keepers[wounded_distlist_array<r_min]=0\n",
    "    unwounded_keepers[unwounded_distlist_array<r_min]=0\n",
    "    wounded_nuc_intensity_dict[i]=np.sum(wounded_keepers)\n",
    "    unwounded_nuc_intensity_dict[i]=np.sum(unwounded_keepers)"
   ]
  },
  {
   "cell_type": "code",
   "execution_count": null,
   "metadata": {},
   "outputs": [],
   "source": [
    "import numpy as np\n",
    "nbins = 100\n",
    "rmin = 150\n",
    "rmax = 1600\n",
    "bins = np.linspace(rmin,rmax,nbins)\n",
    "wounded_nuc_intensity_dict = pickle.load(open(os.path.join(md_path,'results','wounded_nuc_intensity_dict.pkl'),'rb'))\n",
    "unwounded_nuc_intensity_dict = pickle.load(open(os.path.join(md_path,'results','unwounded_nuc_intensity_dict.pkl'),'rb'))"
   ]
  },
  {
   "cell_type": "code",
   "execution_count": null,
   "metadata": {},
   "outputs": [],
   "source": [
    "wounded_nuc_intensity = wounded_nuc_intensity_dict\n",
    "unwounded_nuc_intensity = unwounded_nuc_intensity_dict"
   ]
  },
  {
   "cell_type": "code",
   "execution_count": null,
   "metadata": {},
   "outputs": [],
   "source": [
    "plt.plot(bins[1:-1],wounded_nuc_intensity_dict[1:-1],c='r',label='wounded')\n",
    "plt.plot(bins[1:-1],unwounded_nuc_intensity_dict[1:-1],c='k',label='unwounded')\n",
    "plt.legend()\n",
    "plt.xlabel('distance from center (um)')\n",
    "plt.ylabel('nuclear intensity')\n",
    "plt.legend()\n",
    "plt.show()"
   ]
  },
  {
   "cell_type": "code",
   "execution_count": null,
   "metadata": {},
   "outputs": [],
   "source": [
    "plt.plot(bins[1:-1],wounded_nuc_intensity_dict[1:-1],c='r',label='wounded')\n",
    "plt.plot(bins[1:-1],unwounded_nuc_intensity_dict[1:-1],c='k',label='unwounded')\n",
    "plt.legend()\n",
    "plt.xlabel('distance from center (um)')\n",
    "plt.ylabel('nuclear intensity')\n",
    "plt.legend()\n",
    "plt.show()"
   ]
  },
  {
   "cell_type": "code",
   "execution_count": null,
   "metadata": {},
   "outputs": [],
   "source": [
    "from metadata import Metadata\n",
    "import pickle\n",
    "import os\n",
    "X = []\n",
    "Y = []\n",
    "pixelsize = 0.109\n",
    "cameradirection = [1,1]\n",
    "temp = spotcalls\n",
    "for pos in temp.posname.unique():\n",
    "    CoordXY = md.image_table[md.image_table.Position==pos].XY.iloc[0]\n",
    "    coordX = CoordXY[0]\n",
    "    coordY = CoordXY[1]\n",
    "    pos_temp = temp[temp.posname==pos]\n",
    "    pos_centroid = pos_temp.centroid\n",
    "    for xy in pos_centroid:\n",
    "        rx = xy[1]-2048\n",
    "        ry = xy[0]#-2048\n",
    "        x = rx*pixelsize*cameradirection[0]+coordX\n",
    "        y = ry*pixelsize*cameradirection[1]+coordY\n",
    "        X.append(x)\n",
    "        Y.append(y)\n",
    "spotcalls['CoordX'] = X\n",
    "spotcalls['CoordY'] = Y\n",
    "from math import sqrt\n",
    "center_unwounded = [4750,1750]\n",
    "center_wounded = [-1750,1500]\n",
    "distance_list = []\n",
    "for i in range(len(spotcalls)):\n",
    "    if (i % 100000)==0:\n",
    "        print(i)\n",
    "    X = spotcalls.CoordX.iloc[i]\n",
    "    Y = spotcalls.CoordY.iloc[i]\n",
    "    if X<1000:\n",
    "        distance = sqrt( (center_wounded[0] - X)**2 + (center_wounded[1] - Y)**2 )\n",
    "    else:\n",
    "        distance = sqrt( (center_unwounded[0] - X)**2 + (center_unwounded[1] - Y)**2 )\n",
    "    distance_list.append(distance)\n",
    "spotcalls['distance']=distance_list\n",
    "pickle.dump(spotcalls,open(os.path.join(md_path,'results','spotcalls.pkl'),'wb'))"
   ]
  },
  {
   "cell_type": "code",
   "execution_count": null,
   "metadata": {
    "scrolled": true
   },
   "outputs": [],
   "source": [
    "import matplotlib.pyplot as plt\n",
    "import numpy as np\n",
    "from collections import Counter\n",
    "%matplotlib inline\n",
    "hist_bins = np.zeros(len(bins)+1)\n",
    "bin_dist = (bins[1]-bins[0])/2\n",
    "hist_bins[:-1] = bins-bin_dist\n",
    "hist_bins[-1] = bins[99]+bin_dist\n",
    "hist_bins\n",
    "temp_spotcalls = spotcalls[spotcalls.ave>1000]\n",
    "plt.hist(temp_spotcalls[temp_spotcalls.CoordX<1000].distance,bins=hist_bins,color='r',alpha=0.5,label='Wounded')\n",
    "plt.hist(temp_spotcalls[temp_spotcalls.CoordX>1000].distance,bins=hist_bins,color='k',alpha=0.5,label='Unwounded')\n",
    "plt.legend()\n",
    "plt.xlabel('distance from center (um)')\n",
    "plt.ylabel('Spot Abundance')\n",
    "plt.legend()\n",
    "plt.show()\n",
    "\n",
    "min_bin = 7\n",
    "nuc_wounded = wounded_nuc_intensity_dict\n",
    "nuc_unwounded = unwounded_nuc_intensity_dict\n",
    "\n",
    "plt.plot(bins[min_bin:-1],nuc_wounded[min_bin:-1],c='r',label='wounded')\n",
    "plt.plot(bins[min_bin:-1],nuc_unwounded[min_bin:-1],c='k',label='unwounded')\n",
    "plt.legend()\n",
    "plt.xlabel('distance from center (um)')\n",
    "plt.ylabel('nuclear intensity')\n",
    "plt.legend()\n",
    "plt.show()\n",
    "\n",
    "unwounded_dist_hist = {}\n",
    "wounded_dist_hist = {}\n",
    "for gene in temp_spotcalls.gene.unique():  \n",
    "    temp_df = temp_spotcalls[(temp_spotcalls.CoordX<1000)&(temp_spotcalls.gene==gene)]\n",
    "    temp = plt.hist(temp_df.distance,bins=hist_bins,color='r',alpha=0.5,label='Wounded')\n",
    "    temp = np.nan_to_num(temp[0])\n",
    "    temp_norm = temp/nuc_wounded\n",
    "    wounded_dist_hist[gene] = temp_norm\n",
    "    \n",
    "    temp_df = temp_spotcalls[(temp_spotcalls.CoordX>1000)&(temp_spotcalls.gene==gene)]\n",
    "    temp = plt.hist(temp_df.distance,bins=hist_bins,color='k',alpha=0.5,label='Unwounded')\n",
    "    temp = np.nan_to_num(temp[0])\n",
    "    temp_norm = temp/nuc_unwounded\n",
    "    unwounded_dist_hist[gene] = temp_norm\n",
    "    \n",
    "    plt.title(gene+' Raw')\n",
    "    plt.xlabel('distance from center unwounded (um)')\n",
    "    plt.ylabel('spots/nuclear intensity')\n",
    "    plt.legend()\n",
    "    plt.show()\n",
    "\n",
    "    plt.plot(bins[min_bin:-1],unwounded_dist_hist[gene][min_bin:-1],color='k',label='Unwounded')\n",
    "    plt.plot(bins[min_bin:-1],wounded_dist_hist[gene][min_bin:-1],color='r',label='Wounded')\n",
    "    plt.title(gene+' Normalized by nuclear intensity')\n",
    "    plt.xlabel('distance from center(um)')\n",
    "    plt.ylabel('spots/nuclear intensity')\n",
    "    plt.legend()\n",
    "    plt.show()"
   ]
  },
  {
   "cell_type": "code",
   "execution_count": null,
   "metadata": {},
   "outputs": [],
   "source": [
    "import matplotlib.pyplot as plt\n",
    "import numpy as np\n",
    "from collections import Counter\n",
    "%matplotlib inline\n",
    "hist_bins = np.zeros(len(bins)+1)\n",
    "bin_dist = (bins[1]-bins[0])/2\n",
    "hist_bins[:-1] = bins-bin_dist\n",
    "hist_bins[-1] = bins[99]+bin_dist\n",
    "hist_bins\n",
    "temp_spotcalls = spotcalls_filtered\n",
    "plt.hist(temp_spotcalls[temp_spotcalls.CoordX<1000].distance,bins=hist_bins,color='r',alpha=0.5,label='Wounded')\n",
    "plt.hist(temp_spotcalls[temp_spotcalls.CoordX>1000].distance,bins=hist_bins,color='k',alpha=0.5,label='Unwounded')\n",
    "plt.legend()\n",
    "plt.xlabel('distance from center (um)')\n",
    "plt.ylabel('Spot Abundance')\n",
    "plt.legend()\n",
    "plt.show()\n",
    "\n",
    "min_bin = 7\n",
    "nuc_wounded = wounded_nuc_intensity_dict\n",
    "nuc_unwounded = unwounded_nuc_intensity_dict\n",
    "\n",
    "plt.plot(bins[min_bin:-1],nuc_wounded[min_bin:-1],c='r',label='wounded')\n",
    "plt.plot(bins[min_bin:-1],nuc_unwounded[min_bin:-1],c='k',label='unwounded')\n",
    "plt.legend()\n",
    "plt.xlabel('distance from center (um)')\n",
    "plt.ylabel('nuclear intensity')\n",
    "plt.legend()\n",
    "plt.show()\n",
    "\n",
    "unwounded_dist_hist = {}\n",
    "wounded_dist_hist = {}\n",
    "for gene in temp_spotcalls.gene.unique():  \n",
    "    temp_df = temp_spotcalls[(temp_spotcalls.CoordX<1000)&(temp_spotcalls.gene==gene)]\n",
    "    temp = plt.hist(temp_df.distance,bins=hist_bins,color='r',alpha=0.5,label='Wounded')\n",
    "    temp = np.nan_to_num(temp[0])\n",
    "    temp_norm = temp/nuc_wounded\n",
    "    wounded_dist_hist[gene] = temp_norm\n",
    "    \n",
    "    temp_df = temp_spotcalls[(temp_spotcalls.CoordX>1000)&(temp_spotcalls.gene==gene)]\n",
    "    temp = plt.hist(temp_df.distance,bins=hist_bins,color='k',alpha=0.5,label='Unwounded')\n",
    "    temp = np.nan_to_num(temp[0])\n",
    "    temp_norm = temp/nuc_unwounded\n",
    "    unwounded_dist_hist[gene] = temp_norm\n",
    "    \n",
    "    plt.title(gene+' Raw')\n",
    "    plt.xlabel('distance from center unwounded (um)')\n",
    "    plt.ylabel('spots/nuclear intensity')\n",
    "    plt.legend()\n",
    "    plt.show()\n",
    "\n",
    "    plt.plot(bins[min_bin:-1],unwounded_dist_hist[gene][min_bin:-1],color='k',label='Unwounded')\n",
    "    plt.plot(bins[min_bin:-1],wounded_dist_hist[gene][min_bin:-1],color='r',label='Wounded')\n",
    "    plt.title(gene+' Normalized by nuclear intensity')\n",
    "    plt.xlabel('distance from center(um)')\n",
    "    plt.ylabel('spots/nuclear intensity')\n",
    "    plt.legend()\n",
    "    plt.show()"
   ]
  },
  {
   "cell_type": "code",
   "execution_count": null,
   "metadata": {},
   "outputs": [],
   "source": [
    "%matplotlib inline \n",
    "from scipy.stats import gaussian_kde\n",
    "plt.figure(figsize=(8,8))\n",
    "plt.imshow(up_stitched,cmap='Greys')\n",
    "gene = 'Tnfrsf21'\n",
    "temp = spotcalls[spotcalls.gene==gene]\n",
    "x = temp.CoordX+4000+int(2048*0.109)\n",
    "y = temp.CoordY+1000\n",
    "z = temp.z\n",
    "plt.scatter(x,y,c=z,s=1)\n",
    "plt.xlim([1000,3000])\n",
    "plt.ylim([1500,3500])\n",
    "plt.show()"
   ]
  },
  {
   "cell_type": "code",
   "execution_count": null,
   "metadata": {},
   "outputs": [],
   "source": []
  },
  {
   "cell_type": "code",
   "execution_count": null,
   "metadata": {},
   "outputs": [],
   "source": [
    "from math import sqrt\n",
    "import numpy as np\n",
    "from skimage.transform import resize\n",
    "stitched_all = np.empty((5000,11000))\n",
    "pos_df = {}\n",
    "for pos in md.image_table.Position.unique():\n",
    "    if 'Pos' in pos:\n",
    "        pos_df[pos] = md.image_table[md.image_table.Position==pos].XY.iloc[0]\n",
    "        x = pos_df[pos][0]+4000\n",
    "        y = pos_df[pos][1]+1000\n",
    "        im = md.stkread(Position=pos,Channel='DeepBlue',acq='nuc_highWellCapacity_6',Zindex=20)[:,:,0]\n",
    "        im_resize = resize(im,(int(2048*0.109),int(2048*0.109)),mode='constant',anti_aliasing=True)\n",
    "        x_shape,y_shape=im_resize.shape\n",
    "        stitched_all[int(y):int(y+y_shape),int(x):int(x+x_shape)]=im_resize\n",
    "upper = np.percentile(stitched_all[stitched_all>0],95)\n",
    "up_stitched_all = stitched_all\n",
    "up_stitched_all[up_stitched_all>upper]=upper\n",
    "plt.imshow(up_stitched_all,cmap='inferno')"
   ]
  },
  {
   "cell_type": "code",
   "execution_count": null,
   "metadata": {},
   "outputs": [],
   "source": [
    "X = []\n",
    "Y = []\n",
    "for pos in md.image_table.Position.unique():\n",
    "    if 'Pos' in pos:\n",
    "        x,y = md.image_table[md.image_table.Position==pos].XY.iloc[0]\n",
    "        X.append(x)\n",
    "        Y.append(y)\n",
    "plt.scatter(X,Y)"
   ]
  },
  {
   "cell_type": "code",
   "execution_count": null,
   "metadata": {},
   "outputs": [],
   "source": [
    "plt.scatter(X,Y)"
   ]
  },
  {
   "cell_type": "code",
   "execution_count": null,
   "metadata": {},
   "outputs": [],
   "source": [
    "edge_pos=[]\n",
    "x_min=1500-4000\n",
    "x_max=2750-4000\n",
    "y_min=1000-1000\n",
    "y_max=2000-1000\n",
    "\n",
    "for pos in md.image_table.Position.unique():\n",
    "    x,y = md.image_table[md.image_table.Position==pos].XY.iloc[0]\n",
    "    if (x>x_min)&(x<x_max)&(y>y_min)&(y<y_max):\n",
    "        edge_pos.append(pos)"
   ]
  },
  {
   "cell_type": "code",
   "execution_count": null,
   "metadata": {},
   "outputs": [],
   "source": [
    "file_pos = []\n",
    "for pos in edge_pos:\n",
    "    file_pos.append(md.image_table[md.image_table.Position==pos].root_pth.iloc[0].split('/')[0])"
   ]
  },
  {
   "cell_type": "code",
   "execution_count": null,
   "metadata": {},
   "outputs": [],
   "source": [
    "from math import sqrt\n",
    "import numpy as np\n",
    "from skimage.transform import resize\n",
    "stitched_wound = np.empty((1800,1400))\n",
    "pos_df = {}\n",
    "for pos in edge_pos:\n",
    "    if 'Pos' in pos:\n",
    "        pos_df[pos] = md.image_table[md.image_table.Position==pos].XY.iloc[0]\n",
    "        x = pos_df[pos][0]+2500\n",
    "        y = pos_df[pos][1]\n",
    "        im = md.stkread(Position=pos,Channel='DeepBlue',acq='nuc_highWellCapacity_6',Zindex=20)[:,:,0]\n",
    "        im_resize = resize(im,(int(2048*0.109),int(2048*0.109)),mode='constant',anti_aliasing=True)\n",
    "        x_shape,y_shape=im_resize.shape\n",
    "        stitched_wound[int(y):int(y+y_shape),int(x):int(x+x_shape)]=im_resize\n",
    "upper = np.percentile(stitched_wound[stitched_wound>0],95)\n",
    "#stitched_wound[stitched_wound>upper]=upper\n",
    "plt.imshow(stitched_wound,cmap='inferno')"
   ]
  },
  {
   "cell_type": "code",
   "execution_count": null,
   "metadata": {},
   "outputs": [],
   "source": [
    "plt.imshow(up_stitched_all,cmap='inferno')\n",
    "plt.xlim([500,4000])\n",
    "plt.ylim([1000,4000])\n",
    "plt.show()"
   ]
  },
  {
   "cell_type": "code",
   "execution_count": null,
   "metadata": {},
   "outputs": [],
   "source": [
    "pos = 'Pos150'\n",
    "im = md.stkread(Position=pos,Channel='DeepBlue',acq='nuc_highWellCapacity_6',Zindex=20)[:,:,0]\n",
    "plt.imshow(im)\n",
    "plt.show()"
   ]
  },
  {
   "cell_type": "code",
   "execution_count": null,
   "metadata": {},
   "outputs": [],
   "source": [
    "plt.hist(im.ravel())"
   ]
  },
  {
   "cell_type": "code",
   "execution_count": null,
   "metadata": {},
   "outputs": [],
   "source": [
    "plt.imshow(im>2000)\n",
    "plt.show()"
   ]
  },
  {
   "cell_type": "code",
   "execution_count": null,
   "metadata": {},
   "outputs": [],
   "source": [
    "from scipy import ndimage\n",
    "from skimage import morphology,filters\n",
    "\n",
    "temp = up_stitched_all.copy()\n",
    "temp = filters.gaussian(temp,sigma=5)\n",
    "temp[temp>0.02]=0\n",
    "im_bin = temp>0\n",
    "im_bin = ndimage.binary_dilation(im_bin,iterations=5)\n",
    "im_bin = morphology.remove_small_holes(im_bin, 2000)\n",
    "im_bin = morphology.remove_small_objects(im_bin, 10000)\n",
    "im_bin = morphology.erosion(im_bin)\n",
    "plt.imshow(im_bin,cmap='inferno')\n",
    "plt.xlim([500,4000])\n",
    "plt.ylim([1000,4000])\n",
    "plt.show()"
   ]
  },
  {
   "cell_type": "code",
   "execution_count": null,
   "metadata": {},
   "outputs": [],
   "source": [
    "from skimage.measure import label\n",
    "label_img = label(im_bin)\n",
    "from skimage.measure import regionprops\n",
    "regions = regionprops(label_img)\n"
   ]
  },
  {
   "cell_type": "code",
   "execution_count": null,
   "metadata": {},
   "outputs": [],
   "source": []
  },
  {
   "cell_type": "code",
   "execution_count": null,
   "metadata": {},
   "outputs": [],
   "source": [
    "for region in regions:\n",
    "    plt.imshow(region.image)\n",
    "    plt.title(region.area)\n",
    "    plt.show()"
   ]
  },
  {
   "cell_type": "code",
   "execution_count": null,
   "metadata": {},
   "outputs": [],
   "source": [
    "mask = regions[2]"
   ]
  },
  {
   "cell_type": "code",
   "execution_count": null,
   "metadata": {},
   "outputs": [],
   "source": [
    "plt.imshow(mask.image)"
   ]
  },
  {
   "cell_type": "code",
   "execution_count": null,
   "metadata": {},
   "outputs": [],
   "source": [
    "mask.coords"
   ]
  },
  {
   "cell_type": "code",
   "execution_count": null,
   "metadata": {},
   "outputs": [],
   "source": [
    "plt.imshow(up_stitched_all,cmap='inferno')\n",
    "plt.imshow()\n",
    "plt.xlim([500,4000])\n",
    "plt.ylim([1000,4000])\n",
    "plt.show()"
   ]
  },
  {
   "cell_type": "code",
   "execution_count": null,
   "metadata": {},
   "outputs": [],
   "source": [
    "%matplotlib inline \n",
    "from scipy.stats import gaussian_kde\n",
    "plt.figure(figsize=(8,8))\n",
    "plt.imshow(up_stitched,cmap='Greys')\n",
    "gene = 'Tnfrsf21'\n",
    "x_offset = 4000+int(2048*0.109)\n",
    "y_offset = 1000\n",
    "x_min = 2250\n",
    "x_max = 3000\n",
    "y_min = 2400\n",
    "y_max = 2600\n",
    "temp = spotcalls[(spotcalls.gene==gene)&(spotcalls.CoordY>(y_min-y_offset))&(spotcalls.CoordY<(y_max-y_offset))&(spotcalls.CoordX>(x_min-x_offset))&(spotcalls.CoordX<(x_max-x_offset))]\n",
    "x = temp.CoordX+x_offset\n",
    "y = temp.CoordY+y_offset\n",
    "xy = np.vstack([x,y])\n",
    "z = gaussian_kde(xy)(xy)\n",
    "plt.scatter(x,y,c=z,s=1)\n",
    "plt.xlim([x_min,x_max])\n",
    "plt.ylim([y_min,y_max])\n",
    "plt.show()"
   ]
  },
  {
   "cell_type": "code",
   "execution_count": null,
   "metadata": {},
   "outputs": [],
   "source": [
    "%matplotlib inline \n",
    "from scipy.stats import gaussian_kde\n",
    "x_offset = 4000+int(2048*0.109)\n",
    "y_offset = 1000\n",
    "x_min = 2250\n",
    "x_max = 3000\n",
    "y_min = 2400\n",
    "y_max = 2600\n",
    "temp_mask = []\n",
    "temp_df = spotcalls[(spotcalls.ave>1000)&(spotcalls.CoordY>(y_min-y_offset))&(spotcalls.CoordY<(y_max-y_offset))&(spotcalls.CoordX>(x_min-x_offset))&(spotcalls.CoordX<(x_max-x_offset))]\n",
    "for gene in spotcalls.gene.unique():\n",
    "    plt.figure(figsize=(8,8))\n",
    "    plt.imshow(up_stitched,cmap='Greys')\n",
    "    temp = spotcalls[(spotcalls.gene==gene)]\n",
    "    x = temp.CoordX+x_offset\n",
    "    y = temp.CoordY+y_offset\n",
    "    #xy = np.vstack([x,y])\n",
    "    z = temp.z#gaussian_kde(xy)(xy)\n",
    "    plt.scatter(x,y,c=z,s=1)\n",
    "    plt.xlim([x_min,x_max])\n",
    "    plt.ylim([y_min,y_max])\n",
    "    plt.title(gene)\n",
    "    plt.show()"
   ]
  },
  {
   "cell_type": "code",
   "execution_count": null,
   "metadata": {},
   "outputs": [],
   "source": [
    "%matplotlib inline \n",
    "from matplotlib import pyplot as plt\n",
    "import matplotlib as mpl\n",
    "from skimage.transform import resize\n",
    "from matplotlib.image import BboxImage\n",
    "from matplotlib.transforms import Bbox, TransformedBbox\n",
    "from sklearn.preprocessing import normalize\n",
    "from scipy import ndimage\n",
    "from skimage import morphology,filters\n",
    "import pywt\n",
    "import numpy as np\n",
    "from scipy.stats import gaussian_kde\n",
    "x_offset = int(2048*0.109)\n",
    "y_offset = 0\n",
    "x_min = -2000\n",
    "x_max = -1100\n",
    "y_min = 1300\n",
    "y_max = 1400\n",
    "# temp_df = spotcalls[(spotcalls.ave>1000)&\n",
    "#                     (spotcalls.CoordY>(y_min-y_offset))&\n",
    "#                     (spotcalls.CoordY<(y_max-y_offset))&\n",
    "#                     (spotcalls.CoordX>(x_min-x_offset))&\n",
    "#                     (spotcalls.CoordX<(x_max-x_offset))]\n",
    "img_dict = {}\n",
    "img_x_dict = {}\n",
    "img_y_dict = {}\n",
    "wavelet = 'db10'\n",
    "keep_list=[4,5,6]\n",
    "scale = int(2048*0.109)\n",
    "for pos in md.image_table.Position.unique():\n",
    "    x,y = md.image_table[md.image_table.Position==pos].XY.iloc[0]\n",
    "    if not (x>x_min)&(x<x_max)&(y>y_min)&(y<y_max):\n",
    "        continue\n",
    "    img_x_dict[pos]=x\n",
    "    img_y_dict[pos]=y\n",
    "    im = np.flipud(md.stkread(Position=pos,\n",
    "                              Channel='DeepBlue',\n",
    "                              acq='nuc_highWellCapacity_6',\n",
    "                              Zindex=10)[:,:,0])\n",
    "    thresh = np.percentile(im.ravel(),99)\n",
    "    im[im>thresh]=thresh\n",
    "    coeffs = pywt.wavedec2(im,wavelet)\n",
    "    for i in range(0,len(coeffs)+1):\n",
    "        if i in keep_list:\n",
    "            continue\n",
    "        coeffs[-i] = tuple([np.zeros_like(v) for v in coeffs[-i]])\n",
    "    Result = pywt.waverec2(coeffs,wavelet)\n",
    "    thresh = np.percentile(Result.ravel(),99.9)\n",
    "    Result[Result>thresh]=thresh\n",
    "    Result[im<2**8.5]=np.nan\n",
    "    if (x>-2500)&(x<-500)&(y>800)&(y<2000):\n",
    "        im_bin = im>500\n",
    "    else:\n",
    "        im_bin = im>2000\n",
    "    im_bin = ndimage.binary_dilation(im_bin,iterations=5)\n",
    "    im_bin = morphology.remove_small_holes(im_bin, 2000)\n",
    "    im_bin = morphology.remove_small_objects(im_bin, 10000)\n",
    "    im_bin = morphology.erosion(im_bin)\n",
    "    Result[im_bin==False]=np.nan\n",
    "    Result = Result-np.nanpercentile(Result.ravel(),1)\n",
    "    Result = Result/np.nanpercentile(Result.ravel(),99)\n",
    "    img_dict[pos]=Result\n",
    "\n",
    "temp_mask = []\n",
    "poses = img_dict.keys()\n",
    "for pos in spotcalls.posname:\n",
    "    if pos in poses:\n",
    "        temp_mask.append(True)\n",
    "    else:\n",
    "        temp_mask.append(False)\n",
    "temp_df = spotcalls[(spotcalls.ave>1000)&temp_mask]\n"
   ]
  },
  {
   "cell_type": "code",
   "execution_count": null,
   "metadata": {},
   "outputs": [],
   "source": [
    "norm = mpl.colors.Normalize(vmin=0,vmax=1)\n",
    "BIGGER_SIZE = 12\n",
    "plt.rc('font', size=BIGGER_SIZE, family='Arial') # controls default text sizes\n",
    "plt.rc('axes', titlesize=BIGGER_SIZE)     # fontsize of the axes title\n",
    "plt.rc('axes', labelsize=BIGGER_SIZE)    # fontsize of the x and y labels\n",
    "plt.rc('xtick', labelsize=BIGGER_SIZE)    # fontsize of the tick labels\n",
    "plt.rc('ytick', labelsize=BIGGER_SIZE)    # fontsize of the tick labels\n",
    "plt.rc('legend', fontsize=BIGGER_SIZE)    # legend fontsize\n",
    "plt.rc('figure', titlesize=BIGGER_SIZE)  # fontsize of the figure title\n",
    "\n",
    "temp_df = spotcalls[(spotcalls.ave>1000)&temp_mask]\n",
    "for gene in temp_df.gene.unique():\n",
    "    X = []\n",
    "    Y = []\n",
    "    temp = temp_df[(temp_df.gene==gene)]\n",
    "    if len(temp)<100:\n",
    "        continue\n",
    "    fig = plt.figure(figsize=(4,1))\n",
    "    ax = fig.add_subplot(111)\n",
    "    for pos in img_dict.keys():\n",
    "        x = img_x_dict[pos]\n",
    "        X.append(x)\n",
    "        y = img_y_dict[pos]\n",
    "        Y.append(Y)\n",
    "        bb = Bbox.from_bounds(x,y,scale,scale)\n",
    "        bb2 = TransformedBbox(bb,ax.transData)\n",
    "        bbox_image = BboxImage(bb2,\n",
    "                            norm = norm,\n",
    "                            origin=None,\n",
    "                            clip_on=False,\n",
    "                            cmap='Greys')\n",
    "        bbox_image.set_data(img_dict[pos])\n",
    "        ax.add_artist(bbox_image) \n",
    "    \n",
    "    x = temp.CoordX+x_offset\n",
    "    y = temp.CoordY+y_offset\n",
    "    z = temp.z\n",
    "    plt.scatter(x,y,c=z,s=1)\n",
    "    plt.xlim([np.min(X),np.max(X)+scale])\n",
    "    plt.ylim([np.min(Y),np.max(Y)+scale])\n",
    "    plt.title(gene)\n",
    "    plt.show()"
   ]
  },
  {
   "cell_type": "code",
   "execution_count": null,
   "metadata": {},
   "outputs": [],
   "source": [
    "pickle.dump(wounded_dist_hist,open(os.path.join(md_path,'results','wounded_dist_hist'),'wb'))\n",
    "pickle.dump(unwounded_dist_hist,open(os.path.join(md_path,'results','unwounded_dist_hist'),'wb'))"
   ]
  },
  {
   "cell_type": "code",
   "execution_count": null,
   "metadata": {},
   "outputs": [],
   "source": [
    "wounded_dist_hist = pickle.load(open(os.path.join(md_path,'results','wounded_dist_hist'),'rb'))\n",
    "unwounded_dist_hist = pickle.load(open(os.path.join(md_path,'results','unwounded_dist_hist'),'rb'))"
   ]
  },
  {
   "cell_type": "code",
   "execution_count": null,
   "metadata": {},
   "outputs": [],
   "source": [
    "import pandas as pd\n",
    "log_fold_change = np.zeros((len(spotcalls.gene.unique()),nbins))\n",
    "unwounded = np.zeros((len(spotcalls.gene.unique()),nbins))\n",
    "wounded = np.zeros((len(spotcalls.gene.unique()),nbins))\n",
    "for i,gene in enumerate(wounded_dist_hist.keys()):\n",
    "    wounded_gene = wounded_dist_hist[gene]+.00001\n",
    "    unwounded_gene = unwounded_dist_hist[gene]+.00001\n",
    "    log = np.log2(wounded_gene/unwounded_gene)\n",
    "    unwounded[i,:] = np.log2(unwounded_gene)\n",
    "    wounded[i,:] = np.log2(wounded_gene)\n",
    "    log_fold_change[i,:] = log\n",
    "\n",
    "log_fold_change_df = pd.DataFrame(data=log_fold_change,columns=bins,index=wounded_dist_hist.keys())\n",
    "wounded_df = pd.DataFrame(data=wounded,columns=bins,index=wounded_dist_hist.keys())\n",
    "unwounded_df = pd.DataFrame(data=unwounded,columns=bins,index=wounded_dist_hist.keys())"
   ]
  },
  {
   "cell_type": "code",
   "execution_count": null,
   "metadata": {},
   "outputs": [],
   "source": []
  },
  {
   "cell_type": "code",
   "execution_count": null,
   "metadata": {},
   "outputs": [],
   "source": [
    "import seaborn as sns\n",
    "sns.clustermap(log_fold_change_df,col_cluster=False,cmap='bwr',center=0)"
   ]
  },
  {
   "cell_type": "code",
   "execution_count": null,
   "metadata": {},
   "outputs": [],
   "source": [
    "import seaborn as sns\n",
    "sns.clustermap(log_fold_change_df,col_cluster=False,cmap='bwr',center=0)"
   ]
  },
  {
   "cell_type": "code",
   "execution_count": null,
   "metadata": {},
   "outputs": [],
   "source": [
    "import seaborn as sns\n",
    "sns.clustermap(log_fold_change_df,col_cluster=False,cmap='bwr',center=0,z_score=True)"
   ]
  },
  {
   "cell_type": "code",
   "execution_count": null,
   "metadata": {},
   "outputs": [],
   "source": [
    "import seaborn as sns\n",
    "sns.clustermap(wounded_df,col_cluster=False,cmap='bwr',z_score=True,center=0)"
   ]
  },
  {
   "cell_type": "code",
   "execution_count": null,
   "metadata": {},
   "outputs": [],
   "source": [
    "import seaborn as sns\n",
    "sns.clustermap(unwounded_df,col_cluster=False,cmap='bwr',z_score=True,center=0)"
   ]
  },
  {
   "cell_type": "code",
   "execution_count": null,
   "metadata": {},
   "outputs": [],
   "source": [
    "import pickle\n",
    "import os\n",
    "from fish_results import HybeData\n",
    "import pandas as pd\n",
    "md_path = '/hybedata/Images/Zach/ExVivo/Predigest_WholeMount_Third_2019Mar22/'\n",
    "cstk_path = os.path.join(md_path,'codestacks')\n",
    "subset = pickle.load(open(os.path.join(cstk_path,'subset.pkl'),'rb'))\n",
    "#hybedatas = [HybeData(os.path.join(cstk_path, i)) for i in subset]\n",
    "spotcalls = []\n",
    "poses = [i for i in os.listdir(cstk_path) if os.path.isdir(os.path.join(cstk_path, i))]\n",
    "for pos in poses:\n",
    "    hdata = HybeData(os.path.join(cstk_path, pos))\n",
    "    if len(hdata.metadata) == 0:\n",
    "        print(pos)\n",
    "        hdata.regenerate_metadata()\n",
    "    hdata = HybeData(os.path.join(cstk_path, pos))\n",
    "    if len(hdata.metadata) == 0:\n",
    "        print(pos)\n",
    "        self = hdata\n",
    "        self.metadata = pandas.DataFrame(columns=['posname', 'zindex', 'dtype', 'filename'])\n",
    "        dtypes = ['nf','cstk','cimg','mask','beads','tforms','spotcalls']\n",
    "        for relative_fname in os.listdir(self.base_path):\n",
    "            try:\n",
    "                dtype = relative_fname.split('_')[0]\n",
    "                zindex = relative_fname.split('_')[-1].split('.')[0]\n",
    "                posname = relative_fname.split(dtype+'_')[1].split('_z')[0]\n",
    "                if dtype in dtypes:\n",
    "                    self.metadata = self.metadata.append({'posname': posname, 'zindex': str(zindex),\n",
    "                                                          'dtype': dtype, 'filename': relative_fname},\n",
    "                                                         ignore_index=True)\n",
    "            except:\n",
    "                print(relative_fname)\n",
    "                continue\n",
    "        self.metadata = self.metadata.drop_duplicates()\n",
    "        self.metadata.to_csv(os.path.join(self.base_path, self.file_name),index=False)"
   ]
  },
  {
   "cell_type": "code",
   "execution_count": null,
   "metadata": {},
   "outputs": [],
   "source": [
    "import pickle\n",
    "import os\n",
    "cstk_path = os.path.join(md_path,'codestacks')\n",
    "spotcalls = pickle.load(open(os.path.join(cstk_path,'spotcalls.pkl'),'rb'))"
   ]
  },
  {
   "cell_type": "code",
   "execution_count": null,
   "metadata": {},
   "outputs": [],
   "source": [
    "from analysis_scripts.iterative_classify_codestacks_and_parse import *\n",
    "poses = [i for i in os.listdir(cstk_path) if os.path.isdir(os.path.join(cstk_path, i))]\n",
    "finished_pos = find_subset(cstk_path,400,18)\n",
    "print(len(finished_pos))"
   ]
  },
  {
   "cell_type": "code",
   "execution_count": null,
   "metadata": {},
   "outputs": [],
   "source": [
    "%matplotlib inline\n",
    "import matplotlib.pyplot as plt\n",
    "import pandas as pd\n",
    "import numpy as np\n",
    "from collections import defaultdict, Counter\n",
    "from scipy.stats import spearmanr\n",
    "import os\n",
    "ReadsPerGene = pd.read_excel('/bigstore/GeneralStorage/Zach/Cornea_RNAseq/Aligned/ReadsPerGene.xlsx')\n",
    "GeneList = pd.read_excel('/bigstore/GeneralStorage/Zach/MERFISH/Inflammatory/InflammationGeneList.xlsx')\n",
    "vals = []\n",
    "FISH_Spots = Counter(spotcalls.gene)\n",
    "for gn,cc in FISH_Spots.items():\n",
    "    if 'blank' in gn:\n",
    "        continue\n",
    "    else:\n",
    "        gid = GeneList.Gene_ID[GeneList.Gene==gn].tolist()[0]\n",
    "        counts = ReadsPerGene[ReadsPerGene.GeneIDs==gid].Unstranded.values\n",
    "        fpkm = counts/GeneList.Length[GeneList.Gene==gn].tolist()[0]\n",
    "        if len(fpkm)>0:\n",
    "            if cc<2:\n",
    "                continue\n",
    "            vals.append((fpkm[0],cc))\n",
    "fpkms,ccs = zip(*vals)\n",
    "from scipy.stats import spearmanr\n",
    "plt.scatter(np.log2(fpkms),np.log2(ccs))\n",
    "print(spearmanr(fpkms,ccs))"
   ]
  },
  {
   "cell_type": "code",
   "execution_count": null,
   "metadata": {},
   "outputs": [],
   "source": [
    "import pandas as pd\n",
    "log_fold_change = np.zeros((len(spotcalls.gene.unique()),nbins))\n",
    "unwounded = np.zeros((len(spotcalls.gene.unique()),nbins))\n",
    "wounded = np.zeros((len(spotcalls.gene.unique()),nbins))\n",
    "for i,gene in enumerate(wounded_dist_hist.keys()):\n",
    "    wounded_gene = wounded_dist_hist[gene]\n",
    "    unwounded_gene = unwounded_dist_hist[gene]\n",
    "    log = np.log2(wounded_gene/unwounded_gene)\n",
    "    unwounded[i,:] = unwounded_gene\n",
    "    wounded[i,:] = wounded_gene\n",
    "    log_fold_change[i,:] = log\n",
    "\n",
    "log_fold_change_df = pd.DataFrame(data=log_fold_change,columns=bins,index=wounded_dist_hist.keys())\n",
    "wounded_df = pd.DataFrame(data=wounded,columns=bins,index=wounded_dist_hist.keys())\n",
    "unwounded_df = pd.DataFrame(data=unwounded,columns=bins,index=wounded_dist_hist.keys())"
   ]
  },
  {
   "cell_type": "code",
   "execution_count": null,
   "metadata": {},
   "outputs": [],
   "source": [
    "plt.figure(figsize=(12,6),dpi=120)\n",
    "for i in range(len(wounded_df)):\n",
    "    rsd = np.std(np.array(wounded_df.iloc[i]))/np.std(np.array(wounded_df.iloc[i]))\n",
    "    if >1.2:\n",
    "        plt.plot(bins,np.array(wounded_df.iloc[i]),label=wounded_df.index[i])\n",
    "plt.rc('font', size=15) \n",
    "plt.rc('axes', titlesize=15)\n",
    "plt.title('Gene Expression Patterns')\n",
    "plt.legend(loc='right',bbox_to_anchor=(1.2,0.5))\n",
    "plt.xlabel('Distance From Center of Wound (um)')\n",
    "plt.ylabel('Log2 Fold Change in Expression')\n",
    "\n",
    "plt.show()"
   ]
  },
  {
   "cell_type": "code",
   "execution_count": null,
   "metadata": {},
   "outputs": [],
   "source": [
    "import pandas as pd\n",
    "log_fold_change = np.zeros((len(spotcalls.gene.unique()),nbins))\n",
    "unwounded = np.zeros((len(spotcalls.gene.unique()),nbins))\n",
    "wounded = np.zeros((len(spotcalls.gene.unique()),nbins))\n",
    "for i,gene in enumerate(wounded_dist_hist.keys()):\n",
    "    wounded_gene = wounded_dist_hist[gene]\n",
    "    unwounded_gene = unwounded_dist_hist[gene]\n",
    "    log = np.log2(wounded_gene/unwounded_gene)\n",
    "    unwounded[i,:] = unwounded_gene\n",
    "    wounded[i,:] = wounded_gene\n",
    "    log_fold_change[i,:] = log\n",
    "\n",
    "log_fold_change_df = pd.DataFrame(data=log_fold_change,columns=bins,index=wounded_dist_hist.keys())\n",
    "wounded_df = pd.DataFrame(data=wounded,columns=bins,index=wounded_dist_hist.keys())\n",
    "unwounded_df = pd.DataFrame(data=unwounded,columns=bins,index=wounded_dist_hist.keys())\n",
    "plt.figure(figsize=(12,6),dpi=120)\n",
    "for i in range(len(wounded_df)):\n",
    "    rsd = np.std(np.array(wounded_df.iloc[i]))/np.mean(np.array(wounded_df.iloc[i]))\n",
    "    if rsd>1.4:\n",
    "        plt.plot(bins,np.log2(np.array(wounded_df.iloc[i])),label=wounded_df.index[i])\n",
    "plt.rc('font', size=15) \n",
    "plt.rc('axes', titlesize=15)\n",
    "plt.title('Gene Expression Patterns')\n",
    "plt.legend(loc='right',bbox_to_anchor=(1.2,0.5))\n",
    "plt.xlabel('Distance From Center of Wound (um)')\n",
    "plt.ylabel(' Expression')\n",
    "\n",
    "plt.show()"
   ]
  },
  {
   "cell_type": "code",
   "execution_count": null,
   "metadata": {},
   "outputs": [],
   "source": [
    "plt.figure(figsize=(12,6),dpi=120)\n",
    "for i in range(len(wounded_df)):\n",
    "    std = np.std(np.array(wounded_df.iloc[i]))\n",
    "    rsd = std/np.mean(np.array(wounded_df.iloc[i]))\n",
    "    if rsd>1:\n",
    "        plt.plot(bins,np.array(wounded_df.iloc[i])/std,label=wounded_df.index[i])\n",
    "plt.rc('font', size=15) \n",
    "plt.rc('axes', titlesize=15)\n",
    "plt.title('Gene Expression Patterns')\n",
    "plt.legend(loc='right',bbox_to_anchor=(1.2,0.5))\n",
    "plt.xlabel('Distance From Center of Wound (um)')\n",
    "plt.ylabel(' Z score')\n",
    "\n",
    "plt.show()"
   ]
  },
  {
   "cell_type": "code",
   "execution_count": null,
   "metadata": {},
   "outputs": [],
   "source": [
    "A"
   ]
  },
  {
   "cell_type": "code",
   "execution_count": null,
   "metadata": {},
   "outputs": [],
   "source": [
    "from scipy.interpolate import interp1d\n",
    "import numpy as np\n",
    "nbins = 30\n",
    "rmin = 150\n",
    "rmax = 1600\n",
    "bins_min = np.linspace(rmin,rmax,nbins)\n",
    "A = np.array(wounded_df.iloc[2])\n",
    "f = interp1d(bins,A)\n",
    "plt.plot(bins,A)\n",
    "plt.plot(bins_min,f(bins_min))\n",
    "plt.show()"
   ]
  },
  {
   "cell_type": "code",
   "execution_count": null,
   "metadata": {},
   "outputs": [],
   "source": [
    "from scipy.interpolate import interp1d\n",
    "import numpy as np\n",
    "nbins = 30\n",
    "rmin = 150\n",
    "rmax = 1600\n",
    "bins_min = np.linspace(rmin,rmax,nbins)\n",
    "plt.figure(figsize=(12,6),dpi=120)\n",
    "for i in range(len(wounded_df)):\n",
    "    A = np.array(wounded_df.iloc[i])\n",
    "    if np.mean(A)>0.03:\n",
    "        f = interp1d(bins,A)\n",
    "        X = f(bins_min)\n",
    "        rsd =np.std(X)/np.mean(X)\n",
    "        if rsd>1:\n",
    "            plt.plot(bins_min,np.log2(X),label=wounded_df.index[i])\n",
    "plt.rc('font', size=15) \n",
    "plt.rc('axes', titlesize=15)\n",
    "plt.title('Gene Expression Patterns')\n",
    "plt.legend(loc='right',bbox_to_anchor=(1.2,0.5))\n",
    "plt.xlabel('Distance From Center of Wound (um)')\n",
    "plt.ylabel(' Log2 Expression')\n",
    "plt.show()"
   ]
  },
  {
   "cell_type": "code",
   "execution_count": null,
   "metadata": {},
   "outputs": [],
   "source": [
    "from scipy.interpolate import interp1d\n",
    "import numpy as np\n",
    "nbins = 30\n",
    "rmin = 150\n",
    "rmax = 1600\n",
    "bins_min = np.linspace(rmin,rmax,nbins)\n",
    "plt.figure(figsize=(12,6),dpi=120)\n",
    "for i in range(len(wounded_df)):\n",
    "    A = np.array(wounded_df.iloc[i])\n",
    "    if np.mean(A)>0.03:\n",
    "        rsd =np.std(A)/np.mean(A)\n",
    "        if rsd>1:\n",
    "            plt.plot(bins,np.log2(A),label=wounded_df.index[i])\n",
    "plt.rc('font', size=15) \n",
    "plt.rc('axes', titlesize=15)\n",
    "plt.title('Gene Expression Patterns')\n",
    "plt.legend(loc='right',bbox_to_anchor=(1.2,0.5))\n",
    "plt.xlabel('Distance From Center of Wound (um)')\n",
    "plt.ylabel(' Log2 Expression')\n",
    "plt.show()"
   ]
  },
  {
   "cell_type": "code",
   "execution_count": null,
   "metadata": {},
   "outputs": [],
   "source": [
    "np.percentile(wounded,50)"
   ]
  },
  {
   "cell_type": "code",
   "execution_count": null,
   "metadata": {},
   "outputs": [],
   "source": [
    "import matplotlib.pyplot as plt\n",
    "% matplotlib inline\n",
    "temp = spotcalls\n",
    "x = temp.CoordX+2049*0.109\n",
    "y = temp.CoordY\n",
    "z = temp.z\n",
    "plt.scatter(x,y,c=z,s=1,alpha=0.1)\n",
    "plt.show()"
   ]
  },
  {
   "cell_type": "code",
   "execution_count": null,
   "metadata": {},
   "outputs": [],
   "source": [
    "print(len(spotcalls[spotcalls.CoordX>1000]))\n",
    "print(len(spotcalls[spotcalls.CoordX<1000]))"
   ]
  },
  {
   "cell_type": "code",
   "execution_count": null,
   "metadata": {},
   "outputs": [],
   "source": [
    "print(np.mean(spotcalls[spotcalls.CoordX>1000].z))\n",
    "print(np.mean(spotcalls[spotcalls.CoordX<1000].z))"
   ]
  },
  {
   "cell_type": "code",
   "execution_count": null,
   "metadata": {},
   "outputs": [],
   "source": [
    "rsd"
   ]
  },
  {
   "cell_type": "code",
   "execution_count": null,
   "metadata": {},
   "outputs": [],
   "source": [
    "from scipy.interpolate import interp1d\n",
    "import numpy as np\n",
    "nbins = 30\n",
    "rmin = 150\n",
    "rmax = 1600\n",
    "bins_min = np.linspace(rmin,rmax,nbins)\n",
    "plt.figure(figsize=(12,6),dpi=120)\n",
    "for i in range(len(log_fold_change)):\n",
    "    A = np.array(wounded_df.iloc[i])\n",
    "    B = np.array(log_fold_change_df.iloc[i])\n",
    "    if np.mean(A)>0.03:\n",
    "        rsd =np.std(A)/np.mean(A)\n",
    "        if rsd>1:\n",
    "            plt.plot(bins,B,label=wounded_df.index[i])\n",
    "plt.rc('font', size=15) \n",
    "plt.rc('axes', titlesize=15)\n",
    "plt.title('Gene Expression Patterns')\n",
    "plt.legend(loc='right',bbox_to_anchor=(1.2,0.5))\n",
    "plt.xlabel('Distance From Center of Wound (um)')\n",
    "plt.ylabel(' Log2 Expression')\n",
    "plt.show()"
   ]
  },
  {
   "cell_type": "code",
   "execution_count": null,
   "metadata": {},
   "outputs": [],
   "source": [
    "from scipy.interpolate import interp1d\n",
    "import numpy as np\n",
    "nbins = 30\n",
    "rmin = 150\n",
    "rmax = 1600\n",
    "bins_min = np.linspace(rmin,rmax,nbins)\n",
    "plt.figure(figsize=(12,6),dpi=120)\n",
    "for i in range(len(log_fold_change)):\n",
    "    A = np.array(wounded_df.iloc[i])\n",
    "    B = np.array(log_fold_change_df.iloc[i])\n",
    "    if np.mean(A)>0.03:\n",
    "        f = interp1d(bins,B)\n",
    "        X = f(bins_min)\n",
    "        rsd =np.std(X)/np.mean(X)\n",
    "        if rsd>0.3:\n",
    "            plt.plot(bins_min,X,label=wounded_df.index[i])\n",
    "plt.rc('font', size=15) \n",
    "plt.rc('axes', titlesize=15)\n",
    "plt.title('Gene Expression Patterns')\n",
    "plt.legend(loc='right',bbox_to_anchor=(1.2,0.5))\n",
    "plt.xlabel('Distance From Center of Wound (um)')\n",
    "plt.ylabel(' Log2 Fold Expression')\n",
    "plt.show()"
   ]
  },
  {
   "cell_type": "code",
   "execution_count": null,
   "metadata": {},
   "outputs": [],
   "source": [
    "wounded_downsampled = np.zeros((wounded.shape[0],30))\n",
    "for i in range(wounded.shape[0]):\n",
    "    f = interp1d(bins,B)\n",
    "    wounded_downsampled[i,:] = f(bins_min)"
   ]
  },
  {
   "cell_type": "code",
   "execution_count": null,
   "metadata": {},
   "outputs": [],
   "source": [
    "wounded_df_downsample = pd.DataFrame(data=wounded_downsampled,columns=bins_min,index=wounded_dist_hist.keys())"
   ]
  },
  {
   "cell_type": "code",
   "execution_count": null,
   "metadata": {},
   "outputs": [],
   "source": [
    "import pandas as pd\n",
    "nbins=30\n",
    "log_fold_change = np.zeros((len(spotcalls.gene.unique()),nbins))\n",
    "unwounded = np.zeros((len(spotcalls.gene.unique()),nbins))\n",
    "wounded = np.zeros((len(spotcalls.gene.unique()),nbins))\n",
    "for i,gene in enumerate(wounded_dist_hist.keys()):\n",
    "    wounded_gene = wounded_dist_hist[gene]\n",
    "    f = interp1d(bins,wounded_gene)\n",
    "    wounded_gene = f(bins_min)\n",
    "    unwounded_gene = unwounded_dist_hist[gene]\n",
    "    f = interp1d(bins,unwounded_gene)\n",
    "    unwounded_gene = f(bins_min)\n",
    "    log = np.log2(wounded_gene/unwounded_gene)\n",
    "    unwounded[i,:] = np.log2(unwounded_gene)\n",
    "    wounded[i,:] = np.log2(wounded_gene)\n",
    "    log_fold_change[i,:] = log\n",
    "\n",
    "log_fold_change_df = pd.DataFrame(data=log_fold_change,columns=bins_min,index=wounded_dist_hist.keys())\n",
    "wounded_df = pd.DataFrame(data=wounded,columns=bins_min,index=wounded_dist_hist.keys())\n",
    "unwounded_df = pd.DataFrame(data=unwounded,columns=bins_min,index=wounded_dist_hist.keys())"
   ]
  },
  {
   "cell_type": "code",
   "execution_count": null,
   "metadata": {},
   "outputs": [],
   "source": [
    "row"
   ]
  },
  {
   "cell_type": "code",
   "execution_count": null,
   "metadata": {},
   "outputs": [],
   "source": [
    "df = log_fold_change_df\n",
    "df = df[~df.isin([np.nan, np.inf, -np.inf]).any(1)]\n",
    "df = df.drop(columns=bins_min[-1])"
   ]
  },
  {
   "cell_type": "code",
   "execution_count": null,
   "metadata": {},
   "outputs": [],
   "source": [
    "import seaborn as sns\n",
    "sns.clustermap(df,col_cluster=False,cmap='bwr',center=0)"
   ]
  },
  {
   "cell_type": "code",
   "execution_count": null,
   "metadata": {},
   "outputs": [],
   "source": [
    "edge_pos=[]\n",
    "x_min=-2000\n",
    "x_max=-1000\n",
    "y_min=1250\n",
    "y_max=1750\n",
    "\n",
    "for pos in md.image_table.Position.unique():\n",
    "    x,y = md.image_table[md.image_table.Position==pos].XY.iloc[0]\n",
    "    if (x>x_min)&(x<x_max)&(y>y_min)&(y<y_max):\n",
    "        edge_pos.append(pos)\n",
    "        print(pos, x,y)"
   ]
  },
  {
   "cell_type": "code",
   "execution_count": null,
   "metadata": {},
   "outputs": [],
   "source": [
    "temp_df.columns"
   ]
  },
  {
   "cell_type": "code",
   "execution_count": null,
   "metadata": {},
   "outputs": [],
   "source": [
    "import plotly \n",
    "import plotly.graph_objs as go\n",
    "rgb_colors = []\n",
    "rgb_convert = []\n",
    "for i in range(171):\n",
    "    rgb_convert.append(\"rgb({0},{1},{2})\".format(np.random.randint(0,255), np.random.randint(0,255), np.random.randint(0,255)))\n",
    "\n",
    "    pos = 'Pos77'\n",
    "gene = 'Tnfrsf21'\n",
    "temp_df = spotcalls[(spotcalls.posname=='Pos77')|(spotcalls.posname=='Pos92')|(spotcalls.posname=='Pos62')]\n",
    "temp_df = temp_df[temp_df.gene==gene]\n",
    "plotly.offline.init_notebook_mode(connected=True)\n",
    "X = temp_df.CoordX\n",
    "Y = temp_df.CoordY\n",
    "Z = temp_df.z\n",
    "C = rgb_convert[temp_df.cword_idx]\n",
    "\n",
    "\n",
    "plotly.offline.iplot({\n",
    "    \"data\": [go.Scatter3d(x=X, y=Y, z=Z, mode='markers', marker=dict(size=2, opacity=0.5))]\n",
    "})\n",
    "#url=plotly.offline.iplot(fig, filename='your_filename')"
   ]
  },
  {
   "cell_type": "code",
   "execution_count": null,
   "metadata": {},
   "outputs": [],
   "source": [
    "import plotly \n",
    "import plotly.graph_objs as go\n",
    "\n",
    "gene = 'Nfkb1'\n",
    "temp_df = spotcalls[(spotcalls.posname=='Pos77')|(spotcalls.posname=='Pos92')|(spotcalls.posname=='Pos62')]\n",
    "temp_df = temp_df[temp_df.gene==gene]\n",
    "plotly.offline.init_notebook_mode(connected=True)\n",
    "X = temp_df.CoordX\n",
    "Y = temp_df.CoordY\n",
    "Z = temp_df.z\n",
    "\n",
    "\n",
    "plotly.offline.iplot({\n",
    "    \"data\": [go.Scatter3d(x=X, y=Y, z=Z, mode='markers', marker=dict(size=2, opacity=0.5))]\n",
    "})\n",
    "#url=plotly.offline.iplot(fig, filename='your_filename')"
   ]
  },
  {
   "cell_type": "code",
   "execution_count": null,
   "metadata": {},
   "outputs": [],
   "source": [
    "import plotly \n",
    "import plotly.graph_objs as go\n",
    "rgb_colors = []\n",
    "rgb_convert = []\n",
    "pos = 'Pos77'\n",
    "gene = 'Tnfrsf21'\n",
    "temp_df = spotcalls[(spotcalls.CoordX>-2500)&(spotcalls.CoordX<-1750)&(spotcalls.CoordY>1000)&(spotcalls.CoordY<2000)&(spotcalls.gene==gene)]\n",
    "plotly.offline.init_notebook_mode(connected=True)\n",
    "X = temp_df.CoordX\n",
    "Y = temp_df.CoordY\n",
    "Z = temp_df.z\n",
    "\n",
    "plotly.offline.iplot({\n",
    "    \"data\": [go.Scatter3d(x=X, y=Y, z=Z, mode='markers', marker=dict(size=2, opacity=0.1))]\n",
    "})\n",
    "#url=plotly.offline.iplot(fig, filename='your_filename')"
   ]
  },
  {
   "cell_type": "code",
   "execution_count": null,
   "metadata": {},
   "outputs": [],
   "source": [
    "import plotly \n",
    "import plotly.graph_objs as go\n",
    "rgb_colors = []\n",
    "rgb_convert = []\n",
    "pos = 'Pos77'\n",
    "gene = 'Tnfrsf21'\n",
    "temp_df = spotcalls[(spotcalls.CoordX<1000)&(spotcalls.gene==gene)&(spotcalls.ave>1000)]\n",
    "plotly.offline.init_notebook_mode(connected=True)\n",
    "X = temp_df.CoordX\n",
    "Y = temp_df.CoordY\n",
    "Z = temp_df.ave\n",
    "\n",
    "plotly.offline.iplot({\n",
    "    \"data\": [go.Scatter3d(x=X, y=Y, z=Z, mode='markers', marker=dict(size=2, opacity=0.1))]\n",
    "})\n",
    "#url=plotly.offline.iplot(fig, filename='your_filename')"
   ]
  },
  {
   "cell_type": "code",
   "execution_count": null,
   "metadata": {},
   "outputs": [],
   "source": [
    "np.stack(temp_df.centroid)[:,0]"
   ]
  },
  {
   "cell_type": "code",
   "execution_count": null,
   "metadata": {},
   "outputs": [],
   "source": [
    "pos = 'Pos62'\n",
    "% matplotlib notebook\n",
    "import numpy as np\n",
    "import matplotlib.pyplot as plt\n",
    "im = md.stkread(Position=pos,Channel='DeepBlue',acq='nuc_highWellCapacity_6',Zindex=40)[:,:,0]\n",
    "plt.imshow(im,cmap='Greys')\n",
    "temp_df = spotcalls[spotcalls.posname==pos]\n",
    "plt.scatter(np.stack(temp_df.centroid)[:,1],np.stack(temp_df.centroid)[:,0],c=temp_df.cword_idx,s=10,alpha=0.1)\n",
    "plt.show()"
   ]
  },
  {
   "cell_type": "code",
   "execution_count": null,
   "metadata": {},
   "outputs": [],
   "source": [
    "% matplotlib notebook\n",
    "from sklearn.preprocessing import normalize\n",
    "im = md.stkread(Position=pos,Channel='DeepBlue',acq='nuc_highWellCapacity_6',Zindex=10)[:,:,0]\n",
    "thresh = np.percentile(im.ravel(),99.5)\n",
    "im[im>thresh]=thresh\n",
    "plt.imshow(im,cmap='Greys')\n",
    "temp_df = spotcalls[(spotcalls.posname==pos)&(spotcalls.ave>1000)]\n",
    "plt.scatter(np.stack(temp_df.centroid)[:,1],np.stack(temp_df.centroid)[:,0],c=temp_df.cword_idx,s=5)\n",
    "plt.show()"
   ]
  },
  {
   "cell_type": "code",
   "execution_count": null,
   "metadata": {},
   "outputs": [],
   "source": [
    "%matplotlib inline\n",
    "from matplotlib import pyplot as plt\n",
    "import matplotlib as mpl\n",
    "from skimage.transform import resize\n",
    "from matplotlib.image import BboxImage\n",
    "from matplotlib.transforms import Bbox, TransformedBbox\n",
    "from sklearn.preprocessing import normalize\n",
    "from scipy import ndimage\n",
    "from skimage import morphology,filters\n",
    "import pywt\n",
    "import numpy as np\n",
    "norm = mpl.colors.Normalize(vmin=0,vmax=1)\n",
    "fig = plt.figure(figsize=(3,3),dpi=4000)\n",
    "ax = fig.add_subplot(111)\n",
    "artists = []\n",
    "wavelet = 'db10'\n",
    "keep_list=[4,5,6]\n",
    "scale = int(2048*0.109)\n",
    "BIGGER_SIZE = 12\n",
    "plt.rc('font', size=BIGGER_SIZE, family='Arial')          # controls default text sizes\n",
    "plt.rc('axes', titlesize=BIGGER_SIZE)     # fontsize of the axes title\n",
    "plt.rc('axes', labelsize=BIGGER_SIZE)    # fontsize of the x and y labels\n",
    "plt.rc('xtick', labelsize=BIGGER_SIZE)    # fontsize of the tick labels\n",
    "plt.rc('ytick', labelsize=BIGGER_SIZE)    # fontsize of the tick labels\n",
    "plt.rc('legend', fontsize=BIGGER_SIZE)    # legend fontsize\n",
    "plt.rc('figure', titlesize=BIGGER_SIZE)  # fontsize of the figure title\n",
    "\n",
    "for pos in md.image_table.Position.unique():\n",
    "    if 'Pos' in pos:\n",
    "        x,y = md.image_table[md.image_table.Position==pos].XY.iloc[0]\n",
    "        if (x<-100)&(y<2750):\n",
    "            im = np.flipud(md.stkread(Position=pos,Channel='DeepBlue',acq='nuc_highWellCapacity_6',Zindex=10)[:,:,0])\n",
    "            thresh = np.percentile(im.ravel(),99)\n",
    "            im[im>thresh]=thresh\n",
    "            coeffs = pywt.wavedec2(im,wavelet)\n",
    "            for i in range(0,len(coeffs)+1):\n",
    "                if i in keep_list:\n",
    "                    continue\n",
    "                coeffs[-i] = tuple([np.zeros_like(v) for v in coeffs[-i]])\n",
    "            Result = pywt.waverec2(coeffs,wavelet)\n",
    "            thresh = np.percentile(Result.ravel(),99.9)\n",
    "            Result[Result>thresh]=thresh\n",
    "            Result[im<2**8.5]=np.nan\n",
    "            if (x>-2500)&(x<-500)&(y>800)&(y<2000):\n",
    "                im_bin = im>500\n",
    "            else:\n",
    "                im_bin = im>2000\n",
    "            im_bin = ndimage.binary_dilation(im_bin,iterations=5)\n",
    "            im_bin = morphology.remove_small_holes(im_bin, 2000)\n",
    "            im_bin = morphology.remove_small_objects(im_bin, 10000)\n",
    "            im_bin = morphology.erosion(im_bin)\n",
    "            Result[im_bin==False]=np.nan\n",
    "            Result = Result-np.nanpercentile(Result.ravel(),1)\n",
    "            Result = Result/np.nanpercentile(Result.ravel(),99)\n",
    "            bb = Bbox.from_bounds(x,y,scale,scale)\n",
    "            bb2 = TransformedBbox(bb,ax.transData)\n",
    "            bbox_image = BboxImage(bb2,\n",
    "                                norm = norm,\n",
    "                                origin=None,\n",
    "                                clip_on=False,\n",
    "                                cmap='Greys')\n",
    "            bbox_image.set_data(Result)\n",
    "            ax.add_artist(bbox_image)\n",
    "ax.set_xlim(-3500,100)\n",
    "ax.set_ylim(0,3000)\n",
    "plt.xlabel('X Stage Coordinate (um)')\n",
    "plt.ylabel('Y Stage Coordinate (um)')\n",
    "plt.suptitle('Wounded Cornea')\n",
    "plt.show()\n",
    "fig.savefig('/home/zach/Desktop/Wounded_Cornea')"
   ]
  },
  {
   "cell_type": "code",
   "execution_count": null,
   "metadata": {},
   "outputs": [],
   "source": [
    "import matplotlib as mpl\n",
    "norm = mpl.colors.Normalize(vmin=0,vmax=1)\n",
    "SMALL_SIZE = 8\n",
    "MEDIUM_SIZE = 10\n",
    "BIGGER_SIZE = 12\n",
    "\n",
    "plt.rc('font', size=BIGGER_SIZE, family='Arial')          # controls default text sizes\n",
    "plt.rc('axes', titlesize=BIGGER_SIZE)     # fontsize of the axes title\n",
    "plt.rc('axes', labelsize=BIGGER_SIZE)    # fontsize of the x and y labels\n",
    "plt.rc('xtick', labelsize=BIGGER_SIZE)    # fontsize of the tick labels\n",
    "plt.rc('ytick', labelsize=BIGGER_SIZE)    # fontsize of the tick labels\n",
    "plt.rc('legend', fontsize=BIGGER_SIZE)    # legend fontsize\n",
    "plt.rc('figure', titlesize=BIGGER_SIZE)  # fontsize of the figure title\n",
    "plt.figure(figsize=(8,8))\n",
    "plt.imshow(Result,cmap='Greys',norm=norm)\n",
    "plt.xlabel('X Stage Coordinate (um)')\n",
    "plt.ylabel('Y Stage Coordinate (um)')\n",
    "plt.suptitle('Wounded Cornea')\n",
    "plt.show()"
   ]
  },
  {
   "cell_type": "code",
   "execution_count": null,
   "metadata": {},
   "outputs": [],
   "source": [
    "%matplotlib inline\n",
    "plt.figure(figsize=(8,8))\n",
    "plt.imshow(Result,cmap='Greys')"
   ]
  },
  {
   "cell_type": "code",
   "execution_count": null,
   "metadata": {},
   "outputs": [],
   "source": [
    "% matplotlib inline\n",
    "import pywt\n",
    "from sklearn.preprocessing import normalize\n",
    "wavelet = 'db10'\n",
    "keep_list=[4,5,6]\n",
    "pos ='Pos62'\n",
    "im = np.flipud(md.stkread(Position=pos,Channel='DeepBlue',acq='nuc_highWellCapacity_6',Zindex=10)[:,:,0])\n",
    "thresh = np.percentile(im.ravel(),99)\n",
    "im[im>thresh]=thresh\n",
    "coeffs = pywt.wavedec2(im,wavelet)\n",
    "for i in range(0,len(coeffs)+1):\n",
    "    if i in keep_list:\n",
    "        continue\n",
    "    coeffs[-i] = tuple([np.zeros_like(v) for v in coeffs[-i]])\n",
    "Result = pywt.waverec2(coeffs,wavelet)\n",
    "thresh = np.percentile(Result.ravel(),99.9)\n",
    "Result[Result>thresh]=thresh\n",
    "Result[im<2**8.5]=np.nan\n",
    "Result = Result-np.nanmin(Result)\n",
    "im_bin = im>700\n",
    "im_bin = ndimage.binary_dilation(im_bin,iterations=5)\n",
    "im_bin = morphology.remove_small_holes(im_bin, 2000)\n",
    "im_bin = morphology.remove_small_objects(im_bin, 10000)\n",
    "im_bin = morphology.erosion(im_bin)\n",
    "Result[im_bin==False]=np.nan\n",
    "Result = Result-np.nanpercentile(Result.ravel(),1)\n",
    "Result = Result/np.nanpercentile(Result.ravel(),99)\n",
    "plt.imshow(Result,cmap='Greys')\n",
    "plt.show()"
   ]
  },
  {
   "cell_type": "code",
   "execution_count": null,
   "metadata": {},
   "outputs": [],
   "source": [
    "% matplotlib inline\n",
    "import pywt\n",
    "from sklearn.preprocessing import normalize\n",
    "wavelet = 'db10'\n",
    "keep_list=[4,5,6]\n",
    "pos ='Pos7'\n",
    "im = np.flipud(md.stkread(Position=pos,Channel='DeepBlue',acq='nuc_highWellCapacity_6',Zindex=10)[:,:,0])\n",
    "thresh = np.percentile(im.ravel(),99)\n",
    "im[im>thresh]=thresh\n",
    "coeffs = pywt.wavedec2(im,wavelet)\n",
    "for i in range(0,len(coeffs)+1):\n",
    "    if i in keep_list:\n",
    "        continue\n",
    "    coeffs[-i] = tuple([np.zeros_like(v) for v in coeffs[-i]])\n",
    "Result = pywt.waverec2(coeffs,wavelet)\n",
    "thresh = np.percentile(Result.ravel(),99.9)\n",
    "Result[Result>thresh]=thresh\n",
    "Result[im<2**8.5]=np.nan\n",
    "Result = Result-np.nanmin(Result)\n",
    "im_bin = im>700\n",
    "im_bin = ndimage.binary_dilation(im_bin,iterations=5)\n",
    "im_bin = morphology.remove_small_holes(im_bin, 2000)\n",
    "im_bin = morphology.remove_small_objects(im_bin, 10000)\n",
    "im_bin = morphology.erosion(im_bin)\n",
    "Result[im_bin==False]=np.nan\n",
    "Result = Result-np.nanpercentile(Result.ravel(),1)\n",
    "Result = Result/np.nanpercentile(Result.ravel(),99)\n",
    "plt.imshow(Result,cmap='Greys')\n",
    "plt.show()"
   ]
  },
  {
   "cell_type": "code",
   "execution_count": null,
   "metadata": {},
   "outputs": [],
   "source": [
    "np.nanpercentile(Result.ravel(),1)"
   ]
  },
  {
   "cell_type": "code",
   "execution_count": null,
   "metadata": {},
   "outputs": [],
   "source": [
    "% matplotlib inline\n",
    "import pywt\n",
    "from sklearn.preprocessing import normalize\n",
    "wavelet = 'db10'\n",
    "keep_list=[4,5,6]\n",
    "pos ='Pos25'\n",
    "im = np.flipud(md.stkread(Position=pos,Channel='DeepBlue',acq='nuc_highWellCapacity_6',Zindex=10)[:,:,0])\n",
    "thresh = np.percentile(im.ravel(),99)\n",
    "im[im>thresh]=thresh\n",
    "coeffs = pywt.wavedec2(im,wavelet)\n",
    "for i in range(0,len(coeffs)+1):\n",
    "    if i in keep_list:\n",
    "        continue\n",
    "    coeffs[-i] = tuple([np.zeros_like(v) for v in coeffs[-i]])\n",
    "Result = pywt.waverec2(coeffs,wavelet)\n",
    "thresh = np.percentile(Result.ravel(),99.9)\n",
    "Result[Result>thresh]=thresh\n",
    "Result[im<2**8.5]=np.nan\n",
    "Result = Result-np.nanmin(Result)\n",
    "im_bin = im>2000\n",
    "im_bin = ndimage.binary_dilation(im_bin,iterations=5)\n",
    "im_bin = morphology.remove_small_holes(im_bin, 2000)\n",
    "im_bin = morphology.remove_small_objects(im_bin, 10000)\n",
    "im_bin = morphology.erosion(im_bin)\n",
    "Result[im_bin==False]=np.nan\n",
    "Result = Result/np.nanmean(Result)\n",
    "plt.imshow(Result,cmap='Greys')\n",
    "plt.show()"
   ]
  },
  {
   "cell_type": "code",
   "execution_count": null,
   "metadata": {},
   "outputs": [],
   "source": [
    "% matplotlib inline\n",
    "for pos in md.image_table.Position.unique():\n",
    "    im = np.flipud(md.stkread(Position=pos,Channel='DeepBlue',acq='nuc_highWellCapacity_6',Zindex=10)[:,:,0])\n",
    "    plt.imshow(im,cmap='Greys')\n",
    "    plt.title(pos)\n",
    "    plt.show()"
   ]
  },
  {
   "cell_type": "code",
   "execution_count": null,
   "metadata": {},
   "outputs": [],
   "source": [
    "plt.hist(img.ravel())"
   ]
  },
  {
   "cell_type": "code",
   "execution_count": null,
   "metadata": {},
   "outputs": [],
   "source": [
    "% matplotlib inline\n",
    "from scipy import ndimage\n",
    "from skimage import morphology,filters\n",
    "temp = Result_Pos62.copy()\n",
    "img = im.copy()\n",
    "im_bin = img>500\n",
    "im_bin = ndimage.binary_dilation(im_bin,iterations=5)\n",
    "im_bin = morphology.remove_small_holes(im_bin, 2000)\n",
    "im_bin = morphology.remove_small_objects(im_bin, 10000)\n",
    "im_bin = morphology.erosion(im_bin)\n",
    "temp[im_bin==False]=0\n",
    "plt.imshow(temp,cmap='Greys')\n",
    "plt.show()"
   ]
  },
  {
   "cell_type": "code",
   "execution_count": null,
   "metadata": {},
   "outputs": [],
   "source": [
    "plt.hist(Result.ravel())"
   ]
  },
  {
   "cell_type": "code",
   "execution_count": null,
   "metadata": {},
   "outputs": [],
   "source": [
    "% matplotlib inline\n",
    "import pywt\n",
    "from sklearn.preprocessing import normalize\n",
    "wavelet = 'db10'\n",
    "keep_list=[4,5,6]\n",
    "pos ='Pos7'\n",
    "im = np.flipud(md.stkread(Position=pos,Channel='DeepBlue',acq='nuc_highWellCapacity_6',Zindex=10)[:,:,0])\n",
    "thresh = np.percentile(im.ravel(),99)\n",
    "im[im>thresh]=thresh\n",
    "coeffs = pywt.wavedec2(im,wavelet)\n",
    "for i in range(0,len(coeffs)+1):\n",
    "    if i in keep_list:\n",
    "        continue\n",
    "    coeffs[-i] = tuple([np.zeros_like(v) for v in coeffs[-i]])\n",
    "Result = pywt.waverec2(coeffs,wavelet)\n",
    "thresh = np.percentile(Result.ravel(),99.9)\n",
    "Result[Result>thresh]=thresh\n",
    "Result = Result-Result.min()\n",
    "Result = normalize(Result)\n",
    "Result[im<2**8.5]=np.nan\n",
    "plt.imshow(Result,cmap='Greys')\n",
    "plt.show()"
   ]
  },
  {
   "cell_type": "code",
   "execution_count": null,
   "metadata": {},
   "outputs": [],
   "source": [
    "np.nanmin(Result)"
   ]
  },
  {
   "cell_type": "code",
   "execution_count": null,
   "metadata": {},
   "outputs": [],
   "source": [
    "np.nanmin(Result_Pos62)"
   ]
  },
  {
   "cell_type": "code",
   "execution_count": null,
   "metadata": {},
   "outputs": [],
   "source": [
    "%matplotlib notebook\n",
    "plt.imshow(im,cmap='Greys')"
   ]
  },
  {
   "cell_type": "code",
   "execution_count": null,
   "metadata": {
    "scrolled": true
   },
   "outputs": [],
   "source": [
    "%matplotlib notebook\n",
    "plt.hist(np.log2(Result.ravel()),bins=1000)\n",
    "plt.show()"
   ]
  },
  {
   "cell_type": "code",
   "execution_count": null,
   "metadata": {},
   "outputs": [],
   "source": [
    "2**8"
   ]
  }
 ],
 "metadata": {
  "kernelspec": {
   "display_name": "pyspots",
   "language": "python",
   "name": "pyspots"
  },
  "language_info": {
   "codemirror_mode": {
    "name": "ipython",
    "version": 3
   },
   "file_extension": ".py",
   "mimetype": "text/x-python",
   "name": "python",
   "nbconvert_exporter": "python",
   "pygments_lexer": "ipython3",
   "version": "3.6.5"
  }
 },
 "nbformat": 4,
 "nbformat_minor": 4
}
