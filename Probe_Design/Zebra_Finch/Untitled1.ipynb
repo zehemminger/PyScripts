{
 "cells": [
  {
   "cell_type": "code",
   "execution_count": null,
   "metadata": {},
   "outputs": [],
   "source": [
    "cd /bigstore/binfo/zebra_finch/RegionXExpression/Zip/\n",
    "for f in *\n",
    "do\n",
    "unzip $f -d /bigstore/binfo/zebra_finch/RegionXExpression/Raw/$f|cut -f 1 -d '.'\n",
    "done\n"
   ]
  },
  {
   "cell_type": "code",
   "execution_count": null,
   "metadata": {},
   "outputs": [],
   "source": [
    "cd /bigstore/binfo/zebra_finch/RegionXExpression/Zip/\n",
    "for f in *\n",
    "do\n",
    "A = $f|cut -f 1 -d '.'\n",
    "echo /bigstore/binfo/zebra_finch/RegionXExpression/Raw/$A.txt\n",
    "done"
   ]
  }
 ],
 "metadata": {
  "kernelspec": {
   "display_name": "pyspots",
   "language": "python",
   "name": "pyspots"
  },
  "language_info": {
   "codemirror_mode": {
    "name": "ipython",
    "version": 3
   },
   "file_extension": ".py",
   "mimetype": "text/x-python",
   "name": "python",
   "nbconvert_exporter": "python",
   "pygments_lexer": "ipython3",
   "version": "3.6.5"
  }
 },
 "nbformat": 4,
 "nbformat_minor": 2
}
