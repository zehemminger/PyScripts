{
 "cells": [
  {
   "cell_type": "code",
   "execution_count": null,
   "metadata": {},
   "outputs": [],
   "source": [
    "# Preprocess fastq or fastq.gz files\n",
    "https://github.com/OpenGene/fastp\n",
    "mkdir /out/path/\n",
    "cd /working/directory\n",
    "for f in *; do fastp -i /working/directory/$f -o /out/path/$f; done"
   ]
  },
  {
   "cell_type": "code",
   "execution_count": null,
   "metadata": {},
   "outputs": [],
   "source": [
    "# Generate Genome indexes STAR\n",
    "https://physiology.med.cornell.edu/faculty/skrabanek/lab/angsd/lecture_notes/STARmanual.pdf\n",
    "!/home/zach/Repos/STAR/bin/Linux_x86_64_static/STAR --runThreadN 25 --runMode genomeGenerate --genomeDir /bigstore/binfo/zebra_finch/RegionXExpression/STAR_07Oct2019/genomeDir/ --genomeFastaFiles /bigstore/binfo/zebra_finch/NCBI/GCF_003957565.1_bTaeGut1_v1.p_genomic.fna --sjdbGTFfile /bigstore/binfo/zebra_finch/NCBI/GCF_003957565.1_bTaeGut1_v1.p_genomic.gff --sjdbGTFtagExonParentTranscript Parent\n",
    "\n",
    "Overview\n",
    "! path/to/star\n",
    "    --runThreadN {number of cores}\n",
    "    --runMode genomeGenerate\n",
    "    --genomeDir /path/to/save/genomeDir\n",
    "    --genomeFastaFiles /path/to/genome/fasta/file #get from ensemble\n",
    "    --sjdbGTFfile /path/to/genome/annotation/file #get from ensemble\n",
    "\n",
    "    \n",
    "Output  \n",
    "\"\"\"\n",
    "Oct 07 11:13:01 ..... started STAR run\n",
    "Oct 07 11:13:01 ... starting to generate Genome files\n",
    "Oct 07 11:13:26 ... starting to sort Suffix Array. This may take a long time...\n",
    "Oct 07 11:13:34 ... sorting Suffix Array chunks and saving them to disk...\n",
    "Oct 07 11:17:53 ... loading chunks from disk, packing SA...\n",
    "Oct 07 11:18:38 ... finished generating suffix array\n",
    "Oct 07 11:18:38 ... generating Suffix Array index\n",
    "Oct 07 11:20:56 ... completed Suffix Array index\n",
    "Oct 07 11:20:56 ..... processing annotations GTF\n",
    "Oct 07 11:21:05 ..... inserting junctions into the genome indices\n",
    "Oct 07 11:23:18 ... writing Genome to disk ...\n",
    "Oct 07 11:23:20 ... writing Suffix Array to disk ...\n",
    "Oct 07 11:23:32 ... writing SAindex to disk\n",
    "Oct 07 11:23:35 ..... finished successfully\n",
    "\"\"\""
   ]
  },
  {
   "cell_type": "code",
   "execution_count": null,
   "metadata": {},
   "outputs": [],
   "source": [
    "# Mapping\n",
    "https://physiology.med.cornell.edu/faculty/skrabanek/lab/angsd/lecture_notes/STARmanual.pdf\n",
    "!/home/zach/Repos/STAR/bin/Linux_x86_64_static/STAR --runThreadN 12 --genomeDir /bigstore/binfo/zebra_finch/RegionXExpression/STAR_07Oct2019/genomeDir/ --outSAMtype BAM SortedByCoordinate --quantMode TranscriptomeSAM GeneCounts --outFileNamePrefix /bigstore/binfo/zebra_finch/RegionXExpression/STAR_07Oct2019/Combined --readFilesIn /bigstore/binfo/zebra_finch/RegionXExpression/Fastp/Blue623X_S6_L001_R1_001.fastq,/bigstore/binfo/zebra_finch/RegionXExpression/Fastp/Blue623X_S6_L001_R2_001.fastq,/bigstore/binfo/zebra_finch/RegionXExpression/Fastp/Blue623X_S6_L002_R1_001.fastq,/bigstore/binfo/zebra_finch/RegionXExpression/Fastp/Blue623X_S6_L002_R2_001.fastq,/bigstore/binfo/zebra_finch/RegionXExpression/Fastp/Brown443X_S79_L007_R1_001.fastq,/bigstore/binfo/zebra_finch/RegionXExpression/Fastp/Brown443X_S79_L007_R2_001.fastq,/bigstore/binfo/zebra_finch/RegionXExpression/Fastp/Brown443X_S79_L008_R1_001.fastq,/bigstore/binfo/zebra_finch/RegionXExpression/Fastp/Brown443X_S79_L008_R2_001.fastq,/bigstore/binfo/zebra_finch/RegionXExpression/Fastp/LtPink78X_S40_L003_R1_001.fastq,/bigstore/binfo/zebra_finch/RegionXExpression/Fastp/LtPink78X_S40_L003_R2_001.fastq,/bigstore/binfo/zebra_finch/RegionXExpression/Fastp/LtPink78X_S40_L004_R1_001.fastq,/bigstore/binfo/zebra_finch/RegionXExpression/Fastp/LtPink78X_S40_L004_R2_001.fastq,/bigstore/binfo/zebra_finch/RegionXExpression/Fastp/LtPink82X_S67_L007_R1_001.fastq,/bigstore/binfo/zebra_finch/RegionXExpression/Fastp/LtPink82X_S67_L007_R2_001.fastq,/bigstore/binfo/zebra_finch/RegionXExpression/Fastp/LtPink82X_S67_L008_R1_001.fastq,/bigstore/binfo/zebra_finch/RegionXExpression/Fastp/LtPink82X_S67_L008_R2_001.fastq,/bigstore/binfo/zebra_finch/RegionXExpression/Fastp/Purple405X_S68_L007_R1_001.fastq,/bigstore/binfo/zebra_finch/RegionXExpression/Fastp/Purple405X_S68_L007_R2_001.fastq,/bigstore/binfo/zebra_finch/RegionXExpression/Fastp/Purple405X_S68_L008_R1_001.fastq,/bigstore/binfo/zebra_finch/RegionXExpression/Fastp/Purple405X_S68_L008_R2_001.fastq,/bigstore/binfo/zebra_finch/RegionXExpression/Fastp/Purple418X_S42_L003_R1_001.fastq,/bigstore/binfo/zebra_finch/RegionXExpression/Fastp/Purple418X_S42_L003_R2_001.fastq,/bigstore/binfo/zebra_finch/RegionXExpression/Fastp/Purple418X_S42_L004_R1_001.fastq,/bigstore/binfo/zebra_finch/RegionXExpression/Fastp/Purple418X_S42_L004_R2_001.fastq\n",
    "\n",
    "Overview\n",
    "! path/to/star\n",
    "    --runThreadN {number of cores}\n",
    "    --genomeDir /path/to/save/genomeDir\n",
    "    --outSAMtype BAM SortedByCoordinate \n",
    "    --quantMode TranscriptomeSAM GeneCounts \n",
    "    --outFileNamePrefix /save/path/prefix \n",
    "    --readFilesIn /path/to/fastp/cleaned/files/technicalrep1,/path/to/fastp/cleaned/files/technicalrepN\n",
    "Output\n",
    "\"\"\"\n",
    "Oct 07 13:46:24 ..... started STAR run\n",
    "Oct 07 13:46:24 ..... loading genome\n",
    "Oct 07 13:46:38 ..... started mapping\n",
    "Oct 07 14:00:49 ..... finished mapping\n",
    "Oct 07 14:00:51 ..... started sorting BAM\n",
    "Oct 07 14:02:48 ..... finished successfully\n",
    "\"\"\""
   ]
  },
  {
   "cell_type": "code",
   "execution_count": null,
   "metadata": {},
   "outputs": [],
   "source": [
    "#Calculating FPKM\n",
    "https://github.com/cole-trapnell-lab/cufflinks\n",
    "http://cole-trapnell-lab.github.io/cufflinks/\n",
    "!cufflinks -p 24 --library-type fr-firststrand -G /bigstore/binfo/zebra_finch/NCBI/GCF_003957565.1_bTaeGut1_v1.p_genomic.gff -o /bigstore/binfo/zebra_finch/RegionXExpression/cufflinks_07Oct2019/ /bigstore/binfo/zebra_finch/RegionXExpression/STAR_07Oct2019/CombinedAligned.sortedByCoord.out.bam \n",
    "\n",
    "Overview\n",
    "!cufflinks \n",
    "    -p {number of cores}\n",
    "    --library-type fr-firststrand \n",
    "    -G path/to/genome/annotation \n",
    "    -o out/path\n",
    "    Star/results/file\n",
    "\n",
    "\"\"\"\n",
    "Warning: Could not connect to update server to verify current version. Please check at the Cufflinks website (http://cufflinks.cbcb.umd.edu).\n",
    "[14:39:37] Loading reference annotation.\n",
    "[14:39:50] Inspecting reads and determining fragment length distribution.\n",
    "> Processed 18822 loci.                        [*************************] 100%\n",
    "> Map Properties:\n",
    ">    Normalized Map Mass: 163027154.41\n",
    ">    Raw Map Mass: 163027154.41\n",
    ">    Fragment Length Distribution: Truncated Gaussian (default)\n",
    ">                  Default Mean: 200\n",
    ">               Default Std Dev: 80\n",
    "[14:49:59] Estimating transcript abundances.\n",
    "> Processed 18822 loci.                        [*************************] 100%\n",
    "\"\"\""
   ]
  }
 ],
 "metadata": {
  "kernelspec": {
   "display_name": "pyspots [conda env:pyspots]",
   "language": "python",
   "name": "conda-env-pyspots-pyspots"
  },
  "language_info": {
   "codemirror_mode": {
    "name": "ipython",
    "version": 3
   },
   "file_extension": ".py",
   "mimetype": "text/x-python",
   "name": "python",
   "nbconvert_exporter": "python",
   "pygments_lexer": "ipython3",
   "version": "3.6.5"
  }
 },
 "nbformat": 4,
 "nbformat_minor": 2
}
